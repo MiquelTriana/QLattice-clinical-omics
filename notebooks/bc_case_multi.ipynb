{
 "cells": [
  {
   "cell_type": "markdown",
   "id": "b49c6b1c-62de-4647-99df-d233f15368e0",
   "metadata": {},
   "source": [
    "# Breast cancer case"
   ]
  },
  {
   "cell_type": "code",
   "execution_count": 1,
   "id": "83aa9b47-3c61-44e4-8f9e-9cd49766dc2d",
   "metadata": {},
   "outputs": [],
   "source": [
    "import numpy as np\n",
    "import pandas as pd\n",
    "import feyn\n",
    "\n",
    "from sklearn.model_selection import train_test_split\n",
    "import matplotlib.pyplot as plt\n",
    "\n",
    "from _crossvalidation import crossvalidation_as_framework"
   ]
  },
  {
   "cell_type": "markdown",
   "id": "eef51e33-82aa-4148-9496-5b47c3d30a38",
   "metadata": {},
   "source": [
    "### Load and prep data"
   ]
  },
  {
   "cell_type": "code",
   "execution_count": 2,
   "id": "0f18fab3-8884-47ec-95bf-430878ef2355",
   "metadata": {},
   "outputs": [],
   "source": [
    "data = pd.read_csv('../data/brca_data_w_meta.csv')"
   ]
  },
  {
   "cell_type": "code",
   "execution_count": 3,
   "id": "5d81310b-215b-4415-b90f-46a235e9d20f",
   "metadata": {},
   "outputs": [],
   "source": [
    "# Define the target variable\n",
    "target = \"vital.status\""
   ]
  },
  {
   "cell_type": "code",
   "execution_count": 4,
   "id": "3acf960f-8c75-436c-9169-3769c9db9084",
   "metadata": {},
   "outputs": [],
   "source": [
    "stypes = {}\n",
    "for f in data.columns:\n",
    "    if data[f].dtype == 'object':\n",
    "        stypes[f] = 'c'"
   ]
  },
  {
   "cell_type": "markdown",
   "id": "cd51d7b4-471c-4f5c-84ec-1a6450f3172c",
   "metadata": {},
   "source": [
    "### Cross-validation of the framework"
   ]
  },
  {
   "cell_type": "code",
   "execution_count": 5,
   "id": "f121f7b9-9fcb-47d5-93d8-0cf5d71117ab",
   "metadata": {
    "tags": []
   },
   "outputs": [
    {
     "data": {
      "text/html": [
       "<?xml version=\"1.0\" encoding=\"utf-8\" ?>\n",
       "<svg baseProfile=\"full\" height=\"160.0\" preserveAspectRatio=\"none\" version=\"1.1\" viewBox=\"0 0 831 160.0\" width=\"831\" xmlns=\"http://www.w3.org/2000/svg\" xmlns:ev=\"http://www.w3.org/2001/xml-events\" xmlns:xlink=\"http://www.w3.org/1999/xlink\"><defs /><svg class=\"graph\" height=\"155.0\" width=\"831\" x=\"0\" y=\"0\"><defs /><text fill=\"#1E1E1E\" font-family=\"monospace\" font-size=\"12\" text-anchor=\"middle\" x=\"766.0\" y=\"99.0\">Loss: 5.11E-01</text><text fill=\"#1E1E1E\" font-family=\"monospace\" font-size=\"12\" text-anchor=\"start\" x=\"0\" y=\"145.0\">Epoch no. 500/500 - Tried 469225 models - Completed in 23m 13s.</text><rect class=\"node\" fill=\"#00F082\" height=\"35\" stroke=\"#1E1E1E\" stroke-width=\"1\" width=\"90\" x=\"721\" y=\"50.0\"><title>vital.status\n",
       "logistic:\n",
       "w=1.9464\n",
       "bias=1.0930</title></rect><text fill=\"#1E1E1E\" font-family=\"monospace\" font-size=\"12\" style=\"pointer-events:none\" text-anchor=\"middle\" x=\"766.0\" y=\"71.5\">vital.st..</text><text fill=\"#1E1E1E\" font-family=\"monospace\" font-size=\"10\" style=\"pointer-events:none\" text-anchor=\"end\" x=\"809\" y=\"59.0\">0</text><text fill=\"#1E1E1E\" font-family=\"monospace\" font-size=\"10\" style=\"pointer-events:none\" text-anchor=\"start\" x=\"723\" y=\"59.0\">out</text><line stroke=\"#1E1E1E\" x1=\"691\" x2=\"721\" y1=\"67.5\" y2=\"67.5\" /><rect class=\"node\" fill=\"#FAFAFA\" height=\"35\" stroke=\"#FF1EC8\" stroke-width=\"1\" width=\"90\" x=\"601\" y=\"50.0\"><title>tanh</title></rect><text fill=\"#1E1E1E\" font-family=\"monospace\" font-size=\"12\" style=\"pointer-events:none\" text-anchor=\"middle\" x=\"646.0\" y=\"71.5\">tanh</text><text fill=\"#1E1E1E\" font-family=\"monospace\" font-size=\"10\" style=\"pointer-events:none\" text-anchor=\"end\" x=\"689\" y=\"59.0\">1</text><line stroke=\"#1E1E1E\" x1=\"571\" x2=\"601\" y1=\"67.5\" y2=\"67.5\" /><rect class=\"node\" fill=\"#FAFAFA\" height=\"35\" stroke=\"#FF1EC8\" stroke-width=\"1\" width=\"90\" x=\"481\" y=\"50.0\"><title>add</title></rect><text fill=\"#1E1E1E\" font-family=\"monospace\" font-size=\"12\" style=\"pointer-events:none\" text-anchor=\"middle\" x=\"526.0\" y=\"71.5\">add</text><text fill=\"#1E1E1E\" font-family=\"monospace\" font-size=\"10\" style=\"pointer-events:none\" text-anchor=\"end\" x=\"569\" y=\"59.0\">2</text><line stroke=\"#1E1E1E\" x1=\"451\" x2=\"481\" y1=\"37.5\" y2=\"58.5\" /><line stroke=\"#1E1E1E\" x1=\"451\" x2=\"481\" y1=\"97.5\" y2=\"76.5\" /><rect class=\"node\" fill=\"#FAFAFA\" height=\"35\" stroke=\"#FF1EC8\" stroke-width=\"1\" width=\"90\" x=\"361\" y=\"20.0\"><title>add</title></rect><text fill=\"#1E1E1E\" font-family=\"monospace\" font-size=\"12\" style=\"pointer-events:none\" text-anchor=\"middle\" x=\"406.0\" y=\"41.5\">add</text><text fill=\"#1E1E1E\" font-family=\"monospace\" font-size=\"10\" style=\"pointer-events:none\" text-anchor=\"end\" x=\"449\" y=\"29.0\">3</text><line stroke=\"#1E1E1E\" x1=\"331\" x2=\"361\" y1=\"37.5\" y2=\"28.5\" /><line stroke=\"#1E1E1E\" x1=\"331\" x2=\"361\" y1=\"97.5\" y2=\"46.5\" /><rect class=\"node\" fill=\"#00F082\" height=\"35\" stroke=\"#1E1E1E\" stroke-width=\"1\" width=\"90\" x=\"241\" y=\"20.0\"><title>cn_ABCC6\n",
       "linear:\n",
       "scale=0.666667\n",
       "scale offset=0.515957\n",
       "w=1.404726\n",
       "bias=-3.0145</title></rect><text fill=\"#1E1E1E\" font-family=\"monospace\" font-size=\"12\" style=\"pointer-events:none\" text-anchor=\"middle\" x=\"286.0\" y=\"41.5\">cn_ABCC6</text><text fill=\"#1E1E1E\" font-family=\"monospace\" font-size=\"10\" style=\"pointer-events:none\" text-anchor=\"end\" x=\"329\" y=\"29.0\">4</text><text fill=\"#1E1E1E\" font-family=\"monospace\" font-size=\"10\" style=\"pointer-events:none\" text-anchor=\"start\" x=\"243\" y=\"29.0\">num</text><rect class=\"node\" fill=\"#FAFAFA\" height=\"35\" stroke=\"#FF1EC8\" stroke-width=\"1\" width=\"90\" x=\"241\" y=\"80.0\"><title>multiply</title></rect><text fill=\"#1E1E1E\" font-family=\"monospace\" font-size=\"12\" style=\"pointer-events:none\" text-anchor=\"middle\" x=\"286.0\" y=\"101.5\">multiply</text><text fill=\"#1E1E1E\" font-family=\"monospace\" font-size=\"10\" style=\"pointer-events:none\" text-anchor=\"end\" x=\"329\" y=\"89.0\">5</text><line stroke=\"#1E1E1E\" x1=\"211\" x2=\"241\" y1=\"37.5\" y2=\"88.5\" /><line stroke=\"#1E1E1E\" x1=\"211\" x2=\"241\" y1=\"97.5\" y2=\"106.5\" /><rect class=\"node\" fill=\"#00F082\" height=\"35\" stroke=\"#1E1E1E\" stroke-width=\"1\" width=\"90\" x=\"121\" y=\"20.0\"><title>rs_SLC28A3\n",
       "linear:\n",
       "scale=0.181018\n",
       "scale offset=4.261191\n",
       "w=-1.739607\n",
       "bias=-0.7647</title></rect><text fill=\"#1E1E1E\" font-family=\"monospace\" font-size=\"12\" style=\"pointer-events:none\" text-anchor=\"middle\" x=\"166.0\" y=\"41.5\">rs_SLC28..</text><text fill=\"#1E1E1E\" font-family=\"monospace\" font-size=\"10\" style=\"pointer-events:none\" text-anchor=\"end\" x=\"209\" y=\"29.0\">6</text><text fill=\"#1E1E1E\" font-family=\"monospace\" font-size=\"10\" style=\"pointer-events:none\" text-anchor=\"start\" x=\"123\" y=\"29.0\">num</text><rect class=\"node\" fill=\"#FAFAFA\" height=\"35\" stroke=\"#FF1EC8\" stroke-width=\"1\" width=\"90\" x=\"121\" y=\"80.0\"><title>add</title></rect><text fill=\"#1E1E1E\" font-family=\"monospace\" font-size=\"12\" style=\"pointer-events:none\" text-anchor=\"middle\" x=\"166.0\" y=\"101.5\">add</text><text fill=\"#1E1E1E\" font-family=\"monospace\" font-size=\"10\" style=\"pointer-events:none\" text-anchor=\"end\" x=\"209\" y=\"89.0\">7</text><line stroke=\"#1E1E1E\" x1=\"91\" x2=\"121\" y1=\"37.5\" y2=\"88.5\" /><line stroke=\"#1E1E1E\" x1=\"91\" x2=\"121\" y1=\"97.5\" y2=\"106.5\" /><rect class=\"node\" fill=\"#00F082\" height=\"35\" stroke=\"#1E1E1E\" stroke-width=\"1\" width=\"90\" x=\"1\" y=\"20.0\"><title>rs_GLYAT\n",
       "linear:\n",
       "scale=0.178223\n",
       "scale offset=2.212468\n",
       "w=-1.264122\n",
       "bias=0.8557</title></rect><text fill=\"#1E1E1E\" font-family=\"monospace\" font-size=\"12\" style=\"pointer-events:none\" text-anchor=\"middle\" x=\"46.0\" y=\"41.5\">rs_GLYAT</text><text fill=\"#1E1E1E\" font-family=\"monospace\" font-size=\"10\" style=\"pointer-events:none\" text-anchor=\"end\" x=\"89\" y=\"29.0\">8</text><text fill=\"#1E1E1E\" font-family=\"monospace\" font-size=\"10\" style=\"pointer-events:none\" text-anchor=\"start\" x=\"3\" y=\"29.0\">num</text><rect class=\"node\" fill=\"#00F082\" height=\"35\" stroke=\"#1E1E1E\" stroke-width=\"1\" width=\"90\" x=\"1\" y=\"80.0\"><title>rs_CACNG4\n",
       "linear:\n",
       "scale=0.146875\n",
       "scale offset=9.409125\n",
       "w=1.736623\n",
       "bias=-0.4617</title></rect><text fill=\"#1E1E1E\" font-family=\"monospace\" font-size=\"12\" style=\"pointer-events:none\" text-anchor=\"middle\" x=\"46.0\" y=\"101.5\">rs_CACNG..</text><text fill=\"#1E1E1E\" font-family=\"monospace\" font-size=\"10\" style=\"pointer-events:none\" text-anchor=\"end\" x=\"89\" y=\"89.0\">9</text><text fill=\"#1E1E1E\" font-family=\"monospace\" font-size=\"10\" style=\"pointer-events:none\" text-anchor=\"start\" x=\"3\" y=\"89.0\">num</text><rect class=\"node\" fill=\"#00F082\" height=\"35\" stroke=\"#1E1E1E\" stroke-width=\"1\" width=\"90\" x=\"361\" y=\"80.0\"><title>rs_MAGEA3\n",
       "linear:\n",
       "scale=0.165566\n",
       "scale offset=1.419555\n",
       "w=-9.062187\n",
       "bias=-0.4207</title></rect><text fill=\"#1E1E1E\" font-family=\"monospace\" font-size=\"12\" style=\"pointer-events:none\" text-anchor=\"middle\" x=\"406.0\" y=\"101.5\">rs_MAGEA..</text><text fill=\"#1E1E1E\" font-family=\"monospace\" font-size=\"10\" style=\"pointer-events:none\" text-anchor=\"end\" x=\"449\" y=\"89.0\">10</text><text fill=\"#1E1E1E\" font-family=\"monospace\" font-size=\"10\" style=\"pointer-events:none\" text-anchor=\"start\" x=\"363\" y=\"89.0\">num</text></svg></svg>"
      ],
      "text/plain": [
       "<IPython.core.display.HTML object>"
      ]
     },
     "metadata": {},
     "output_type": "display_data"
    }
   ],
   "source": [
    "results = crossvalidation_as_framework(data,\n",
    "                                     target,\n",
    "                                     kind = \"classification\",\n",
    "                                     stypes = stypes,\n",
    "                                     n_epochs = 500,\n",
    "                                     criterion='bic',\n",
    "                                     max_complexity = 10)"
   ]
  },
  {
   "cell_type": "code",
   "execution_count": 12,
   "id": "e369b773-976b-47d3-b093-bd50832bdebb",
   "metadata": {},
   "outputs": [
    {
     "data": {
      "text/plain": [
       "(0.6183480214152156, 0.6313666034560834)"
      ]
     },
     "execution_count": 12,
     "metadata": {},
     "output_type": "execute_result"
    }
   ],
   "source": [
    "results.groupby(\"fold\").first().roc_auc_val.mean(), results.roc_auc_val.mean()"
   ]
  },
  {
   "cell_type": "code",
   "execution_count": 17,
   "id": "f97e54f2-e50c-4116-892c-a49aa21a2038",
   "metadata": {},
   "outputs": [
    {
     "name": "stdout",
     "output_type": "stream",
     "text": [
      "logreg((cnCLDN19 + muGPR98)*(rsCIDEC*rsPIK3C2G + rsSLC7A4))\n",
      "logreg((rsALOX15 + rsIGSF1)*(rsALOX15B + rsAPOB + rsTRPV6))\n",
      "logreg(tanh(rsKLK8*(muPDZD2 + rsTMPRSS4 + exp(-cnSLC13A2**2 - rsLGALS12**2))))\n",
      "logreg(cnTGFBR3*rsPOF1B + rsFGFBP1*(rsSLC6A15 + tanh(rsCIDEC)))\n",
      "logreg(tanh(cnABCC6 + rsMAGEA3 + rsSLC28A3*(rsCACNG4 + rsGLYAT)))\n"
     ]
    }
   ],
   "source": [
    "for model in results.groupby(\"fold\").first().model_structure:\n",
    "    print(model)"
   ]
  },
  {
   "cell_type": "code",
   "execution_count": null,
   "id": "634f8020-0184-42d3-b8bf-2186e0291fe6",
   "metadata": {},
   "outputs": [],
   "source": []
  },
  {
   "cell_type": "code",
   "execution_count": 18,
   "id": "68bb0099-5540-49f1-8373-35423b8f4c46",
   "metadata": {},
   "outputs": [
    {
     "data": {
      "text/html": [
       "<?xml version=\"1.0\" encoding=\"utf-8\" ?>\n",
       "<svg baseProfile=\"full\" height=\"220.0\" preserveAspectRatio=\"none\" version=\"1.1\" viewBox=\"0 0 711 220.0\" width=\"711\" xmlns=\"http://www.w3.org/2000/svg\" xmlns:ev=\"http://www.w3.org/2001/xml-events\" xmlns:xlink=\"http://www.w3.org/1999/xlink\"><defs /><svg class=\"graph\" height=\"215.0\" width=\"711\" x=\"0\" y=\"0\"><defs /><text fill=\"#1E1E1E\" font-family=\"monospace\" font-size=\"12\" text-anchor=\"middle\" x=\"646.0\" y=\"129.0\">Loss: 5.46E-01</text><text fill=\"#1E1E1E\" font-family=\"monospace\" font-size=\"12\" text-anchor=\"start\" x=\"0\" y=\"205.0\">Epoch no. 100/100 - Tried 110746 models - Completed in 4m 31s.</text><rect class=\"node\" fill=\"#00F082\" height=\"35\" stroke=\"#1E1E1E\" stroke-width=\"1\" width=\"90\" x=\"601\" y=\"80.0\"><title>vital.status\n",
       "logistic:\n",
       "w=-0.9666\n",
       "bias=1.4492</title></rect><text fill=\"#1E1E1E\" font-family=\"monospace\" font-size=\"12\" style=\"pointer-events:none\" text-anchor=\"middle\" x=\"646.0\" y=\"101.5\">vital.st..</text><text fill=\"#1E1E1E\" font-family=\"monospace\" font-size=\"10\" style=\"pointer-events:none\" text-anchor=\"end\" x=\"689\" y=\"89.0\">0</text><text fill=\"#1E1E1E\" font-family=\"monospace\" font-size=\"10\" style=\"pointer-events:none\" text-anchor=\"start\" x=\"603\" y=\"89.0\">out</text><line stroke=\"#1E1E1E\" x1=\"571\" x2=\"601\" y1=\"97.5\" y2=\"97.5\" /><rect class=\"node\" fill=\"#FAFAFA\" height=\"35\" stroke=\"#FF1EC8\" stroke-width=\"1\" width=\"90\" x=\"481\" y=\"80.0\"><title>add</title></rect><text fill=\"#1E1E1E\" font-family=\"monospace\" font-size=\"12\" style=\"pointer-events:none\" text-anchor=\"middle\" x=\"526.0\" y=\"101.5\">add</text><text fill=\"#1E1E1E\" font-family=\"monospace\" font-size=\"10\" style=\"pointer-events:none\" text-anchor=\"end\" x=\"569\" y=\"89.0\">1</text><line stroke=\"#1E1E1E\" x1=\"451\" x2=\"481\" y1=\"67.5\" y2=\"88.5\" /><line stroke=\"#1E1E1E\" x1=\"451\" x2=\"481\" y1=\"127.5\" y2=\"106.5\" /><rect class=\"node\" fill=\"#FAFAFA\" height=\"35\" stroke=\"#FF1EC8\" stroke-width=\"1\" width=\"90\" x=\"361\" y=\"50.0\"><title>add</title></rect><text fill=\"#1E1E1E\" font-family=\"monospace\" font-size=\"12\" style=\"pointer-events:none\" text-anchor=\"middle\" x=\"406.0\" y=\"71.5\">add</text><text fill=\"#1E1E1E\" font-family=\"monospace\" font-size=\"10\" style=\"pointer-events:none\" text-anchor=\"end\" x=\"449\" y=\"59.0\">2</text><line stroke=\"#1E1E1E\" x1=\"331\" x2=\"361\" y1=\"37.5\" y2=\"58.5\" /><line stroke=\"#1E1E1E\" x1=\"331\" x2=\"361\" y1=\"97.5\" y2=\"76.5\" /><rect class=\"node\" fill=\"#FAFAFA\" height=\"35\" stroke=\"#FF1EC8\" stroke-width=\"1\" width=\"90\" x=\"241\" y=\"20.0\"><title>add</title></rect><text fill=\"#1E1E1E\" font-family=\"monospace\" font-size=\"12\" style=\"pointer-events:none\" text-anchor=\"middle\" x=\"286.0\" y=\"41.5\">add</text><text fill=\"#1E1E1E\" font-family=\"monospace\" font-size=\"10\" style=\"pointer-events:none\" text-anchor=\"end\" x=\"329\" y=\"29.0\">3</text><line stroke=\"#1E1E1E\" x1=\"211\" x2=\"241\" y1=\"67.5\" y2=\"28.5\" /><line stroke=\"#1E1E1E\" x1=\"211\" x2=\"241\" y1=\"127.5\" y2=\"46.5\" /><rect class=\"node\" fill=\"#FAFAFA\" height=\"35\" stroke=\"#FF1EC8\" stroke-width=\"1\" width=\"90\" x=\"121\" y=\"50.0\"><title>add</title></rect><text fill=\"#1E1E1E\" font-family=\"monospace\" font-size=\"12\" style=\"pointer-events:none\" text-anchor=\"middle\" x=\"166.0\" y=\"71.5\">add</text><text fill=\"#1E1E1E\" font-family=\"monospace\" font-size=\"10\" style=\"pointer-events:none\" text-anchor=\"end\" x=\"209\" y=\"59.0\">4</text><line stroke=\"#1E1E1E\" x1=\"91\" x2=\"121\" y1=\"67.5\" y2=\"58.5\" /><line stroke=\"#1E1E1E\" x1=\"91\" x2=\"121\" y1=\"127.5\" y2=\"76.5\" /><rect class=\"node\" fill=\"#00F082\" height=\"35\" stroke=\"#1E1E1E\" stroke-width=\"1\" width=\"90\" x=\"1\" y=\"50.0\"><title>rs_CYP4Z2P\n",
       "linear:\n",
       "scale=0.159849\n",
       "scale offset=6.183770\n",
       "w=-1.602957\n",
       "bias=1.0881</title></rect><text fill=\"#1E1E1E\" font-family=\"monospace\" font-size=\"12\" style=\"pointer-events:none\" text-anchor=\"middle\" x=\"46.0\" y=\"71.5\">rs_CYP4Z..</text><text fill=\"#1E1E1E\" font-family=\"monospace\" font-size=\"10\" style=\"pointer-events:none\" text-anchor=\"end\" x=\"89\" y=\"59.0\">5</text><text fill=\"#1E1E1E\" font-family=\"monospace\" font-size=\"10\" style=\"pointer-events:none\" text-anchor=\"start\" x=\"3\" y=\"59.0\">num</text><rect class=\"node\" fill=\"#00F082\" height=\"35\" stroke=\"#1E1E1E\" stroke-width=\"1\" width=\"90\" x=\"1\" y=\"110.0\"><title>rs_PLA2G2D\n",
       "linear:\n",
       "scale=0.160353\n",
       "scale offset=4.714622\n",
       "w=1.716542\n",
       "bias=1.1644</title></rect><text fill=\"#1E1E1E\" font-family=\"monospace\" font-size=\"12\" style=\"pointer-events:none\" text-anchor=\"middle\" x=\"46.0\" y=\"131.5\">rs_PLA2G..</text><text fill=\"#1E1E1E\" font-family=\"monospace\" font-size=\"10\" style=\"pointer-events:none\" text-anchor=\"end\" x=\"89\" y=\"119.0\">6</text><text fill=\"#1E1E1E\" font-family=\"monospace\" font-size=\"10\" style=\"pointer-events:none\" text-anchor=\"start\" x=\"3\" y=\"119.0\">num</text><rect class=\"node\" fill=\"#00F082\" height=\"35\" stroke=\"#1E1E1E\" stroke-width=\"1\" width=\"90\" x=\"121\" y=\"110.0\"><title>cn_TNFRSF11B\n",
       "linear:\n",
       "scale=0.500000\n",
       "scale offset=0.778369\n",
       "w=-1.586376\n",
       "bias=-1.0532</title></rect><text fill=\"#1E1E1E\" font-family=\"monospace\" font-size=\"12\" style=\"pointer-events:none\" text-anchor=\"middle\" x=\"166.0\" y=\"131.5\">cn_TNFRS..</text><text fill=\"#1E1E1E\" font-family=\"monospace\" font-size=\"10\" style=\"pointer-events:none\" text-anchor=\"end\" x=\"209\" y=\"119.0\">7</text><text fill=\"#1E1E1E\" font-family=\"monospace\" font-size=\"10\" style=\"pointer-events:none\" text-anchor=\"start\" x=\"123\" y=\"119.0\">num</text><rect class=\"node\" fill=\"#00F082\" height=\"35\" stroke=\"#1E1E1E\" stroke-width=\"1\" width=\"90\" x=\"241\" y=\"80.0\"><title>rs_PCOLCE2\n",
       "linear:\n",
       "scale=0.150425\n",
       "scale offset=5.620655\n",
       "w=-2.177957\n",
       "bias=0.5101</title></rect><text fill=\"#1E1E1E\" font-family=\"monospace\" font-size=\"12\" style=\"pointer-events:none\" text-anchor=\"middle\" x=\"286.0\" y=\"101.5\">rs_PCOLC..</text><text fill=\"#1E1E1E\" font-family=\"monospace\" font-size=\"10\" style=\"pointer-events:none\" text-anchor=\"end\" x=\"329\" y=\"89.0\">8</text><text fill=\"#1E1E1E\" font-family=\"monospace\" font-size=\"10\" style=\"pointer-events:none\" text-anchor=\"start\" x=\"243\" y=\"89.0\">num</text><rect class=\"node\" fill=\"#FAFAFA\" height=\"35\" stroke=\"#FF1EC8\" stroke-width=\"1\" width=\"90\" x=\"361\" y=\"110.0\"><title>squared</title></rect><text fill=\"#1E1E1E\" font-family=\"monospace\" font-size=\"12\" style=\"pointer-events:none\" text-anchor=\"middle\" x=\"406.0\" y=\"131.5\">squared</text><text fill=\"#1E1E1E\" font-family=\"monospace\" font-size=\"10\" style=\"pointer-events:none\" text-anchor=\"end\" x=\"449\" y=\"119.0\">9</text><line stroke=\"#1E1E1E\" x1=\"331\" x2=\"361\" y1=\"157.5\" y2=\"127.5\" /><rect class=\"node\" fill=\"#00F082\" height=\"35\" stroke=\"#1E1E1E\" stroke-width=\"1\" width=\"90\" x=\"241\" y=\"140.0\"><title>pp_MSH6\n",
       "linear:\n",
       "scale=0.518280\n",
       "scale offset=0.019021\n",
       "w=-1.598199\n",
       "bias=0.3110</title></rect><text fill=\"#1E1E1E\" font-family=\"monospace\" font-size=\"12\" style=\"pointer-events:none\" text-anchor=\"middle\" x=\"286.0\" y=\"161.5\">pp_MSH6</text><text fill=\"#1E1E1E\" font-family=\"monospace\" font-size=\"10\" style=\"pointer-events:none\" text-anchor=\"end\" x=\"329\" y=\"149.0\">10</text><text fill=\"#1E1E1E\" font-family=\"monospace\" font-size=\"10\" style=\"pointer-events:none\" text-anchor=\"start\" x=\"243\" y=\"149.0\">num</text></svg></svg>"
      ],
      "text/plain": [
       "<IPython.core.display.HTML object>"
      ]
     },
     "metadata": {},
     "output_type": "display_data"
    }
   ],
   "source": [
    "results100 = crossvalidation_as_framework(data,\n",
    "                                     target,\n",
    "                                     kind = \"classification\",\n",
    "                                     stypes = stypes,\n",
    "                                     n_epochs = 100,\n",
    "                                     criterion='bic',\n",
    "                                     max_complexity = 10)"
   ]
  },
  {
   "cell_type": "code",
   "execution_count": 20,
   "id": "e870eb9f-0241-443d-b340-6989421fd1ec",
   "metadata": {},
   "outputs": [
    {
     "data": {
      "text/plain": [
       "(0.6183480214152156, 0.6313666034560834)"
      ]
     },
     "execution_count": 20,
     "metadata": {},
     "output_type": "execute_result"
    }
   ],
   "source": [
    "results.groupby(\"fold\").first().roc_auc_val.mean(), results.roc_auc_val.mean()"
   ]
  },
  {
   "cell_type": "code",
   "execution_count": 19,
   "id": "faeb793f-86df-4f28-99fa-d150ab0375bb",
   "metadata": {},
   "outputs": [
    {
     "name": "stdout",
     "output_type": "stream",
     "text": [
      "logreg(rsPTCHD1*(cnADAMTS16 + muDMD + rsFABP4 + rsSOX2))\n",
      "logreg(rsAPOB*(cnPRODH*(cnCOL14A1 + ppPI3K.p110.alpha) + rsTAT))\n",
      "logreg(cnCLCA2 + rsSLC13A2*(cnSLC30A8 + rsAPOB + rsPAX7))\n",
      "logreg(rsTCN1*(ppp27 + rsDEFB132*rsPTPRZ1 + rsSOX2))\n",
      "logreg(cnTNFRSF11B + ppMSH6**2 + rsCYP4Z2P + rsPCOLCE2 + rsPLA2G2D)\n"
     ]
    }
   ],
   "source": [
    "for model in results100.groupby(\"fold\").first().model_structure:\n",
    "    print(model)"
   ]
  },
  {
   "cell_type": "code",
   "execution_count": null,
   "id": "145cf4da-c64c-49d9-abab-7d3e9d79c3b8",
   "metadata": {},
   "outputs": [],
   "source": []
  }
 ],
 "metadata": {
  "kernelspec": {
   "display_name": "Python 3 (ipykernel)",
   "language": "python",
   "name": "python3"
  },
  "language_info": {
   "codemirror_mode": {
    "name": "ipython",
    "version": 3
   },
   "file_extension": ".py",
   "mimetype": "text/x-python",
   "name": "python",
   "nbconvert_exporter": "python",
   "pygments_lexer": "ipython3",
   "version": "3.8.10"
  }
 },
 "nbformat": 4,
 "nbformat_minor": 5
}
