{
 "cells": [
  {
   "cell_type": "markdown",
   "id": "7730b462-03f1-4437-befc-6f4c0e11e4d7",
   "metadata": {},
   "source": [
    "# Breast cancer case"
   ]
  },
  {
   "cell_type": "code",
   "execution_count": 1,
   "id": "607e7e2b-2e70-4a79-b576-77cdd8420634",
   "metadata": {},
   "outputs": [],
   "source": [
    "import numpy as np\n",
    "import pandas as pd\n",
    "import feyn\n",
    "\n",
    "from sklearn.model_selection import train_test_split, StratifiedKFold, GridSearchCV\n",
    "from sklearn.ensemble import RandomForestClassifier\n",
    "from sklearn.metrics import roc_auc_score\n",
    "from sklearn.feature_selection import f_classif\n",
    "from scipy.stats import pointbiserialr\n",
    "\n",
    "import matplotlib.pyplot as plt\n",
    "\n",
    "from functions import crossvalidation_as_framework, random_forest_benchmark, lasso_benchmark, gradient_boosting_benchmark, elasticnet_benchmark\n",
    "from seaborn import clustermap"
   ]
  },
  {
   "cell_type": "markdown",
   "id": "99fca13a-6158-4eac-9989-3d58639bf1ef",
   "metadata": {},
   "source": [
    "### Load and prep data"
   ]
  },
  {
   "cell_type": "code",
   "execution_count": 2,
   "id": "1ad0af3c-9d80-43f4-8dd9-b0b68b877335",
   "metadata": {},
   "outputs": [],
   "source": [
    "data = pd.read_csv('../data/brca_data_w_meta.csv')"
   ]
  },
  {
   "cell_type": "code",
   "execution_count": 3,
   "id": "783c94b1-7203-44b4-bae0-9fdf94075abe",
   "metadata": {},
   "outputs": [],
   "source": [
    "# Define the target variable\n",
    "target = \"vital.status\""
   ]
  },
  {
   "cell_type": "code",
   "execution_count": 4,
   "id": "6004ae75-1811-48bf-b296-6efe15bea772",
   "metadata": {},
   "outputs": [],
   "source": [
    "stypes = {}\n",
    "for f in data.columns:\n",
    "    if data[f].dtype == 'object':\n",
    "        stypes[f] = 'c'"
   ]
  },
  {
   "cell_type": "code",
   "execution_count": 5,
   "id": "8aaea5e9",
   "metadata": {},
   "outputs": [
    {
     "data": {
      "text/plain": [
       "0    611\n",
       "1     94\n",
       "Name: vital.status, dtype: int64"
      ]
     },
     "execution_count": 5,
     "metadata": {},
     "output_type": "execute_result"
    }
   ],
   "source": [
    "data[target].value_counts()"
   ]
  },
  {
   "cell_type": "markdown",
   "id": "7958b336-1579-4ca2-8085-e6792761d87c",
   "metadata": {},
   "source": [
    "### 2 feature models"
   ]
  },
  {
   "cell_type": "code",
   "execution_count": 6,
   "id": "757b363c-6020-4d46-b8b1-76cea0403c48",
   "metadata": {
    "tags": []
   },
   "outputs": [
    {
     "data": {
      "text/html": [
       "<?xml version=\"1.0\" encoding=\"utf-8\" ?>\n",
       "<svg baseProfile=\"full\" height=\"160.0\" preserveAspectRatio=\"none\" version=\"1.1\" viewBox=\"0 0 423 160.0\" width=\"423\" xmlns=\"http://www.w3.org/2000/svg\" xmlns:ev=\"http://www.w3.org/2001/xml-events\" xmlns:xlink=\"http://www.w3.org/1999/xlink\"><defs /><svg class=\"graph\" height=\"155.0\" width=\"423\" x=\"0\" y=\"0\"><defs /><text fill=\"#1E1E1E\" font-family=\"monospace\" font-size=\"12\" text-anchor=\"middle\" x=\"286.0\" y=\"99.0\">Loss: 5.87E-01</text><text fill=\"#1E1E1E\" font-family=\"monospace\" font-size=\"12\" text-anchor=\"start\" x=\"0\" y=\"145.0\">Epoch no. 50/50 - Tried 33498 models - Completed in 41s.</text><rect class=\"node\" fill=\"#00F082\" height=\"35\" stroke=\"#1E1E1E\" stroke-width=\"1\" width=\"90\" x=\"241\" y=\"50.0\"><title>vital.status\n",
       "logistic:\n",
       "w=-0.6130\n",
       "bias=-0.2893</title></rect><text fill=\"#1E1E1E\" font-family=\"monospace\" font-size=\"12\" style=\"pointer-events:none\" text-anchor=\"middle\" x=\"286.0\" y=\"71.5\">vital.st..</text><text fill=\"#1E1E1E\" font-family=\"monospace\" font-size=\"10\" style=\"pointer-events:none\" text-anchor=\"end\" x=\"329\" y=\"59.0\">0</text><text fill=\"#1E1E1E\" font-family=\"monospace\" font-size=\"10\" style=\"pointer-events:none\" text-anchor=\"start\" x=\"243\" y=\"59.0\">out</text><line stroke=\"#1E1E1E\" x1=\"211\" x2=\"241\" y1=\"67.5\" y2=\"67.5\" /><rect class=\"node\" fill=\"#FAFAFA\" height=\"35\" stroke=\"#FF1EC8\" stroke-width=\"1\" width=\"90\" x=\"121\" y=\"50.0\"><title>multiply</title></rect><text fill=\"#1E1E1E\" font-family=\"monospace\" font-size=\"12\" style=\"pointer-events:none\" text-anchor=\"middle\" x=\"166.0\" y=\"71.5\">multiply</text><text fill=\"#1E1E1E\" font-family=\"monospace\" font-size=\"10\" style=\"pointer-events:none\" text-anchor=\"end\" x=\"209\" y=\"59.0\">1</text><line stroke=\"#1E1E1E\" x1=\"91\" x2=\"121\" y1=\"37.5\" y2=\"58.5\" /><line stroke=\"#1E1E1E\" x1=\"91\" x2=\"121\" y1=\"97.5\" y2=\"76.5\" /><rect class=\"node\" fill=\"#00F082\" height=\"35\" stroke=\"#1E1E1E\" stroke-width=\"1\" width=\"90\" x=\"1\" y=\"20.0\"><title>rs_SLC28A3\n",
       "linear:\n",
       "scale=0.181018\n",
       "scale offset=4.261191\n",
       "w=-1.380980\n",
       "bias=-0.6676</title></rect><text fill=\"#1E1E1E\" font-family=\"monospace\" font-size=\"12\" style=\"pointer-events:none\" text-anchor=\"middle\" x=\"46.0\" y=\"41.5\">rs_SLC28A3</text><text fill=\"#1E1E1E\" font-family=\"monospace\" font-size=\"10\" style=\"pointer-events:none\" text-anchor=\"end\" x=\"89\" y=\"29.0\">2</text><text fill=\"#1E1E1E\" font-family=\"monospace\" font-size=\"10\" style=\"pointer-events:none\" text-anchor=\"start\" x=\"3\" y=\"29.0\">num</text><rect class=\"node\" fill=\"#00F082\" height=\"35\" stroke=\"#1E1E1E\" stroke-width=\"1\" width=\"90\" x=\"1\" y=\"80.0\"><title>rs_APOB\n",
       "linear:\n",
       "scale=0.149502\n",
       "scale offset=2.288630\n",
       "w=2.517382\n",
       "bias=-0.0754</title></rect><text fill=\"#1E1E1E\" font-family=\"monospace\" font-size=\"12\" style=\"pointer-events:none\" text-anchor=\"middle\" x=\"46.0\" y=\"101.5\">rs_APOB</text><text fill=\"#1E1E1E\" font-family=\"monospace\" font-size=\"10\" style=\"pointer-events:none\" text-anchor=\"end\" x=\"89\" y=\"89.0\">3</text><text fill=\"#1E1E1E\" font-family=\"monospace\" font-size=\"10\" style=\"pointer-events:none\" text-anchor=\"start\" x=\"3\" y=\"89.0\">num</text></svg></svg>"
      ],
      "text/plain": [
       "<IPython.core.display.HTML object>"
      ]
     },
     "metadata": {},
     "output_type": "display_data"
    }
   ],
   "source": [
    "results = crossvalidation_as_framework(data,\n",
    "                                     target,\n",
    "                                     kind = \"classification\",\n",
    "                                     stypes = stypes,\n",
    "                                     n_epochs = 50,\n",
    "                                     criterion='bic',\n",
    "                                     max_complexity = 3)"
   ]
  },
  {
   "cell_type": "code",
   "execution_count": 7,
   "id": "b0858a88-70e0-4198-9e48-5d71c0c86f63",
   "metadata": {},
   "outputs": [
    {
     "data": {
      "text/plain": [
       "(0.6382296594032952, 0.07407253074513537)"
      ]
     },
     "execution_count": 7,
     "metadata": {},
     "output_type": "execute_result"
    }
   ],
   "source": [
    "results.groupby(\"fold\").first().roc_auc_val.mean(), results.groupby(\"fold\").first().roc_auc_val.std()"
   ]
  },
  {
   "cell_type": "code",
   "execution_count": 8,
   "id": "e7b44101-3724-458c-81df-065bb2e26fc5",
   "metadata": {},
   "outputs": [
    {
     "data": {
      "text/plain": [
       "(0.6712429863379155, 0.03333248504486059)"
      ]
     },
     "execution_count": 8,
     "metadata": {},
     "output_type": "execute_result"
    }
   ],
   "source": [
    "results.groupby(\"fold\").first().roc_auc_train.mean(), results.groupby(\"fold\").first().roc_auc_train.std()"
   ]
  },
  {
   "cell_type": "code",
   "execution_count": 9,
   "id": "9ae29432-bd39-4874-bba4-4004b9fa4505",
   "metadata": {},
   "outputs": [
    {
     "data": {
      "text/html": [
       "<div>\n",
       "<style scoped>\n",
       "    .dataframe tbody tr th:only-of-type {\n",
       "        vertical-align: middle;\n",
       "    }\n",
       "\n",
       "    .dataframe tbody tr th {\n",
       "        vertical-align: top;\n",
       "    }\n",
       "\n",
       "    .dataframe thead th {\n",
       "        text-align: right;\n",
       "    }\n",
       "</style>\n",
       "<table border=\"1\" class=\"dataframe\">\n",
       "  <thead>\n",
       "    <tr style=\"text-align: right;\">\n",
       "      <th></th>\n",
       "      <th>model_structure</th>\n",
       "      <th>aic</th>\n",
       "      <th>bic</th>\n",
       "      <th>roc_auc_train</th>\n",
       "      <th>accuracy_train</th>\n",
       "      <th>roc_auc_val</th>\n",
       "      <th>accuracy_val</th>\n",
       "      <th>pr_auc</th>\n",
       "      <th>f1</th>\n",
       "      <th>query_string</th>\n",
       "    </tr>\n",
       "    <tr>\n",
       "      <th>fold</th>\n",
       "      <th></th>\n",
       "      <th></th>\n",
       "      <th></th>\n",
       "      <th></th>\n",
       "      <th></th>\n",
       "      <th></th>\n",
       "      <th></th>\n",
       "      <th></th>\n",
       "      <th></th>\n",
       "      <th></th>\n",
       "    </tr>\n",
       "  </thead>\n",
       "  <tbody>\n",
       "    <tr>\n",
       "      <th>0</th>\n",
       "      <td>logreg(rsCHST9*rsPCK1)</td>\n",
       "      <td>647.344838</td>\n",
       "      <td>656.014947</td>\n",
       "      <td>0.665417</td>\n",
       "      <td>0.757092</td>\n",
       "      <td>0.659440</td>\n",
       "      <td>0.730496</td>\n",
       "      <td>0.346362</td>\n",
       "      <td>0.235294</td>\n",
       "      <td>multiply(\"rs_PCK1\", \"rs_CHST9\")</td>\n",
       "    </tr>\n",
       "    <tr>\n",
       "      <th>1</th>\n",
       "      <td>logreg(rsAPOB*rsGPM6A)</td>\n",
       "      <td>634.402481</td>\n",
       "      <td>643.072589</td>\n",
       "      <td>0.722427</td>\n",
       "      <td>0.773050</td>\n",
       "      <td>0.588870</td>\n",
       "      <td>0.737589</td>\n",
       "      <td>0.209888</td>\n",
       "      <td>0.232258</td>\n",
       "      <td>multiply(\"rs_GPM6A\", \"rs_APOB\")</td>\n",
       "    </tr>\n",
       "    <tr>\n",
       "      <th>2</th>\n",
       "      <td>logreg(exp(-rsLOC283392**2 - rsOXTR**2))</td>\n",
       "      <td>635.943571</td>\n",
       "      <td>653.283788</td>\n",
       "      <td>0.665003</td>\n",
       "      <td>0.868794</td>\n",
       "      <td>0.537964</td>\n",
       "      <td>0.836879</td>\n",
       "      <td>0.226175</td>\n",
       "      <td>0.236842</td>\n",
       "      <td>gaussian(\"rs_LOC283392\", \"rs_OXTR\")</td>\n",
       "    </tr>\n",
       "    <tr>\n",
       "      <th>3</th>\n",
       "      <td>logreg(exp(-rsMRAP**2 - rsOXTR**2))</td>\n",
       "      <td>660.672829</td>\n",
       "      <td>678.013046</td>\n",
       "      <td>0.629475</td>\n",
       "      <td>0.858156</td>\n",
       "      <td>0.682916</td>\n",
       "      <td>0.879433</td>\n",
       "      <td>0.437718</td>\n",
       "      <td>0.246753</td>\n",
       "      <td>gaussian(\"rs_OXTR\", \"rs_MRAP\")</td>\n",
       "    </tr>\n",
       "    <tr>\n",
       "      <th>4</th>\n",
       "      <td>logreg(rsAPOB*rsSLC28A3)</td>\n",
       "      <td>666.334833</td>\n",
       "      <td>675.004942</td>\n",
       "      <td>0.673892</td>\n",
       "      <td>0.806738</td>\n",
       "      <td>0.721959</td>\n",
       "      <td>0.808511</td>\n",
       "      <td>0.446573</td>\n",
       "      <td>0.245161</td>\n",
       "      <td>multiply(\"rs_SLC28A3\", \"rs_APOB\")</td>\n",
       "    </tr>\n",
       "  </tbody>\n",
       "</table>\n",
       "</div>"
      ],
      "text/plain": [
       "                               model_structure         aic         bic  \\\n",
       "fold                                                                     \n",
       "0                       logreg(rsCHST9*rsPCK1)  647.344838  656.014947   \n",
       "1                       logreg(rsAPOB*rsGPM6A)  634.402481  643.072589   \n",
       "2     logreg(exp(-rsLOC283392**2 - rsOXTR**2))  635.943571  653.283788   \n",
       "3          logreg(exp(-rsMRAP**2 - rsOXTR**2))  660.672829  678.013046   \n",
       "4                     logreg(rsAPOB*rsSLC28A3)  666.334833  675.004942   \n",
       "\n",
       "      roc_auc_train  accuracy_train  roc_auc_val  accuracy_val    pr_auc  \\\n",
       "fold                                                                       \n",
       "0          0.665417        0.757092     0.659440      0.730496  0.346362   \n",
       "1          0.722427        0.773050     0.588870      0.737589  0.209888   \n",
       "2          0.665003        0.868794     0.537964      0.836879  0.226175   \n",
       "3          0.629475        0.858156     0.682916      0.879433  0.437718   \n",
       "4          0.673892        0.806738     0.721959      0.808511  0.446573   \n",
       "\n",
       "            f1                         query_string  \n",
       "fold                                                 \n",
       "0     0.235294      multiply(\"rs_PCK1\", \"rs_CHST9\")  \n",
       "1     0.232258      multiply(\"rs_GPM6A\", \"rs_APOB\")  \n",
       "2     0.236842  gaussian(\"rs_LOC283392\", \"rs_OXTR\")  \n",
       "3     0.246753       gaussian(\"rs_OXTR\", \"rs_MRAP\")  \n",
       "4     0.245161    multiply(\"rs_SLC28A3\", \"rs_APOB\")  "
      ]
     },
     "execution_count": 9,
     "metadata": {},
     "output_type": "execute_result"
    }
   ],
   "source": [
    "results.groupby(\"fold\").first()"
   ]
  },
  {
   "cell_type": "code",
   "execution_count": 10,
   "id": "9419040d-643c-475f-8aaf-7d3d2ae3b567",
   "metadata": {},
   "outputs": [
    {
     "name": "stdout",
     "output_type": "stream",
     "text": [
      "logreg(rsCHST9*rsPCK1)\n",
      "logreg(rsAPOB*rsGPM6A)\n",
      "logreg(exp(-rsLOC283392**2 - rsOXTR**2))\n",
      "logreg(exp(-rsMRAP**2 - rsOXTR**2))\n",
      "logreg(rsAPOB*rsSLC28A3)\n"
     ]
    }
   ],
   "source": [
    "for model in results.groupby(\"fold\").first()['model_structure']:\n",
    "    print(model)"
   ]
  },
  {
   "cell_type": "markdown",
   "id": "81eac408-1f10-4984-bdf9-8c43fd793e4c",
   "metadata": {
    "tags": []
   },
   "source": [
    "#### Exploration of best models"
   ]
  },
  {
   "cell_type": "code",
   "execution_count": 11,
   "id": "0d518fb1-d6be-4b87-bdec-51984f116176",
   "metadata": {},
   "outputs": [
    {
     "name": "stdout",
     "output_type": "stream",
     "text": [
      "A new community QLattice has been allocated for you. This temporary QLattice is available for personal/non-commercial use. By using this community QLattice you agree to the terms and conditions which can be found at `https://abzu.ai/privacy`.\n"
     ]
    }
   ],
   "source": [
    "ql = feyn.connect_qlattice()"
   ]
  },
  {
   "cell_type": "code",
   "execution_count": 12,
   "id": "6f88719d-a951-4480-867f-8207d794a846",
   "metadata": {},
   "outputs": [
    {
     "data": {
      "text/html": [
       "<?xml version=\"1.0\" encoding=\"utf-8\" ?>\n",
       "<svg baseProfile=\"full\" height=\"160.0\" preserveAspectRatio=\"none\" version=\"1.1\" viewBox=\"0 0 423 160.0\" width=\"423\" xmlns=\"http://www.w3.org/2000/svg\" xmlns:ev=\"http://www.w3.org/2001/xml-events\" xmlns:xlink=\"http://www.w3.org/1999/xlink\"><defs /><svg class=\"graph\" height=\"155.0\" width=\"423\" x=\"0\" y=\"0\"><defs /><text fill=\"#1E1E1E\" font-family=\"monospace\" font-size=\"12\" text-anchor=\"middle\" x=\"286.0\" y=\"99.0\">Loss: 5.66E-01</text><text fill=\"#1E1E1E\" font-family=\"monospace\" font-size=\"12\" text-anchor=\"start\" x=\"0\" y=\"145.0\">Epoch no. 20/20 - Tried 16102 models - Completed in 16s.</text><rect class=\"node\" fill=\"#00F082\" height=\"35\" stroke=\"#1E1E1E\" stroke-width=\"1\" width=\"90\" x=\"241\" y=\"50.0\"><title>vital.status\n",
       "logistic:\n",
       "w=-1.3761\n",
       "bias=-0.3112</title></rect><text fill=\"#1E1E1E\" font-family=\"monospace\" font-size=\"12\" style=\"pointer-events:none\" text-anchor=\"middle\" x=\"286.0\" y=\"71.5\">vital.st..</text><text fill=\"#1E1E1E\" font-family=\"monospace\" font-size=\"10\" style=\"pointer-events:none\" text-anchor=\"end\" x=\"329\" y=\"59.0\">0</text><text fill=\"#1E1E1E\" font-family=\"monospace\" font-size=\"10\" style=\"pointer-events:none\" text-anchor=\"start\" x=\"243\" y=\"59.0\">out</text><line stroke=\"#1E1E1E\" x1=\"211\" x2=\"241\" y1=\"67.5\" y2=\"67.5\" /><rect class=\"node\" fill=\"#FAFAFA\" height=\"35\" stroke=\"#FF1EC8\" stroke-width=\"1\" width=\"90\" x=\"121\" y=\"50.0\"><title>multiply</title></rect><text fill=\"#1E1E1E\" font-family=\"monospace\" font-size=\"12\" style=\"pointer-events:none\" text-anchor=\"middle\" x=\"166.0\" y=\"71.5\">multiply</text><text fill=\"#1E1E1E\" font-family=\"monospace\" font-size=\"10\" style=\"pointer-events:none\" text-anchor=\"end\" x=\"209\" y=\"59.0\">1</text><line stroke=\"#1E1E1E\" x1=\"91\" x2=\"121\" y1=\"37.5\" y2=\"58.5\" /><line stroke=\"#1E1E1E\" x1=\"91\" x2=\"121\" y1=\"97.5\" y2=\"76.5\" /><rect class=\"node\" fill=\"#00F082\" height=\"35\" stroke=\"#1E1E1E\" stroke-width=\"1\" width=\"90\" x=\"1\" y=\"20.0\"><title>rs_SLC28A3\n",
       "linear:\n",
       "scale=0.181018\n",
       "scale offset=4.261191\n",
       "w=1.374191\n",
       "bias=0.5550</title></rect><text fill=\"#1E1E1E\" font-family=\"monospace\" font-size=\"12\" style=\"pointer-events:none\" text-anchor=\"middle\" x=\"46.0\" y=\"41.5\">rs_SLC28A3</text><text fill=\"#1E1E1E\" font-family=\"monospace\" font-size=\"10\" style=\"pointer-events:none\" text-anchor=\"end\" x=\"89\" y=\"29.0\">2</text><text fill=\"#1E1E1E\" font-family=\"monospace\" font-size=\"10\" style=\"pointer-events:none\" text-anchor=\"start\" x=\"3\" y=\"29.0\">num</text><rect class=\"node\" fill=\"#00F082\" height=\"35\" stroke=\"#1E1E1E\" stroke-width=\"1\" width=\"90\" x=\"1\" y=\"80.0\"><title>rs_APOB\n",
       "linear:\n",
       "scale=0.149502\n",
       "scale offset=2.288630\n",
       "w=-1.228249\n",
       "bias=-0.0910</title></rect><text fill=\"#1E1E1E\" font-family=\"monospace\" font-size=\"12\" style=\"pointer-events:none\" text-anchor=\"middle\" x=\"46.0\" y=\"101.5\">rs_APOB</text><text fill=\"#1E1E1E\" font-family=\"monospace\" font-size=\"10\" style=\"pointer-events:none\" text-anchor=\"end\" x=\"89\" y=\"89.0\">3</text><text fill=\"#1E1E1E\" font-family=\"monospace\" font-size=\"10\" style=\"pointer-events:none\" text-anchor=\"start\" x=\"3\" y=\"89.0\">num</text></svg></svg>"
      ],
      "text/plain": [
       "<IPython.core.display.HTML object>"
      ]
     },
     "metadata": {},
     "output_type": "display_data"
    }
   ],
   "source": [
    "best_models_qstrings = results.groupby(\"fold\").first()['query_string'].values\n",
    "\n",
    "n_folds = 5\n",
    "random_state = 42\n",
    "models_trained = []\n",
    "train_list = []\n",
    "val_list = []\n",
    "\n",
    "kfold_test = StratifiedKFold(n_folds, shuffle=True, random_state=random_state)\n",
    "for i, (train, val) in enumerate(kfold_test.split(data, data[target])):\n",
    "        train, val = data.iloc[train], data.iloc[val]\n",
    "        train_list.append(train)\n",
    "        val_list.append(val)\n",
    "        \n",
    "        sample_weights = np.where(train[target] == 1,\n",
    "                                      np.sum(train[target] == 0) / sum(train[target]), 1)\n",
    "        \n",
    "        ql.reset(random_state)\n",
    "        model = ql.auto_run(train, output_name=target, n_epochs=20, kind = \"classification\",\n",
    "                             query_string=best_models_qstrings[i], sample_weights=sample_weights, stypes=stypes)[0]\n",
    "        models_trained.append(model)"
   ]
  },
  {
   "cell_type": "code",
   "execution_count": 13,
   "id": "96871473",
   "metadata": {},
   "outputs": [
    {
     "data": {
      "image/png": "[encoded data removed]",
      "text/plain": [
       "<Figure size 360x360 with 1 Axes>"
      ]
     },
     "metadata": {},
     "output_type": "display_data"
    }
   ],
   "source": [
    "models_trained[0].plot_roc_curve(train_list[0], label='train', figsize=(5,5))\n",
    "models_trained[0].plot_roc_curve(val_list[0], label='test', ax=plt.gca(), figsize=(5,5))\n",
    "plt.savefig('../figures/bc_mc3_roc_auc'+'.pdf', dpi=300, bbox_inches='tight')"
   ]
  },
  {
   "cell_type": "code",
   "execution_count": 14,
   "id": "59356d00",
   "metadata": {},
   "outputs": [
    {
     "data": {
      "image/png": "[encoded data removed]",
      "text/plain": [
       "<Figure size 432x288 with 2 Axes>"
      ]
     },
     "metadata": {},
     "output_type": "display_data"
    },
    {
     "data": {
      "image/png": "[encoded data removed]",
      "text/plain": [
       "<Figure size 432x288 with 2 Axes>"
      ]
     },
     "metadata": {},
     "output_type": "display_data"
    }
   ],
   "source": [
    "models_trained[0].plot_confusion_matrix(train_list[0], filename = '../figures/bc_mc3_confusion_train.pdf')\n",
    "models_trained[0].plot_confusion_matrix(val_list[0], filename='../figures/bc_mc3_confusion_test.pdf')"
   ]
  },
  {
   "cell_type": "markdown",
   "id": "7c88e7f8-5ca8-4c2a-865b-99b2c0ecf43d",
   "metadata": {
    "jp-MarkdownHeadingCollapsed": true,
    "tags": []
   },
   "source": [
    "**List of inputs**"
   ]
  },
  {
   "cell_type": "code",
   "execution_count": 15,
   "id": "aa26adaa-83d5-40ce-89a6-a8725c5857a8",
   "metadata": {},
   "outputs": [],
   "source": [
    "inputs_list = []\n",
    "for m in models_trained:\n",
    "    for i in m.inputs:\n",
    "        inputs_list.append(i)\n",
    "        \n",
    "inputs_list = list(set(inputs_list))"
   ]
  },
  {
   "cell_type": "markdown",
   "id": "4156a111-fb5f-449b-b796-3d2545f20624",
   "metadata": {},
   "source": [
    "##### **Clustermap**"
   ]
  },
  {
   "cell_type": "code",
   "execution_count": 16,
   "id": "7c6bb893-fcf5-49d1-8d49-000844d6b226",
   "metadata": {},
   "outputs": [],
   "source": [
    "corr_inputs = data[inputs_list].corr()"
   ]
  },
  {
   "cell_type": "code",
   "execution_count": 17,
   "id": "b824f86e-4934-4174-8c42-79dc15293399",
   "metadata": {},
   "outputs": [
    {
     "data": {
      "image/png": "[encoded data removed]",
      "text/plain": [
       "<Figure size 432x432 with 4 Axes>"
      ]
     },
     "metadata": {},
     "output_type": "display_data"
    }
   ],
   "source": [
    "cluster_map_args = {'cmap': 'feyn-diverging', 'vmin': 0, 'vmax': 1}\n",
    "\n",
    "clustermap(abs(corr_inputs), **cluster_map_args, figsize=(6, 6))\n",
    "plt.savefig('../figures/bc_multi_clustermap.pdf', dpi=300, bbox_inches='tight')"
   ]
  },
  {
   "cell_type": "code",
   "execution_count": 18,
   "id": "db78be76-64f7-48a7-a563-dff4fe6ab903",
   "metadata": {},
   "outputs": [
    {
     "data": {
      "text/plain": [
       "rs_APOB         1.000000\n",
       "rs_LOC283392    0.835160\n",
       "rs_MRAP         0.780383\n",
       "rs_PCK1         0.773892\n",
       "rs_OXTR         0.466882\n",
       "rs_GPM6A        0.372880\n",
       "rs_CHST9        0.349093\n",
       "rs_SLC28A3      0.299441\n",
       "Name: rs_APOB, dtype: float64"
      ]
     },
     "execution_count": 18,
     "metadata": {},
     "output_type": "execute_result"
    }
   ],
   "source": [
    "data[inputs_list].corr()['rs_APOB'].sort_values(ascending=False)"
   ]
  },
  {
   "cell_type": "markdown",
   "id": "ac506dce-819e-4791-88c6-57ea8c2c3740",
   "metadata": {},
   "source": [
    "Pairwise Pearson correlation within the main group in the heatmap above varies from ~0.77 to ~0.84"
   ]
  },
  {
   "cell_type": "markdown",
   "id": "167ff8fb-8e09-4c75-894d-3fd5ae5ca704",
   "metadata": {
    "tags": []
   },
   "source": [
    "##### **Pearson correlation with output `vital.status`**"
   ]
  },
  {
   "cell_type": "code",
   "execution_count": 19,
   "id": "da81a2ac",
   "metadata": {},
   "outputs": [
    {
     "data": {
      "text/html": [
       "<div>\n",
       "<style scoped>\n",
       "    .dataframe tbody tr th:only-of-type {\n",
       "        vertical-align: middle;\n",
       "    }\n",
       "\n",
       "    .dataframe tbody tr th {\n",
       "        vertical-align: top;\n",
       "    }\n",
       "\n",
       "    .dataframe thead th {\n",
       "        text-align: right;\n",
       "    }\n",
       "</style>\n",
       "<table border=\"1\" class=\"dataframe\">\n",
       "  <thead>\n",
       "    <tr style=\"text-align: right;\">\n",
       "      <th></th>\n",
       "      <th>Pearson corr.</th>\n",
       "      <th>p_value</th>\n",
       "      <th>p_value adj.</th>\n",
       "    </tr>\n",
       "  </thead>\n",
       "  <tbody>\n",
       "    <tr>\n",
       "      <th>rs_APOB</th>\n",
       "      <td>0.270</td>\n",
       "      <td>3.064640e-13</td>\n",
       "      <td>5.939273e-10</td>\n",
       "    </tr>\n",
       "    <tr>\n",
       "      <th>rs_LOC283392</th>\n",
       "      <td>0.230</td>\n",
       "      <td>6.270326e-10</td>\n",
       "      <td>1.215189e-06</td>\n",
       "    </tr>\n",
       "    <tr>\n",
       "      <th>rs_PCK1</th>\n",
       "      <td>0.225</td>\n",
       "      <td>1.631734e-09</td>\n",
       "      <td>3.162301e-06</td>\n",
       "    </tr>\n",
       "    <tr>\n",
       "      <th>rs_MRAP</th>\n",
       "      <td>0.214</td>\n",
       "      <td>9.956550e-09</td>\n",
       "      <td>1.929579e-05</td>\n",
       "    </tr>\n",
       "    <tr>\n",
       "      <th>rs_OXTR</th>\n",
       "      <td>0.194</td>\n",
       "      <td>1.971209e-07</td>\n",
       "      <td>3.820204e-04</td>\n",
       "    </tr>\n",
       "    <tr>\n",
       "      <th>rs_CHST9</th>\n",
       "      <td>0.139</td>\n",
       "      <td>2.211530e-04</td>\n",
       "      <td>4.285945e-01</td>\n",
       "    </tr>\n",
       "    <tr>\n",
       "      <th>rs_GPM6A</th>\n",
       "      <td>0.116</td>\n",
       "      <td>1.970484e-03</td>\n",
       "      <td>1.000000e+00</td>\n",
       "    </tr>\n",
       "    <tr>\n",
       "      <th>rs_SLC28A3</th>\n",
       "      <td>0.099</td>\n",
       "      <td>8.730694e-03</td>\n",
       "      <td>1.000000e+00</td>\n",
       "    </tr>\n",
       "  </tbody>\n",
       "</table>\n",
       "</div>"
      ],
      "text/plain": [
       "              Pearson corr.       p_value  p_value adj.\n",
       "rs_APOB               0.270  3.064640e-13  5.939273e-10\n",
       "rs_LOC283392          0.230  6.270326e-10  1.215189e-06\n",
       "rs_PCK1               0.225  1.631734e-09  3.162301e-06\n",
       "rs_MRAP               0.214  9.956550e-09  1.929579e-05\n",
       "rs_OXTR               0.194  1.971209e-07  3.820204e-04\n",
       "rs_CHST9              0.139  2.211530e-04  4.285945e-01\n",
       "rs_GPM6A              0.116  1.970484e-03  1.000000e+00\n",
       "rs_SLC28A3            0.099  8.730694e-03  1.000000e+00"
      ]
     },
     "execution_count": 19,
     "metadata": {},
     "output_type": "execute_result"
    }
   ],
   "source": [
    "data_corr = list()\n",
    "for inp in inputs_list:\n",
    "    res = pointbiserialr(data[inp], data[target])\n",
    "    data_corr.append([round(res.correlation, 3), res.pvalue])\n",
    "\n",
    "df_corr = pd.DataFrame(columns=['Pearson corr.', 'p_value'], data=data_corr, index=inputs_list)\n",
    "df_corr['p_value adj.'] = (df_corr['p_value']*data.shape[1])\n",
    "df_corr.loc[df_corr['p_value adj.']>1, 'p_value adj.']=1\n",
    "df_corr.sort_values(by='p_value adj.')"
   ]
  },
  {
   "cell_type": "code",
   "execution_count": 20,
   "id": "fb93ea41",
   "metadata": {},
   "outputs": [
    {
     "name": "stdout",
     "output_type": "stream",
     "text": [
      "\\begin{tabular}{lrrr}\n",
      "\\toprule\n",
      "{} &  Pearson corr. &       p\\_value &  p\\_value adj. \\\\\n",
      "\\midrule\n",
      "rs\\_APOB      &          0.270 &  3.064640e-13 &  5.939273e-10 \\\\\n",
      "rs\\_LOC283392 &          0.230 &  6.270326e-10 &  1.215189e-06 \\\\\n",
      "rs\\_PCK1      &          0.225 &  1.631734e-09 &  3.162301e-06 \\\\\n",
      "rs\\_MRAP      &          0.214 &  9.956550e-09 &  1.929579e-05 \\\\\n",
      "rs\\_OXTR      &          0.194 &  1.971209e-07 &  3.820204e-04 \\\\\n",
      "rs\\_CHST9     &          0.139 &  2.211530e-04 &  4.285945e-01 \\\\\n",
      "rs\\_GPM6A     &          0.116 &  1.970484e-03 &  1.000000e+00 \\\\\n",
      "rs\\_SLC28A3   &          0.099 &  8.730694e-03 &  1.000000e+00 \\\\\n",
      "\\bottomrule\n",
      "\\end{tabular}\n",
      "\n"
     ]
    }
   ],
   "source": [
    "print(df_corr.sort_values(by='p_value').to_latex())"
   ]
  },
  {
   "cell_type": "markdown",
   "id": "17ade0c9-71ca-47a2-af0b-ba23537aaf07",
   "metadata": {},
   "source": [
    "##### **Model response (3 examples)**"
   ]
  },
  {
   "cell_type": "code",
   "execution_count": 21,
   "id": "76a64b8c-d64f-4584-8590-1454471d89b0",
   "metadata": {},
   "outputs": [
    {
     "data": {
      "image/png": "[encoded data removed]",
      "text/plain": [
       "<Figure size 1224x360 with 4 Axes>"
      ]
     },
     "metadata": {},
     "output_type": "display_data"
    }
   ],
   "source": [
    "me0, me1, me2 = [1, 2, 3]  # 3 models chosen to be plotted\n",
    "\n",
    "titles = [\n",
    "    r'$\\mathrm{rs\\_GPM6A} \\times \\mathrm{rs\\_APOB}$',\n",
    "    r'$\\exp(-\\mathrm{rs\\_LOC283392}^2 - \\mathrm{rs\\_OXTR}^2)$',\n",
    "    r'$\\exp(-\\mathrm{rs\\_OXTR}^2 - \\mathrm{rs\\_MRAP}^2)$'\n",
    "]\n",
    "\n",
    "fig, axs = plt.subplots(1, 3, figsize=(17, 5))\n",
    "\n",
    "for i, m in enumerate([models_trained[me0], models_trained[me1], models_trained[me2]]):\n",
    "    m.plot_response_2d(data, ax=axs[i])\n",
    "    axs[i].set_title(titles[i])\n",
    "\n",
    "img = axs[i].get_images()[0]\n",
    "cax = fig.add_axes([0.92, 0.13, 0.025, 0.75])\n",
    "fig.colorbar(img, cax=cax)\n",
    "plt.savefig('../figures/bc_multi_2features_models_response2d.pdf', dpi=300, bbox_inches='tight')\n",
    "plt.show()"
   ]
  },
  {
   "cell_type": "markdown",
   "id": "b9eb8e4f-a2fa-4aa8-a0c1-e355c30b5728",
   "metadata": {
    "tags": []
   },
   "source": [
    "### Larger models"
   ]
  },
  {
   "cell_type": "markdown",
   "id": "b86c75a6-1ed8-4fbb-98c0-bc0dafb469e6",
   "metadata": {},
   "source": [
    "#### Default: `max_complexity = 10`"
   ]
  },
  {
   "cell_type": "code",
   "execution_count": 22,
   "id": "99e2febc-26bd-401d-b8e6-c5f5aed02796",
   "metadata": {},
   "outputs": [
    {
     "data": {
      "text/html": [
       "<?xml version=\"1.0\" encoding=\"utf-8\" ?>\n",
       "<svg baseProfile=\"full\" height=\"280.0\" preserveAspectRatio=\"none\" version=\"1.1\" viewBox=\"0 0 591 280.0\" width=\"591\" xmlns=\"http://www.w3.org/2000/svg\" xmlns:ev=\"http://www.w3.org/2001/xml-events\" xmlns:xlink=\"http://www.w3.org/1999/xlink\"><defs /><svg class=\"graph\" height=\"275.0\" width=\"591\" x=\"0\" y=\"0\"><defs /><text fill=\"#1E1E1E\" font-family=\"monospace\" font-size=\"12\" text-anchor=\"middle\" x=\"526.0\" y=\"159.0\">Loss: 5.38E-01</text><text fill=\"#1E1E1E\" font-family=\"monospace\" font-size=\"12\" text-anchor=\"start\" x=\"0\" y=\"265.0\">Epoch no. 100/100 - Tried 110919 models - Completed in 1m 51s.</text><rect class=\"node\" fill=\"#00F082\" height=\"35\" stroke=\"#1E1E1E\" stroke-width=\"1\" width=\"90\" x=\"481\" y=\"110.0\"><title>vital.status\n",
       "logistic:\n",
       "w=-1.0520\n",
       "bias=-0.4296</title></rect><text fill=\"#1E1E1E\" font-family=\"monospace\" font-size=\"12\" style=\"pointer-events:none\" text-anchor=\"middle\" x=\"526.0\" y=\"131.5\">vital.st..</text><text fill=\"#1E1E1E\" font-family=\"monospace\" font-size=\"10\" style=\"pointer-events:none\" text-anchor=\"end\" x=\"569\" y=\"119.0\">0</text><text fill=\"#1E1E1E\" font-family=\"monospace\" font-size=\"10\" style=\"pointer-events:none\" text-anchor=\"start\" x=\"483\" y=\"119.0\">out</text><line stroke=\"#1E1E1E\" x1=\"451\" x2=\"481\" y1=\"127.5\" y2=\"127.5\" /><rect class=\"node\" fill=\"#FAFAFA\" height=\"35\" stroke=\"#FF1EC8\" stroke-width=\"1\" width=\"90\" x=\"361\" y=\"110.0\"><title>multiply</title></rect><text fill=\"#1E1E1E\" font-family=\"monospace\" font-size=\"12\" style=\"pointer-events:none\" text-anchor=\"middle\" x=\"406.0\" y=\"131.5\">multiply</text><text fill=\"#1E1E1E\" font-family=\"monospace\" font-size=\"10\" style=\"pointer-events:none\" text-anchor=\"end\" x=\"449\" y=\"119.0\">1</text><line stroke=\"#1E1E1E\" x1=\"331\" x2=\"361\" y1=\"97.5\" y2=\"118.5\" /><line stroke=\"#1E1E1E\" x1=\"331\" x2=\"361\" y1=\"157.5\" y2=\"136.5\" /><rect class=\"node\" fill=\"#00F082\" height=\"35\" stroke=\"#1E1E1E\" stroke-width=\"1\" width=\"90\" x=\"241\" y=\"80.0\"><title>rs_FOSB\n",
       "linear:\n",
       "scale=0.168591\n",
       "scale offset=8.970796\n",
       "w=3.248729\n",
       "bias=1.5250</title></rect><text fill=\"#1E1E1E\" font-family=\"monospace\" font-size=\"12\" style=\"pointer-events:none\" text-anchor=\"middle\" x=\"286.0\" y=\"101.5\">rs_FOSB</text><text fill=\"#1E1E1E\" font-family=\"monospace\" font-size=\"10\" style=\"pointer-events:none\" text-anchor=\"end\" x=\"329\" y=\"89.0\">2</text><text fill=\"#1E1E1E\" font-family=\"monospace\" font-size=\"10\" style=\"pointer-events:none\" text-anchor=\"start\" x=\"243\" y=\"89.0\">num</text><rect class=\"node\" fill=\"#FAFAFA\" height=\"35\" stroke=\"#FF1EC8\" stroke-width=\"1\" width=\"90\" x=\"241\" y=\"140.0\"><title>add</title></rect><text fill=\"#1E1E1E\" font-family=\"monospace\" font-size=\"12\" style=\"pointer-events:none\" text-anchor=\"middle\" x=\"286.0\" y=\"161.5\">add</text><text fill=\"#1E1E1E\" font-family=\"monospace\" font-size=\"10\" style=\"pointer-events:none\" text-anchor=\"end\" x=\"329\" y=\"149.0\">3</text><line stroke=\"#1E1E1E\" x1=\"211\" x2=\"241\" y1=\"97.5\" y2=\"148.5\" /><line stroke=\"#1E1E1E\" x1=\"211\" x2=\"241\" y1=\"157.5\" y2=\"166.5\" /><rect class=\"node\" fill=\"#FAFAFA\" height=\"35\" stroke=\"#FF1EC8\" stroke-width=\"1\" width=\"90\" x=\"121\" y=\"80.0\"><title>multiply</title></rect><text fill=\"#1E1E1E\" font-family=\"monospace\" font-size=\"12\" style=\"pointer-events:none\" text-anchor=\"middle\" x=\"166.0\" y=\"101.5\">multiply</text><text fill=\"#1E1E1E\" font-family=\"monospace\" font-size=\"10\" style=\"pointer-events:none\" text-anchor=\"end\" x=\"209\" y=\"89.0\">4</text><line stroke=\"#1E1E1E\" x1=\"91\" x2=\"121\" y1=\"37.5\" y2=\"88.5\" /><line stroke=\"#1E1E1E\" x1=\"91\" x2=\"121\" y1=\"97.5\" y2=\"106.5\" /><rect class=\"node\" fill=\"#00F082\" height=\"35\" stroke=\"#1E1E1E\" stroke-width=\"1\" width=\"90\" x=\"1\" y=\"20.0\"><title>cn_ACSM1\n",
       "linear:\n",
       "scale=0.666667\n",
       "scale offset=0.491135\n",
       "w=0.456979\n",
       "bias=-0.7514</title></rect><text fill=\"#1E1E1E\" font-family=\"monospace\" font-size=\"12\" style=\"pointer-events:none\" text-anchor=\"middle\" x=\"46.0\" y=\"41.5\">cn_ACSM1</text><text fill=\"#1E1E1E\" font-family=\"monospace\" font-size=\"10\" style=\"pointer-events:none\" text-anchor=\"end\" x=\"89\" y=\"29.0\">5</text><text fill=\"#1E1E1E\" font-family=\"monospace\" font-size=\"10\" style=\"pointer-events:none\" text-anchor=\"start\" x=\"3\" y=\"29.0\">num</text><rect class=\"node\" fill=\"#00F082\" height=\"35\" stroke=\"#1E1E1E\" stroke-width=\"1\" width=\"90\" x=\"1\" y=\"80.0\"><title>rs_APOB\n",
       "linear:\n",
       "scale=0.149502\n",
       "scale offset=2.288630\n",
       "w=0.803881\n",
       "bias=-1.3534</title></rect><text fill=\"#1E1E1E\" font-family=\"monospace\" font-size=\"12\" style=\"pointer-events:none\" text-anchor=\"middle\" x=\"46.0\" y=\"101.5\">rs_APOB</text><text fill=\"#1E1E1E\" font-family=\"monospace\" font-size=\"10\" style=\"pointer-events:none\" text-anchor=\"end\" x=\"89\" y=\"89.0\">6</text><text fill=\"#1E1E1E\" font-family=\"monospace\" font-size=\"10\" style=\"pointer-events:none\" text-anchor=\"start\" x=\"3\" y=\"89.0\">num</text><rect class=\"node\" fill=\"#FAFAFA\" height=\"35\" stroke=\"#FF1EC8\" stroke-width=\"1\" width=\"90\" x=\"121\" y=\"140.0\"><title>add</title></rect><text fill=\"#1E1E1E\" font-family=\"monospace\" font-size=\"12\" style=\"pointer-events:none\" text-anchor=\"middle\" x=\"166.0\" y=\"161.5\">add</text><text fill=\"#1E1E1E\" font-family=\"monospace\" font-size=\"10\" style=\"pointer-events:none\" text-anchor=\"end\" x=\"209\" y=\"149.0\">7</text><line stroke=\"#1E1E1E\" x1=\"91\" x2=\"121\" y1=\"157.5\" y2=\"148.5\" /><line stroke=\"#1E1E1E\" x1=\"91\" x2=\"121\" y1=\"217.5\" y2=\"166.5\" /><rect class=\"node\" fill=\"#00F082\" height=\"35\" stroke=\"#1E1E1E\" stroke-width=\"1\" width=\"90\" x=\"1\" y=\"140.0\"><title>rs_TRPV6\n",
       "linear:\n",
       "scale=0.156198\n",
       "scale offset=6.526143\n",
       "w=-0.888465\n",
       "bias=0.3246</title></rect><text fill=\"#1E1E1E\" font-family=\"monospace\" font-size=\"12\" style=\"pointer-events:none\" text-anchor=\"middle\" x=\"46.0\" y=\"161.5\">rs_TRPV6</text><text fill=\"#1E1E1E\" font-family=\"monospace\" font-size=\"10\" style=\"pointer-events:none\" text-anchor=\"end\" x=\"89\" y=\"149.0\">8</text><text fill=\"#1E1E1E\" font-family=\"monospace\" font-size=\"10\" style=\"pointer-events:none\" text-anchor=\"start\" x=\"3\" y=\"149.0\">num</text><rect class=\"node\" fill=\"#00F082\" height=\"35\" stroke=\"#1E1E1E\" stroke-width=\"1\" width=\"90\" x=\"1\" y=\"200.0\"><title>pp_FASN\n",
       "linear:\n",
       "scale=0.330276\n",
       "scale offset=0.129803\n",
       "w=0.346065\n",
       "bias=-1.2319</title></rect><text fill=\"#1E1E1E\" font-family=\"monospace\" font-size=\"12\" style=\"pointer-events:none\" text-anchor=\"middle\" x=\"46.0\" y=\"221.5\">pp_FASN</text><text fill=\"#1E1E1E\" font-family=\"monospace\" font-size=\"10\" style=\"pointer-events:none\" text-anchor=\"end\" x=\"89\" y=\"209.0\">9</text><text fill=\"#1E1E1E\" font-family=\"monospace\" font-size=\"10\" style=\"pointer-events:none\" text-anchor=\"start\" x=\"3\" y=\"209.0\">num</text></svg></svg>"
      ],
      "text/plain": [
       "<IPython.core.display.HTML object>"
      ]
     },
     "metadata": {},
     "output_type": "display_data"
    }
   ],
   "source": [
    "results10 = crossvalidation_as_framework(data,\n",
    "                                     target,\n",
    "                                     kind = \"classification\",\n",
    "                                     stypes = stypes,\n",
    "                                     n_epochs = 100,\n",
    "                                     max_complexity=10,\n",
    "                                     criterion='bic')"
   ]
  },
  {
   "cell_type": "code",
   "execution_count": 23,
   "id": "da64df07-186f-4c2b-83ac-032e4997603d",
   "metadata": {},
   "outputs": [
    {
     "data": {
      "text/plain": [
       "(0.6332193048706444, 0.04136462826891378)"
      ]
     },
     "execution_count": 23,
     "metadata": {},
     "output_type": "execute_result"
    }
   ],
   "source": [
    "results10.groupby(\"fold\").first().roc_auc_val.mean(), results10.groupby(\"fold\").first().roc_auc_val.std()"
   ]
  },
  {
   "cell_type": "code",
   "execution_count": 24,
   "id": "d347f3de-19b5-46e9-af8b-43d05f7bce41",
   "metadata": {},
   "outputs": [
    {
     "data": {
      "text/plain": [
       "(0.7651063371892302, 0.033119693381080284)"
      ]
     },
     "execution_count": 24,
     "metadata": {},
     "output_type": "execute_result"
    }
   ],
   "source": [
    "results10.groupby(\"fold\").first().roc_auc_train.mean(), results10.groupby(\"fold\").first().roc_auc_train.std()"
   ]
  },
  {
   "cell_type": "code",
   "execution_count": 25,
   "id": "2278feee-b695-408c-88af-208886e5f010",
   "metadata": {},
   "outputs": [
    {
     "data": {
      "text/html": [
       "<div>\n",
       "<style scoped>\n",
       "    .dataframe tbody tr th:only-of-type {\n",
       "        vertical-align: middle;\n",
       "    }\n",
       "\n",
       "    .dataframe tbody tr th {\n",
       "        vertical-align: top;\n",
       "    }\n",
       "\n",
       "    .dataframe thead th {\n",
       "        text-align: right;\n",
       "    }\n",
       "</style>\n",
       "<table border=\"1\" class=\"dataframe\">\n",
       "  <thead>\n",
       "    <tr style=\"text-align: right;\">\n",
       "      <th></th>\n",
       "      <th>model_structure</th>\n",
       "      <th>aic</th>\n",
       "      <th>bic</th>\n",
       "      <th>roc_auc_train</th>\n",
       "      <th>accuracy_train</th>\n",
       "      <th>roc_auc_val</th>\n",
       "      <th>accuracy_val</th>\n",
       "      <th>pr_auc</th>\n",
       "      <th>f1</th>\n",
       "      <th>query_string</th>\n",
       "    </tr>\n",
       "    <tr>\n",
       "      <th>fold</th>\n",
       "      <th></th>\n",
       "      <th></th>\n",
       "      <th></th>\n",
       "      <th></th>\n",
       "      <th></th>\n",
       "      <th></th>\n",
       "      <th></th>\n",
       "      <th></th>\n",
       "      <th></th>\n",
       "      <th></th>\n",
       "    </tr>\n",
       "  </thead>\n",
       "  <tbody>\n",
       "    <tr>\n",
       "      <th>0</th>\n",
       "      <td>logreg(tanh(cnGBP5 + cnMIA + muDNHD1 + rsAPOB*...</td>\n",
       "      <td>599.632874</td>\n",
       "      <td>625.643200</td>\n",
       "      <td>0.729117</td>\n",
       "      <td>0.831560</td>\n",
       "      <td>0.625113</td>\n",
       "      <td>0.765957</td>\n",
       "      <td>0.258446</td>\n",
       "      <td>0.219178</td>\n",
       "      <td>tanh(add(multiply(\"rs_APOB\", \"rs_ROPN1\"), add(...</td>\n",
       "    </tr>\n",
       "    <tr>\n",
       "      <th>1</th>\n",
       "      <td>logreg(rsPSCA*(cnMYEOV + rsAPOB*(rsFGFBP1 + rs...</td>\n",
       "      <td>595.664316</td>\n",
       "      <td>621.674641</td>\n",
       "      <td>0.790593</td>\n",
       "      <td>0.744681</td>\n",
       "      <td>0.691544</td>\n",
       "      <td>0.695035</td>\n",
       "      <td>0.263879</td>\n",
       "      <td>0.243590</td>\n",
       "      <td>multiply(add(\"cn_MYEOV\", multiply(add(\"rs_SLC4...</td>\n",
       "    </tr>\n",
       "    <tr>\n",
       "      <th>2</th>\n",
       "      <td>logreg(rsAPOB*rsHEPACAM2 + tanh(cnKANK4 + rsCA...</td>\n",
       "      <td>601.504160</td>\n",
       "      <td>627.514486</td>\n",
       "      <td>0.807880</td>\n",
       "      <td>0.730496</td>\n",
       "      <td>0.617774</td>\n",
       "      <td>0.666667</td>\n",
       "      <td>0.334514</td>\n",
       "      <td>0.220779</td>\n",
       "      <td>add(multiply(\"rs_HEPACAM2\", \"rs_APOB\"), tanh(a...</td>\n",
       "    </tr>\n",
       "    <tr>\n",
       "      <th>3</th>\n",
       "      <td>logreg(cnADCYAP1 + cnSERPINA1 + rsAPOB + rsERE...</td>\n",
       "      <td>625.727153</td>\n",
       "      <td>643.067370</td>\n",
       "      <td>0.755774</td>\n",
       "      <td>0.732270</td>\n",
       "      <td>0.580242</td>\n",
       "      <td>0.687943</td>\n",
       "      <td>0.225003</td>\n",
       "      <td>0.216216</td>\n",
       "      <td>add(add(\"rs_SOX2\", add(add(\"cn_SERPINA1\", \"rs_...</td>\n",
       "    </tr>\n",
       "    <tr>\n",
       "      <th>4</th>\n",
       "      <td>logreg(rsFOSB*(cnACSM1*rsAPOB + ppFASN + rsTRP...</td>\n",
       "      <td>618.770019</td>\n",
       "      <td>644.780344</td>\n",
       "      <td>0.742168</td>\n",
       "      <td>0.804965</td>\n",
       "      <td>0.651424</td>\n",
       "      <td>0.780142</td>\n",
       "      <td>0.376497</td>\n",
       "      <td>0.248175</td>\n",
       "      <td>multiply(\"rs_FOSB\", add(multiply(\"cn_ACSM1\", \"...</td>\n",
       "    </tr>\n",
       "  </tbody>\n",
       "</table>\n",
       "</div>"
      ],
      "text/plain": [
       "                                        model_structure         aic  \\\n",
       "fold                                                                  \n",
       "0     logreg(tanh(cnGBP5 + cnMIA + muDNHD1 + rsAPOB*...  599.632874   \n",
       "1     logreg(rsPSCA*(cnMYEOV + rsAPOB*(rsFGFBP1 + rs...  595.664316   \n",
       "2     logreg(rsAPOB*rsHEPACAM2 + tanh(cnKANK4 + rsCA...  601.504160   \n",
       "3     logreg(cnADCYAP1 + cnSERPINA1 + rsAPOB + rsERE...  625.727153   \n",
       "4     logreg(rsFOSB*(cnACSM1*rsAPOB + ppFASN + rsTRP...  618.770019   \n",
       "\n",
       "             bic  roc_auc_train  accuracy_train  roc_auc_val  accuracy_val  \\\n",
       "fold                                                                         \n",
       "0     625.643200       0.729117        0.831560     0.625113      0.765957   \n",
       "1     621.674641       0.790593        0.744681     0.691544      0.695035   \n",
       "2     627.514486       0.807880        0.730496     0.617774      0.666667   \n",
       "3     643.067370       0.755774        0.732270     0.580242      0.687943   \n",
       "4     644.780344       0.742168        0.804965     0.651424      0.780142   \n",
       "\n",
       "        pr_auc        f1                                       query_string  \n",
       "fold                                                                         \n",
       "0     0.258446  0.219178  tanh(add(multiply(\"rs_APOB\", \"rs_ROPN1\"), add(...  \n",
       "1     0.263879  0.243590  multiply(add(\"cn_MYEOV\", multiply(add(\"rs_SLC4...  \n",
       "2     0.334514  0.220779  add(multiply(\"rs_HEPACAM2\", \"rs_APOB\"), tanh(a...  \n",
       "3     0.225003  0.216216  add(add(\"rs_SOX2\", add(add(\"cn_SERPINA1\", \"rs_...  \n",
       "4     0.376497  0.248175  multiply(\"rs_FOSB\", add(multiply(\"cn_ACSM1\", \"...  "
      ]
     },
     "execution_count": 25,
     "metadata": {},
     "output_type": "execute_result"
    }
   ],
   "source": [
    "results10.groupby(\"fold\").first()"
   ]
  },
  {
   "cell_type": "code",
   "execution_count": 26,
   "id": "38d15126-d377-481d-a269-4b5088bd2444",
   "metadata": {},
   "outputs": [
    {
     "name": "stdout",
     "output_type": "stream",
     "text": [
      "logreg(tanh(cnGBP5 + cnMIA + muDNHD1 + rsAPOB*rsROPN1))\n",
      "logreg(rsPSCA*(cnMYEOV + rsAPOB*(rsFGFBP1 + rsSLC44A4)))\n",
      "logreg(rsAPOB*rsHEPACAM2 + tanh(cnKANK4 + rsCAPN8**2))\n",
      "logreg(cnADCYAP1 + cnSERPINA1 + rsAPOB + rsEREG + rsSOX2)\n",
      "logreg(rsFOSB*(cnACSM1*rsAPOB + ppFASN + rsTRPV6))\n"
     ]
    }
   ],
   "source": [
    "for model in results10.groupby(\"fold\").first().model_structure:\n",
    "    print(model)"
   ]
  },
  {
   "cell_type": "code",
   "execution_count": 27,
   "id": "cd73dbef-5a28-44de-9cbf-ab24240be536",
   "metadata": {},
   "outputs": [
    {
     "data": {
      "text/html": [
       "<?xml version=\"1.0\" encoding=\"utf-8\" ?>\n",
       "<svg baseProfile=\"full\" height=\"280.0\" preserveAspectRatio=\"none\" version=\"1.1\" viewBox=\"0 0 591 280.0\" width=\"591\" xmlns=\"http://www.w3.org/2000/svg\" xmlns:ev=\"http://www.w3.org/2001/xml-events\" xmlns:xlink=\"http://www.w3.org/1999/xlink\"><defs /><svg class=\"graph\" height=\"275.0\" width=\"591\" x=\"0\" y=\"0\"><defs /><text fill=\"#1E1E1E\" font-family=\"monospace\" font-size=\"12\" text-anchor=\"middle\" x=\"526.0\" y=\"159.0\">Loss: 5.34E-01</text><text fill=\"#1E1E1E\" font-family=\"monospace\" font-size=\"12\" text-anchor=\"start\" x=\"0\" y=\"265.0\">Epoch no. 20/20 - Tried 16103 models - Completed in 17s.</text><rect class=\"node\" fill=\"#00F082\" height=\"35\" stroke=\"#1E1E1E\" stroke-width=\"1\" width=\"90\" x=\"481\" y=\"110.0\"><title>vital.status\n",
       "logistic:\n",
       "w=1.5707\n",
       "bias=-0.4805</title></rect><text fill=\"#1E1E1E\" font-family=\"monospace\" font-size=\"12\" style=\"pointer-events:none\" text-anchor=\"middle\" x=\"526.0\" y=\"131.5\">vital.st..</text><text fill=\"#1E1E1E\" font-family=\"monospace\" font-size=\"10\" style=\"pointer-events:none\" text-anchor=\"end\" x=\"569\" y=\"119.0\">0</text><text fill=\"#1E1E1E\" font-family=\"monospace\" font-size=\"10\" style=\"pointer-events:none\" text-anchor=\"start\" x=\"483\" y=\"119.0\">out</text><line stroke=\"#1E1E1E\" x1=\"451\" x2=\"481\" y1=\"127.5\" y2=\"127.5\" /><rect class=\"node\" fill=\"#FAFAFA\" height=\"35\" stroke=\"#FF1EC8\" stroke-width=\"1\" width=\"90\" x=\"361\" y=\"110.0\"><title>multiply</title></rect><text fill=\"#1E1E1E\" font-family=\"monospace\" font-size=\"12\" style=\"pointer-events:none\" text-anchor=\"middle\" x=\"406.0\" y=\"131.5\">multiply</text><text fill=\"#1E1E1E\" font-family=\"monospace\" font-size=\"10\" style=\"pointer-events:none\" text-anchor=\"end\" x=\"449\" y=\"119.0\">1</text><line stroke=\"#1E1E1E\" x1=\"331\" x2=\"361\" y1=\"97.5\" y2=\"118.5\" /><line stroke=\"#1E1E1E\" x1=\"331\" x2=\"361\" y1=\"157.5\" y2=\"136.5\" /><rect class=\"node\" fill=\"#00F082\" height=\"35\" stroke=\"#1E1E1E\" stroke-width=\"1\" width=\"90\" x=\"241\" y=\"80.0\"><title>rs_FOSB\n",
       "linear:\n",
       "scale=0.168591\n",
       "scale offset=8.970796\n",
       "w=1.337034\n",
       "bias=0.6146</title></rect><text fill=\"#1E1E1E\" font-family=\"monospace\" font-size=\"12\" style=\"pointer-events:none\" text-anchor=\"middle\" x=\"286.0\" y=\"101.5\">rs_FOSB</text><text fill=\"#1E1E1E\" font-family=\"monospace\" font-size=\"10\" style=\"pointer-events:none\" text-anchor=\"end\" x=\"329\" y=\"89.0\">2</text><text fill=\"#1E1E1E\" font-family=\"monospace\" font-size=\"10\" style=\"pointer-events:none\" text-anchor=\"start\" x=\"243\" y=\"89.0\">num</text><rect class=\"node\" fill=\"#FAFAFA\" height=\"35\" stroke=\"#FF1EC8\" stroke-width=\"1\" width=\"90\" x=\"241\" y=\"140.0\"><title>add</title></rect><text fill=\"#1E1E1E\" font-family=\"monospace\" font-size=\"12\" style=\"pointer-events:none\" text-anchor=\"middle\" x=\"286.0\" y=\"161.5\">add</text><text fill=\"#1E1E1E\" font-family=\"monospace\" font-size=\"10\" style=\"pointer-events:none\" text-anchor=\"end\" x=\"329\" y=\"149.0\">3</text><line stroke=\"#1E1E1E\" x1=\"211\" x2=\"241\" y1=\"97.5\" y2=\"148.5\" /><line stroke=\"#1E1E1E\" x1=\"211\" x2=\"241\" y1=\"157.5\" y2=\"166.5\" /><rect class=\"node\" fill=\"#FAFAFA\" height=\"35\" stroke=\"#FF1EC8\" stroke-width=\"1\" width=\"90\" x=\"121\" y=\"80.0\"><title>multiply</title></rect><text fill=\"#1E1E1E\" font-family=\"monospace\" font-size=\"12\" style=\"pointer-events:none\" text-anchor=\"middle\" x=\"166.0\" y=\"101.5\">multiply</text><text fill=\"#1E1E1E\" font-family=\"monospace\" font-size=\"10\" style=\"pointer-events:none\" text-anchor=\"end\" x=\"209\" y=\"89.0\">4</text><line stroke=\"#1E1E1E\" x1=\"91\" x2=\"121\" y1=\"37.5\" y2=\"88.5\" /><line stroke=\"#1E1E1E\" x1=\"91\" x2=\"121\" y1=\"97.5\" y2=\"106.5\" /><rect class=\"node\" fill=\"#00F082\" height=\"35\" stroke=\"#1E1E1E\" stroke-width=\"1\" width=\"90\" x=\"1\" y=\"20.0\"><title>cn_ACSM1\n",
       "linear:\n",
       "scale=0.666667\n",
       "scale offset=0.491135\n",
       "w=1.344455\n",
       "bias=-1.2990</title></rect><text fill=\"#1E1E1E\" font-family=\"monospace\" font-size=\"12\" style=\"pointer-events:none\" text-anchor=\"middle\" x=\"46.0\" y=\"41.5\">cn_ACSM1</text><text fill=\"#1E1E1E\" font-family=\"monospace\" font-size=\"10\" style=\"pointer-events:none\" text-anchor=\"end\" x=\"89\" y=\"29.0\">5</text><text fill=\"#1E1E1E\" font-family=\"monospace\" font-size=\"10\" style=\"pointer-events:none\" text-anchor=\"start\" x=\"3\" y=\"29.0\">num</text><rect class=\"node\" fill=\"#00F082\" height=\"35\" stroke=\"#1E1E1E\" stroke-width=\"1\" width=\"90\" x=\"1\" y=\"80.0\"><title>rs_APOB\n",
       "linear:\n",
       "scale=0.149502\n",
       "scale offset=2.288630\n",
       "w=-0.683369\n",
       "bias=0.8085</title></rect><text fill=\"#1E1E1E\" font-family=\"monospace\" font-size=\"12\" style=\"pointer-events:none\" text-anchor=\"middle\" x=\"46.0\" y=\"101.5\">rs_APOB</text><text fill=\"#1E1E1E\" font-family=\"monospace\" font-size=\"10\" style=\"pointer-events:none\" text-anchor=\"end\" x=\"89\" y=\"89.0\">6</text><text fill=\"#1E1E1E\" font-family=\"monospace\" font-size=\"10\" style=\"pointer-events:none\" text-anchor=\"start\" x=\"3\" y=\"89.0\">num</text><rect class=\"node\" fill=\"#FAFAFA\" height=\"35\" stroke=\"#FF1EC8\" stroke-width=\"1\" width=\"90\" x=\"121\" y=\"140.0\"><title>add</title></rect><text fill=\"#1E1E1E\" font-family=\"monospace\" font-size=\"12\" style=\"pointer-events:none\" text-anchor=\"middle\" x=\"166.0\" y=\"161.5\">add</text><text fill=\"#1E1E1E\" font-family=\"monospace\" font-size=\"10\" style=\"pointer-events:none\" text-anchor=\"end\" x=\"209\" y=\"149.0\">7</text><line stroke=\"#1E1E1E\" x1=\"91\" x2=\"121\" y1=\"157.5\" y2=\"148.5\" /><line stroke=\"#1E1E1E\" x1=\"91\" x2=\"121\" y1=\"217.5\" y2=\"166.5\" /><rect class=\"node\" fill=\"#00F082\" height=\"35\" stroke=\"#1E1E1E\" stroke-width=\"1\" width=\"90\" x=\"1\" y=\"140.0\"><title>rs_TRPV6\n",
       "linear:\n",
       "scale=0.156198\n",
       "scale offset=6.526143\n",
       "w=1.450798\n",
       "bias=1.6307</title></rect><text fill=\"#1E1E1E\" font-family=\"monospace\" font-size=\"12\" style=\"pointer-events:none\" text-anchor=\"middle\" x=\"46.0\" y=\"161.5\">rs_TRPV6</text><text fill=\"#1E1E1E\" font-family=\"monospace\" font-size=\"10\" style=\"pointer-events:none\" text-anchor=\"end\" x=\"89\" y=\"149.0\">8</text><text fill=\"#1E1E1E\" font-family=\"monospace\" font-size=\"10\" style=\"pointer-events:none\" text-anchor=\"start\" x=\"3\" y=\"149.0\">num</text><rect class=\"node\" fill=\"#00F082\" height=\"35\" stroke=\"#1E1E1E\" stroke-width=\"1\" width=\"90\" x=\"1\" y=\"200.0\"><title>pp_FASN\n",
       "linear:\n",
       "scale=0.330276\n",
       "scale offset=0.129803\n",
       "w=-0.527904\n",
       "bias=-0.7458</title></rect><text fill=\"#1E1E1E\" font-family=\"monospace\" font-size=\"12\" style=\"pointer-events:none\" text-anchor=\"middle\" x=\"46.0\" y=\"221.5\">pp_FASN</text><text fill=\"#1E1E1E\" font-family=\"monospace\" font-size=\"10\" style=\"pointer-events:none\" text-anchor=\"end\" x=\"89\" y=\"209.0\">9</text><text fill=\"#1E1E1E\" font-family=\"monospace\" font-size=\"10\" style=\"pointer-events:none\" text-anchor=\"start\" x=\"3\" y=\"209.0\">num</text></svg></svg>"
      ],
      "text/plain": [
       "<IPython.core.display.HTML object>"
      ]
     },
     "metadata": {},
     "output_type": "display_data"
    }
   ],
   "source": [
    "best_models_qstr_res10 = results10.groupby(\"fold\").first()['query_string'].values\n",
    "\n",
    "models_default = []\n",
    "\n",
    "for i, (train, val) in enumerate(zip(train_list, val_list)):        \n",
    "        sample_weights = np.where(train[target] == 1,\n",
    "                                      np.sum(train[target] == 0) / sum(train[target]), 1)\n",
    "        \n",
    "        ql.reset(random_state)\n",
    "        models = ql.auto_run(train, output_name=target, n_epochs=20, kind = \"classification\",\n",
    "                             query_string=best_models_qstr_res10[i], sample_weights=sample_weights, stypes=stypes)\n",
    "        models_default.append(models[0])"
   ]
  },
  {
   "cell_type": "code",
   "execution_count": 28,
   "id": "965e36e3",
   "metadata": {},
   "outputs": [
    {
     "data": {
      "image/png": "[encoded data removed]",
      "text/plain": [
       "<Figure size 360x360 with 1 Axes>"
      ]
     },
     "metadata": {},
     "output_type": "display_data"
    }
   ],
   "source": [
    "models_default[0].plot_roc_curve(train_list[0], label='train', figsize=(5,5))\n",
    "models_default[0].plot_roc_curve(val_list[0], label='test', ax=plt.gca(), figsize=(5,5))\n",
    "plt.savefig('../figures/bc_mc10_roc_auc'+'.pdf', dpi=300, bbox_inches='tight')"
   ]
  },
  {
   "cell_type": "code",
   "execution_count": 29,
   "id": "bb79de88",
   "metadata": {},
   "outputs": [
    {
     "data": {
      "image/png": "[encoded data removed]",
      "text/plain": [
       "<Figure size 432x288 with 2 Axes>"
      ]
     },
     "metadata": {},
     "output_type": "display_data"
    },
    {
     "data": {
      "image/png": "[encoded data removed]",
      "text/plain": [
       "<Figure size 432x288 with 2 Axes>"
      ]
     },
     "metadata": {},
     "output_type": "display_data"
    }
   ],
   "source": [
    "models_trained[0].plot_confusion_matrix(train_list[0], filename = '../figures/bc_mc10_confusion_train.pdf')\n",
    "models_trained[0].plot_confusion_matrix(val_list[0], filename='../figures/bc_mc10_confusion_test.pdf')"
   ]
  },
  {
   "cell_type": "markdown",
   "id": "1e97afa5-7305-4e9b-9d1e-303620be3888",
   "metadata": {
    "tags": []
   },
   "source": [
    "## Benchmarks "
   ]
  },
  {
   "cell_type": "markdown",
   "id": "59ef9cc4-0e39-422e-a62b-4ae7191a6568",
   "metadata": {},
   "source": [
    "### LASSO"
   ]
  },
  {
   "cell_type": "code",
   "execution_count": 30,
   "id": "0dca33fb-e55c-4b33-9d81-328813e0f83a",
   "metadata": {
    "jupyter": {
     "outputs_hidden": true
    },
    "tags": []
   },
   "outputs": [],
   "source": [
    "results_lasso = lasso_benchmark(data, target, num_experiments=1, n_jobs=50)"
   ]
  },
  {
   "cell_type": "code",
   "execution_count": 31,
   "id": "e67975ba-1b28-4ab8-8610-63c3b7a59556",
   "metadata": {},
   "outputs": [
    {
     "data": {
      "text/plain": [
       "array([0.4936766 , 0.5608283 , 0.62942192, 0.4866264 , 0.67083693])"
      ]
     },
     "execution_count": 31,
     "metadata": {},
     "output_type": "execute_result"
    }
   ],
   "source": [
    "results_lasso"
   ]
  },
  {
   "cell_type": "code",
   "execution_count": 32,
   "id": "3afdda45-91fb-4714-8a93-ce88638f80d2",
   "metadata": {},
   "outputs": [
    {
     "data": {
      "text/plain": [
       "0.5682780299186369"
      ]
     },
     "execution_count": 32,
     "metadata": {},
     "output_type": "execute_result"
    }
   ],
   "source": [
    "np.mean(results_lasso)"
   ]
  },
  {
   "cell_type": "markdown",
   "id": "2574f17c-52a2-4f6a-b31a-f975350c0e82",
   "metadata": {},
   "source": [
    "### Random forest"
   ]
  },
  {
   "cell_type": "markdown",
   "id": "6efeadbd",
   "metadata": {},
   "source": [
    "#### No feature selection"
   ]
  },
  {
   "cell_type": "code",
   "execution_count": 33,
   "id": "e2704758-de94-4d8e-87b9-75112f06f2c9",
   "metadata": {
    "jupyter": {
     "outputs_hidden": true
    },
    "scrolled": false,
    "tags": []
   },
   "outputs": [],
   "source": [
    "results_rf = random_forest_benchmark(data, target, n_jobs=50)"
   ]
  },
  {
   "cell_type": "code",
   "execution_count": 34,
   "id": "e95ea399-7679-420d-a9ae-fa194a1a0588",
   "metadata": {},
   "outputs": [
    {
     "data": {
      "text/plain": [
       "array([0.58175248, 0.61820535, 0.65358067, 0.57808456, 0.58930112])"
      ]
     },
     "execution_count": 34,
     "metadata": {},
     "output_type": "execute_result"
    }
   ],
   "source": [
    "results_rf"
   ]
  },
  {
   "cell_type": "code",
   "execution_count": 35,
   "id": "cba6a07a-6a58-4c16-a2cf-6f6ad30ec68a",
   "metadata": {},
   "outputs": [
    {
     "data": {
      "text/plain": [
       "0.6041848367865329"
      ]
     },
     "execution_count": 35,
     "metadata": {},
     "output_type": "execute_result"
    }
   ],
   "source": [
    "results_rf.mean()"
   ]
  },
  {
   "cell_type": "markdown",
   "id": "4f2117fc",
   "metadata": {},
   "source": [
    "#### Feature selection by mutual information (top 10)"
   ]
  },
  {
   "cell_type": "code",
   "execution_count": 36,
   "id": "f671348a",
   "metadata": {},
   "outputs": [],
   "source": [
    "results_rf_mi = random_forest_benchmark(data, target, feat_selection='mi', n_jobs=50)"
   ]
  },
  {
   "cell_type": "code",
   "execution_count": 37,
   "id": "d75c82f0",
   "metadata": {},
   "outputs": [
    {
     "data": {
      "text/plain": [
       "array([0.62240289, 0.60094909, 0.67083693, 0.64301122, 0.60483175])"
      ]
     },
     "execution_count": 37,
     "metadata": {},
     "output_type": "execute_result"
    }
   ],
   "source": [
    "results_rf_mi"
   ]
  },
  {
   "cell_type": "code",
   "execution_count": 38,
   "id": "abf1e792",
   "metadata": {},
   "outputs": [
    {
     "data": {
      "text/plain": [
       "0.6284063762409267"
      ]
     },
     "execution_count": 38,
     "metadata": {},
     "output_type": "execute_result"
    }
   ],
   "source": [
    "results_rf_mi.mean()"
   ]
  },
  {
   "cell_type": "markdown",
   "id": "1ccd71ff",
   "metadata": {},
   "source": [
    "#### Feature selection by mutual information (top 5)"
   ]
  },
  {
   "cell_type": "code",
   "execution_count": 39,
   "id": "3100237e",
   "metadata": {},
   "outputs": [],
   "source": [
    "results_rf_mi_top5 = random_forest_benchmark(data, target, feat_selection='mi', n_jobs=50, k=5)"
   ]
  },
  {
   "cell_type": "code",
   "execution_count": 40,
   "id": "15de69af",
   "metadata": {},
   "outputs": [
    {
     "data": {
      "text/plain": [
       "array([0.5532972 , 0.5742019 , 0.62489215, 0.63718723, 0.5811044 ])"
      ]
     },
     "execution_count": 40,
     "metadata": {},
     "output_type": "execute_result"
    }
   ],
   "source": [
    "results_rf_mi_top5"
   ]
  },
  {
   "cell_type": "code",
   "execution_count": 41,
   "id": "e3c5f45d",
   "metadata": {},
   "outputs": [
    {
     "data": {
      "text/plain": [
       "0.5941365753893374"
      ]
     },
     "execution_count": 41,
     "metadata": {},
     "output_type": "execute_result"
    }
   ],
   "source": [
    "results_rf_mi_top5.mean()"
   ]
  },
  {
   "cell_type": "markdown",
   "id": "7c0977f5",
   "metadata": {},
   "source": [
    "#### Feature selection by f_score (top 10)"
   ]
  },
  {
   "cell_type": "code",
   "execution_count": 42,
   "id": "b2ef8315",
   "metadata": {},
   "outputs": [],
   "source": [
    "results_rf_f = random_forest_benchmark(data, target, feat_selection='f_score', n_jobs=50)"
   ]
  },
  {
   "cell_type": "code",
   "execution_count": 43,
   "id": "e0434575",
   "metadata": {},
   "outputs": [
    {
     "data": {
      "text/plain": [
       "array([0.55826558, 0.55349439, 0.54918033, 0.49223469, 0.63589301])"
      ]
     },
     "execution_count": 43,
     "metadata": {},
     "output_type": "execute_result"
    }
   ],
   "source": [
    "results_rf_f"
   ]
  },
  {
   "cell_type": "code",
   "execution_count": 44,
   "id": "47dfe082",
   "metadata": {},
   "outputs": [
    {
     "data": {
      "text/plain": [
       "0.5578135997063163"
      ]
     },
     "execution_count": 44,
     "metadata": {},
     "output_type": "execute_result"
    }
   ],
   "source": [
    "results_rf_f.mean()"
   ]
  },
  {
   "cell_type": "markdown",
   "id": "b1009c33",
   "metadata": {},
   "source": [
    "#### Feature selection by f_score (top 5)"
   ]
  },
  {
   "cell_type": "code",
   "execution_count": 45,
   "id": "82c55cf5",
   "metadata": {},
   "outputs": [],
   "source": [
    "results_rf_f_top5 = random_forest_benchmark(data, target, feat_selection='f_score', n_jobs=50, k=5)"
   ]
  },
  {
   "cell_type": "code",
   "execution_count": 46,
   "id": "258544d4",
   "metadata": {},
   "outputs": [
    {
     "data": {
      "text/plain": [
       "array([0.51174345, 0.59555651, 0.57851596, 0.46850733, 0.55176877])"
      ]
     },
     "execution_count": 46,
     "metadata": {},
     "output_type": "execute_result"
    }
   ],
   "source": [
    "results_rf_f_top5"
   ]
  },
  {
   "cell_type": "code",
   "execution_count": 47,
   "id": "467a4582",
   "metadata": {},
   "outputs": [
    {
     "data": {
      "text/plain": [
       "0.5412184054253542"
      ]
     },
     "execution_count": 47,
     "metadata": {},
     "output_type": "execute_result"
    }
   ],
   "source": [
    "results_rf_f_top5.mean()"
   ]
  },
  {
   "cell_type": "markdown",
   "id": "d411ac1b",
   "metadata": {},
   "source": [
    "#### Feature selection by lasso"
   ]
  },
  {
   "cell_type": "code",
   "execution_count": 48,
   "id": "14d6d803",
   "metadata": {},
   "outputs": [],
   "source": [
    "results_rf_l = random_forest_benchmark(data, target, feat_selection='lasso', n_jobs=50)"
   ]
  },
  {
   "cell_type": "code",
   "execution_count": 49,
   "id": "259b2f5e",
   "metadata": {},
   "outputs": [
    {
     "data": {
      "text/plain": [
       "array([0.56187895, 0.68075928, 0.71484038, 0.49482312, 0.56902502])"
      ]
     },
     "execution_count": 49,
     "metadata": {},
     "output_type": "execute_result"
    }
   ],
   "source": [
    "results_rf_l"
   ]
  },
  {
   "cell_type": "code",
   "execution_count": 50,
   "id": "c82894d6",
   "metadata": {},
   "outputs": [
    {
     "data": {
      "text/plain": [
       "0.6042653503900584"
      ]
     },
     "execution_count": 50,
     "metadata": {},
     "output_type": "execute_result"
    }
   ],
   "source": [
    "results_rf_l.mean()"
   ]
  },
  {
   "cell_type": "markdown",
   "id": "648c69a0-97e2-4677-baca-de6923ccffa2",
   "metadata": {},
   "source": [
    "### Gradient Boosting"
   ]
  },
  {
   "cell_type": "markdown",
   "id": "c1fe3af1",
   "metadata": {},
   "source": [
    "#### No feature selection"
   ]
  },
  {
   "cell_type": "code",
   "execution_count": 51,
   "id": "33829473-2341-4e3e-bd2d-d7c668865385",
   "metadata": {
    "jupyter": {
     "outputs_hidden": true
    },
    "tags": []
   },
   "outputs": [],
   "source": [
    "results_gb = gradient_boosting_benchmark(data, target)"
   ]
  },
  {
   "cell_type": "code",
   "execution_count": 52,
   "id": "22ae69ec",
   "metadata": {},
   "outputs": [
    {
     "data": {
      "text/plain": [
       "array([0.5171635 , 0.70880069, 0.62122519, 0.45987921, 0.54184642])"
      ]
     },
     "execution_count": 52,
     "metadata": {},
     "output_type": "execute_result"
    }
   ],
   "source": [
    "results_gb"
   ]
  },
  {
   "cell_type": "code",
   "execution_count": 53,
   "id": "912b48de",
   "metadata": {},
   "outputs": [
    {
     "data": {
      "text/plain": [
       "0.5697830029781461"
      ]
     },
     "execution_count": 53,
     "metadata": {},
     "output_type": "execute_result"
    }
   ],
   "source": [
    "results_gb.mean()"
   ]
  },
  {
   "cell_type": "markdown",
   "id": "8ad1bfb7",
   "metadata": {},
   "source": [
    "#### Feature selection by mutual information top 10"
   ]
  },
  {
   "cell_type": "code",
   "execution_count": 54,
   "id": "f6aee122",
   "metadata": {},
   "outputs": [],
   "source": [
    "results_gb_mi = gradient_boosting_benchmark(data, target, feat_selection='mi', n_jobs=50)"
   ]
  },
  {
   "cell_type": "code",
   "execution_count": 55,
   "id": "e2ea71b9",
   "metadata": {},
   "outputs": [
    {
     "data": {
      "text/plain": [
       "array([0.51851852, 0.62251941, 0.65875755, 0.67903365, 0.62467645])"
      ]
     },
     "execution_count": 55,
     "metadata": {},
     "output_type": "execute_result"
    }
   ],
   "source": [
    "results_gb_mi"
   ]
  },
  {
   "cell_type": "code",
   "execution_count": 56,
   "id": "ec0747db",
   "metadata": {},
   "outputs": [
    {
     "data": {
      "text/plain": [
       "0.6207011152653947"
      ]
     },
     "execution_count": 56,
     "metadata": {},
     "output_type": "execute_result"
    }
   ],
   "source": [
    "results_gb_mi.mean()"
   ]
  },
  {
   "cell_type": "markdown",
   "id": "3d6ff078",
   "metadata": {},
   "source": [
    "#### Feature selection by mutual information top 5"
   ]
  },
  {
   "cell_type": "code",
   "execution_count": 57,
   "id": "1c3856cf",
   "metadata": {},
   "outputs": [],
   "source": [
    "results_gb_mi_top5 = gradient_boosting_benchmark(data, target, feat_selection='mi', n_jobs=50, k=5)"
   ]
  },
  {
   "cell_type": "code",
   "execution_count": 58,
   "id": "8d74a1de",
   "metadata": {},
   "outputs": [
    {
     "data": {
      "text/plain": [
       "array([0.54968383, 0.61302847, 0.6015962 , 0.65789474, 0.53235548])"
      ]
     },
     "execution_count": 58,
     "metadata": {},
     "output_type": "execute_result"
    }
   ],
   "source": [
    "results_gb_mi_top5"
   ]
  },
  {
   "cell_type": "code",
   "execution_count": 59,
   "id": "0db8298b",
   "metadata": {},
   "outputs": [
    {
     "data": {
      "text/plain": [
       "0.5909117444640077"
      ]
     },
     "execution_count": 59,
     "metadata": {},
     "output_type": "execute_result"
    }
   ],
   "source": [
    "results_gb_mi_top5.mean()"
   ]
  },
  {
   "cell_type": "markdown",
   "id": "db5dd139",
   "metadata": {},
   "source": [
    "#### Feature selection by f_score top 10"
   ]
  },
  {
   "cell_type": "code",
   "execution_count": 60,
   "id": "01d04d05",
   "metadata": {},
   "outputs": [],
   "source": [
    "results_gb_f = gradient_boosting_benchmark(data, target, feat_selection='f_score', n_jobs=50)"
   ]
  },
  {
   "cell_type": "code",
   "execution_count": 61,
   "id": "6ed30cbc",
   "metadata": {},
   "outputs": [
    {
     "data": {
      "text/plain": [
       "array([0.45889792, 0.57981018, 0.60224331, 0.43787748, 0.62661777])"
      ]
     },
     "execution_count": 61,
     "metadata": {},
     "output_type": "execute_result"
    }
   ],
   "source": [
    "results_gb_f"
   ]
  },
  {
   "cell_type": "code",
   "execution_count": 62,
   "id": "9ab727aa",
   "metadata": {},
   "outputs": [
    {
     "data": {
      "text/plain": [
       "0.541089334246808"
      ]
     },
     "execution_count": 62,
     "metadata": {},
     "output_type": "execute_result"
    }
   ],
   "source": [
    "results_gb_f.mean()"
   ]
  },
  {
   "cell_type": "markdown",
   "id": "f4b8bd40",
   "metadata": {},
   "source": [
    "#### Feature selection by f_score top 5"
   ]
  },
  {
   "cell_type": "code",
   "execution_count": 63,
   "id": "c2a12d74",
   "metadata": {},
   "outputs": [],
   "source": [
    "results_gb_f_top5 = gradient_boosting_benchmark(data, target, feat_selection='f_score', n_jobs=50, k=5)"
   ]
  },
  {
   "cell_type": "code",
   "execution_count": 64,
   "id": "55f2ff2f",
   "metadata": {},
   "outputs": [
    {
     "data": {
      "text/plain": [
       "array([0.50022584, 0.71872304, 0.68636756, 0.45858499, 0.5877912 ])"
      ]
     },
     "execution_count": 64,
     "metadata": {},
     "output_type": "execute_result"
    }
   ],
   "source": [
    "results_gb_f_top5"
   ]
  },
  {
   "cell_type": "code",
   "execution_count": 65,
   "id": "415c3b31",
   "metadata": {},
   "outputs": [
    {
     "data": {
      "text/plain": [
       "0.541089334246808"
      ]
     },
     "execution_count": 65,
     "metadata": {},
     "output_type": "execute_result"
    }
   ],
   "source": [
    "results_gb_f.mean()"
   ]
  },
  {
   "cell_type": "markdown",
   "id": "686b7310",
   "metadata": {},
   "source": [
    "#### Feature selection by lasso"
   ]
  },
  {
   "cell_type": "code",
   "execution_count": 66,
   "id": "5ed85fe3",
   "metadata": {},
   "outputs": [],
   "source": [
    "results_gb_l = gradient_boosting_benchmark(data, target, feat_selection='lasso', n_jobs=50)"
   ]
  },
  {
   "cell_type": "code",
   "execution_count": 67,
   "id": "84a4eb29",
   "metadata": {},
   "outputs": [
    {
     "data": {
      "text/plain": [
       "array([0.60275519, 0.66048318, 0.62036238, 0.52415876, 0.56298533])"
      ]
     },
     "execution_count": 67,
     "metadata": {},
     "output_type": "execute_result"
    }
   ],
   "source": [
    "results_gb_l"
   ]
  },
  {
   "cell_type": "code",
   "execution_count": 68,
   "id": "3a191612",
   "metadata": {},
   "outputs": [
    {
     "data": {
      "text/plain": [
       "0.5941489680930746"
      ]
     },
     "execution_count": 68,
     "metadata": {},
     "output_type": "execute_result"
    }
   ],
   "source": [
    "results_gb_l.mean()"
   ]
  },
  {
   "cell_type": "markdown",
   "id": "5f980027-7c6f-40b3-b040-f66d3ebcdde3",
   "metadata": {},
   "source": [
    "### Elastic net"
   ]
  },
  {
   "cell_type": "code",
   "execution_count": 69,
   "id": "341d542d-ab02-42cd-b7da-985e7aca5a75",
   "metadata": {
    "jupyter": {
     "outputs_hidden": true
    },
    "scrolled": true,
    "tags": []
   },
   "outputs": [
    {
     "name": "stderr",
     "output_type": "stream",
     "text": [
      "/home/jupyter-miquel.iglesias/.local/lib/python3.7/site-packages/sklearn/linear_model/_sag.py:354: ConvergenceWarning: The max_iter was reached which means the coef_ did not converge\n",
      "  ConvergenceWarning,\n",
      "/home/jupyter-miquel.iglesias/.local/lib/python3.7/site-packages/sklearn/linear_model/_sag.py:354: ConvergenceWarning: The max_iter was reached which means the coef_ did not converge\n",
      "  ConvergenceWarning,\n",
      "/home/jupyter-miquel.iglesias/.local/lib/python3.7/site-packages/sklearn/linear_model/_sag.py:354: ConvergenceWarning: The max_iter was reached which means the coef_ did not converge\n",
      "  ConvergenceWarning,\n"
     ]
    }
   ],
   "source": [
    "results_en = elasticnet_benchmark(data, target, num_experiments=1)"
   ]
  },
  {
   "cell_type": "code",
   "execution_count": 70,
   "id": "7c4b526b-e816-4df8-a791-2e08f7e0d050",
   "metadata": {},
   "outputs": [
    {
     "data": {
      "text/plain": [
       "array([0.55600723, 0.5880069 , 0.64322692, 0.60008628, 0.66695427])"
      ]
     },
     "execution_count": 70,
     "metadata": {},
     "output_type": "execute_result"
    }
   ],
   "source": [
    "results_en"
   ]
  },
  {
   "cell_type": "code",
   "execution_count": 71,
   "id": "08e8782c",
   "metadata": {},
   "outputs": [
    {
     "data": {
      "text/plain": [
       "0.6108563202399353"
      ]
     },
     "execution_count": 71,
     "metadata": {},
     "output_type": "execute_result"
    }
   ],
   "source": [
    "np.mean(results_en)"
   ]
  },
  {
   "cell_type": "markdown",
   "id": "b8ba9c4a",
   "metadata": {},
   "source": [
    "## Summary table"
   ]
  },
  {
   "cell_type": "code",
   "execution_count": 78,
   "id": "e8047151",
   "metadata": {},
   "outputs": [
    {
     "data": {
      "text/html": [
       "<div>\n",
       "<style scoped>\n",
       "    .dataframe tbody tr th:only-of-type {\n",
       "        vertical-align: middle;\n",
       "    }\n",
       "\n",
       "    .dataframe tbody tr th {\n",
       "        vertical-align: top;\n",
       "    }\n",
       "\n",
       "    .dataframe thead th {\n",
       "        text-align: right;\n",
       "    }\n",
       "</style>\n",
       "<table border=\"1\" class=\"dataframe\">\n",
       "  <thead>\n",
       "    <tr style=\"text-align: right;\">\n",
       "      <th></th>\n",
       "      <th>All features</th>\n",
       "      <th>MI top 10</th>\n",
       "      <th>F top 10</th>\n",
       "      <th>MI top 5</th>\n",
       "      <th>F top 5</th>\n",
       "      <th>LASSO Features</th>\n",
       "    </tr>\n",
       "  </thead>\n",
       "  <tbody>\n",
       "    <tr>\n",
       "      <th>QLattice</th>\n",
       "      <td>0.633</td>\n",
       "      <td>-</td>\n",
       "      <td>-</td>\n",
       "      <td>-</td>\n",
       "      <td>-</td>\n",
       "      <td>-</td>\n",
       "    </tr>\n",
       "    <tr>\n",
       "      <th>LASSO</th>\n",
       "      <td>0.568</td>\n",
       "      <td>-</td>\n",
       "      <td>-</td>\n",
       "      <td>-</td>\n",
       "      <td>-</td>\n",
       "      <td>-</td>\n",
       "    </tr>\n",
       "    <tr>\n",
       "      <th>Elasticnet</th>\n",
       "      <td>0.611</td>\n",
       "      <td>-</td>\n",
       "      <td>-</td>\n",
       "      <td>-</td>\n",
       "      <td>-</td>\n",
       "      <td>-</td>\n",
       "    </tr>\n",
       "    <tr>\n",
       "      <th>Random Forest</th>\n",
       "      <td>0.604</td>\n",
       "      <td>0.628</td>\n",
       "      <td>0.558</td>\n",
       "      <td>0.594</td>\n",
       "      <td>0.541</td>\n",
       "      <td>0.604</td>\n",
       "    </tr>\n",
       "    <tr>\n",
       "      <th>Gradient Boosting</th>\n",
       "      <td>0.570</td>\n",
       "      <td>0.621</td>\n",
       "      <td>0.541</td>\n",
       "      <td>0.591</td>\n",
       "      <td>0.59</td>\n",
       "      <td>0.594</td>\n",
       "    </tr>\n",
       "  </tbody>\n",
       "</table>\n",
       "</div>"
      ],
      "text/plain": [
       "                   All features MI top 10 F top 10 MI top 5 F top 5  \\\n",
       "QLattice                  0.633         -        -        -       -   \n",
       "LASSO                     0.568         -        -        -       -   \n",
       "Elasticnet                0.611         -        -        -       -   \n",
       "Random Forest             0.604     0.628    0.558    0.594   0.541   \n",
       "Gradient Boosting         0.570     0.621    0.541    0.591    0.59   \n",
       "\n",
       "                  LASSO Features  \n",
       "QLattice                       -  \n",
       "LASSO                          -  \n",
       "Elasticnet                     -  \n",
       "Random Forest              0.604  \n",
       "Gradient Boosting          0.594  "
      ]
     },
     "execution_count": 78,
     "metadata": {},
     "output_type": "execute_result"
    }
   ],
   "source": [
    "data = [[results10.groupby(\"fold\").first().roc_auc_val.mean(), None, None, None, None, None],\n",
    "        [np.mean(results_lasso), None, None, None, None, None],\n",
    "        [np.mean(results_en), None, None, None, None, None],\n",
    "        [np.mean(results_rf), np.mean(results_rf_mi), np.mean(results_rf_f), \n",
    "         np.mean(results_rf_mi_top5),np.mean(results_rf_f_top5), np.mean(results_rf_l)],\n",
    "        [np.mean(results_gb), np.mean(results_gb_mi), np.mean(results_gb_f),\n",
    "         np.mean(results_gb_mi_top5), np.mean(results_gb_f_top5), np.mean(results_gb_l)]\n",
    "       ]\n",
    "df_bench = pd.DataFrame(data=data,\n",
    "             index=[\"QLattice\", \"LASSO\", \"Elasticnet\", \"Random Forest\", \"Gradient Boosting\"],\n",
    "             columns=[\"All features\", \"MI top 10\", \"F top 10\", \n",
    "                      \"MI top 5\", \"F top 5\", \"LASSO Features\"])\n",
    "df_bench.round(3).replace(np.nan, \"-\")"
   ]
  },
  {
   "cell_type": "code",
   "execution_count": 79,
   "id": "49ec1dd1",
   "metadata": {},
   "outputs": [
    {
     "name": "stdout",
     "output_type": "stream",
     "text": [
      "\\begin{tabular}{lrlllll}\n",
      "\\toprule\n",
      "{} &  All features & MI top 10 & F top 10 & MI top 5 & F top 5 & LASSO Features \\\\\n",
      "\\midrule\n",
      "QLattice          &         0.633 &         - &        - &        - &       - &              - \\\\\n",
      "LASSO             &         0.568 &         - &        - &        - &       - &              - \\\\\n",
      "Elasticnet        &         0.611 &         - &        - &        - &       - &              - \\\\\n",
      "Random Forest     &         0.604 &     0.628 &    0.558 &    0.594 &   0.541 &          0.604 \\\\\n",
      "Gradient Boosting &         0.570 &     0.621 &    0.541 &    0.591 &    0.59 &          0.594 \\\\\n",
      "\\bottomrule\n",
      "\\end{tabular}\n",
      "\n"
     ]
    }
   ],
   "source": [
    "print(df_bench.round(3).replace(np.nan, \"-\").to_latex())"
   ]
  },
  {
   "cell_type": "code",
   "execution_count": null,
   "id": "2c2f4b03",
   "metadata": {},
   "outputs": [],
   "source": []
  }
 ],
 "metadata": {
  "kernelspec": {
   "display_name": "Python 3 (ipykernel)",
   "language": "python",
   "name": "python3"
  },
  "language_info": {
   "codemirror_mode": {
    "name": "ipython",
    "version": 3
   },
   "file_extension": ".py",
   "mimetype": "text/x-python",
   "name": "python",
   "nbconvert_exporter": "python",
   "pygments_lexer": "ipython3",
   "version": "3.7.3"
  }
 },
 "nbformat": 4,
 "nbformat_minor": 5
}
