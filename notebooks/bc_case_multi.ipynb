{
 "cells": [
  {
   "cell_type": "markdown",
   "id": "7730b462-03f1-4437-befc-6f4c0e11e4d7",
   "metadata": {},
   "source": [
    "# Breast cancer case"
   ]
  },
  {
   "cell_type": "code",
   "execution_count": 1,
   "id": "607e7e2b-2e70-4a79-b576-77cdd8420634",
   "metadata": {},
   "outputs": [],
   "source": [
    "import numpy as np\n",
    "import pandas as pd\n",
    "import feyn\n",
    "\n",
    "from sklearn.model_selection import train_test_split, StratifiedKFold, GridSearchCV\n",
    "from sklearn.ensemble import RandomForestClassifier\n",
    "from sklearn.metrics import roc_auc_score\n",
    "from scipy.stats import pearsonr\n",
    "\n",
    "import matplotlib.pyplot as plt\n",
    "\n",
    "from functions import crossvalidation_as_framework, random_forest_benchmark, lasso_benchmark, gradient_boosting_benchmark, elasticnet_benchmark\n",
    "from seaborn import clustermap"
   ]
  },
  {
   "cell_type": "markdown",
   "id": "99fca13a-6158-4eac-9989-3d58639bf1ef",
   "metadata": {},
   "source": [
    "### Load and prep data"
   ]
  },
  {
   "cell_type": "code",
   "execution_count": 60,
   "id": "1ad0af3c-9d80-43f4-8dd9-b0b68b877335",
   "metadata": {},
   "outputs": [],
   "source": [
    "data = pd.read_csv('../data/brca_data_w_meta.csv')"
   ]
  },
  {
   "cell_type": "code",
   "execution_count": 61,
   "id": "783c94b1-7203-44b4-bae0-9fdf94075abe",
   "metadata": {},
   "outputs": [],
   "source": [
    "# Define the target variable\n",
    "target = \"vital.status\""
   ]
  },
  {
   "cell_type": "code",
   "execution_count": 62,
   "id": "6004ae75-1811-48bf-b296-6efe15bea772",
   "metadata": {},
   "outputs": [],
   "source": [
    "stypes = {}\n",
    "for f in data.columns:\n",
    "    if data[f].dtype == 'object':\n",
    "        stypes[f] = 'c'"
   ]
  },
  {
   "cell_type": "code",
   "execution_count": 64,
   "id": "1ac0ff64",
   "metadata": {},
   "outputs": [
    {
     "data": {
      "text/plain": [
       "0    611\n",
       "1     94\n",
       "Name: vital.status, dtype: int64"
      ]
     },
     "execution_count": 64,
     "metadata": {},
     "output_type": "execute_result"
    }
   ],
   "source": [
    "data[target].value_counts()"
   ]
  },
  {
   "cell_type": "markdown",
   "id": "7958b336-1579-4ca2-8085-e6792761d87c",
   "metadata": {},
   "source": [
    "### 2 feature models"
   ]
  },
  {
   "cell_type": "code",
   "execution_count": 5,
   "id": "757b363c-6020-4d46-b8b1-76cea0403c48",
   "metadata": {
    "tags": []
   },
   "outputs": [
    {
     "data": {
      "text/html": [
       "<?xml version=\"1.0\" encoding=\"utf-8\" ?>\n",
       "<svg baseProfile=\"full\" height=\"160.0\" preserveAspectRatio=\"none\" version=\"1.1\" viewBox=\"0 0 423 160.0\" width=\"423\" xmlns=\"http://www.w3.org/2000/svg\" xmlns:ev=\"http://www.w3.org/2001/xml-events\" xmlns:xlink=\"http://www.w3.org/1999/xlink\"><defs /><svg class=\"graph\" height=\"155.0\" width=\"423\" x=\"0\" y=\"0\"><defs /><text fill=\"#1E1E1E\" font-family=\"monospace\" font-size=\"12\" text-anchor=\"middle\" x=\"286.0\" y=\"99.0\">Loss: 5.88E-01</text><text fill=\"#1E1E1E\" font-family=\"monospace\" font-size=\"12\" text-anchor=\"start\" x=\"0\" y=\"145.0\">Epoch no. 50/50 - Tried 33517 models - Completed in 56s.</text><rect class=\"node\" fill=\"#00F082\" height=\"35\" stroke=\"#1E1E1E\" stroke-width=\"1\" width=\"90\" x=\"241\" y=\"50.0\"><title>vital.status\n",
       "logistic:\n",
       "w=-1.3316\n",
       "bias=-0.4592</title></rect><text fill=\"#1E1E1E\" font-family=\"monospace\" font-size=\"12\" style=\"pointer-events:none\" text-anchor=\"middle\" x=\"286.0\" y=\"71.5\">vital.st..</text><text fill=\"#1E1E1E\" font-family=\"monospace\" font-size=\"10\" style=\"pointer-events:none\" text-anchor=\"end\" x=\"329\" y=\"59.0\">0</text><text fill=\"#1E1E1E\" font-family=\"monospace\" font-size=\"10\" style=\"pointer-events:none\" text-anchor=\"start\" x=\"243\" y=\"59.0\">out</text><line stroke=\"#1E1E1E\" x1=\"211\" x2=\"241\" y1=\"67.5\" y2=\"67.5\" /><rect class=\"node\" fill=\"#FAFAFA\" height=\"35\" stroke=\"#FF1EC8\" stroke-width=\"1\" width=\"90\" x=\"121\" y=\"50.0\"><title>multiply</title></rect><text fill=\"#1E1E1E\" font-family=\"monospace\" font-size=\"12\" style=\"pointer-events:none\" text-anchor=\"middle\" x=\"166.0\" y=\"71.5\">multiply</text><text fill=\"#1E1E1E\" font-family=\"monospace\" font-size=\"10\" style=\"pointer-events:none\" text-anchor=\"end\" x=\"209\" y=\"59.0\">1</text><line stroke=\"#1E1E1E\" x1=\"91\" x2=\"121\" y1=\"37.5\" y2=\"58.5\" /><line stroke=\"#1E1E1E\" x1=\"91\" x2=\"121\" y1=\"97.5\" y2=\"76.5\" /><rect class=\"node\" fill=\"#00F082\" height=\"35\" stroke=\"#1E1E1E\" stroke-width=\"1\" width=\"90\" x=\"1\" y=\"20.0\"><title>rs_HEPACAM2\n",
       "linear:\n",
       "scale=0.168265\n",
       "scale offset=4.078492\n",
       "w=-2.156052\n",
       "bias=-0.3047</title></rect><text fill=\"#1E1E1E\" font-family=\"monospace\" font-size=\"12\" style=\"pointer-events:none\" text-anchor=\"middle\" x=\"46.0\" y=\"41.5\">rs_HEPAC..</text><text fill=\"#1E1E1E\" font-family=\"monospace\" font-size=\"10\" style=\"pointer-events:none\" text-anchor=\"end\" x=\"89\" y=\"29.0\">2</text><text fill=\"#1E1E1E\" font-family=\"monospace\" font-size=\"10\" style=\"pointer-events:none\" text-anchor=\"start\" x=\"3\" y=\"29.0\">num</text><rect class=\"node\" fill=\"#00F082\" height=\"35\" stroke=\"#1E1E1E\" stroke-width=\"1\" width=\"90\" x=\"1\" y=\"80.0\"><title>rs_ACVR1C\n",
       "linear:\n",
       "scale=0.150590\n",
       "scale offset=4.993037\n",
       "w=1.845047\n",
       "bias=-0.0285</title></rect><text fill=\"#1E1E1E\" font-family=\"monospace\" font-size=\"12\" style=\"pointer-events:none\" text-anchor=\"middle\" x=\"46.0\" y=\"101.5\">rs_ACVR1C</text><text fill=\"#1E1E1E\" font-family=\"monospace\" font-size=\"10\" style=\"pointer-events:none\" text-anchor=\"end\" x=\"89\" y=\"89.0\">3</text><text fill=\"#1E1E1E\" font-family=\"monospace\" font-size=\"10\" style=\"pointer-events:none\" text-anchor=\"start\" x=\"3\" y=\"89.0\">num</text></svg></svg>"
      ],
      "text/plain": [
       "<IPython.core.display.HTML object>"
      ]
     },
     "metadata": {},
     "output_type": "display_data"
    }
   ],
   "source": [
    "results = crossvalidation_as_framework(data,\n",
    "                                     target,\n",
    "                                     kind = \"classification\",\n",
    "                                     stypes = stypes,\n",
    "                                     n_epochs = 50,\n",
    "                                     criterion='bic',\n",
    "                                     max_complexity = 3)"
   ]
  },
  {
   "cell_type": "code",
   "execution_count": 6,
   "id": "b0858a88-70e0-4198-9e48-5d71c0c86f63",
   "metadata": {},
   "outputs": [
    {
     "data": {
      "text/plain": [
       "(0.6353392366250381, 0.07016753199242944)"
      ]
     },
     "execution_count": 6,
     "metadata": {},
     "output_type": "execute_result"
    }
   ],
   "source": [
    "results.groupby(\"fold\").first().roc_auc_val.mean(), results.groupby(\"fold\").first().roc_auc_val.std()"
   ]
  },
  {
   "cell_type": "code",
   "execution_count": 7,
   "id": "e7b44101-3724-458c-81df-065bb2e26fc5",
   "metadata": {},
   "outputs": [
    {
     "data": {
      "text/plain": [
       "(0.6828421683420055, 0.043134490520034326)"
      ]
     },
     "execution_count": 7,
     "metadata": {},
     "output_type": "execute_result"
    }
   ],
   "source": [
    "results.groupby(\"fold\").first().roc_auc_train.mean(), results.groupby(\"fold\").first().roc_auc_train.std()"
   ]
  },
  {
   "cell_type": "code",
   "execution_count": 8,
   "id": "9ae29432-bd39-4874-bba4-4004b9fa4505",
   "metadata": {},
   "outputs": [
    {
     "data": {
      "text/html": [
       "<div>\n",
       "<style scoped>\n",
       "    .dataframe tbody tr th:only-of-type {\n",
       "        vertical-align: middle;\n",
       "    }\n",
       "\n",
       "    .dataframe tbody tr th {\n",
       "        vertical-align: top;\n",
       "    }\n",
       "\n",
       "    .dataframe thead th {\n",
       "        text-align: right;\n",
       "    }\n",
       "</style>\n",
       "<table border=\"1\" class=\"dataframe\">\n",
       "  <thead>\n",
       "    <tr style=\"text-align: right;\">\n",
       "      <th></th>\n",
       "      <th>model_structure</th>\n",
       "      <th>aic</th>\n",
       "      <th>bic</th>\n",
       "      <th>roc_auc_train</th>\n",
       "      <th>accuracy_train</th>\n",
       "      <th>roc_auc_val</th>\n",
       "      <th>accuracy_val</th>\n",
       "      <th>pr_auc</th>\n",
       "      <th>f1</th>\n",
       "      <th>query_string</th>\n",
       "    </tr>\n",
       "    <tr>\n",
       "      <th>fold</th>\n",
       "      <th></th>\n",
       "      <th></th>\n",
       "      <th></th>\n",
       "      <th></th>\n",
       "      <th></th>\n",
       "      <th></th>\n",
       "      <th></th>\n",
       "      <th></th>\n",
       "      <th></th>\n",
       "      <th></th>\n",
       "    </tr>\n",
       "  </thead>\n",
       "  <tbody>\n",
       "    <tr>\n",
       "      <th>0</th>\n",
       "      <td>logreg(rsCHST9*rsPCK1)</td>\n",
       "      <td>647.344838</td>\n",
       "      <td>656.014947</td>\n",
       "      <td>0.665417</td>\n",
       "      <td>0.757092</td>\n",
       "      <td>0.659440</td>\n",
       "      <td>0.730496</td>\n",
       "      <td>0.346362</td>\n",
       "      <td>0.235294</td>\n",
       "      <td>multiply(\"rs_PCK1\", \"rs_CHST9\")</td>\n",
       "    </tr>\n",
       "    <tr>\n",
       "      <th>1</th>\n",
       "      <td>logreg(rsAPOB*rsGPM6A)</td>\n",
       "      <td>634.402481</td>\n",
       "      <td>643.072589</td>\n",
       "      <td>0.722427</td>\n",
       "      <td>0.773050</td>\n",
       "      <td>0.588870</td>\n",
       "      <td>0.737589</td>\n",
       "      <td>0.209888</td>\n",
       "      <td>0.232258</td>\n",
       "      <td>multiply(\"rs_GPM6A\", \"rs_APOB\")</td>\n",
       "    </tr>\n",
       "    <tr>\n",
       "      <th>2</th>\n",
       "      <td>logreg(exp(-rsLOC283392**2 - rsOXTR**2))</td>\n",
       "      <td>635.943571</td>\n",
       "      <td>653.283788</td>\n",
       "      <td>0.665003</td>\n",
       "      <td>0.868794</td>\n",
       "      <td>0.537964</td>\n",
       "      <td>0.836879</td>\n",
       "      <td>0.226175</td>\n",
       "      <td>0.236842</td>\n",
       "      <td>gaussian(\"rs_LOC283392\", \"rs_OXTR\")</td>\n",
       "    </tr>\n",
       "    <tr>\n",
       "      <th>3</th>\n",
       "      <td>logreg(exp(-rsMRAP**2 - rsOXTR**2))</td>\n",
       "      <td>660.672829</td>\n",
       "      <td>678.013046</td>\n",
       "      <td>0.629475</td>\n",
       "      <td>0.858156</td>\n",
       "      <td>0.682916</td>\n",
       "      <td>0.879433</td>\n",
       "      <td>0.437718</td>\n",
       "      <td>0.246753</td>\n",
       "      <td>gaussian(\"rs_OXTR\", \"rs_MRAP\")</td>\n",
       "    </tr>\n",
       "    <tr>\n",
       "      <th>4</th>\n",
       "      <td>logreg(rsACVR1C*rsHEPACAM2)</td>\n",
       "      <td>667.311813</td>\n",
       "      <td>675.981921</td>\n",
       "      <td>0.731888</td>\n",
       "      <td>0.755319</td>\n",
       "      <td>0.707506</td>\n",
       "      <td>0.758865</td>\n",
       "      <td>0.457274</td>\n",
       "      <td>0.236842</td>\n",
       "      <td>multiply(\"rs_HEPACAM2\", \"rs_ACVR1C\")</td>\n",
       "    </tr>\n",
       "  </tbody>\n",
       "</table>\n",
       "</div>"
      ],
      "text/plain": [
       "                               model_structure         aic         bic  \\\n",
       "fold                                                                     \n",
       "0                       logreg(rsCHST9*rsPCK1)  647.344838  656.014947   \n",
       "1                       logreg(rsAPOB*rsGPM6A)  634.402481  643.072589   \n",
       "2     logreg(exp(-rsLOC283392**2 - rsOXTR**2))  635.943571  653.283788   \n",
       "3          logreg(exp(-rsMRAP**2 - rsOXTR**2))  660.672829  678.013046   \n",
       "4                  logreg(rsACVR1C*rsHEPACAM2)  667.311813  675.981921   \n",
       "\n",
       "      roc_auc_train  accuracy_train  roc_auc_val  accuracy_val    pr_auc  \\\n",
       "fold                                                                       \n",
       "0          0.665417        0.757092     0.659440      0.730496  0.346362   \n",
       "1          0.722427        0.773050     0.588870      0.737589  0.209888   \n",
       "2          0.665003        0.868794     0.537964      0.836879  0.226175   \n",
       "3          0.629475        0.858156     0.682916      0.879433  0.437718   \n",
       "4          0.731888        0.755319     0.707506      0.758865  0.457274   \n",
       "\n",
       "            f1                          query_string  \n",
       "fold                                                  \n",
       "0     0.235294       multiply(\"rs_PCK1\", \"rs_CHST9\")  \n",
       "1     0.232258       multiply(\"rs_GPM6A\", \"rs_APOB\")  \n",
       "2     0.236842   gaussian(\"rs_LOC283392\", \"rs_OXTR\")  \n",
       "3     0.246753        gaussian(\"rs_OXTR\", \"rs_MRAP\")  \n",
       "4     0.236842  multiply(\"rs_HEPACAM2\", \"rs_ACVR1C\")  "
      ]
     },
     "execution_count": 8,
     "metadata": {},
     "output_type": "execute_result"
    }
   ],
   "source": [
    "results.groupby(\"fold\").first()"
   ]
  },
  {
   "cell_type": "code",
   "execution_count": 9,
   "id": "9419040d-643c-475f-8aaf-7d3d2ae3b567",
   "metadata": {},
   "outputs": [
    {
     "name": "stdout",
     "output_type": "stream",
     "text": [
      "logreg(rsCHST9*rsPCK1)\n",
      "logreg(rsAPOB*rsGPM6A)\n",
      "logreg(exp(-rsLOC283392**2 - rsOXTR**2))\n",
      "logreg(exp(-rsMRAP**2 - rsOXTR**2))\n",
      "logreg(rsACVR1C*rsHEPACAM2)\n"
     ]
    }
   ],
   "source": [
    "for model in results.groupby(\"fold\").first()['model_structure']:\n",
    "    print(model)"
   ]
  },
  {
   "cell_type": "markdown",
   "id": "81eac408-1f10-4984-bdf9-8c43fd793e4c",
   "metadata": {
    "tags": []
   },
   "source": [
    "#### Exploration of best models"
   ]
  },
  {
   "cell_type": "code",
   "execution_count": 10,
   "id": "0d518fb1-d6be-4b87-bdec-51984f116176",
   "metadata": {},
   "outputs": [
    {
     "name": "stdout",
     "output_type": "stream",
     "text": [
      "A new community QLattice has been allocated for you. This temporary QLattice is available for personal/non-commercial use. By using this community QLattice you agree to the terms and conditions which can be found at `https://abzu.ai/privacy`.\n"
     ]
    }
   ],
   "source": [
    "ql = feyn.connect_qlattice()"
   ]
  },
  {
   "cell_type": "code",
   "execution_count": 11,
   "id": "6f88719d-a951-4480-867f-8207d794a846",
   "metadata": {},
   "outputs": [
    {
     "data": {
      "text/html": [
       "<?xml version=\"1.0\" encoding=\"utf-8\" ?>\n",
       "<svg baseProfile=\"full\" height=\"160.0\" preserveAspectRatio=\"none\" version=\"1.1\" viewBox=\"0 0 423 160.0\" width=\"423\" xmlns=\"http://www.w3.org/2000/svg\" xmlns:ev=\"http://www.w3.org/2001/xml-events\" xmlns:xlink=\"http://www.w3.org/1999/xlink\"><defs /><svg class=\"graph\" height=\"155.0\" width=\"423\" x=\"0\" y=\"0\"><defs /><text fill=\"#1E1E1E\" font-family=\"monospace\" font-size=\"12\" text-anchor=\"middle\" x=\"286.0\" y=\"99.0\">Loss: 5.72E-01</text><text fill=\"#1E1E1E\" font-family=\"monospace\" font-size=\"12\" text-anchor=\"start\" x=\"0\" y=\"145.0\">Epoch no. 20/20 - Tried 16103 models - Completed in 21s.</text><rect class=\"node\" fill=\"#00F082\" height=\"35\" stroke=\"#1E1E1E\" stroke-width=\"1\" width=\"90\" x=\"241\" y=\"50.0\"><title>vital.status\n",
       "logistic:\n",
       "w=-2.0974\n",
       "bias=-0.4096</title></rect><text fill=\"#1E1E1E\" font-family=\"monospace\" font-size=\"12\" style=\"pointer-events:none\" text-anchor=\"middle\" x=\"286.0\" y=\"71.5\">vital.st..</text><text fill=\"#1E1E1E\" font-family=\"monospace\" font-size=\"10\" style=\"pointer-events:none\" text-anchor=\"end\" x=\"329\" y=\"59.0\">0</text><text fill=\"#1E1E1E\" font-family=\"monospace\" font-size=\"10\" style=\"pointer-events:none\" text-anchor=\"start\" x=\"243\" y=\"59.0\">out</text><line stroke=\"#1E1E1E\" x1=\"211\" x2=\"241\" y1=\"67.5\" y2=\"67.5\" /><rect class=\"node\" fill=\"#FAFAFA\" height=\"35\" stroke=\"#FF1EC8\" stroke-width=\"1\" width=\"90\" x=\"121\" y=\"50.0\"><title>multiply</title></rect><text fill=\"#1E1E1E\" font-family=\"monospace\" font-size=\"12\" style=\"pointer-events:none\" text-anchor=\"middle\" x=\"166.0\" y=\"71.5\">multiply</text><text fill=\"#1E1E1E\" font-family=\"monospace\" font-size=\"10\" style=\"pointer-events:none\" text-anchor=\"end\" x=\"209\" y=\"59.0\">1</text><line stroke=\"#1E1E1E\" x1=\"91\" x2=\"121\" y1=\"37.5\" y2=\"58.5\" /><line stroke=\"#1E1E1E\" x1=\"91\" x2=\"121\" y1=\"97.5\" y2=\"76.5\" /><rect class=\"node\" fill=\"#00F082\" height=\"35\" stroke=\"#1E1E1E\" stroke-width=\"1\" width=\"90\" x=\"1\" y=\"20.0\"><title>rs_HEPACAM2\n",
       "linear:\n",
       "scale=0.168265\n",
       "scale offset=4.078492\n",
       "w=1.524743\n",
       "bias=0.2023</title></rect><text fill=\"#1E1E1E\" font-family=\"monospace\" font-size=\"12\" style=\"pointer-events:none\" text-anchor=\"middle\" x=\"46.0\" y=\"41.5\">rs_HEPAC..</text><text fill=\"#1E1E1E\" font-family=\"monospace\" font-size=\"10\" style=\"pointer-events:none\" text-anchor=\"end\" x=\"89\" y=\"29.0\">2</text><text fill=\"#1E1E1E\" font-family=\"monospace\" font-size=\"10\" style=\"pointer-events:none\" text-anchor=\"start\" x=\"3\" y=\"29.0\">num</text><rect class=\"node\" fill=\"#00F082\" height=\"35\" stroke=\"#1E1E1E\" stroke-width=\"1\" width=\"90\" x=\"1\" y=\"80.0\"><title>rs_ACVR1C\n",
       "linear:\n",
       "scale=0.150590\n",
       "scale offset=4.993037\n",
       "w=-1.639396\n",
       "bias=-0.0807</title></rect><text fill=\"#1E1E1E\" font-family=\"monospace\" font-size=\"12\" style=\"pointer-events:none\" text-anchor=\"middle\" x=\"46.0\" y=\"101.5\">rs_ACVR1C</text><text fill=\"#1E1E1E\" font-family=\"monospace\" font-size=\"10\" style=\"pointer-events:none\" text-anchor=\"end\" x=\"89\" y=\"89.0\">3</text><text fill=\"#1E1E1E\" font-family=\"monospace\" font-size=\"10\" style=\"pointer-events:none\" text-anchor=\"start\" x=\"3\" y=\"89.0\">num</text></svg></svg>"
      ],
      "text/plain": [
       "<IPython.core.display.HTML object>"
      ]
     },
     "metadata": {},
     "output_type": "display_data"
    }
   ],
   "source": [
    "best_models_qstrings = results.groupby(\"fold\").first()['query_string'].values\n",
    "\n",
    "n_folds = 5\n",
    "random_state = 42\n",
    "models_trained = []\n",
    "train_list = []\n",
    "val_list = []\n",
    "\n",
    "kfold_test = StratifiedKFold(n_folds, shuffle=True, random_state=random_state)\n",
    "for i, (train, val) in enumerate(kfold_test.split(data, data[target])):\n",
    "        train, val = data.iloc[train], data.iloc[val]\n",
    "        train_list.append(train)\n",
    "        val_list.append(val)\n",
    "        \n",
    "        sample_weights = np.where(train[target] == 1,\n",
    "                                      np.sum(train[target] == 0) / sum(train[target]), 1)\n",
    "        \n",
    "        ql.reset(random_state)\n",
    "        model = ql.auto_run(train, output_name=target, n_epochs=20, kind = \"classification\",\n",
    "                             query_string=best_models_qstrings[i], sample_weights=sample_weights, stypes=stypes)[0]\n",
    "        models_trained.append(model)"
   ]
  },
  {
   "cell_type": "markdown",
   "id": "7c88e7f8-5ca8-4c2a-865b-99b2c0ecf43d",
   "metadata": {
    "jp-MarkdownHeadingCollapsed": true,
    "tags": []
   },
   "source": [
    "**List of inputs**"
   ]
  },
  {
   "cell_type": "code",
   "execution_count": 12,
   "id": "aa26adaa-83d5-40ce-89a6-a8725c5857a8",
   "metadata": {},
   "outputs": [],
   "source": [
    "inputs_list = []\n",
    "for m in models_trained:\n",
    "    for i in m.inputs:\n",
    "        inputs_list.append(i)\n",
    "        \n",
    "inputs_list = list(set(inputs_list))"
   ]
  },
  {
   "cell_type": "markdown",
   "id": "4156a111-fb5f-449b-b796-3d2545f20624",
   "metadata": {},
   "source": [
    "##### **Clustermap**"
   ]
  },
  {
   "cell_type": "code",
   "execution_count": 13,
   "id": "7c6bb893-fcf5-49d1-8d49-000844d6b226",
   "metadata": {},
   "outputs": [],
   "source": [
    "corr_inputs = data[inputs_list].corr()"
   ]
  },
  {
   "cell_type": "code",
   "execution_count": 14,
   "id": "b824f86e-4934-4174-8c42-79dc15293399",
   "metadata": {},
   "outputs": [
    {
     "data": {
      "image/png": "[encoded data removed]",
      "text/plain": [
       "<Figure size 432x432 with 4 Axes>"
      ]
     },
     "metadata": {},
     "output_type": "display_data"
    }
   ],
   "source": [
    "cluster_map_args = {'cmap': 'feyn-diverging', 'vmin': 0, 'vmax': 1}\n",
    "\n",
    "clustermap(abs(corr_inputs), **cluster_map_args, figsize=(6, 6))\n",
    "plt.savefig('../figures/bc_multi_clustermap.pdf', dpi=300, bbox_inches='tight')"
   ]
  },
  {
   "cell_type": "code",
   "execution_count": 65,
   "id": "db78be76-64f7-48a7-a563-dff4fe6ab903",
   "metadata": {},
   "outputs": [
    {
     "data": {
      "text/plain": [
       "rs_APOB         1.000000\n",
       "rs_LOC283392    0.835160\n",
       "rs_ACVR1C       0.822627\n",
       "rs_MRAP         0.780383\n",
       "rs_PCK1         0.773892\n",
       "rs_OXTR         0.466882\n",
       "rs_GPM6A        0.372880\n",
       "rs_CHST9        0.349093\n",
       "rs_HEPACAM2     0.182369\n",
       "Name: rs_APOB, dtype: float64"
      ]
     },
     "execution_count": 65,
     "metadata": {},
     "output_type": "execute_result"
    }
   ],
   "source": [
    "data[inputs_list].corr()['rs_APOB'].sort_values(ascending=False)"
   ]
  },
  {
   "cell_type": "markdown",
   "id": "ac506dce-819e-4791-88c6-57ea8c2c3740",
   "metadata": {},
   "source": [
    "Pairwise Pearson correlation within the main group in the heatmap above varies from ~0.77 to ~0.84"
   ]
  },
  {
   "cell_type": "markdown",
   "id": "167ff8fb-8e09-4c75-894d-3fd5ae5ca704",
   "metadata": {
    "tags": []
   },
   "source": [
    "##### **Pearson correlation with output `vital.status`**"
   ]
  },
  {
   "cell_type": "code",
   "execution_count": null,
   "id": "e0d8fc93",
   "metadata": {},
   "outputs": [],
   "source": [
    "scipy.stats.pearsonr(x, y)"
   ]
  },
  {
   "cell_type": "code",
   "execution_count": 66,
   "id": "5977e4c0-c31f-4060-b1b4-679cf3dbd1d4",
   "metadata": {
    "tags": []
   },
   "outputs": [
    {
     "data": {
      "text/html": [
       "<div>\n",
       "<style scoped>\n",
       "    .dataframe tbody tr th:only-of-type {\n",
       "        vertical-align: middle;\n",
       "    }\n",
       "\n",
       "    .dataframe tbody tr th {\n",
       "        vertical-align: top;\n",
       "    }\n",
       "\n",
       "    .dataframe thead th {\n",
       "        text-align: right;\n",
       "    }\n",
       "</style>\n",
       "<table border=\"1\" class=\"dataframe\">\n",
       "  <thead>\n",
       "    <tr style=\"text-align: right;\">\n",
       "      <th></th>\n",
       "      <th>Pearson corr.</th>\n",
       "    </tr>\n",
       "  </thead>\n",
       "  <tbody>\n",
       "    <tr>\n",
       "      <th>rs_APOB</th>\n",
       "      <td>0.270</td>\n",
       "    </tr>\n",
       "    <tr>\n",
       "      <th>rs_LOC283392</th>\n",
       "      <td>0.230</td>\n",
       "    </tr>\n",
       "    <tr>\n",
       "      <th>rs_PCK1</th>\n",
       "      <td>0.225</td>\n",
       "    </tr>\n",
       "    <tr>\n",
       "      <th>rs_MRAP</th>\n",
       "      <td>0.214</td>\n",
       "    </tr>\n",
       "    <tr>\n",
       "      <th>rs_ACVR1C</th>\n",
       "      <td>0.206</td>\n",
       "    </tr>\n",
       "    <tr>\n",
       "      <th>rs_OXTR</th>\n",
       "      <td>0.194</td>\n",
       "    </tr>\n",
       "    <tr>\n",
       "      <th>rs_CHST9</th>\n",
       "      <td>0.139</td>\n",
       "    </tr>\n",
       "    <tr>\n",
       "      <th>rs_GPM6A</th>\n",
       "      <td>0.116</td>\n",
       "    </tr>\n",
       "    <tr>\n",
       "      <th>rs_HEPACAM2</th>\n",
       "      <td>0.051</td>\n",
       "    </tr>\n",
       "  </tbody>\n",
       "</table>\n",
       "</div>"
      ],
      "text/plain": [
       "              Pearson corr.\n",
       "rs_APOB               0.270\n",
       "rs_LOC283392          0.230\n",
       "rs_PCK1               0.225\n",
       "rs_MRAP               0.214\n",
       "rs_ACVR1C             0.206\n",
       "rs_OXTR               0.194\n",
       "rs_CHST9              0.139\n",
       "rs_GPM6A              0.116\n",
       "rs_HEPACAM2           0.051"
      ]
     },
     "execution_count": 66,
     "metadata": {},
     "output_type": "execute_result"
    }
   ],
   "source": [
    "pd.DataFrame(data[inputs_list].corrwith(data[target]).abs().round(3).sort_values(ascending=False), columns=['Pearson corr.'])"
   ]
  },
  {
   "cell_type": "code",
   "execution_count": 68,
   "id": "b6c50a73",
   "metadata": {},
   "outputs": [
    {
     "name": "stdout",
     "output_type": "stream",
     "text": [
      "\\begin{tabular}{lr}\n",
      "\\toprule\n",
      "{} &  Pearson corr. \\\\\n",
      "\\midrule\n",
      "rs\\_APOB      &          0.270 \\\\\n",
      "rs\\_LOC283392 &          0.230 \\\\\n",
      "rs\\_PCK1      &          0.225 \\\\\n",
      "rs\\_MRAP      &          0.214 \\\\\n",
      "rs\\_ACVR1C    &          0.206 \\\\\n",
      "rs\\_OXTR      &          0.194 \\\\\n",
      "rs\\_CHST9     &          0.139 \\\\\n",
      "rs\\_GPM6A     &          0.116 \\\\\n",
      "rs\\_HEPACAM2  &          0.051 \\\\\n",
      "\\bottomrule\n",
      "\\end{tabular}\n",
      "\n"
     ]
    }
   ],
   "source": [
    "print(pd.DataFrame(data[inputs_list].corrwith(data[target]).abs().round(3).sort_values(ascending=False), columns=['Pearson corr.']).to_latex())"
   ]
  },
  {
   "cell_type": "markdown",
   "id": "17ade0c9-71ca-47a2-af0b-ba23537aaf07",
   "metadata": {},
   "source": [
    "##### **Model response (3 examples)**"
   ]
  },
  {
   "cell_type": "code",
   "execution_count": 17,
   "id": "76a64b8c-d64f-4584-8590-1454471d89b0",
   "metadata": {},
   "outputs": [
    {
     "data": {
      "image/png": "[encoded data removed]",
      "text/plain": [
       "<Figure size 1224x360 with 4 Axes>"
      ]
     },
     "metadata": {},
     "output_type": "display_data"
    }
   ],
   "source": [
    "me0, me1, me2 = [1, 2, 3]  # 3 models chosen to be plotted\n",
    "\n",
    "titles = [\n",
    "    r'$\\mathrm{rs\\_GPM6A} \\times \\mathrm{rs\\_APOB}$',\n",
    "    r'$\\exp(-\\mathrm{rs\\_LOC283392}^2 - \\mathrm{rs\\_OXTR}^2)$',\n",
    "    r'$\\exp(-\\mathrm{rs\\_OXTR}^2 - \\mathrm{rs\\_MRAP}^2)$'\n",
    "]\n",
    "\n",
    "fig, axs = plt.subplots(1, 3, figsize=(17, 5))\n",
    "\n",
    "for i, m in enumerate([models_trained[me0], models_trained[me1], models_trained[me2]]):\n",
    "    m.plot_response_2d(data, ax=axs[i])\n",
    "    axs[i].set_title(titles[i])\n",
    "\n",
    "img = axs[i].get_images()[0]\n",
    "cax = fig.add_axes([0.92, 0.13, 0.025, 0.75])\n",
    "fig.colorbar(img, cax=cax)\n",
    "plt.savefig('../figures/bc_multi_2features_models_response2d.pdf', dpi=300, bbox_inches='tight')\n",
    "plt.show()"
   ]
  },
  {
   "cell_type": "markdown",
   "id": "b9eb8e4f-a2fa-4aa8-a0c1-e355c30b5728",
   "metadata": {
    "tags": []
   },
   "source": [
    "### Larger models"
   ]
  },
  {
   "cell_type": "markdown",
   "id": "b86c75a6-1ed8-4fbb-98c0-bc0dafb469e6",
   "metadata": {},
   "source": [
    "#### Default: `max_complexity = 10`"
   ]
  },
  {
   "cell_type": "code",
   "execution_count": 18,
   "id": "99e2febc-26bd-401d-b8e6-c5f5aed02796",
   "metadata": {},
   "outputs": [
    {
     "data": {
      "text/html": [
       "<?xml version=\"1.0\" encoding=\"utf-8\" ?>\n",
       "<svg baseProfile=\"full\" height=\"280.0\" preserveAspectRatio=\"none\" version=\"1.1\" viewBox=\"0 0 591 280.0\" width=\"591\" xmlns=\"http://www.w3.org/2000/svg\" xmlns:ev=\"http://www.w3.org/2001/xml-events\" xmlns:xlink=\"http://www.w3.org/1999/xlink\"><defs /><svg class=\"graph\" height=\"275.0\" width=\"591\" x=\"0\" y=\"0\"><defs /><text fill=\"#1E1E1E\" font-family=\"monospace\" font-size=\"12\" text-anchor=\"middle\" x=\"526.0\" y=\"159.0\">Loss: 5.38E-01</text><text fill=\"#1E1E1E\" font-family=\"monospace\" font-size=\"12\" text-anchor=\"start\" x=\"0\" y=\"265.0\">Epoch no. 100/100 - Tried 110919 models - Completed in 2m 27s.</text><rect class=\"node\" fill=\"#00F082\" height=\"35\" stroke=\"#1E1E1E\" stroke-width=\"1\" width=\"90\" x=\"481\" y=\"110.0\"><title>vital.status\n",
       "logistic:\n",
       "w=-1.0520\n",
       "bias=-0.4296</title></rect><text fill=\"#1E1E1E\" font-family=\"monospace\" font-size=\"12\" style=\"pointer-events:none\" text-anchor=\"middle\" x=\"526.0\" y=\"131.5\">vital.st..</text><text fill=\"#1E1E1E\" font-family=\"monospace\" font-size=\"10\" style=\"pointer-events:none\" text-anchor=\"end\" x=\"569\" y=\"119.0\">0</text><text fill=\"#1E1E1E\" font-family=\"monospace\" font-size=\"10\" style=\"pointer-events:none\" text-anchor=\"start\" x=\"483\" y=\"119.0\">out</text><line stroke=\"#1E1E1E\" x1=\"451\" x2=\"481\" y1=\"127.5\" y2=\"127.5\" /><rect class=\"node\" fill=\"#FAFAFA\" height=\"35\" stroke=\"#FF1EC8\" stroke-width=\"1\" width=\"90\" x=\"361\" y=\"110.0\"><title>multiply</title></rect><text fill=\"#1E1E1E\" font-family=\"monospace\" font-size=\"12\" style=\"pointer-events:none\" text-anchor=\"middle\" x=\"406.0\" y=\"131.5\">multiply</text><text fill=\"#1E1E1E\" font-family=\"monospace\" font-size=\"10\" style=\"pointer-events:none\" text-anchor=\"end\" x=\"449\" y=\"119.0\">1</text><line stroke=\"#1E1E1E\" x1=\"331\" x2=\"361\" y1=\"97.5\" y2=\"118.5\" /><line stroke=\"#1E1E1E\" x1=\"331\" x2=\"361\" y1=\"157.5\" y2=\"136.5\" /><rect class=\"node\" fill=\"#00F082\" height=\"35\" stroke=\"#1E1E1E\" stroke-width=\"1\" width=\"90\" x=\"241\" y=\"80.0\"><title>rs_FOSB\n",
       "linear:\n",
       "scale=0.168591\n",
       "scale offset=8.970796\n",
       "w=3.248729\n",
       "bias=1.5250</title></rect><text fill=\"#1E1E1E\" font-family=\"monospace\" font-size=\"12\" style=\"pointer-events:none\" text-anchor=\"middle\" x=\"286.0\" y=\"101.5\">rs_FOSB</text><text fill=\"#1E1E1E\" font-family=\"monospace\" font-size=\"10\" style=\"pointer-events:none\" text-anchor=\"end\" x=\"329\" y=\"89.0\">2</text><text fill=\"#1E1E1E\" font-family=\"monospace\" font-size=\"10\" style=\"pointer-events:none\" text-anchor=\"start\" x=\"243\" y=\"89.0\">num</text><rect class=\"node\" fill=\"#FAFAFA\" height=\"35\" stroke=\"#FF1EC8\" stroke-width=\"1\" width=\"90\" x=\"241\" y=\"140.0\"><title>add</title></rect><text fill=\"#1E1E1E\" font-family=\"monospace\" font-size=\"12\" style=\"pointer-events:none\" text-anchor=\"middle\" x=\"286.0\" y=\"161.5\">add</text><text fill=\"#1E1E1E\" font-family=\"monospace\" font-size=\"10\" style=\"pointer-events:none\" text-anchor=\"end\" x=\"329\" y=\"149.0\">3</text><line stroke=\"#1E1E1E\" x1=\"211\" x2=\"241\" y1=\"97.5\" y2=\"148.5\" /><line stroke=\"#1E1E1E\" x1=\"211\" x2=\"241\" y1=\"157.5\" y2=\"166.5\" /><rect class=\"node\" fill=\"#FAFAFA\" height=\"35\" stroke=\"#FF1EC8\" stroke-width=\"1\" width=\"90\" x=\"121\" y=\"80.0\"><title>multiply</title></rect><text fill=\"#1E1E1E\" font-family=\"monospace\" font-size=\"12\" style=\"pointer-events:none\" text-anchor=\"middle\" x=\"166.0\" y=\"101.5\">multiply</text><text fill=\"#1E1E1E\" font-family=\"monospace\" font-size=\"10\" style=\"pointer-events:none\" text-anchor=\"end\" x=\"209\" y=\"89.0\">4</text><line stroke=\"#1E1E1E\" x1=\"91\" x2=\"121\" y1=\"37.5\" y2=\"88.5\" /><line stroke=\"#1E1E1E\" x1=\"91\" x2=\"121\" y1=\"97.5\" y2=\"106.5\" /><rect class=\"node\" fill=\"#00F082\" height=\"35\" stroke=\"#1E1E1E\" stroke-width=\"1\" width=\"90\" x=\"1\" y=\"20.0\"><title>cn_ACSM1\n",
       "linear:\n",
       "scale=0.666667\n",
       "scale offset=0.491135\n",
       "w=0.456979\n",
       "bias=-0.7514</title></rect><text fill=\"#1E1E1E\" font-family=\"monospace\" font-size=\"12\" style=\"pointer-events:none\" text-anchor=\"middle\" x=\"46.0\" y=\"41.5\">cn_ACSM1</text><text fill=\"#1E1E1E\" font-family=\"monospace\" font-size=\"10\" style=\"pointer-events:none\" text-anchor=\"end\" x=\"89\" y=\"29.0\">5</text><text fill=\"#1E1E1E\" font-family=\"monospace\" font-size=\"10\" style=\"pointer-events:none\" text-anchor=\"start\" x=\"3\" y=\"29.0\">num</text><rect class=\"node\" fill=\"#00F082\" height=\"35\" stroke=\"#1E1E1E\" stroke-width=\"1\" width=\"90\" x=\"1\" y=\"80.0\"><title>rs_APOB\n",
       "linear:\n",
       "scale=0.149502\n",
       "scale offset=2.288630\n",
       "w=0.803881\n",
       "bias=-1.3534</title></rect><text fill=\"#1E1E1E\" font-family=\"monospace\" font-size=\"12\" style=\"pointer-events:none\" text-anchor=\"middle\" x=\"46.0\" y=\"101.5\">rs_APOB</text><text fill=\"#1E1E1E\" font-family=\"monospace\" font-size=\"10\" style=\"pointer-events:none\" text-anchor=\"end\" x=\"89\" y=\"89.0\">6</text><text fill=\"#1E1E1E\" font-family=\"monospace\" font-size=\"10\" style=\"pointer-events:none\" text-anchor=\"start\" x=\"3\" y=\"89.0\">num</text><rect class=\"node\" fill=\"#FAFAFA\" height=\"35\" stroke=\"#FF1EC8\" stroke-width=\"1\" width=\"90\" x=\"121\" y=\"140.0\"><title>add</title></rect><text fill=\"#1E1E1E\" font-family=\"monospace\" font-size=\"12\" style=\"pointer-events:none\" text-anchor=\"middle\" x=\"166.0\" y=\"161.5\">add</text><text fill=\"#1E1E1E\" font-family=\"monospace\" font-size=\"10\" style=\"pointer-events:none\" text-anchor=\"end\" x=\"209\" y=\"149.0\">7</text><line stroke=\"#1E1E1E\" x1=\"91\" x2=\"121\" y1=\"157.5\" y2=\"148.5\" /><line stroke=\"#1E1E1E\" x1=\"91\" x2=\"121\" y1=\"217.5\" y2=\"166.5\" /><rect class=\"node\" fill=\"#00F082\" height=\"35\" stroke=\"#1E1E1E\" stroke-width=\"1\" width=\"90\" x=\"1\" y=\"140.0\"><title>rs_TRPV6\n",
       "linear:\n",
       "scale=0.156198\n",
       "scale offset=6.526143\n",
       "w=-0.888465\n",
       "bias=0.3246</title></rect><text fill=\"#1E1E1E\" font-family=\"monospace\" font-size=\"12\" style=\"pointer-events:none\" text-anchor=\"middle\" x=\"46.0\" y=\"161.5\">rs_TRPV6</text><text fill=\"#1E1E1E\" font-family=\"monospace\" font-size=\"10\" style=\"pointer-events:none\" text-anchor=\"end\" x=\"89\" y=\"149.0\">8</text><text fill=\"#1E1E1E\" font-family=\"monospace\" font-size=\"10\" style=\"pointer-events:none\" text-anchor=\"start\" x=\"3\" y=\"149.0\">num</text><rect class=\"node\" fill=\"#00F082\" height=\"35\" stroke=\"#1E1E1E\" stroke-width=\"1\" width=\"90\" x=\"1\" y=\"200.0\"><title>pp_FASN\n",
       "linear:\n",
       "scale=0.330276\n",
       "scale offset=0.129803\n",
       "w=0.346065\n",
       "bias=-1.2319</title></rect><text fill=\"#1E1E1E\" font-family=\"monospace\" font-size=\"12\" style=\"pointer-events:none\" text-anchor=\"middle\" x=\"46.0\" y=\"221.5\">pp_FASN</text><text fill=\"#1E1E1E\" font-family=\"monospace\" font-size=\"10\" style=\"pointer-events:none\" text-anchor=\"end\" x=\"89\" y=\"209.0\">9</text><text fill=\"#1E1E1E\" font-family=\"monospace\" font-size=\"10\" style=\"pointer-events:none\" text-anchor=\"start\" x=\"3\" y=\"209.0\">num</text></svg></svg>"
      ],
      "text/plain": [
       "<IPython.core.display.HTML object>"
      ]
     },
     "metadata": {},
     "output_type": "display_data"
    }
   ],
   "source": [
    "results10 = crossvalidation_as_framework(data,\n",
    "                                     target,\n",
    "                                     kind = \"classification\",\n",
    "                                     stypes = stypes,\n",
    "                                     n_epochs = 100,\n",
    "                                     max_complexity=10,\n",
    "                                     criterion='bic')"
   ]
  },
  {
   "cell_type": "code",
   "execution_count": 19,
   "id": "da64df07-186f-4c2b-83ac-032e4997603d",
   "metadata": {},
   "outputs": [
    {
     "data": {
      "text/plain": [
       "(0.6707620265733862, 0.04023022228709678)"
      ]
     },
     "execution_count": 19,
     "metadata": {},
     "output_type": "execute_result"
    }
   ],
   "source": [
    "results10.groupby(\"fold\").first().roc_auc_val.mean(), results10.groupby(\"fold\").first().roc_auc_val.std()"
   ]
  },
  {
   "cell_type": "code",
   "execution_count": 20,
   "id": "d347f3de-19b5-46e9-af8b-43d05f7bce41",
   "metadata": {},
   "outputs": [
    {
     "data": {
      "text/plain": [
       "(0.7432755453894214, 0.019757174564247387)"
      ]
     },
     "execution_count": 20,
     "metadata": {},
     "output_type": "execute_result"
    }
   ],
   "source": [
    "results10.groupby(\"fold\").first().roc_auc_train.mean(), results10.groupby(\"fold\").first().roc_auc_train.std()"
   ]
  },
  {
   "cell_type": "code",
   "execution_count": 21,
   "id": "2278feee-b695-408c-88af-208886e5f010",
   "metadata": {},
   "outputs": [
    {
     "data": {
      "text/html": [
       "<div>\n",
       "<style scoped>\n",
       "    .dataframe tbody tr th:only-of-type {\n",
       "        vertical-align: middle;\n",
       "    }\n",
       "\n",
       "    .dataframe tbody tr th {\n",
       "        vertical-align: top;\n",
       "    }\n",
       "\n",
       "    .dataframe thead th {\n",
       "        text-align: right;\n",
       "    }\n",
       "</style>\n",
       "<table border=\"1\" class=\"dataframe\">\n",
       "  <thead>\n",
       "    <tr style=\"text-align: right;\">\n",
       "      <th></th>\n",
       "      <th>model_structure</th>\n",
       "      <th>aic</th>\n",
       "      <th>bic</th>\n",
       "      <th>roc_auc_train</th>\n",
       "      <th>accuracy_train</th>\n",
       "      <th>roc_auc_val</th>\n",
       "      <th>accuracy_val</th>\n",
       "      <th>pr_auc</th>\n",
       "      <th>f1</th>\n",
       "      <th>query_string</th>\n",
       "    </tr>\n",
       "    <tr>\n",
       "      <th>fold</th>\n",
       "      <th></th>\n",
       "      <th></th>\n",
       "      <th></th>\n",
       "      <th></th>\n",
       "      <th></th>\n",
       "      <th></th>\n",
       "      <th></th>\n",
       "      <th></th>\n",
       "      <th></th>\n",
       "      <th></th>\n",
       "    </tr>\n",
       "  </thead>\n",
       "  <tbody>\n",
       "    <tr>\n",
       "      <th>0</th>\n",
       "      <td>logreg(cnGBP5 + rsHS3ST4*(cnPEG3 + rsAPOB) + r...</td>\n",
       "      <td>600.705323</td>\n",
       "      <td>622.380595</td>\n",
       "      <td>0.752656</td>\n",
       "      <td>0.778369</td>\n",
       "      <td>0.674345</td>\n",
       "      <td>0.716312</td>\n",
       "      <td>0.318062</td>\n",
       "      <td>0.220690</td>\n",
       "      <td>add(add(\"cn_GBP5\", \"rs_PIK3C2G\"), multiply(\"rs...</td>\n",
       "    </tr>\n",
       "    <tr>\n",
       "      <th>1</th>\n",
       "      <td>logreg(tanh(cnPRSS33 + rsAPOB*(cnPEG3 + rsSLC2...</td>\n",
       "      <td>578.592195</td>\n",
       "      <td>604.602520</td>\n",
       "      <td>0.711029</td>\n",
       "      <td>0.875887</td>\n",
       "      <td>0.663503</td>\n",
       "      <td>0.865248</td>\n",
       "      <td>0.267339</td>\n",
       "      <td>0.238411</td>\n",
       "      <td>tanh(add(add(\"cn_PRSS33\", \"rs_CYP4Z1\"), multip...</td>\n",
       "    </tr>\n",
       "    <tr>\n",
       "      <th>2</th>\n",
       "      <td>logreg(rsLGALS12*(muVPS13D + rsCLCA2 + rsSBSN ...</td>\n",
       "      <td>588.854675</td>\n",
       "      <td>610.529946</td>\n",
       "      <td>0.746748</td>\n",
       "      <td>0.820922</td>\n",
       "      <td>0.628559</td>\n",
       "      <td>0.773050</td>\n",
       "      <td>0.283315</td>\n",
       "      <td>0.238411</td>\n",
       "      <td>multiply(\"rs_LGALS12\", add(add(\"mu_VPS13D\", ad...</td>\n",
       "    </tr>\n",
       "    <tr>\n",
       "      <th>3</th>\n",
       "      <td>logreg(rsDPYSL5*(cnANKRD30B + cnTNFRSF11B) + t...</td>\n",
       "      <td>608.140254</td>\n",
       "      <td>634.150580</td>\n",
       "      <td>0.763776</td>\n",
       "      <td>0.780142</td>\n",
       "      <td>0.735979</td>\n",
       "      <td>0.787234</td>\n",
       "      <td>0.379609</td>\n",
       "      <td>0.250000</td>\n",
       "      <td>add(tanh(add(\"cn_BRDT\", \"rs_APOB\")), multiply(...</td>\n",
       "    </tr>\n",
       "    <tr>\n",
       "      <th>4</th>\n",
       "      <td>logreg(rsFOSB*(cnACSM1*rsAPOB + ppFASN + rsTRP...</td>\n",
       "      <td>618.770019</td>\n",
       "      <td>644.780344</td>\n",
       "      <td>0.742168</td>\n",
       "      <td>0.804965</td>\n",
       "      <td>0.651424</td>\n",
       "      <td>0.780142</td>\n",
       "      <td>0.376497</td>\n",
       "      <td>0.248175</td>\n",
       "      <td>multiply(\"rs_FOSB\", add(multiply(\"cn_ACSM1\", \"...</td>\n",
       "    </tr>\n",
       "  </tbody>\n",
       "</table>\n",
       "</div>"
      ],
      "text/plain": [
       "                                        model_structure         aic  \\\n",
       "fold                                                                  \n",
       "0     logreg(cnGBP5 + rsHS3ST4*(cnPEG3 + rsAPOB) + r...  600.705323   \n",
       "1     logreg(tanh(cnPRSS33 + rsAPOB*(cnPEG3 + rsSLC2...  578.592195   \n",
       "2     logreg(rsLGALS12*(muVPS13D + rsCLCA2 + rsSBSN ...  588.854675   \n",
       "3     logreg(rsDPYSL5*(cnANKRD30B + cnTNFRSF11B) + t...  608.140254   \n",
       "4     logreg(rsFOSB*(cnACSM1*rsAPOB + ppFASN + rsTRP...  618.770019   \n",
       "\n",
       "             bic  roc_auc_train  accuracy_train  roc_auc_val  accuracy_val  \\\n",
       "fold                                                                         \n",
       "0     622.380595       0.752656        0.778369     0.674345      0.716312   \n",
       "1     604.602520       0.711029        0.875887     0.663503      0.865248   \n",
       "2     610.529946       0.746748        0.820922     0.628559      0.773050   \n",
       "3     634.150580       0.763776        0.780142     0.735979      0.787234   \n",
       "4     644.780344       0.742168        0.804965     0.651424      0.780142   \n",
       "\n",
       "        pr_auc        f1                                       query_string  \n",
       "fold                                                                         \n",
       "0     0.318062  0.220690  add(add(\"cn_GBP5\", \"rs_PIK3C2G\"), multiply(\"rs...  \n",
       "1     0.267339  0.238411  tanh(add(add(\"cn_PRSS33\", \"rs_CYP4Z1\"), multip...  \n",
       "2     0.283315  0.238411  multiply(\"rs_LGALS12\", add(add(\"mu_VPS13D\", ad...  \n",
       "3     0.379609  0.250000  add(tanh(add(\"cn_BRDT\", \"rs_APOB\")), multiply(...  \n",
       "4     0.376497  0.248175  multiply(\"rs_FOSB\", add(multiply(\"cn_ACSM1\", \"...  "
      ]
     },
     "execution_count": 21,
     "metadata": {},
     "output_type": "execute_result"
    }
   ],
   "source": [
    "results10.groupby(\"fold\").first()"
   ]
  },
  {
   "cell_type": "code",
   "execution_count": 22,
   "id": "38d15126-d377-481d-a269-4b5088bd2444",
   "metadata": {},
   "outputs": [
    {
     "name": "stdout",
     "output_type": "stream",
     "text": [
      "logreg(cnGBP5 + rsHS3ST4*(cnPEG3 + rsAPOB) + rsPIK3C2G)\n",
      "logreg(tanh(cnPRSS33 + rsAPOB*(cnPEG3 + rsSLC28A3) + rsCYP4Z1))\n",
      "logreg(rsLGALS12*(muVPS13D + rsCLCA2 + rsSBSN + rsSLC6A14))\n",
      "logreg(rsDPYSL5*(cnANKRD30B + cnTNFRSF11B) + tanh(cnBRDT + rsAPOB))\n",
      "logreg(rsFOSB*(cnACSM1*rsAPOB + ppFASN + rsTRPV6))\n"
     ]
    }
   ],
   "source": [
    "for model in results10.groupby(\"fold\").first().model_structure:\n",
    "    print(model)"
   ]
  },
  {
   "cell_type": "code",
   "execution_count": 23,
   "id": "cd73dbef-5a28-44de-9cbf-ab24240be536",
   "metadata": {},
   "outputs": [
    {
     "data": {
      "text/html": [
       "<?xml version=\"1.0\" encoding=\"utf-8\" ?>\n",
       "<svg baseProfile=\"full\" height=\"280.0\" preserveAspectRatio=\"none\" version=\"1.1\" viewBox=\"0 0 591 280.0\" width=\"591\" xmlns=\"http://www.w3.org/2000/svg\" xmlns:ev=\"http://www.w3.org/2001/xml-events\" xmlns:xlink=\"http://www.w3.org/1999/xlink\"><defs /><svg class=\"graph\" height=\"275.0\" width=\"591\" x=\"0\" y=\"0\"><defs /><text fill=\"#1E1E1E\" font-family=\"monospace\" font-size=\"12\" text-anchor=\"middle\" x=\"526.0\" y=\"159.0\">Loss: 5.34E-01</text><text fill=\"#1E1E1E\" font-family=\"monospace\" font-size=\"12\" text-anchor=\"start\" x=\"0\" y=\"265.0\">Epoch no. 20/20 - Tried 16103 models - Completed in 22s.</text><rect class=\"node\" fill=\"#00F082\" height=\"35\" stroke=\"#1E1E1E\" stroke-width=\"1\" width=\"90\" x=\"481\" y=\"110.0\"><title>vital.status\n",
       "logistic:\n",
       "w=1.5707\n",
       "bias=-0.4805</title></rect><text fill=\"#1E1E1E\" font-family=\"monospace\" font-size=\"12\" style=\"pointer-events:none\" text-anchor=\"middle\" x=\"526.0\" y=\"131.5\">vital.st..</text><text fill=\"#1E1E1E\" font-family=\"monospace\" font-size=\"10\" style=\"pointer-events:none\" text-anchor=\"end\" x=\"569\" y=\"119.0\">0</text><text fill=\"#1E1E1E\" font-family=\"monospace\" font-size=\"10\" style=\"pointer-events:none\" text-anchor=\"start\" x=\"483\" y=\"119.0\">out</text><line stroke=\"#1E1E1E\" x1=\"451\" x2=\"481\" y1=\"127.5\" y2=\"127.5\" /><rect class=\"node\" fill=\"#FAFAFA\" height=\"35\" stroke=\"#FF1EC8\" stroke-width=\"1\" width=\"90\" x=\"361\" y=\"110.0\"><title>multiply</title></rect><text fill=\"#1E1E1E\" font-family=\"monospace\" font-size=\"12\" style=\"pointer-events:none\" text-anchor=\"middle\" x=\"406.0\" y=\"131.5\">multiply</text><text fill=\"#1E1E1E\" font-family=\"monospace\" font-size=\"10\" style=\"pointer-events:none\" text-anchor=\"end\" x=\"449\" y=\"119.0\">1</text><line stroke=\"#1E1E1E\" x1=\"331\" x2=\"361\" y1=\"97.5\" y2=\"118.5\" /><line stroke=\"#1E1E1E\" x1=\"331\" x2=\"361\" y1=\"157.5\" y2=\"136.5\" /><rect class=\"node\" fill=\"#00F082\" height=\"35\" stroke=\"#1E1E1E\" stroke-width=\"1\" width=\"90\" x=\"241\" y=\"80.0\"><title>rs_FOSB\n",
       "linear:\n",
       "scale=0.168591\n",
       "scale offset=8.970796\n",
       "w=1.337034\n",
       "bias=0.6146</title></rect><text fill=\"#1E1E1E\" font-family=\"monospace\" font-size=\"12\" style=\"pointer-events:none\" text-anchor=\"middle\" x=\"286.0\" y=\"101.5\">rs_FOSB</text><text fill=\"#1E1E1E\" font-family=\"monospace\" font-size=\"10\" style=\"pointer-events:none\" text-anchor=\"end\" x=\"329\" y=\"89.0\">2</text><text fill=\"#1E1E1E\" font-family=\"monospace\" font-size=\"10\" style=\"pointer-events:none\" text-anchor=\"start\" x=\"243\" y=\"89.0\">num</text><rect class=\"node\" fill=\"#FAFAFA\" height=\"35\" stroke=\"#FF1EC8\" stroke-width=\"1\" width=\"90\" x=\"241\" y=\"140.0\"><title>add</title></rect><text fill=\"#1E1E1E\" font-family=\"monospace\" font-size=\"12\" style=\"pointer-events:none\" text-anchor=\"middle\" x=\"286.0\" y=\"161.5\">add</text><text fill=\"#1E1E1E\" font-family=\"monospace\" font-size=\"10\" style=\"pointer-events:none\" text-anchor=\"end\" x=\"329\" y=\"149.0\">3</text><line stroke=\"#1E1E1E\" x1=\"211\" x2=\"241\" y1=\"97.5\" y2=\"148.5\" /><line stroke=\"#1E1E1E\" x1=\"211\" x2=\"241\" y1=\"157.5\" y2=\"166.5\" /><rect class=\"node\" fill=\"#FAFAFA\" height=\"35\" stroke=\"#FF1EC8\" stroke-width=\"1\" width=\"90\" x=\"121\" y=\"80.0\"><title>multiply</title></rect><text fill=\"#1E1E1E\" font-family=\"monospace\" font-size=\"12\" style=\"pointer-events:none\" text-anchor=\"middle\" x=\"166.0\" y=\"101.5\">multiply</text><text fill=\"#1E1E1E\" font-family=\"monospace\" font-size=\"10\" style=\"pointer-events:none\" text-anchor=\"end\" x=\"209\" y=\"89.0\">4</text><line stroke=\"#1E1E1E\" x1=\"91\" x2=\"121\" y1=\"37.5\" y2=\"88.5\" /><line stroke=\"#1E1E1E\" x1=\"91\" x2=\"121\" y1=\"97.5\" y2=\"106.5\" /><rect class=\"node\" fill=\"#00F082\" height=\"35\" stroke=\"#1E1E1E\" stroke-width=\"1\" width=\"90\" x=\"1\" y=\"20.0\"><title>cn_ACSM1\n",
       "linear:\n",
       "scale=0.666667\n",
       "scale offset=0.491135\n",
       "w=1.344455\n",
       "bias=-1.2990</title></rect><text fill=\"#1E1E1E\" font-family=\"monospace\" font-size=\"12\" style=\"pointer-events:none\" text-anchor=\"middle\" x=\"46.0\" y=\"41.5\">cn_ACSM1</text><text fill=\"#1E1E1E\" font-family=\"monospace\" font-size=\"10\" style=\"pointer-events:none\" text-anchor=\"end\" x=\"89\" y=\"29.0\">5</text><text fill=\"#1E1E1E\" font-family=\"monospace\" font-size=\"10\" style=\"pointer-events:none\" text-anchor=\"start\" x=\"3\" y=\"29.0\">num</text><rect class=\"node\" fill=\"#00F082\" height=\"35\" stroke=\"#1E1E1E\" stroke-width=\"1\" width=\"90\" x=\"1\" y=\"80.0\"><title>rs_APOB\n",
       "linear:\n",
       "scale=0.149502\n",
       "scale offset=2.288630\n",
       "w=-0.683369\n",
       "bias=0.8085</title></rect><text fill=\"#1E1E1E\" font-family=\"monospace\" font-size=\"12\" style=\"pointer-events:none\" text-anchor=\"middle\" x=\"46.0\" y=\"101.5\">rs_APOB</text><text fill=\"#1E1E1E\" font-family=\"monospace\" font-size=\"10\" style=\"pointer-events:none\" text-anchor=\"end\" x=\"89\" y=\"89.0\">6</text><text fill=\"#1E1E1E\" font-family=\"monospace\" font-size=\"10\" style=\"pointer-events:none\" text-anchor=\"start\" x=\"3\" y=\"89.0\">num</text><rect class=\"node\" fill=\"#FAFAFA\" height=\"35\" stroke=\"#FF1EC8\" stroke-width=\"1\" width=\"90\" x=\"121\" y=\"140.0\"><title>add</title></rect><text fill=\"#1E1E1E\" font-family=\"monospace\" font-size=\"12\" style=\"pointer-events:none\" text-anchor=\"middle\" x=\"166.0\" y=\"161.5\">add</text><text fill=\"#1E1E1E\" font-family=\"monospace\" font-size=\"10\" style=\"pointer-events:none\" text-anchor=\"end\" x=\"209\" y=\"149.0\">7</text><line stroke=\"#1E1E1E\" x1=\"91\" x2=\"121\" y1=\"157.5\" y2=\"148.5\" /><line stroke=\"#1E1E1E\" x1=\"91\" x2=\"121\" y1=\"217.5\" y2=\"166.5\" /><rect class=\"node\" fill=\"#00F082\" height=\"35\" stroke=\"#1E1E1E\" stroke-width=\"1\" width=\"90\" x=\"1\" y=\"140.0\"><title>rs_TRPV6\n",
       "linear:\n",
       "scale=0.156198\n",
       "scale offset=6.526143\n",
       "w=1.450798\n",
       "bias=1.6307</title></rect><text fill=\"#1E1E1E\" font-family=\"monospace\" font-size=\"12\" style=\"pointer-events:none\" text-anchor=\"middle\" x=\"46.0\" y=\"161.5\">rs_TRPV6</text><text fill=\"#1E1E1E\" font-family=\"monospace\" font-size=\"10\" style=\"pointer-events:none\" text-anchor=\"end\" x=\"89\" y=\"149.0\">8</text><text fill=\"#1E1E1E\" font-family=\"monospace\" font-size=\"10\" style=\"pointer-events:none\" text-anchor=\"start\" x=\"3\" y=\"149.0\">num</text><rect class=\"node\" fill=\"#00F082\" height=\"35\" stroke=\"#1E1E1E\" stroke-width=\"1\" width=\"90\" x=\"1\" y=\"200.0\"><title>pp_FASN\n",
       "linear:\n",
       "scale=0.330276\n",
       "scale offset=0.129803\n",
       "w=-0.527904\n",
       "bias=-0.7458</title></rect><text fill=\"#1E1E1E\" font-family=\"monospace\" font-size=\"12\" style=\"pointer-events:none\" text-anchor=\"middle\" x=\"46.0\" y=\"221.5\">pp_FASN</text><text fill=\"#1E1E1E\" font-family=\"monospace\" font-size=\"10\" style=\"pointer-events:none\" text-anchor=\"end\" x=\"89\" y=\"209.0\">9</text><text fill=\"#1E1E1E\" font-family=\"monospace\" font-size=\"10\" style=\"pointer-events:none\" text-anchor=\"start\" x=\"3\" y=\"209.0\">num</text></svg></svg>"
      ],
      "text/plain": [
       "<IPython.core.display.HTML object>"
      ]
     },
     "metadata": {},
     "output_type": "display_data"
    }
   ],
   "source": [
    "best_models_qstr_res10 = results10.groupby(\"fold\").first()['query_string'].values\n",
    "\n",
    "models_default = []\n",
    "\n",
    "for i, (train, val) in enumerate(zip(train_list, val_list)):        \n",
    "        sample_weights = np.where(train[target] == 1,\n",
    "                                      np.sum(train[target] == 0) / sum(train[target]), 1)\n",
    "        \n",
    "        ql.reset(random_state)\n",
    "        models = ql.auto_run(train, output_name=target, n_epochs=20, kind = \"classification\",\n",
    "                             query_string=best_models_qstr_res10[i], sample_weights=sample_weights, stypes=stypes)\n",
    "        models_default.append(models[0])"
   ]
  },
  {
   "cell_type": "markdown",
   "id": "1e97afa5-7305-4e9b-9d1e-303620be3888",
   "metadata": {
    "tags": []
   },
   "source": [
    "## Benchmarks "
   ]
  },
  {
   "cell_type": "markdown",
   "id": "59ef9cc4-0e39-422e-a62b-4ae7191a6568",
   "metadata": {},
   "source": [
    "### LASSO"
   ]
  },
  {
   "cell_type": "code",
   "execution_count": 24,
   "id": "0dca33fb-e55c-4b33-9d81-328813e0f83a",
   "metadata": {
    "jupyter": {
     "outputs_hidden": true
    },
    "tags": []
   },
   "outputs": [],
   "source": [
    "results_lasso = lasso_benchmark(data, target, num_experiments=1, n_jobs=50)"
   ]
  },
  {
   "cell_type": "code",
   "execution_count": 25,
   "id": "e67975ba-1b28-4ab8-8610-63c3b7a59556",
   "metadata": {},
   "outputs": [
    {
     "data": {
      "text/plain": [
       "array([0.54245709, 0.5608283 , 0.62942192, 0.4866264 , 0.67083693])"
      ]
     },
     "execution_count": 25,
     "metadata": {},
     "output_type": "execute_result"
    }
   ],
   "source": [
    "results_lasso"
   ]
  },
  {
   "cell_type": "code",
   "execution_count": 26,
   "id": "3afdda45-91fb-4714-8a93-ce88638f80d2",
   "metadata": {},
   "outputs": [
    {
     "data": {
      "text/plain": [
       "0.5780341274796125"
      ]
     },
     "execution_count": 26,
     "metadata": {},
     "output_type": "execute_result"
    }
   ],
   "source": [
    "np.mean(results_lasso)"
   ]
  },
  {
   "cell_type": "markdown",
   "id": "2574f17c-52a2-4f6a-b31a-f975350c0e82",
   "metadata": {},
   "source": [
    "### Random forest"
   ]
  },
  {
   "cell_type": "markdown",
   "id": "53383bef",
   "metadata": {},
   "source": [
    "#### No feature selection"
   ]
  },
  {
   "cell_type": "code",
   "execution_count": 27,
   "id": "e2704758-de94-4d8e-87b9-75112f06f2c9",
   "metadata": {
    "jupyter": {
     "outputs_hidden": true
    },
    "scrolled": false,
    "tags": []
   },
   "outputs": [],
   "source": [
    "results_rf = random_forest_benchmark(data, target, n_jobs=50)"
   ]
  },
  {
   "cell_type": "code",
   "execution_count": 28,
   "id": "e95ea399-7679-420d-a9ae-fa194a1a0588",
   "metadata": {},
   "outputs": [
    {
     "data": {
      "text/plain": [
       "array([0.58175248, 0.61820535, 0.65358067, 0.57808456, 0.58930112])"
      ]
     },
     "execution_count": 28,
     "metadata": {},
     "output_type": "execute_result"
    }
   ],
   "source": [
    "results_rf"
   ]
  },
  {
   "cell_type": "code",
   "execution_count": 29,
   "id": "cba6a07a-6a58-4c16-a2cf-6f6ad30ec68a",
   "metadata": {},
   "outputs": [
    {
     "data": {
      "text/plain": [
       "0.6041848367865329"
      ]
     },
     "execution_count": 29,
     "metadata": {},
     "output_type": "execute_result"
    }
   ],
   "source": [
    "results_rf.mean()"
   ]
  },
  {
   "cell_type": "markdown",
   "id": "303fe350",
   "metadata": {},
   "source": [
    "#### Feature selection by mutual information"
   ]
  },
  {
   "cell_type": "code",
   "execution_count": 30,
   "id": "e6023afa",
   "metadata": {},
   "outputs": [],
   "source": [
    "results_rf_mi = random_forest_benchmark(data, target, feat_selection='mi', n_jobs=50)"
   ]
  },
  {
   "cell_type": "code",
   "execution_count": 31,
   "id": "c5cc32a4",
   "metadata": {},
   "outputs": [
    {
     "data": {
      "text/plain": [
       "array([0.62872629, 0.59188956, 0.67213115, 0.65271786, 0.61583261])"
      ]
     },
     "execution_count": 31,
     "metadata": {},
     "output_type": "execute_result"
    }
   ],
   "source": [
    "results_rf_mi"
   ]
  },
  {
   "cell_type": "code",
   "execution_count": 32,
   "id": "cfe43151",
   "metadata": {},
   "outputs": [
    {
     "data": {
      "text/plain": [
       "0.6322594938632734"
      ]
     },
     "execution_count": 32,
     "metadata": {},
     "output_type": "execute_result"
    }
   ],
   "source": [
    "results_rf_mi.mean()"
   ]
  },
  {
   "cell_type": "markdown",
   "id": "082a50f5",
   "metadata": {},
   "source": [
    "#### Feature selection by f_score"
   ]
  },
  {
   "cell_type": "code",
   "execution_count": 33,
   "id": "e7d1a61a",
   "metadata": {},
   "outputs": [],
   "source": [
    "results_rf_f = random_forest_benchmark(data, target, feat_selection='f_score', n_jobs=50)"
   ]
  },
  {
   "cell_type": "code",
   "execution_count": 34,
   "id": "f595ede8",
   "metadata": {},
   "outputs": [
    {
     "data": {
      "text/plain": [
       "array([0.55826558, 0.55349439, 0.54918033, 0.49223469, 0.63589301])"
      ]
     },
     "execution_count": 34,
     "metadata": {},
     "output_type": "execute_result"
    }
   ],
   "source": [
    "results_rf_f"
   ]
  },
  {
   "cell_type": "code",
   "execution_count": 35,
   "id": "713e2082",
   "metadata": {},
   "outputs": [
    {
     "data": {
      "text/plain": [
       "0.5578135997063163"
      ]
     },
     "execution_count": 35,
     "metadata": {},
     "output_type": "execute_result"
    }
   ],
   "source": [
    "results_rf_f.mean()"
   ]
  },
  {
   "cell_type": "markdown",
   "id": "b2efe03a",
   "metadata": {},
   "source": [
    "#### Feature selection by lasso"
   ]
  },
  {
   "cell_type": "code",
   "execution_count": 36,
   "id": "18f18d28",
   "metadata": {},
   "outputs": [],
   "source": [
    "results_rf_l = random_forest_benchmark(data, target, feat_selection='lasso', n_jobs=50)"
   ]
  },
  {
   "cell_type": "code",
   "execution_count": 37,
   "id": "112054a8",
   "metadata": {},
   "outputs": [
    {
     "data": {
      "text/plain": [
       "array([0.61224029, 0.6958585 , 0.70060397, 0.50905953, 0.6151855 ])"
      ]
     },
     "execution_count": 37,
     "metadata": {},
     "output_type": "execute_result"
    }
   ],
   "source": [
    "results_rf_l"
   ]
  },
  {
   "cell_type": "code",
   "execution_count": 38,
   "id": "b7d5073f",
   "metadata": {},
   "outputs": [
    {
     "data": {
      "text/plain": [
       "0.6265895591081306"
      ]
     },
     "execution_count": 38,
     "metadata": {},
     "output_type": "execute_result"
    }
   ],
   "source": [
    "results_rf_l.mean()"
   ]
  },
  {
   "cell_type": "markdown",
   "id": "648c69a0-97e2-4677-baca-de6923ccffa2",
   "metadata": {},
   "source": [
    "### Gradient Boosting"
   ]
  },
  {
   "cell_type": "markdown",
   "id": "fc4eb0db",
   "metadata": {},
   "source": [
    "#### No feature selection"
   ]
  },
  {
   "cell_type": "code",
   "execution_count": 39,
   "id": "33829473-2341-4e3e-bd2d-d7c668865385",
   "metadata": {
    "jupyter": {
     "outputs_hidden": true
    },
    "tags": []
   },
   "outputs": [],
   "source": [
    "results_gb = gradient_boosting_benchmark(data, target)"
   ]
  },
  {
   "cell_type": "code",
   "execution_count": 40,
   "id": "8534a26e",
   "metadata": {},
   "outputs": [
    {
     "data": {
      "text/plain": [
       "array([0.52439024, 0.69154443, 0.62467645, 0.55780846, 0.55953408])"
      ]
     },
     "execution_count": 40,
     "metadata": {},
     "output_type": "execute_result"
    }
   ],
   "source": [
    "results_gb"
   ]
  },
  {
   "cell_type": "code",
   "execution_count": 41,
   "id": "a50ffe50",
   "metadata": {},
   "outputs": [
    {
     "data": {
      "text/plain": [
       "0.5915907321282013"
      ]
     },
     "execution_count": 41,
     "metadata": {},
     "output_type": "execute_result"
    }
   ],
   "source": [
    "results_gb.mean()"
   ]
  },
  {
   "cell_type": "markdown",
   "id": "556cd5e0",
   "metadata": {},
   "source": [
    "#### Feature selection by mutual information"
   ]
  },
  {
   "cell_type": "code",
   "execution_count": 42,
   "id": "049571df",
   "metadata": {},
   "outputs": [],
   "source": [
    "results_gb_mi = gradient_boosting_benchmark(data, target, feat_selection='mi', n_jobs=50)"
   ]
  },
  {
   "cell_type": "code",
   "execution_count": 43,
   "id": "0dba3ce3",
   "metadata": {},
   "outputs": [
    {
     "data": {
      "text/plain": [
       "array([0.5736224 , 0.6216566 , 0.65746333, 0.71829163, 0.47627265])"
      ]
     },
     "execution_count": 43,
     "metadata": {},
     "output_type": "execute_result"
    }
   ],
   "source": [
    "results_gb_mi"
   ]
  },
  {
   "cell_type": "code",
   "execution_count": 44,
   "id": "0cf03205",
   "metadata": {},
   "outputs": [
    {
     "data": {
      "text/plain": [
       "0.6094613226834023"
      ]
     },
     "execution_count": 44,
     "metadata": {},
     "output_type": "execute_result"
    }
   ],
   "source": [
    "results_gb_mi.mean()"
   ]
  },
  {
   "cell_type": "markdown",
   "id": "a478fb46",
   "metadata": {},
   "source": [
    "#### Feature selection by f_score"
   ]
  },
  {
   "cell_type": "code",
   "execution_count": 45,
   "id": "52a4c20e",
   "metadata": {},
   "outputs": [],
   "source": [
    "results_gb_f = gradient_boosting_benchmark(data, target, feat_selection='f_score', n_jobs=50)"
   ]
  },
  {
   "cell_type": "code",
   "execution_count": 46,
   "id": "8fb04fba",
   "metadata": {},
   "outputs": [
    {
     "data": {
      "text/plain": [
       "array([0.53703704, 0.62338223, 0.56643658, 0.4799396 , 0.58024159])"
      ]
     },
     "execution_count": 46,
     "metadata": {},
     "output_type": "execute_result"
    }
   ],
   "source": [
    "results_gb_f"
   ]
  },
  {
   "cell_type": "code",
   "execution_count": 47,
   "id": "8c5a9df5",
   "metadata": {},
   "outputs": [
    {
     "data": {
      "text/plain": [
       "0.5574074074074075"
      ]
     },
     "execution_count": 47,
     "metadata": {},
     "output_type": "execute_result"
    }
   ],
   "source": [
    "results_gb_f.mean()"
   ]
  },
  {
   "cell_type": "markdown",
   "id": "6569462d",
   "metadata": {},
   "source": [
    "#### Feature selection by lasso"
   ]
  },
  {
   "cell_type": "code",
   "execution_count": 48,
   "id": "3bee5aeb",
   "metadata": {},
   "outputs": [],
   "source": [
    "results_gb_l = gradient_boosting_benchmark(data, target, feat_selection='lasso', n_jobs=50)"
   ]
  },
  {
   "cell_type": "code",
   "execution_count": 49,
   "id": "52fbd39c",
   "metadata": {},
   "outputs": [
    {
     "data": {
      "text/plain": [
       "array([0.66440831, 0.63136324, 0.60353753, 0.50603969, 0.59922347])"
      ]
     },
     "execution_count": 49,
     "metadata": {},
     "output_type": "execute_result"
    }
   ],
   "source": [
    "results_gb_l"
   ]
  },
  {
   "cell_type": "code",
   "execution_count": 50,
   "id": "5cb6ecbe",
   "metadata": {},
   "outputs": [
    {
     "data": {
      "text/plain": [
       "0.6009144490352007"
      ]
     },
     "execution_count": 50,
     "metadata": {},
     "output_type": "execute_result"
    }
   ],
   "source": [
    "results_gb_l.mean()"
   ]
  },
  {
   "cell_type": "markdown",
   "id": "5f980027-7c6f-40b3-b040-f66d3ebcdde3",
   "metadata": {},
   "source": [
    "### Elastic net"
   ]
  },
  {
   "cell_type": "code",
   "execution_count": 51,
   "id": "341d542d-ab02-42cd-b7da-985e7aca5a75",
   "metadata": {
    "jupyter": {
     "outputs_hidden": true
    },
    "scrolled": true,
    "tags": []
   },
   "outputs": [
    {
     "name": "stderr",
     "output_type": "stream",
     "text": [
      "/home/jupyter-miquel.iglesias/.local/lib/python3.7/site-packages/sklearn/linear_model/_sag.py:354: ConvergenceWarning: The max_iter was reached which means the coef_ did not converge\n",
      "  ConvergenceWarning,\n",
      "/home/jupyter-miquel.iglesias/.local/lib/python3.7/site-packages/sklearn/linear_model/_sag.py:354: ConvergenceWarning: The max_iter was reached which means the coef_ did not converge\n",
      "  ConvergenceWarning,\n",
      "/home/jupyter-miquel.iglesias/.local/lib/python3.7/site-packages/sklearn/linear_model/_sag.py:354: ConvergenceWarning: The max_iter was reached which means the coef_ did not converge\n",
      "  ConvergenceWarning,\n"
     ]
    }
   ],
   "source": [
    "results_en = elasticnet_benchmark(data, target, num_experiments=1)"
   ]
  },
  {
   "cell_type": "code",
   "execution_count": 52,
   "id": "7c4b526b-e816-4df8-a791-2e08f7e0d050",
   "metadata": {},
   "outputs": [
    {
     "data": {
      "text/plain": [
       "array([0.55555556, 0.5880069 , 0.64322692, 0.60008628, 0.66695427])"
      ]
     },
     "execution_count": 52,
     "metadata": {},
     "output_type": "execute_result"
    }
   ],
   "source": [
    "results_en"
   ]
  },
  {
   "cell_type": "code",
   "execution_count": 53,
   "id": "1aa2cc0a",
   "metadata": {},
   "outputs": [
    {
     "data": {
      "text/plain": [
       "0.6107659860032595"
      ]
     },
     "execution_count": 53,
     "metadata": {},
     "output_type": "execute_result"
    }
   ],
   "source": [
    "np.mean(results_en)"
   ]
  },
  {
   "cell_type": "markdown",
   "id": "408e2f94",
   "metadata": {},
   "source": [
    "## Summary table"
   ]
  },
  {
   "cell_type": "code",
   "execution_count": 56,
   "id": "5b91ba30",
   "metadata": {},
   "outputs": [
    {
     "data": {
      "text/html": [
       "<div>\n",
       "<style scoped>\n",
       "    .dataframe tbody tr th:only-of-type {\n",
       "        vertical-align: middle;\n",
       "    }\n",
       "\n",
       "    .dataframe tbody tr th {\n",
       "        vertical-align: top;\n",
       "    }\n",
       "\n",
       "    .dataframe thead th {\n",
       "        text-align: right;\n",
       "    }\n",
       "</style>\n",
       "<table border=\"1\" class=\"dataframe\">\n",
       "  <thead>\n",
       "    <tr style=\"text-align: right;\">\n",
       "      <th></th>\n",
       "      <th>All features</th>\n",
       "      <th>Feat selection MI</th>\n",
       "      <th>Feat selection F</th>\n",
       "      <th>Feature selection LASSO</th>\n",
       "    </tr>\n",
       "  </thead>\n",
       "  <tbody>\n",
       "    <tr>\n",
       "      <th>QLattice</th>\n",
       "      <td>0.671</td>\n",
       "      <td>NaN</td>\n",
       "      <td>NaN</td>\n",
       "      <td>NaN</td>\n",
       "    </tr>\n",
       "    <tr>\n",
       "      <th>LASSO</th>\n",
       "      <td>0.578</td>\n",
       "      <td>NaN</td>\n",
       "      <td>NaN</td>\n",
       "      <td>NaN</td>\n",
       "    </tr>\n",
       "    <tr>\n",
       "      <th>Elasticnet</th>\n",
       "      <td>0.611</td>\n",
       "      <td>NaN</td>\n",
       "      <td>NaN</td>\n",
       "      <td>NaN</td>\n",
       "    </tr>\n",
       "    <tr>\n",
       "      <th>Random Forest</th>\n",
       "      <td>0.604</td>\n",
       "      <td>0.632</td>\n",
       "      <td>0.558</td>\n",
       "      <td>0.627</td>\n",
       "    </tr>\n",
       "    <tr>\n",
       "      <th>Gradient Boosting</th>\n",
       "      <td>0.592</td>\n",
       "      <td>0.609</td>\n",
       "      <td>0.557</td>\n",
       "      <td>0.601</td>\n",
       "    </tr>\n",
       "  </tbody>\n",
       "</table>\n",
       "</div>"
      ],
      "text/plain": [
       "                   All features  Feat selection MI  Feat selection F  \\\n",
       "QLattice                  0.671                NaN               NaN   \n",
       "LASSO                     0.578                NaN               NaN   \n",
       "Elasticnet                0.611                NaN               NaN   \n",
       "Random Forest             0.604              0.632             0.558   \n",
       "Gradient Boosting         0.592              0.609             0.557   \n",
       "\n",
       "                   Feature selection LASSO  \n",
       "QLattice                               NaN  \n",
       "LASSO                                  NaN  \n",
       "Elasticnet                             NaN  \n",
       "Random Forest                        0.627  \n",
       "Gradient Boosting                    0.601  "
      ]
     },
     "execution_count": 56,
     "metadata": {},
     "output_type": "execute_result"
    }
   ],
   "source": [
    "data = [[results10.groupby(\"fold\").first().roc_auc_val.mean(), None, None, None],\n",
    "        [np.mean(results_lasso), None, None, None],\n",
    "        [np.mean(results_en), None, None, None],\n",
    "        [np.mean(results_rf), np.mean(results_rf_mi), np.mean(results_rf_f), np.mean(results_rf_l)],\n",
    "        [np.mean(results_gb), np.mean(results_gb_mi), np.mean(results_gb_f), np.mean(results_gb_l)]\n",
    "       ]\n",
    "df_bench = pd.DataFrame(data=data,\n",
    "             index=[\"QLattice\", \"LASSO\", \"Elasticnet\", \"Random Forest\", \"Gradient Boosting\"],\n",
    "             columns=[\"All features\", \"Feat selection MI\", \"Feat selection F\", \"Feature selection LASSO\"])\n",
    "df_bench.round(3)"
   ]
  },
  {
   "cell_type": "code",
   "execution_count": 57,
   "id": "ba73e1ab",
   "metadata": {},
   "outputs": [
    {
     "name": "stdout",
     "output_type": "stream",
     "text": [
      "\\begin{tabular}{lrrrr}\n",
      "\\toprule\n",
      "{} &  All features &  Feat selection MI &  Feat selection F &  Feature selection LASSO \\\\\n",
      "\\midrule\n",
      "QLattice          &         0.671 &                NaN &               NaN &                      NaN \\\\\n",
      "LASSO             &         0.578 &                NaN &               NaN &                      NaN \\\\\n",
      "Elasticnet        &         0.611 &                NaN &               NaN &                      NaN \\\\\n",
      "Random Forest     &         0.604 &              0.632 &             0.558 &                    0.627 \\\\\n",
      "Gradient Boosting &         0.592 &              0.609 &             0.557 &                    0.601 \\\\\n",
      "\\bottomrule\n",
      "\\end{tabular}\n",
      "\n"
     ]
    }
   ],
   "source": [
    "print(df_bench.round(3).to_latex())"
   ]
  },
  {
   "cell_type": "code",
   "execution_count": null,
   "id": "718da816",
   "metadata": {},
   "outputs": [],
   "source": []
  }
 ],
 "metadata": {
  "kernelspec": {
   "display_name": "Python 3 (ipykernel)",
   "language": "python",
   "name": "python3"
  },
  "language_info": {
   "codemirror_mode": {
    "name": "ipython",
    "version": 3
   },
   "file_extension": ".py",
   "mimetype": "text/x-python",
   "name": "python",
   "nbconvert_exporter": "python",
   "pygments_lexer": "ipython3",
   "version": "3.7.3"
  }
 },
 "nbformat": 4,
 "nbformat_minor": 5
}
