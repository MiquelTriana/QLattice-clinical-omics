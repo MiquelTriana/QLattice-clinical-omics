{
 "cells": [
  {
   "cell_type": "markdown",
   "id": "b49c6b1c-62de-4647-99df-d233f15368e0",
   "metadata": {},
   "source": [
    "# Breast cancer case"
   ]
  },
  {
   "cell_type": "code",
   "execution_count": 34,
   "id": "83aa9b47-3c61-44e4-8f9e-9cd49766dc2d",
   "metadata": {},
   "outputs": [],
   "source": [
    "import numpy as np\n",
    "import pandas as pd\n",
    "import feyn\n",
    "\n",
    "from sklearn.model_selection import train_test_split, StratifiedKFold\n",
    "\n",
    "\n",
    "import matplotlib.pyplot as plt\n",
    "\n",
    "from _crossvalidation import crossvalidation_as_framework"
   ]
  },
  {
   "cell_type": "markdown",
   "id": "eef51e33-82aa-4148-9496-5b47c3d30a38",
   "metadata": {},
   "source": [
    "### Load and prep data"
   ]
  },
  {
   "cell_type": "code",
   "execution_count": 2,
   "id": "0f18fab3-8884-47ec-95bf-430878ef2355",
   "metadata": {},
   "outputs": [],
   "source": [
    "data = pd.read_csv('../data/brca_data_w_meta.csv')"
   ]
  },
  {
   "cell_type": "code",
   "execution_count": 3,
   "id": "5d81310b-215b-4415-b90f-46a235e9d20f",
   "metadata": {},
   "outputs": [],
   "source": [
    "# Define the target variable\n",
    "target = \"vital.status\""
   ]
  },
  {
   "cell_type": "code",
   "execution_count": 4,
   "id": "3acf960f-8c75-436c-9169-3769c9db9084",
   "metadata": {},
   "outputs": [],
   "source": [
    "stypes = {}\n",
    "for f in data.columns:\n",
    "    if data[f].dtype == 'object':\n",
    "        stypes[f] = 'c'"
   ]
  },
  {
   "cell_type": "markdown",
   "id": "cd51d7b4-471c-4f5c-84ec-1a6450f3172c",
   "metadata": {},
   "source": [
    "### 2 feature models"
   ]
  },
  {
   "cell_type": "code",
   "execution_count": 23,
   "id": "f121f7b9-9fcb-47d5-93d8-0cf5d71117ab",
   "metadata": {
    "collapsed": true,
    "jupyter": {
     "outputs_hidden": true
    },
    "tags": []
   },
   "outputs": [
    {
     "ename": "KeyboardInterrupt",
     "evalue": "",
     "output_type": "error",
     "traceback": [
      "\u001b[0;31m---------------------------------------------------------------------------\u001b[0m",
      "\u001b[0;31mKeyboardInterrupt\u001b[0m                         Traceback (most recent call last)",
      "\u001b[0;32m/var/folders/l5/mw2x7c910_57fpww4k2pxjhw0000gn/T/ipykernel_85736/1942434577.py\u001b[0m in \u001b[0;36m<module>\u001b[0;34m\u001b[0m\n\u001b[0;32m----> 1\u001b[0;31m results = crossvalidation_as_framework(data,\n\u001b[0m\u001b[1;32m      2\u001b[0m                                      \u001b[0mtarget\u001b[0m\u001b[0;34m,\u001b[0m\u001b[0;34m\u001b[0m\u001b[0;34m\u001b[0m\u001b[0m\n\u001b[1;32m      3\u001b[0m                                      \u001b[0mkind\u001b[0m \u001b[0;34m=\u001b[0m \u001b[0;34m\"classification\"\u001b[0m\u001b[0;34m,\u001b[0m\u001b[0;34m\u001b[0m\u001b[0;34m\u001b[0m\u001b[0m\n\u001b[1;32m      4\u001b[0m                                      \u001b[0mstypes\u001b[0m \u001b[0;34m=\u001b[0m \u001b[0mstypes\u001b[0m\u001b[0;34m,\u001b[0m\u001b[0;34m\u001b[0m\u001b[0;34m\u001b[0m\u001b[0m\n\u001b[1;32m      5\u001b[0m                                      \u001b[0mn_epochs\u001b[0m \u001b[0;34m=\u001b[0m \u001b[0;36m100\u001b[0m\u001b[0;34m,\u001b[0m\u001b[0;34m\u001b[0m\u001b[0;34m\u001b[0m\u001b[0m\n",
      "\u001b[0;32m~/repos/qlattice-clinical-omics-paper/notebooks/_crossvalidation.py\u001b[0m in \u001b[0;36mcrossvalidation_as_framework\u001b[0;34m(df, target, n_folds, random_state, use_sample_weights, **kwargs)\u001b[0m\n\u001b[1;32m    122\u001b[0m         \u001b[0mql\u001b[0m \u001b[0;34m=\u001b[0m \u001b[0mfeyn\u001b[0m\u001b[0;34m.\u001b[0m\u001b[0mconnect_qlattice\u001b[0m\u001b[0;34m(\u001b[0m\u001b[0;34m)\u001b[0m\u001b[0;34m\u001b[0m\u001b[0;34m\u001b[0m\u001b[0m\n\u001b[1;32m    123\u001b[0m         \u001b[0mql\u001b[0m\u001b[0;34m.\u001b[0m\u001b[0mreset\u001b[0m\u001b[0;34m(\u001b[0m\u001b[0;36m42\u001b[0m\u001b[0;34m)\u001b[0m\u001b[0;34m\u001b[0m\u001b[0;34m\u001b[0m\u001b[0m\n\u001b[0;32m--> 124\u001b[0;31m         \u001b[0mmodels\u001b[0m \u001b[0;34m=\u001b[0m \u001b[0mql\u001b[0m\u001b[0;34m.\u001b[0m\u001b[0mauto_run\u001b[0m\u001b[0;34m(\u001b[0m\u001b[0mtrain\u001b[0m\u001b[0;34m,\u001b[0m \u001b[0mtarget\u001b[0m\u001b[0;34m,\u001b[0m \u001b[0msample_weights\u001b[0m\u001b[0;34m=\u001b[0m\u001b[0msample_weights\u001b[0m\u001b[0;34m,\u001b[0m \u001b[0;34m**\u001b[0m\u001b[0mkwargs\u001b[0m\u001b[0;34m)\u001b[0m\u001b[0;34m\u001b[0m\u001b[0;34m\u001b[0m\u001b[0m\n\u001b[0m\u001b[1;32m    125\u001b[0m \u001b[0;34m\u001b[0m\u001b[0m\n\u001b[1;32m    126\u001b[0m         \u001b[0;32mfor\u001b[0m \u001b[0mj\u001b[0m \u001b[0;32min\u001b[0m \u001b[0mmodels\u001b[0m\u001b[0;34m:\u001b[0m\u001b[0;34m\u001b[0m\u001b[0;34m\u001b[0m\u001b[0m\n",
      "\u001b[0;32m~/repos/qlattice-clinical-omics-paper/venv/lib/python3.8/site-packages/feyn/_typings.py\u001b[0m in \u001b[0;36mwrapper\u001b[0;34m(*args, **kwargs)\u001b[0m\n\u001b[1;32m     53\u001b[0m                     \u001b[0mprint\u001b[0m\u001b[0;34m(\u001b[0m\u001b[0;34m\"---\"\u001b[0m\u001b[0;34m)\u001b[0m\u001b[0;34m\u001b[0m\u001b[0;34m\u001b[0m\u001b[0m\n\u001b[1;32m     54\u001b[0m \u001b[0;34m\u001b[0m\u001b[0m\n\u001b[0;32m---> 55\u001b[0;31m             \u001b[0;32mreturn\u001b[0m \u001b[0mfunc\u001b[0m\u001b[0;34m(\u001b[0m\u001b[0;34m*\u001b[0m\u001b[0margs\u001b[0m\u001b[0;34m,\u001b[0m \u001b[0;34m**\u001b[0m\u001b[0mkwargs\u001b[0m\u001b[0;34m)\u001b[0m\u001b[0;34m\u001b[0m\u001b[0;34m\u001b[0m\u001b[0m\n\u001b[0m\u001b[1;32m     56\u001b[0m \u001b[0;34m\u001b[0m\u001b[0m\n\u001b[1;32m     57\u001b[0m         \u001b[0;32mreturn\u001b[0m \u001b[0mwrapper\u001b[0m\u001b[0;34m\u001b[0m\u001b[0;34m\u001b[0m\u001b[0m\n",
      "\u001b[0;32m~/repos/qlattice-clinical-omics-paper/venv/lib/python3.8/site-packages/feyn/_qlattice.py\u001b[0m in \u001b[0;36mauto_run\u001b[0;34m(self, data, output_name, kind, stypes, n_epochs, threads, max_complexity, query_string, loss_function, criterion, sample_weights, function_names, starting_models)\u001b[0m\n\u001b[1;32m    313\u001b[0m         \u001b[0mm_count\u001b[0m \u001b[0;34m=\u001b[0m \u001b[0mlen\u001b[0m\u001b[0;34m(\u001b[0m\u001b[0mmodels\u001b[0m\u001b[0;34m)\u001b[0m\u001b[0;34m\u001b[0m\u001b[0;34m\u001b[0m\u001b[0m\n\u001b[1;32m    314\u001b[0m \u001b[0;34m\u001b[0m\u001b[0m\n\u001b[0;32m--> 315\u001b[0;31m         \u001b[0mpriors\u001b[0m \u001b[0;34m=\u001b[0m \u001b[0mfeyn\u001b[0m\u001b[0;34m.\u001b[0m\u001b[0mtools\u001b[0m\u001b[0;34m.\u001b[0m\u001b[0mestimate_priors\u001b[0m\u001b[0;34m(\u001b[0m\u001b[0mdata\u001b[0m\u001b[0;34m,\u001b[0m \u001b[0moutput_name\u001b[0m\u001b[0;34m)\u001b[0m\u001b[0;34m\u001b[0m\u001b[0;34m\u001b[0m\u001b[0m\n\u001b[0m\u001b[1;32m    316\u001b[0m         \u001b[0mself\u001b[0m\u001b[0;34m.\u001b[0m\u001b[0mupdate_priors\u001b[0m\u001b[0;34m(\u001b[0m\u001b[0mpriors\u001b[0m\u001b[0;34m)\u001b[0m\u001b[0;34m\u001b[0m\u001b[0;34m\u001b[0m\u001b[0m\n\u001b[1;32m    317\u001b[0m \u001b[0;34m\u001b[0m\u001b[0m\n",
      "\u001b[0;32m~/repos/qlattice-clinical-omics-paper/venv/lib/python3.8/site-packages/feyn/tools/_data.py\u001b[0m in \u001b[0;36mestimate_priors\u001b[0;34m(df, output_name, floor)\u001b[0m\n\u001b[1;32m    104\u001b[0m     \u001b[0;31m# Compute mutual information\u001b[0m\u001b[0;34m\u001b[0m\u001b[0;34m\u001b[0m\u001b[0;34m\u001b[0m\u001b[0m\n\u001b[1;32m    105\u001b[0m     \u001b[0;32mfor\u001b[0m \u001b[0minput\u001b[0m \u001b[0;32min\u001b[0m \u001b[0minputs\u001b[0m\u001b[0;34m:\u001b[0m\u001b[0;34m\u001b[0m\u001b[0;34m\u001b[0m\u001b[0m\n\u001b[0;32m--> 106\u001b[0;31m         \u001b[0mv\u001b[0m \u001b[0;34m=\u001b[0m \u001b[0mdf\u001b[0m\u001b[0;34m[\u001b[0m\u001b[0;34m[\u001b[0m\u001b[0minput\u001b[0m\u001b[0;34m,\u001b[0m \u001b[0moutput_name\u001b[0m\u001b[0;34m]\u001b[0m\u001b[0;34m]\u001b[0m\u001b[0;34m.\u001b[0m\u001b[0mvalues\u001b[0m\u001b[0;34m.\u001b[0m\u001b[0mT\u001b[0m\u001b[0;34m\u001b[0m\u001b[0;34m\u001b[0m\u001b[0m\n\u001b[0m\u001b[1;32m    107\u001b[0m         \u001b[0mmi\u001b[0m \u001b[0;34m=\u001b[0m \u001b[0mfeyn\u001b[0m\u001b[0;34m.\u001b[0m\u001b[0mmetrics\u001b[0m\u001b[0;34m.\u001b[0m\u001b[0mcalculate_mi\u001b[0m\u001b[0;34m(\u001b[0m\u001b[0mv\u001b[0m\u001b[0;34m,\u001b[0m \u001b[0mfloat_bins\u001b[0m\u001b[0;34m=\u001b[0m\u001b[0;36m5\u001b[0m\u001b[0;34m)\u001b[0m\u001b[0;34m\u001b[0m\u001b[0;34m\u001b[0m\u001b[0m\n\u001b[1;32m    108\u001b[0m         \u001b[0mres\u001b[0m\u001b[0;34m.\u001b[0m\u001b[0mappend\u001b[0m\u001b[0;34m(\u001b[0m\u001b[0mmi\u001b[0m\u001b[0;34m)\u001b[0m\u001b[0;34m\u001b[0m\u001b[0;34m\u001b[0m\u001b[0m\n",
      "\u001b[0;32m~/repos/qlattice-clinical-omics-paper/venv/lib/python3.8/site-packages/pandas/core/frame.py\u001b[0m in \u001b[0;36m__getitem__\u001b[0;34m(self, key)\u001b[0m\n\u001b[1;32m   3462\u001b[0m             \u001b[0;32mif\u001b[0m \u001b[0mis_iterator\u001b[0m\u001b[0;34m(\u001b[0m\u001b[0mkey\u001b[0m\u001b[0;34m)\u001b[0m\u001b[0;34m:\u001b[0m\u001b[0;34m\u001b[0m\u001b[0;34m\u001b[0m\u001b[0m\n\u001b[1;32m   3463\u001b[0m                 \u001b[0mkey\u001b[0m \u001b[0;34m=\u001b[0m \u001b[0mlist\u001b[0m\u001b[0;34m(\u001b[0m\u001b[0mkey\u001b[0m\u001b[0;34m)\u001b[0m\u001b[0;34m\u001b[0m\u001b[0;34m\u001b[0m\u001b[0m\n\u001b[0;32m-> 3464\u001b[0;31m             \u001b[0mindexer\u001b[0m \u001b[0;34m=\u001b[0m \u001b[0mself\u001b[0m\u001b[0;34m.\u001b[0m\u001b[0mloc\u001b[0m\u001b[0;34m.\u001b[0m\u001b[0m_get_listlike_indexer\u001b[0m\u001b[0;34m(\u001b[0m\u001b[0mkey\u001b[0m\u001b[0;34m,\u001b[0m \u001b[0maxis\u001b[0m\u001b[0;34m=\u001b[0m\u001b[0;36m1\u001b[0m\u001b[0;34m)\u001b[0m\u001b[0;34m[\u001b[0m\u001b[0;36m1\u001b[0m\u001b[0;34m]\u001b[0m\u001b[0;34m\u001b[0m\u001b[0;34m\u001b[0m\u001b[0m\n\u001b[0m\u001b[1;32m   3465\u001b[0m \u001b[0;34m\u001b[0m\u001b[0m\n\u001b[1;32m   3466\u001b[0m         \u001b[0;31m# take() does not accept boolean indexers\u001b[0m\u001b[0;34m\u001b[0m\u001b[0;34m\u001b[0m\u001b[0;34m\u001b[0m\u001b[0m\n",
      "\u001b[0;32m~/repos/qlattice-clinical-omics-paper/venv/lib/python3.8/site-packages/pandas/core/indexing.py\u001b[0m in \u001b[0;36m_get_listlike_indexer\u001b[0;34m(self, key, axis)\u001b[0m\n\u001b[1;32m   1307\u001b[0m \u001b[0;34m\u001b[0m\u001b[0m\n\u001b[1;32m   1308\u001b[0m         \u001b[0;32mif\u001b[0m \u001b[0max\u001b[0m\u001b[0;34m.\u001b[0m\u001b[0m_index_as_unique\u001b[0m\u001b[0;34m:\u001b[0m\u001b[0;34m\u001b[0m\u001b[0;34m\u001b[0m\u001b[0m\n\u001b[0;32m-> 1309\u001b[0;31m             \u001b[0mindexer\u001b[0m \u001b[0;34m=\u001b[0m \u001b[0max\u001b[0m\u001b[0;34m.\u001b[0m\u001b[0mget_indexer_for\u001b[0m\u001b[0;34m(\u001b[0m\u001b[0mkeyarr\u001b[0m\u001b[0;34m)\u001b[0m\u001b[0;34m\u001b[0m\u001b[0;34m\u001b[0m\u001b[0m\n\u001b[0m\u001b[1;32m   1310\u001b[0m             \u001b[0mkeyarr\u001b[0m \u001b[0;34m=\u001b[0m \u001b[0max\u001b[0m\u001b[0;34m.\u001b[0m\u001b[0mreindex\u001b[0m\u001b[0;34m(\u001b[0m\u001b[0mkeyarr\u001b[0m\u001b[0;34m)\u001b[0m\u001b[0;34m[\u001b[0m\u001b[0;36m0\u001b[0m\u001b[0;34m]\u001b[0m\u001b[0;34m\u001b[0m\u001b[0;34m\u001b[0m\u001b[0m\n\u001b[1;32m   1311\u001b[0m         \u001b[0;32melse\u001b[0m\u001b[0;34m:\u001b[0m\u001b[0;34m\u001b[0m\u001b[0;34m\u001b[0m\u001b[0m\n",
      "\u001b[0;32m~/repos/qlattice-clinical-omics-paper/venv/lib/python3.8/site-packages/pandas/core/indexes/base.py\u001b[0m in \u001b[0;36mget_indexer_for\u001b[0;34m(self, target, **kwargs)\u001b[0m\n\u001b[1;32m   5273\u001b[0m         \"\"\"\n\u001b[1;32m   5274\u001b[0m         \u001b[0;32mif\u001b[0m \u001b[0mself\u001b[0m\u001b[0;34m.\u001b[0m\u001b[0m_index_as_unique\u001b[0m\u001b[0;34m:\u001b[0m\u001b[0;34m\u001b[0m\u001b[0;34m\u001b[0m\u001b[0m\n\u001b[0;32m-> 5275\u001b[0;31m             \u001b[0;32mreturn\u001b[0m \u001b[0mself\u001b[0m\u001b[0;34m.\u001b[0m\u001b[0mget_indexer\u001b[0m\u001b[0;34m(\u001b[0m\u001b[0mtarget\u001b[0m\u001b[0;34m,\u001b[0m \u001b[0;34m**\u001b[0m\u001b[0mkwargs\u001b[0m\u001b[0;34m)\u001b[0m\u001b[0;34m\u001b[0m\u001b[0;34m\u001b[0m\u001b[0m\n\u001b[0m\u001b[1;32m   5276\u001b[0m         \u001b[0mindexer\u001b[0m\u001b[0;34m,\u001b[0m \u001b[0m_\u001b[0m \u001b[0;34m=\u001b[0m \u001b[0mself\u001b[0m\u001b[0;34m.\u001b[0m\u001b[0mget_indexer_non_unique\u001b[0m\u001b[0;34m(\u001b[0m\u001b[0mtarget\u001b[0m\u001b[0;34m)\u001b[0m\u001b[0;34m\u001b[0m\u001b[0;34m\u001b[0m\u001b[0m\n\u001b[1;32m   5277\u001b[0m         \u001b[0;32mreturn\u001b[0m \u001b[0mindexer\u001b[0m\u001b[0;34m\u001b[0m\u001b[0;34m\u001b[0m\u001b[0m\n",
      "\u001b[0;32m~/repos/qlattice-clinical-omics-paper/venv/lib/python3.8/site-packages/pandas/core/indexes/base.py\u001b[0m in \u001b[0;36mget_indexer\u001b[0;34m(self, target, method, limit, tolerance)\u001b[0m\n\u001b[1;32m   3435\u001b[0m         \u001b[0;31m# returned ndarray is np.intp\u001b[0m\u001b[0;34m\u001b[0m\u001b[0;34m\u001b[0m\u001b[0;34m\u001b[0m\u001b[0m\n\u001b[1;32m   3436\u001b[0m         \u001b[0mmethod\u001b[0m \u001b[0;34m=\u001b[0m \u001b[0mmissing\u001b[0m\u001b[0;34m.\u001b[0m\u001b[0mclean_reindex_fill_method\u001b[0m\u001b[0;34m(\u001b[0m\u001b[0mmethod\u001b[0m\u001b[0;34m)\u001b[0m\u001b[0;34m\u001b[0m\u001b[0;34m\u001b[0m\u001b[0m\n\u001b[0;32m-> 3437\u001b[0;31m         \u001b[0mtarget\u001b[0m \u001b[0;34m=\u001b[0m \u001b[0mself\u001b[0m\u001b[0;34m.\u001b[0m\u001b[0m_maybe_cast_listlike_indexer\u001b[0m\u001b[0;34m(\u001b[0m\u001b[0mtarget\u001b[0m\u001b[0;34m)\u001b[0m\u001b[0;34m\u001b[0m\u001b[0;34m\u001b[0m\u001b[0m\n\u001b[0m\u001b[1;32m   3438\u001b[0m \u001b[0;34m\u001b[0m\u001b[0m\n\u001b[1;32m   3439\u001b[0m         \u001b[0mself\u001b[0m\u001b[0;34m.\u001b[0m\u001b[0m_check_indexing_method\u001b[0m\u001b[0;34m(\u001b[0m\u001b[0mmethod\u001b[0m\u001b[0;34m,\u001b[0m \u001b[0mlimit\u001b[0m\u001b[0;34m,\u001b[0m \u001b[0mtolerance\u001b[0m\u001b[0;34m)\u001b[0m\u001b[0;34m\u001b[0m\u001b[0;34m\u001b[0m\u001b[0m\n",
      "\u001b[0;32m~/repos/qlattice-clinical-omics-paper/venv/lib/python3.8/site-packages/pandas/core/indexes/base.py\u001b[0m in \u001b[0;36m_maybe_cast_listlike_indexer\u001b[0;34m(self, target)\u001b[0m\n\u001b[1;32m   5706\u001b[0m         \u001b[0mAnalogue\u001b[0m \u001b[0mto\u001b[0m \u001b[0mmaybe_cast_indexer\u001b[0m \u001b[0;32mfor\u001b[0m \u001b[0mget_indexer\u001b[0m \u001b[0minstead\u001b[0m \u001b[0mof\u001b[0m \u001b[0mget_loc\u001b[0m\u001b[0;34m.\u001b[0m\u001b[0;34m\u001b[0m\u001b[0;34m\u001b[0m\u001b[0m\n\u001b[1;32m   5707\u001b[0m         \"\"\"\n\u001b[0;32m-> 5708\u001b[0;31m         \u001b[0;32mreturn\u001b[0m \u001b[0mensure_index\u001b[0m\u001b[0;34m(\u001b[0m\u001b[0mtarget\u001b[0m\u001b[0;34m)\u001b[0m\u001b[0;34m\u001b[0m\u001b[0;34m\u001b[0m\u001b[0m\n\u001b[0m\u001b[1;32m   5709\u001b[0m \u001b[0;34m\u001b[0m\u001b[0m\n\u001b[1;32m   5710\u001b[0m     \u001b[0;34m@\u001b[0m\u001b[0mfinal\u001b[0m\u001b[0;34m\u001b[0m\u001b[0;34m\u001b[0m\u001b[0m\n",
      "\u001b[0;32m~/repos/qlattice-clinical-omics-paper/venv/lib/python3.8/site-packages/pandas/core/indexes/base.py\u001b[0m in \u001b[0;36mensure_index\u001b[0;34m(index_like, copy)\u001b[0m\n\u001b[1;32m   6334\u001b[0m     \u001b[0;32melse\u001b[0m\u001b[0;34m:\u001b[0m\u001b[0;34m\u001b[0m\u001b[0;34m\u001b[0m\u001b[0m\n\u001b[1;32m   6335\u001b[0m \u001b[0;34m\u001b[0m\u001b[0m\n\u001b[0;32m-> 6336\u001b[0;31m         \u001b[0;32mreturn\u001b[0m \u001b[0mIndex\u001b[0m\u001b[0;34m(\u001b[0m\u001b[0mindex_like\u001b[0m\u001b[0;34m,\u001b[0m \u001b[0mcopy\u001b[0m\u001b[0;34m=\u001b[0m\u001b[0mcopy\u001b[0m\u001b[0;34m)\u001b[0m\u001b[0;34m\u001b[0m\u001b[0;34m\u001b[0m\u001b[0m\n\u001b[0m\u001b[1;32m   6337\u001b[0m \u001b[0;34m\u001b[0m\u001b[0m\n\u001b[1;32m   6338\u001b[0m \u001b[0;34m\u001b[0m\u001b[0m\n",
      "\u001b[0;32m~/repos/qlattice-clinical-omics-paper/venv/lib/python3.8/site-packages/pandas/core/indexes/base.py\u001b[0m in \u001b[0;36m__new__\u001b[0;34m(cls, data, dtype, copy, name, tupleize_cols, **kwargs)\u001b[0m\n\u001b[1;32m    389\u001b[0m         \u001b[0;32mfrom\u001b[0m \u001b[0mpandas\u001b[0m\u001b[0;34m.\u001b[0m\u001b[0mcore\u001b[0m\u001b[0;34m.\u001b[0m\u001b[0mindexes\u001b[0m\u001b[0;34m.\u001b[0m\u001b[0mrange\u001b[0m \u001b[0;32mimport\u001b[0m \u001b[0mRangeIndex\u001b[0m\u001b[0;34m\u001b[0m\u001b[0;34m\u001b[0m\u001b[0m\n\u001b[1;32m    390\u001b[0m \u001b[0;34m\u001b[0m\u001b[0m\n\u001b[0;32m--> 391\u001b[0;31m         \u001b[0mname\u001b[0m \u001b[0;34m=\u001b[0m \u001b[0mmaybe_extract_name\u001b[0m\u001b[0;34m(\u001b[0m\u001b[0mname\u001b[0m\u001b[0;34m,\u001b[0m \u001b[0mdata\u001b[0m\u001b[0;34m,\u001b[0m \u001b[0mcls\u001b[0m\u001b[0;34m)\u001b[0m\u001b[0;34m\u001b[0m\u001b[0;34m\u001b[0m\u001b[0m\n\u001b[0m\u001b[1;32m    392\u001b[0m \u001b[0;34m\u001b[0m\u001b[0m\n\u001b[1;32m    393\u001b[0m         \u001b[0;32mif\u001b[0m \u001b[0mdtype\u001b[0m \u001b[0;32mis\u001b[0m \u001b[0;32mnot\u001b[0m \u001b[0;32mNone\u001b[0m\u001b[0;34m:\u001b[0m\u001b[0;34m\u001b[0m\u001b[0;34m\u001b[0m\u001b[0m\n",
      "\u001b[0;32m~/repos/qlattice-clinical-omics-paper/venv/lib/python3.8/site-packages/pandas/core/indexes/base.py\u001b[0m in \u001b[0;36mmaybe_extract_name\u001b[0;34m(name, obj, cls)\u001b[0m\n\u001b[1;32m   6389\u001b[0m \u001b[0;34m\u001b[0m\u001b[0m\n\u001b[1;32m   6390\u001b[0m     \u001b[0;31m# GH#29069\u001b[0m\u001b[0;34m\u001b[0m\u001b[0;34m\u001b[0m\u001b[0;34m\u001b[0m\u001b[0m\n\u001b[0;32m-> 6391\u001b[0;31m     \u001b[0;32mif\u001b[0m \u001b[0;32mnot\u001b[0m \u001b[0mis_hashable\u001b[0m\u001b[0;34m(\u001b[0m\u001b[0mname\u001b[0m\u001b[0;34m)\u001b[0m\u001b[0;34m:\u001b[0m\u001b[0;34m\u001b[0m\u001b[0;34m\u001b[0m\u001b[0m\n\u001b[0m\u001b[1;32m   6392\u001b[0m         \u001b[0;32mraise\u001b[0m \u001b[0mTypeError\u001b[0m\u001b[0;34m(\u001b[0m\u001b[0;34mf\"{cls.__name__}.name must be a hashable type\"\u001b[0m\u001b[0;34m)\u001b[0m\u001b[0;34m\u001b[0m\u001b[0;34m\u001b[0m\u001b[0m\n\u001b[1;32m   6393\u001b[0m \u001b[0;34m\u001b[0m\u001b[0m\n",
      "\u001b[0;32m~/repos/qlattice-clinical-omics-paper/venv/lib/python3.8/site-packages/pandas/core/dtypes/inference.py\u001b[0m in \u001b[0;36mis_hashable\u001b[0;34m(obj)\u001b[0m\n\u001b[1;32m    350\u001b[0m \u001b[0;34m\u001b[0m\u001b[0m\n\u001b[1;32m    351\u001b[0m     \u001b[0;32mtry\u001b[0m\u001b[0;34m:\u001b[0m\u001b[0;34m\u001b[0m\u001b[0;34m\u001b[0m\u001b[0m\n\u001b[0;32m--> 352\u001b[0;31m         \u001b[0mhash\u001b[0m\u001b[0;34m(\u001b[0m\u001b[0mobj\u001b[0m\u001b[0;34m)\u001b[0m\u001b[0;34m\u001b[0m\u001b[0;34m\u001b[0m\u001b[0m\n\u001b[0m\u001b[1;32m    353\u001b[0m     \u001b[0;32mexcept\u001b[0m \u001b[0mTypeError\u001b[0m\u001b[0;34m:\u001b[0m\u001b[0;34m\u001b[0m\u001b[0;34m\u001b[0m\u001b[0m\n\u001b[1;32m    354\u001b[0m         \u001b[0;32mreturn\u001b[0m \u001b[0;32mFalse\u001b[0m\u001b[0;34m\u001b[0m\u001b[0;34m\u001b[0m\u001b[0m\n",
      "\u001b[0;31mKeyboardInterrupt\u001b[0m: "
     ]
    }
   ],
   "source": [
    "results = crossvalidation_as_framework(data,\n",
    "                                     target,\n",
    "                                     kind = \"classification\",\n",
    "                                     stypes = stypes,\n",
    "                                     n_epochs = 100,\n",
    "                                     criterion='bic',\n",
    "                                     max_complexity = 3)"
   ]
  },
  {
   "cell_type": "code",
   "execution_count": 12,
   "id": "e369b773-976b-47d3-b093-bd50832bdebb",
   "metadata": {},
   "outputs": [
    {
     "data": {
      "text/plain": [
       "(0.6183480214152156, 0.6313666034560834)"
      ]
     },
     "execution_count": 12,
     "metadata": {},
     "output_type": "execute_result"
    }
   ],
   "source": [
    "results.groupby(\"fold\").first().roc_auc_val.mean(), results.roc_auc_val.mean()"
   ]
  },
  {
   "cell_type": "code",
   "execution_count": 17,
   "id": "f97e54f2-e50c-4116-892c-a49aa21a2038",
   "metadata": {},
   "outputs": [
    {
     "name": "stdout",
     "output_type": "stream",
     "text": [
      "logreg((cnCLDN19 + muGPR98)*(rsCIDEC*rsPIK3C2G + rsSLC7A4))\n",
      "logreg((rsALOX15 + rsIGSF1)*(rsALOX15B + rsAPOB + rsTRPV6))\n",
      "logreg(tanh(rsKLK8*(muPDZD2 + rsTMPRSS4 + exp(-cnSLC13A2**2 - rsLGALS12**2))))\n",
      "logreg(cnTGFBR3*rsPOF1B + rsFGFBP1*(rsSLC6A15 + tanh(rsCIDEC)))\n",
      "logreg(tanh(cnABCC6 + rsMAGEA3 + rsSLC28A3*(rsCACNG4 + rsGLYAT)))\n"
     ]
    }
   ],
   "source": [
    "for model in results.groupby(\"fold\").first().model_structure:\n",
    "    print(model)"
   ]
  },
  {
   "cell_type": "markdown",
   "id": "202f0903-9b4e-4e5f-85a2-d3510f800e57",
   "metadata": {},
   "source": [
    "### Larger models (default options)"
   ]
  },
  {
   "cell_type": "code",
   "execution_count": 18,
   "id": "68bb0099-5540-49f1-8373-35423b8f4c46",
   "metadata": {},
   "outputs": [
    {
     "data": {
      "text/html": [
       "<?xml version=\"1.0\" encoding=\"utf-8\" ?>\n",
       "<svg baseProfile=\"full\" height=\"220.0\" preserveAspectRatio=\"none\" version=\"1.1\" viewBox=\"0 0 711 220.0\" width=\"711\" xmlns=\"http://www.w3.org/2000/svg\" xmlns:ev=\"http://www.w3.org/2001/xml-events\" xmlns:xlink=\"http://www.w3.org/1999/xlink\"><defs /><svg class=\"graph\" height=\"215.0\" width=\"711\" x=\"0\" y=\"0\"><defs /><text fill=\"#1E1E1E\" font-family=\"monospace\" font-size=\"12\" text-anchor=\"middle\" x=\"646.0\" y=\"129.0\">Loss: 5.46E-01</text><text fill=\"#1E1E1E\" font-family=\"monospace\" font-size=\"12\" text-anchor=\"start\" x=\"0\" y=\"205.0\">Epoch no. 100/100 - Tried 110746 models - Completed in 4m 31s.</text><rect class=\"node\" fill=\"#00F082\" height=\"35\" stroke=\"#1E1E1E\" stroke-width=\"1\" width=\"90\" x=\"601\" y=\"80.0\"><title>vital.status\n",
       "logistic:\n",
       "w=-0.9666\n",
       "bias=1.4492</title></rect><text fill=\"#1E1E1E\" font-family=\"monospace\" font-size=\"12\" style=\"pointer-events:none\" text-anchor=\"middle\" x=\"646.0\" y=\"101.5\">vital.st..</text><text fill=\"#1E1E1E\" font-family=\"monospace\" font-size=\"10\" style=\"pointer-events:none\" text-anchor=\"end\" x=\"689\" y=\"89.0\">0</text><text fill=\"#1E1E1E\" font-family=\"monospace\" font-size=\"10\" style=\"pointer-events:none\" text-anchor=\"start\" x=\"603\" y=\"89.0\">out</text><line stroke=\"#1E1E1E\" x1=\"571\" x2=\"601\" y1=\"97.5\" y2=\"97.5\" /><rect class=\"node\" fill=\"#FAFAFA\" height=\"35\" stroke=\"#FF1EC8\" stroke-width=\"1\" width=\"90\" x=\"481\" y=\"80.0\"><title>add</title></rect><text fill=\"#1E1E1E\" font-family=\"monospace\" font-size=\"12\" style=\"pointer-events:none\" text-anchor=\"middle\" x=\"526.0\" y=\"101.5\">add</text><text fill=\"#1E1E1E\" font-family=\"monospace\" font-size=\"10\" style=\"pointer-events:none\" text-anchor=\"end\" x=\"569\" y=\"89.0\">1</text><line stroke=\"#1E1E1E\" x1=\"451\" x2=\"481\" y1=\"67.5\" y2=\"88.5\" /><line stroke=\"#1E1E1E\" x1=\"451\" x2=\"481\" y1=\"127.5\" y2=\"106.5\" /><rect class=\"node\" fill=\"#FAFAFA\" height=\"35\" stroke=\"#FF1EC8\" stroke-width=\"1\" width=\"90\" x=\"361\" y=\"50.0\"><title>add</title></rect><text fill=\"#1E1E1E\" font-family=\"monospace\" font-size=\"12\" style=\"pointer-events:none\" text-anchor=\"middle\" x=\"406.0\" y=\"71.5\">add</text><text fill=\"#1E1E1E\" font-family=\"monospace\" font-size=\"10\" style=\"pointer-events:none\" text-anchor=\"end\" x=\"449\" y=\"59.0\">2</text><line stroke=\"#1E1E1E\" x1=\"331\" x2=\"361\" y1=\"37.5\" y2=\"58.5\" /><line stroke=\"#1E1E1E\" x1=\"331\" x2=\"361\" y1=\"97.5\" y2=\"76.5\" /><rect class=\"node\" fill=\"#FAFAFA\" height=\"35\" stroke=\"#FF1EC8\" stroke-width=\"1\" width=\"90\" x=\"241\" y=\"20.0\"><title>add</title></rect><text fill=\"#1E1E1E\" font-family=\"monospace\" font-size=\"12\" style=\"pointer-events:none\" text-anchor=\"middle\" x=\"286.0\" y=\"41.5\">add</text><text fill=\"#1E1E1E\" font-family=\"monospace\" font-size=\"10\" style=\"pointer-events:none\" text-anchor=\"end\" x=\"329\" y=\"29.0\">3</text><line stroke=\"#1E1E1E\" x1=\"211\" x2=\"241\" y1=\"67.5\" y2=\"28.5\" /><line stroke=\"#1E1E1E\" x1=\"211\" x2=\"241\" y1=\"127.5\" y2=\"46.5\" /><rect class=\"node\" fill=\"#FAFAFA\" height=\"35\" stroke=\"#FF1EC8\" stroke-width=\"1\" width=\"90\" x=\"121\" y=\"50.0\"><title>add</title></rect><text fill=\"#1E1E1E\" font-family=\"monospace\" font-size=\"12\" style=\"pointer-events:none\" text-anchor=\"middle\" x=\"166.0\" y=\"71.5\">add</text><text fill=\"#1E1E1E\" font-family=\"monospace\" font-size=\"10\" style=\"pointer-events:none\" text-anchor=\"end\" x=\"209\" y=\"59.0\">4</text><line stroke=\"#1E1E1E\" x1=\"91\" x2=\"121\" y1=\"67.5\" y2=\"58.5\" /><line stroke=\"#1E1E1E\" x1=\"91\" x2=\"121\" y1=\"127.5\" y2=\"76.5\" /><rect class=\"node\" fill=\"#00F082\" height=\"35\" stroke=\"#1E1E1E\" stroke-width=\"1\" width=\"90\" x=\"1\" y=\"50.0\"><title>rs_CYP4Z2P\n",
       "linear:\n",
       "scale=0.159849\n",
       "scale offset=6.183770\n",
       "w=-1.602957\n",
       "bias=1.0881</title></rect><text fill=\"#1E1E1E\" font-family=\"monospace\" font-size=\"12\" style=\"pointer-events:none\" text-anchor=\"middle\" x=\"46.0\" y=\"71.5\">rs_CYP4Z..</text><text fill=\"#1E1E1E\" font-family=\"monospace\" font-size=\"10\" style=\"pointer-events:none\" text-anchor=\"end\" x=\"89\" y=\"59.0\">5</text><text fill=\"#1E1E1E\" font-family=\"monospace\" font-size=\"10\" style=\"pointer-events:none\" text-anchor=\"start\" x=\"3\" y=\"59.0\">num</text><rect class=\"node\" fill=\"#00F082\" height=\"35\" stroke=\"#1E1E1E\" stroke-width=\"1\" width=\"90\" x=\"1\" y=\"110.0\"><title>rs_PLA2G2D\n",
       "linear:\n",
       "scale=0.160353\n",
       "scale offset=4.714622\n",
       "w=1.716542\n",
       "bias=1.1644</title></rect><text fill=\"#1E1E1E\" font-family=\"monospace\" font-size=\"12\" style=\"pointer-events:none\" text-anchor=\"middle\" x=\"46.0\" y=\"131.5\">rs_PLA2G..</text><text fill=\"#1E1E1E\" font-family=\"monospace\" font-size=\"10\" style=\"pointer-events:none\" text-anchor=\"end\" x=\"89\" y=\"119.0\">6</text><text fill=\"#1E1E1E\" font-family=\"monospace\" font-size=\"10\" style=\"pointer-events:none\" text-anchor=\"start\" x=\"3\" y=\"119.0\">num</text><rect class=\"node\" fill=\"#00F082\" height=\"35\" stroke=\"#1E1E1E\" stroke-width=\"1\" width=\"90\" x=\"121\" y=\"110.0\"><title>cn_TNFRSF11B\n",
       "linear:\n",
       "scale=0.500000\n",
       "scale offset=0.778369\n",
       "w=-1.586376\n",
       "bias=-1.0532</title></rect><text fill=\"#1E1E1E\" font-family=\"monospace\" font-size=\"12\" style=\"pointer-events:none\" text-anchor=\"middle\" x=\"166.0\" y=\"131.5\">cn_TNFRS..</text><text fill=\"#1E1E1E\" font-family=\"monospace\" font-size=\"10\" style=\"pointer-events:none\" text-anchor=\"end\" x=\"209\" y=\"119.0\">7</text><text fill=\"#1E1E1E\" font-family=\"monospace\" font-size=\"10\" style=\"pointer-events:none\" text-anchor=\"start\" x=\"123\" y=\"119.0\">num</text><rect class=\"node\" fill=\"#00F082\" height=\"35\" stroke=\"#1E1E1E\" stroke-width=\"1\" width=\"90\" x=\"241\" y=\"80.0\"><title>rs_PCOLCE2\n",
       "linear:\n",
       "scale=0.150425\n",
       "scale offset=5.620655\n",
       "w=-2.177957\n",
       "bias=0.5101</title></rect><text fill=\"#1E1E1E\" font-family=\"monospace\" font-size=\"12\" style=\"pointer-events:none\" text-anchor=\"middle\" x=\"286.0\" y=\"101.5\">rs_PCOLC..</text><text fill=\"#1E1E1E\" font-family=\"monospace\" font-size=\"10\" style=\"pointer-events:none\" text-anchor=\"end\" x=\"329\" y=\"89.0\">8</text><text fill=\"#1E1E1E\" font-family=\"monospace\" font-size=\"10\" style=\"pointer-events:none\" text-anchor=\"start\" x=\"243\" y=\"89.0\">num</text><rect class=\"node\" fill=\"#FAFAFA\" height=\"35\" stroke=\"#FF1EC8\" stroke-width=\"1\" width=\"90\" x=\"361\" y=\"110.0\"><title>squared</title></rect><text fill=\"#1E1E1E\" font-family=\"monospace\" font-size=\"12\" style=\"pointer-events:none\" text-anchor=\"middle\" x=\"406.0\" y=\"131.5\">squared</text><text fill=\"#1E1E1E\" font-family=\"monospace\" font-size=\"10\" style=\"pointer-events:none\" text-anchor=\"end\" x=\"449\" y=\"119.0\">9</text><line stroke=\"#1E1E1E\" x1=\"331\" x2=\"361\" y1=\"157.5\" y2=\"127.5\" /><rect class=\"node\" fill=\"#00F082\" height=\"35\" stroke=\"#1E1E1E\" stroke-width=\"1\" width=\"90\" x=\"241\" y=\"140.0\"><title>pp_MSH6\n",
       "linear:\n",
       "scale=0.518280\n",
       "scale offset=0.019021\n",
       "w=-1.598199\n",
       "bias=0.3110</title></rect><text fill=\"#1E1E1E\" font-family=\"monospace\" font-size=\"12\" style=\"pointer-events:none\" text-anchor=\"middle\" x=\"286.0\" y=\"161.5\">pp_MSH6</text><text fill=\"#1E1E1E\" font-family=\"monospace\" font-size=\"10\" style=\"pointer-events:none\" text-anchor=\"end\" x=\"329\" y=\"149.0\">10</text><text fill=\"#1E1E1E\" font-family=\"monospace\" font-size=\"10\" style=\"pointer-events:none\" text-anchor=\"start\" x=\"243\" y=\"149.0\">num</text></svg></svg>"
      ],
      "text/plain": [
       "<IPython.core.display.HTML object>"
      ]
     },
     "metadata": {},
     "output_type": "display_data"
    }
   ],
   "source": [
    "results100 = crossvalidation_as_framework(data,\n",
    "                                     target,\n",
    "                                     kind = \"classification\",\n",
    "                                     stypes = stypes,\n",
    "                                     n_epochs = 100,\n",
    "                                     criterion='bic')"
   ]
  },
  {
   "cell_type": "code",
   "execution_count": 22,
   "id": "e870eb9f-0241-443d-b340-6989421fd1ec",
   "metadata": {},
   "outputs": [
    {
     "data": {
      "text/plain": [
       "(0.6183480214152156, 0.6313666034560834)"
      ]
     },
     "execution_count": 22,
     "metadata": {},
     "output_type": "execute_result"
    }
   ],
   "source": [
    "results.groupby(\"fold\").first().roc_auc_val.mean(), results.roc_auc_val.mean()"
   ]
  },
  {
   "cell_type": "code",
   "execution_count": 19,
   "id": "faeb793f-86df-4f28-99fa-d150ab0375bb",
   "metadata": {},
   "outputs": [
    {
     "name": "stdout",
     "output_type": "stream",
     "text": [
      "logreg(rsPTCHD1*(cnADAMTS16 + muDMD + rsFABP4 + rsSOX2))\n",
      "logreg(rsAPOB*(cnPRODH*(cnCOL14A1 + ppPI3K.p110.alpha) + rsTAT))\n",
      "logreg(cnCLCA2 + rsSLC13A2*(cnSLC30A8 + rsAPOB + rsPAX7))\n",
      "logreg(rsTCN1*(ppp27 + rsDEFB132*rsPTPRZ1 + rsSOX2))\n",
      "logreg(cnTNFRSF11B + ppMSH6**2 + rsCYP4Z2P + rsPCOLCE2 + rsPLA2G2D)\n"
     ]
    }
   ],
   "source": [
    "for model in results100.groupby(\"fold\").first().model_structure:\n",
    "    print(model)"
   ]
  },
  {
   "cell_type": "markdown",
   "id": "0f6bbb33-83d0-410a-bb67-d7dc7e482d40",
   "metadata": {},
   "source": [
    "#### Exploration of best models"
   ]
  },
  {
   "cell_type": "code",
   "execution_count": 35,
   "id": "3f934a0a-6108-4379-b1b8-173f937002f4",
   "metadata": {},
   "outputs": [],
   "source": [
    "ql = feyn.connect_qlattice()\n",
    "ql.reset(random_seed=42)\n"
   ]
  },
  {
   "cell_type": "code",
   "execution_count": null,
   "id": "f7f5ad47-575d-4880-885b-a136c7eb76f3",
   "metadata": {},
   "outputs": [
    {
     "data": {
      "text/html": [
       "<?xml version=\"1.0\" encoding=\"utf-8\" ?>\n",
       "<svg baseProfile=\"full\" height=\"220.0\" preserveAspectRatio=\"none\" version=\"1.1\" viewBox=\"0 0 711 220.0\" width=\"711\" xmlns=\"http://www.w3.org/2000/svg\" xmlns:ev=\"http://www.w3.org/2001/xml-events\" xmlns:xlink=\"http://www.w3.org/1999/xlink\"><defs /><svg class=\"graph\" height=\"215.0\" width=\"711\" x=\"0\" y=\"0\"><defs /><text fill=\"#1E1E1E\" font-family=\"monospace\" font-size=\"12\" text-anchor=\"middle\" x=\"646.0\" y=\"129.0\">Loss: 5.52E-01</text><text fill=\"#1E1E1E\" font-family=\"monospace\" font-size=\"12\" text-anchor=\"start\" x=\"0\" y=\"205.0\">Epoch no. 5/10 - Tried 3818 models - Elapsed: 8s of 17s. (est.)</text><rect class=\"node\" fill=\"#00F082\" height=\"35\" stroke=\"#1E1E1E\" stroke-width=\"1\" width=\"90\" x=\"601\" y=\"80.0\"><title>vital.status\n",
       "logistic:\n",
       "w=-0.9253\n",
       "bias=-0.7597</title></rect><text fill=\"#1E1E1E\" font-family=\"monospace\" font-size=\"12\" style=\"pointer-events:none\" text-anchor=\"middle\" x=\"646.0\" y=\"101.5\">vital.st..</text><text fill=\"#1E1E1E\" font-family=\"monospace\" font-size=\"10\" style=\"pointer-events:none\" text-anchor=\"end\" x=\"689\" y=\"89.0\">0</text><text fill=\"#1E1E1E\" font-family=\"monospace\" font-size=\"10\" style=\"pointer-events:none\" text-anchor=\"start\" x=\"603\" y=\"89.0\">out</text><line stroke=\"#1E1E1E\" x1=\"571\" x2=\"601\" y1=\"97.5\" y2=\"97.5\" /><rect class=\"node\" fill=\"#FAFAFA\" height=\"35\" stroke=\"#FF1EC8\" stroke-width=\"1\" width=\"90\" x=\"481\" y=\"80.0\"><title>add</title></rect><text fill=\"#1E1E1E\" font-family=\"monospace\" font-size=\"12\" style=\"pointer-events:none\" text-anchor=\"middle\" x=\"526.0\" y=\"101.5\">add</text><text fill=\"#1E1E1E\" font-family=\"monospace\" font-size=\"10\" style=\"pointer-events:none\" text-anchor=\"end\" x=\"569\" y=\"89.0\">1</text><line stroke=\"#1E1E1E\" x1=\"451\" x2=\"481\" y1=\"67.5\" y2=\"88.5\" /><line stroke=\"#1E1E1E\" x1=\"451\" x2=\"481\" y1=\"127.5\" y2=\"106.5\" /><rect class=\"node\" fill=\"#00F082\" height=\"35\" stroke=\"#1E1E1E\" stroke-width=\"1\" width=\"90\" x=\"361\" y=\"50.0\"><title>cn_TNFRSF11B\n",
       "linear:\n",
       "scale=0.500000\n",
       "scale offset=0.778369\n",
       "w=-1.644491\n",
       "bias=-1.5936</title></rect><text fill=\"#1E1E1E\" font-family=\"monospace\" font-size=\"12\" style=\"pointer-events:none\" text-anchor=\"middle\" x=\"406.0\" y=\"71.5\">cn_TNFRS..</text><text fill=\"#1E1E1E\" font-family=\"monospace\" font-size=\"10\" style=\"pointer-events:none\" text-anchor=\"end\" x=\"449\" y=\"59.0\">2</text><text fill=\"#1E1E1E\" font-family=\"monospace\" font-size=\"10\" style=\"pointer-events:none\" text-anchor=\"start\" x=\"363\" y=\"59.0\">num</text><rect class=\"node\" fill=\"#FAFAFA\" height=\"35\" stroke=\"#FF1EC8\" stroke-width=\"1\" width=\"90\" x=\"361\" y=\"110.0\"><title>add</title></rect><text fill=\"#1E1E1E\" font-family=\"monospace\" font-size=\"12\" style=\"pointer-events:none\" text-anchor=\"middle\" x=\"406.0\" y=\"131.5\">add</text><text fill=\"#1E1E1E\" font-family=\"monospace\" font-size=\"10\" style=\"pointer-events:none\" text-anchor=\"end\" x=\"449\" y=\"119.0\">3</text><line stroke=\"#1E1E1E\" x1=\"331\" x2=\"361\" y1=\"67.5\" y2=\"118.5\" /><line stroke=\"#1E1E1E\" x1=\"331\" x2=\"361\" y1=\"127.5\" y2=\"136.5\" /><rect class=\"node\" fill=\"#FAFAFA\" height=\"35\" stroke=\"#FF1EC8\" stroke-width=\"1\" width=\"90\" x=\"241\" y=\"50.0\"><title>squared</title></rect><text fill=\"#1E1E1E\" font-family=\"monospace\" font-size=\"12\" style=\"pointer-events:none\" text-anchor=\"middle\" x=\"286.0\" y=\"71.5\">squared</text><text fill=\"#1E1E1E\" font-family=\"monospace\" font-size=\"10\" style=\"pointer-events:none\" text-anchor=\"end\" x=\"329\" y=\"59.0\">4</text><line stroke=\"#1E1E1E\" x1=\"211\" x2=\"241\" y1=\"37.5\" y2=\"67.5\" /><rect class=\"node\" fill=\"#00F082\" height=\"35\" stroke=\"#1E1E1E\" stroke-width=\"1\" width=\"90\" x=\"121\" y=\"20.0\"><title>pp_MSH6\n",
       "linear:\n",
       "scale=0.518280\n",
       "scale offset=0.019021\n",
       "w=-1.633694\n",
       "bias=0.3358</title></rect><text fill=\"#1E1E1E\" font-family=\"monospace\" font-size=\"12\" style=\"pointer-events:none\" text-anchor=\"middle\" x=\"166.0\" y=\"41.5\">pp_MSH6</text><text fill=\"#1E1E1E\" font-family=\"monospace\" font-size=\"10\" style=\"pointer-events:none\" text-anchor=\"end\" x=\"209\" y=\"29.0\">5</text><text fill=\"#1E1E1E\" font-family=\"monospace\" font-size=\"10\" style=\"pointer-events:none\" text-anchor=\"start\" x=\"123\" y=\"29.0\">num</text><rect class=\"node\" fill=\"#FAFAFA\" height=\"35\" stroke=\"#FF1EC8\" stroke-width=\"1\" width=\"90\" x=\"241\" y=\"110.0\"><title>add</title></rect><text fill=\"#1E1E1E\" font-family=\"monospace\" font-size=\"12\" style=\"pointer-events:none\" text-anchor=\"middle\" x=\"286.0\" y=\"131.5\">add</text><text fill=\"#1E1E1E\" font-family=\"monospace\" font-size=\"10\" style=\"pointer-events:none\" text-anchor=\"end\" x=\"329\" y=\"119.0\">6</text><line stroke=\"#1E1E1E\" x1=\"211\" x2=\"241\" y1=\"97.5\" y2=\"118.5\" /><line stroke=\"#1E1E1E\" x1=\"211\" x2=\"241\" y1=\"157.5\" y2=\"136.5\" /><rect class=\"node\" fill=\"#00F082\" height=\"35\" stroke=\"#1E1E1E\" stroke-width=\"1\" width=\"90\" x=\"121\" y=\"80.0\"><title>rs_CYP4Z2P\n",
       "linear:\n",
       "scale=0.159849\n",
       "scale offset=6.183770\n",
       "w=-1.706174\n",
       "bias=-0.0593</title></rect><text fill=\"#1E1E1E\" font-family=\"monospace\" font-size=\"12\" style=\"pointer-events:none\" text-anchor=\"middle\" x=\"166.0\" y=\"101.5\">rs_CYP4Z..</text><text fill=\"#1E1E1E\" font-family=\"monospace\" font-size=\"10\" style=\"pointer-events:none\" text-anchor=\"end\" x=\"209\" y=\"89.0\">7</text><text fill=\"#1E1E1E\" font-family=\"monospace\" font-size=\"10\" style=\"pointer-events:none\" text-anchor=\"start\" x=\"123\" y=\"89.0\">num</text><rect class=\"node\" fill=\"#FAFAFA\" height=\"35\" stroke=\"#FF1EC8\" stroke-width=\"1\" width=\"90\" x=\"121\" y=\"140.0\"><title>add</title></rect><text fill=\"#1E1E1E\" font-family=\"monospace\" font-size=\"12\" style=\"pointer-events:none\" text-anchor=\"middle\" x=\"166.0\" y=\"161.5\">add</text><text fill=\"#1E1E1E\" font-family=\"monospace\" font-size=\"10\" style=\"pointer-events:none\" text-anchor=\"end\" x=\"209\" y=\"149.0\">8</text><line stroke=\"#1E1E1E\" x1=\"91\" x2=\"121\" y1=\"67.5\" y2=\"148.5\" /><line stroke=\"#1E1E1E\" x1=\"91\" x2=\"121\" y1=\"127.5\" y2=\"166.5\" /><rect class=\"node\" fill=\"#00F082\" height=\"35\" stroke=\"#1E1E1E\" stroke-width=\"1\" width=\"90\" x=\"1\" y=\"50.0\"><title>rs_PCOLCE2\n",
       "linear:\n",
       "scale=0.150425\n",
       "scale offset=5.620655\n",
       "w=-2.289755\n",
       "bias=0.9870</title></rect><text fill=\"#1E1E1E\" font-family=\"monospace\" font-size=\"12\" style=\"pointer-events:none\" text-anchor=\"middle\" x=\"46.0\" y=\"71.5\">rs_PCOLC..</text><text fill=\"#1E1E1E\" font-family=\"monospace\" font-size=\"10\" style=\"pointer-events:none\" text-anchor=\"end\" x=\"89\" y=\"59.0\">9</text><text fill=\"#1E1E1E\" font-family=\"monospace\" font-size=\"10\" style=\"pointer-events:none\" text-anchor=\"start\" x=\"3\" y=\"59.0\">num</text><rect class=\"node\" fill=\"#00F082\" height=\"35\" stroke=\"#1E1E1E\" stroke-width=\"1\" width=\"90\" x=\"1\" y=\"110.0\"><title>rs_PLA2G2D\n",
       "linear:\n",
       "scale=0.160353\n",
       "scale offset=4.714622\n",
       "w=1.700922\n",
       "bias=0.0307</title></rect><text fill=\"#1E1E1E\" font-family=\"monospace\" font-size=\"12\" style=\"pointer-events:none\" text-anchor=\"middle\" x=\"46.0\" y=\"131.5\">rs_PLA2G..</text><text fill=\"#1E1E1E\" font-family=\"monospace\" font-size=\"10\" style=\"pointer-events:none\" text-anchor=\"end\" x=\"89\" y=\"119.0\">10</text><text fill=\"#1E1E1E\" font-family=\"monospace\" font-size=\"10\" style=\"pointer-events:none\" text-anchor=\"start\" x=\"3\" y=\"119.0\">num</text></svg></svg>"
      ],
      "text/plain": [
       "<IPython.core.display.HTML object>"
      ]
     },
     "metadata": {},
     "output_type": "display_data"
    }
   ],
   "source": [
    "best_models_qstrings = ['\"rs_PTCHD1\"*(\"cn_ADAMTS16\" + \"mu_DMD\" + \"rs_FABP4\" + \"rs_SOX2\")',\n",
    "                        '\"rs_APOB\"*(\"cn_PRODH\"*(\"cn_COL14A1\" + \"pp_PI3K.p110.alpha\") + \"rs_TAT\")',\n",
    "                        '\"cn_CLCA2\" + \"rs_SLC13A2\"*(\"cn_SLC30A8\" + \"rs_APOB\" + \"rs_PAX7\")',\n",
    "                        '\"rs_TCN1\"*(\"pp_p27\" + \"rs_DEFB132\"*\"rs_PTPRZ1\" + \"rs_SOX2\")',\n",
    "                        '\"cn_TNFRSF11B\" + squared(\"pp_MSH6\") + \"rs_CYP4Z2P\" + \"rs_PCOLCE2\" + \"rs_PLA2G2D\"']\n",
    "n_folds = 5\n",
    "random_state = 42\n",
    "models_trained = []\n",
    "train_list = []\n",
    "val_list = []\n",
    "\n",
    "kfold_test = StratifiedKFold(n_folds, shuffle=True, random_state=random_state)\n",
    "for i, (train, val) in enumerate(kfold_test.split(data, data[target])):\n",
    "        train, val = data.iloc[train], data.iloc[val]\n",
    "        train_list.append(train)\n",
    "        val_list.append(val)\n",
    "        \n",
    "        sample_weights = np.where(train[target] == 1,\n",
    "                                      np.sum(train[target] == 0) / sum(train[target]), 1)\n",
    "        \n",
    "        model = ql.auto_run(train, output_name=target, n_epochs=10, kind = \"classification\",\n",
    "                             query_string=best_models_qstrings[i], sample_weights=sample_weights, stypes=stypes)[0]\n",
    "        models_trained.append(model)\n",
    "        "
   ]
  },
  {
   "cell_type": "code",
   "execution_count": null,
   "id": "c6c07fec-5903-452d-91b5-7e6aebc44495",
   "metadata": {},
   "outputs": [],
   "source": [
    "models_trained[0].plot(train_list[0], val_list[0])"
   ]
  },
  {
   "cell_type": "markdown",
   "id": "f2206f74-281c-4a13-b8e3-5695314640e5",
   "metadata": {},
   "source": [
    "### Comparison with random forest"
   ]
  },
  {
   "cell_type": "code",
   "execution_count": null,
   "id": "b81ba19f-56cf-4070-8e94-0284a7fc7aeb",
   "metadata": {},
   "outputs": [],
   "source": [
    "from sklearn.ensemble import RandomForestClassifier"
   ]
  },
  {
   "cell_type": "code",
   "execution_count": null,
   "id": "d34d74a5-16b7-4d9e-8fc6-06b044f0f22e",
   "metadata": {},
   "outputs": [],
   "source": [
    "list_auc = []\n",
    "n_folds = 5\n",
    "random_state = 42\n",
    "df = pd.get_dummies(data)\n",
    "\n",
    "kfold_test = StratifiedKFold(n_folds, shuffle=True, random_state=random_state)\n",
    "\n",
    "\n",
    "for i, (train, val) in enumerate(kfold_test.split(df, df[target])):\n",
    "    train, val = df.iloc[train], df.iloc[val]\n",
    "    params = {'bootstrap': True,\n",
    "     'ccp_alpha': 0.0,\n",
    "     'class_weight': 'balanced',\n",
    "     'max_depth': 4,\n",
    "     'max_features': 'auto',\n",
    "     'max_leaf_nodes': None,\n",
    "     'max_samples': None,\n",
    "     'min_impurity_decrease': 0.0,\n",
    "     'min_samples_leaf': 1,\n",
    "     'min_samples_split': 2,\n",
    "     'min_weight_fraction_leaf': 0.0,\n",
    "     'n_estimators': 100,\n",
    "     'random_state': 42\n",
    "    }\n",
    "\n",
    "    rf = RandomForestClassifier(**params)\n",
    "    rf.fit(train.drop(columns=target), train[target])\n",
    "    preds = rf.predict(val.drop(columns=target))\n",
    "\n",
    "    list_auc.append(roc_auc_score(val[target], preds))"
   ]
  }
 ],
 "metadata": {
  "kernelspec": {
   "display_name": "Python 3 (ipykernel)",
   "language": "python",
   "name": "python3"
  },
  "language_info": {
   "codemirror_mode": {
    "name": "ipython",
    "version": 3
   },
   "file_extension": ".py",
   "mimetype": "text/x-python",
   "name": "python",
   "nbconvert_exporter": "python",
   "pygments_lexer": "ipython3",
   "version": "3.8.10"
  }
 },
 "nbformat": 4,
 "nbformat_minor": 5
}
