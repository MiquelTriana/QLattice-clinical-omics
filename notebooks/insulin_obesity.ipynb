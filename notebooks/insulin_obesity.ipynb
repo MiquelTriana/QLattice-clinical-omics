{
 "cells": [
  {
   "cell_type": "markdown",
   "metadata": {},
   "source": [
    "## Import necessary python libraries"
   ]
  },
  {
   "cell_type": "code",
   "execution_count": 1,
   "metadata": {},
   "outputs": [],
   "source": [
    "import feyn\n",
    "import matplotlib.pyplot as plt\n",
    "from IPython.display import display\n",
    "import numpy as np\n",
    "import pandas as pd\n",
    "import seaborn as sns\n",
    "import sympy\n",
    "import warnings\n",
    "warnings.filterwarnings('ignore')\n",
    "import collections\n",
    "import os"
   ]
  },
  {
   "cell_type": "code",
   "execution_count": 2,
   "metadata": {},
   "outputs": [],
   "source": [
    "from functions import *"
   ]
  },
  {
   "cell_type": "code",
   "execution_count": 3,
   "metadata": {},
   "outputs": [
    {
     "data": {
      "text/plain": [
       "'2.1.2'"
      ]
     },
     "execution_count": 3,
     "metadata": {},
     "output_type": "execute_result"
    }
   ],
   "source": [
    "feyn.__version__"
   ]
  },
  {
   "cell_type": "code",
   "execution_count": 4,
   "metadata": {},
   "outputs": [],
   "source": [
    "projectname = 'insulin_response_'\n",
    "pathname = '../figures/'"
   ]
  },
  {
   "cell_type": "markdown",
   "metadata": {},
   "source": [
    "## Load necessary files"
   ]
  },
  {
   "cell_type": "code",
   "execution_count": 5,
   "metadata": {},
   "outputs": [],
   "source": [
    "expression_table = '../data/insulin_dataset.csv'\n",
    "data_togo = pd.read_csv(expression_table, sep=',')\n",
    "data_togo[\"patient_number\"] = np.floor(np.array(data_togo.index)/2)\n",
    "data_togo[\"patient_number\"] = data_togo[\"patient_number\"].astype(int)\n",
    "target = \"Class_\""
   ]
  },
  {
   "cell_type": "code",
   "execution_count": 6,
   "metadata": {},
   "outputs": [
    {
     "data": {
      "text/html": [
       "<div>\n",
       "<style scoped>\n",
       "    .dataframe tbody tr th:only-of-type {\n",
       "        vertical-align: middle;\n",
       "    }\n",
       "\n",
       "    .dataframe tbody tr th {\n",
       "        vertical-align: top;\n",
       "    }\n",
       "\n",
       "    .dataframe thead th {\n",
       "        text-align: right;\n",
       "    }\n",
       "</style>\n",
       "<table border=\"1\" class=\"dataframe\">\n",
       "  <thead>\n",
       "    <tr style=\"text-align: right;\">\n",
       "      <th></th>\n",
       "      <th>Cond</th>\n",
       "      <th>7SK</th>\n",
       "      <th>A1BG</th>\n",
       "      <th>A2M</th>\n",
       "      <th>A2M-AS1</th>\n",
       "      <th>A4GALT</th>\n",
       "      <th>AAAS</th>\n",
       "      <th>AACS</th>\n",
       "      <th>AADAC</th>\n",
       "      <th>AADAT</th>\n",
       "      <th>...</th>\n",
       "      <th>ZZEF1</th>\n",
       "      <th>ZZZ3</th>\n",
       "      <th>hsa-mir-1199</th>\n",
       "      <th>hsa-mir-3180-3</th>\n",
       "      <th>hsa-mir-3180-4</th>\n",
       "      <th>hsa-mir-6080</th>\n",
       "      <th>hsa-mir-8072</th>\n",
       "      <th>Class_</th>\n",
       "      <th>CV_Split</th>\n",
       "      <th>patient_number</th>\n",
       "    </tr>\n",
       "  </thead>\n",
       "  <tbody>\n",
       "    <tr>\n",
       "      <th>0</th>\n",
       "      <td>NG1f0</td>\n",
       "      <td>61.707</td>\n",
       "      <td>0.869</td>\n",
       "      <td>22.325312</td>\n",
       "      <td>5.504</td>\n",
       "      <td>1.3035</td>\n",
       "      <td>26.7975</td>\n",
       "      <td>6.373</td>\n",
       "      <td>77.641</td>\n",
       "      <td>1.3035</td>\n",
       "      <td>...</td>\n",
       "      <td>27.232</td>\n",
       "      <td>11.0085</td>\n",
       "      <td>1.5930</td>\n",
       "      <td>1.4490</td>\n",
       "      <td>0.869</td>\n",
       "      <td>1.738</td>\n",
       "      <td>2.028</td>\n",
       "      <td>0.0</td>\n",
       "      <td>0.0</td>\n",
       "      <td>0</td>\n",
       "    </tr>\n",
       "    <tr>\n",
       "      <th>1</th>\n",
       "      <td>NG1h0</td>\n",
       "      <td>67.008</td>\n",
       "      <td>1.600</td>\n",
       "      <td>29.549125</td>\n",
       "      <td>4.621</td>\n",
       "      <td>2.7550</td>\n",
       "      <td>22.2175</td>\n",
       "      <td>43.013</td>\n",
       "      <td>57.232</td>\n",
       "      <td>3.7325</td>\n",
       "      <td>...</td>\n",
       "      <td>29.149</td>\n",
       "      <td>13.0635</td>\n",
       "      <td>2.0440</td>\n",
       "      <td>2.0440</td>\n",
       "      <td>0.711</td>\n",
       "      <td>0.889</td>\n",
       "      <td>2.488</td>\n",
       "      <td>1.0</td>\n",
       "      <td>0.0</td>\n",
       "      <td>0</td>\n",
       "    </tr>\n",
       "    <tr>\n",
       "      <th>2</th>\n",
       "      <td>NG2f0</td>\n",
       "      <td>37.882</td>\n",
       "      <td>3.164</td>\n",
       "      <td>20.439625</td>\n",
       "      <td>7.035</td>\n",
       "      <td>23.3330</td>\n",
       "      <td>28.9115</td>\n",
       "      <td>19.316</td>\n",
       "      <td>51.453</td>\n",
       "      <td>1.7900</td>\n",
       "      <td>...</td>\n",
       "      <td>57.489</td>\n",
       "      <td>10.6155</td>\n",
       "      <td>6.6395</td>\n",
       "      <td>11.3650</td>\n",
       "      <td>7.576</td>\n",
       "      <td>1.499</td>\n",
       "      <td>1.957</td>\n",
       "      <td>0.0</td>\n",
       "      <td>1.0</td>\n",
       "      <td>1</td>\n",
       "    </tr>\n",
       "    <tr>\n",
       "      <th>3</th>\n",
       "      <td>NG2h0</td>\n",
       "      <td>75.477</td>\n",
       "      <td>2.901</td>\n",
       "      <td>16.411500</td>\n",
       "      <td>6.017</td>\n",
       "      <td>24.4965</td>\n",
       "      <td>30.2445</td>\n",
       "      <td>20.091</td>\n",
       "      <td>62.101</td>\n",
       "      <td>1.4775</td>\n",
       "      <td>...</td>\n",
       "      <td>58.394</td>\n",
       "      <td>11.2005</td>\n",
       "      <td>5.6140</td>\n",
       "      <td>8.5955</td>\n",
       "      <td>4.029</td>\n",
       "      <td>1.558</td>\n",
       "      <td>1.826</td>\n",
       "      <td>1.0</td>\n",
       "      <td>1.0</td>\n",
       "      <td>1</td>\n",
       "    </tr>\n",
       "    <tr>\n",
       "      <th>4</th>\n",
       "      <td>NG3f0</td>\n",
       "      <td>131.061</td>\n",
       "      <td>8.107</td>\n",
       "      <td>13.412812</td>\n",
       "      <td>16.214</td>\n",
       "      <td>43.6870</td>\n",
       "      <td>28.3740</td>\n",
       "      <td>3.828</td>\n",
       "      <td>0.000</td>\n",
       "      <td>1.0135</td>\n",
       "      <td>...</td>\n",
       "      <td>47.515</td>\n",
       "      <td>4.5040</td>\n",
       "      <td>6.3055</td>\n",
       "      <td>3.7155</td>\n",
       "      <td>1.126</td>\n",
       "      <td>0.901</td>\n",
       "      <td>3.828</td>\n",
       "      <td>0.0</td>\n",
       "      <td>2.0</td>\n",
       "      <td>2</td>\n",
       "    </tr>\n",
       "  </tbody>\n",
       "</table>\n",
       "<p>5 rows × 14508 columns</p>\n",
       "</div>"
      ],
      "text/plain": [
       "    Cond      7SK   A1BG        A2M  A2M-AS1   A4GALT     AAAS    AACS  \\\n",
       "0  NG1f0   61.707  0.869  22.325312    5.504   1.3035  26.7975   6.373   \n",
       "1  NG1h0   67.008  1.600  29.549125    4.621   2.7550  22.2175  43.013   \n",
       "2  NG2f0   37.882  3.164  20.439625    7.035  23.3330  28.9115  19.316   \n",
       "3  NG2h0   75.477  2.901  16.411500    6.017  24.4965  30.2445  20.091   \n",
       "4  NG3f0  131.061  8.107  13.412812   16.214  43.6870  28.3740   3.828   \n",
       "\n",
       "    AADAC   AADAT  ...   ZZEF1     ZZZ3  hsa-mir-1199  hsa-mir-3180-3  \\\n",
       "0  77.641  1.3035  ...  27.232  11.0085        1.5930          1.4490   \n",
       "1  57.232  3.7325  ...  29.149  13.0635        2.0440          2.0440   \n",
       "2  51.453  1.7900  ...  57.489  10.6155        6.6395         11.3650   \n",
       "3  62.101  1.4775  ...  58.394  11.2005        5.6140          8.5955   \n",
       "4   0.000  1.0135  ...  47.515   4.5040        6.3055          3.7155   \n",
       "\n",
       "   hsa-mir-3180-4  hsa-mir-6080  hsa-mir-8072  Class_  CV_Split  \\\n",
       "0           0.869         1.738         2.028     0.0       0.0   \n",
       "1           0.711         0.889         2.488     1.0       0.0   \n",
       "2           7.576         1.499         1.957     0.0       1.0   \n",
       "3           4.029         1.558         1.826     1.0       1.0   \n",
       "4           1.126         0.901         3.828     0.0       2.0   \n",
       "\n",
       "   patient_number  \n",
       "0               0  \n",
       "1               0  \n",
       "2               1  \n",
       "3               1  \n",
       "4               2  \n",
       "\n",
       "[5 rows x 14508 columns]"
      ]
     },
     "execution_count": 6,
     "metadata": {},
     "output_type": "execute_result"
    }
   ],
   "source": [
    "data_togo.head()"
   ]
  },
  {
   "cell_type": "code",
   "execution_count": 7,
   "metadata": {},
   "outputs": [],
   "source": [
    "# make dictionary to store original features names\n",
    "features_dict = dict()\n",
    "for genes_names in data_togo.columns:\n",
    "    qlattice_gene_names = genes_names.replace(\".\", \"_\").replace(\".\", \"_\")\n",
    "    features_dict[qlattice_gene_names] = genes_names"
   ]
  },
  {
   "cell_type": "markdown",
   "metadata": {},
   "source": [
    "## Standardise feature names"
   ]
  },
  {
   "cell_type": "code",
   "execution_count": 8,
   "metadata": {},
   "outputs": [],
   "source": [
    "data_togo.columns = data_togo.columns.str.replace(\".\", \"_\")\n",
    "data_togo.columns = data_togo.columns.str.replace(\"-\", \"_\")"
   ]
  },
  {
   "cell_type": "markdown",
   "metadata": {},
   "source": [
    "## Training a QLattice in a cross-validation scheme as framework\n"
   ]
  },
  {
   "cell_type": "code",
   "execution_count": 9,
   "metadata": {
    "tags": []
   },
   "outputs": [
    {
     "data": {
      "text/html": [
       "<?xml version=\"1.0\" encoding=\"utf-8\" ?>\n",
       "<svg baseProfile=\"full\" height=\"160.0\" preserveAspectRatio=\"none\" version=\"1.1\" viewBox=\"0 0 445 160.0\" width=\"445\" xmlns=\"http://www.w3.org/2000/svg\" xmlns:ev=\"http://www.w3.org/2001/xml-events\" xmlns:xlink=\"http://www.w3.org/1999/xlink\"><defs /><svg class=\"graph\" height=\"155.0\" width=\"445\" x=\"0\" y=\"0\"><defs /><text fill=\"#1E1E1E\" font-family=\"monospace\" font-size=\"12\" text-anchor=\"middle\" x=\"286.0\" y=\"99.0\">Loss: 1.53E-01</text><text fill=\"#1E1E1E\" font-family=\"monospace\" font-size=\"12\" text-anchor=\"start\" x=\"0\" y=\"145.0\">Epoch no. 50/50 - Tried 42018 models - Completed in 3m 28s.</text><rect class=\"node\" fill=\"#00F082\" height=\"35\" stroke=\"#1E1E1E\" stroke-width=\"1\" width=\"90\" x=\"241\" y=\"50.0\"><title>Class_\n",
       "logistic:\n",
       "w=5.0615\n",
       "bias=2.4852</title></rect><text fill=\"#1E1E1E\" font-family=\"monospace\" font-size=\"12\" style=\"pointer-events:none\" text-anchor=\"middle\" x=\"286.0\" y=\"71.5\">Class_</text><text fill=\"#1E1E1E\" font-family=\"monospace\" font-size=\"10\" style=\"pointer-events:none\" text-anchor=\"end\" x=\"329\" y=\"59.0\">0</text><text fill=\"#1E1E1E\" font-family=\"monospace\" font-size=\"10\" style=\"pointer-events:none\" text-anchor=\"start\" x=\"243\" y=\"59.0\">out</text><line stroke=\"#1E1E1E\" x1=\"211\" x2=\"241\" y1=\"67.5\" y2=\"67.5\" /><rect class=\"node\" fill=\"#FAFAFA\" height=\"35\" stroke=\"#FF1EC8\" stroke-width=\"1\" width=\"90\" x=\"121\" y=\"50.0\"><title>multiply</title></rect><text fill=\"#1E1E1E\" font-family=\"monospace\" font-size=\"12\" style=\"pointer-events:none\" text-anchor=\"middle\" x=\"166.0\" y=\"71.5\">multiply</text><text fill=\"#1E1E1E\" font-family=\"monospace\" font-size=\"10\" style=\"pointer-events:none\" text-anchor=\"end\" x=\"209\" y=\"59.0\">1</text><line stroke=\"#1E1E1E\" x1=\"91\" x2=\"121\" y1=\"37.5\" y2=\"58.5\" /><line stroke=\"#1E1E1E\" x1=\"91\" x2=\"121\" y1=\"97.5\" y2=\"76.5\" /><rect class=\"node\" fill=\"#00F082\" height=\"35\" stroke=\"#1E1E1E\" stroke-width=\"1\" width=\"90\" x=\"1\" y=\"20.0\"><title>BHLHE41\n",
       "linear:\n",
       "scale=0.012334\n",
       "scale offset=42.286685\n",
       "w=-2.250532\n",
       "bias=0.2232</title></rect><text fill=\"#1E1E1E\" font-family=\"monospace\" font-size=\"12\" style=\"pointer-events:none\" text-anchor=\"middle\" x=\"46.0\" y=\"41.5\">BHLHE41</text><text fill=\"#1E1E1E\" font-family=\"monospace\" font-size=\"10\" style=\"pointer-events:none\" text-anchor=\"end\" x=\"89\" y=\"29.0\">2</text><text fill=\"#1E1E1E\" font-family=\"monospace\" font-size=\"10\" style=\"pointer-events:none\" text-anchor=\"start\" x=\"3\" y=\"29.0\">num</text><rect class=\"node\" fill=\"#00F082\" height=\"35\" stroke=\"#1E1E1E\" stroke-width=\"1\" width=\"90\" x=\"1\" y=\"80.0\"><title>C10orf10\n",
       "linear:\n",
       "scale=0.005003\n",
       "scale offset=107.293964\n",
       "w=-5.067505\n",
       "bias=-1.8747</title></rect><text fill=\"#1E1E1E\" font-family=\"monospace\" font-size=\"12\" style=\"pointer-events:none\" text-anchor=\"middle\" x=\"46.0\" y=\"101.5\">C10orf10</text><text fill=\"#1E1E1E\" font-family=\"monospace\" font-size=\"10\" style=\"pointer-events:none\" text-anchor=\"end\" x=\"89\" y=\"89.0\">3</text><text fill=\"#1E1E1E\" font-family=\"monospace\" font-size=\"10\" style=\"pointer-events:none\" text-anchor=\"start\" x=\"3\" y=\"89.0\">num</text></svg></svg>"
      ],
      "text/plain": [
       "<IPython.core.display.HTML object>"
      ]
     },
     "metadata": {},
     "output_type": "display_data"
    }
   ],
   "source": [
    "logdir='../models_insulin_paper/'\n",
    "os.makedirs(logdir, exist_ok=True)\n",
    "\n",
    "\n",
    "partitions_interval = np.arange(5)\n",
    "inner_partitions_interval = partitions_interval#[partitions_interval != 4]\n",
    "\n",
    "results = ModelResults()\n",
    "\n",
    "all_fold_models = []\n",
    "\n",
    "\n",
    "for val_partition in inner_partitions_interval:\n",
    "    os.makedirs('%spartition_%i' % (logdir, val_partition), exist_ok=True)\n",
    "    model_file = \"%spartition_%i/model\" % (logdir, val_partition)\n",
    "    train = data_togo.loc[(data_togo.CV_Split != val_partition)]\n",
    "    val = data_togo.loc[(data_togo.CV_Split == val_partition)]\n",
    "    \n",
    "    # Connecting to the QLattice\n",
    "    \n",
    "    ql = feyn.connect_qlattice()\n",
    "\n",
    "    # Setting a seed\n",
    "    \n",
    "    ql.reset(random_seed=42)  \n",
    "\n",
    "    stypes = dict()\n",
    "    for f in train.columns:\n",
    "        if train[f].dtype =='object':\n",
    "            stypes[f] = 'c'\n",
    "            \n",
    "    models_ = ql.auto_run(data=train,\n",
    "                          output_name=\"Class_\",\n",
    "                          kind=\"classification\",\n",
    "                          n_epochs=50,\n",
    "                          max_complexity=5,\n",
    "                          stypes=stypes,\n",
    "                          criterion=\"bic\",\n",
    "                 )\n",
    "    \n",
    "    all_fold_models.append(models_)\n",
    "    \n",
    "    for j in models_:\n",
    "        results.update(train, val, val_partition, j)\n",
    "    \n",
    "    for i in range(len(models_)):    \n",
    "        models_[i].save(model_file+'_'+str(val_partition)+'_'+str(i)+'.json')\n",
    "        \n",
    "    "
   ]
  },
  {
   "cell_type": "code",
   "execution_count": 10,
   "metadata": {},
   "outputs": [
    {
     "data": {
      "text/plain": [
       "(0.9630872814609077, 0.9593907579599887)"
      ]
     },
     "execution_count": 10,
     "metadata": {},
     "output_type": "execute_result"
    }
   ],
   "source": [
    "np.mean(results.df.groupby(\"fold\").first().roc_auc_val), np.mean(results.df.roc_auc_val)"
   ]
  },
  {
   "cell_type": "code",
   "execution_count": 11,
   "metadata": {},
   "outputs": [
    {
     "data": {
      "text/plain": [
       "(0.027323312638892466, 0.042159232975399724)"
      ]
     },
     "execution_count": 11,
     "metadata": {},
     "output_type": "execute_result"
    }
   ],
   "source": [
    "np.std(results.df.groupby(\"fold\").first().roc_auc_val), np.std(results.df.roc_auc_val)"
   ]
  },
  {
   "cell_type": "code",
   "execution_count": 12,
   "metadata": {},
   "outputs": [],
   "source": [
    "feat_list = list()\n",
    "for j in np.arange(5):\n",
    "    for i in range(len(all_fold_models[j])):\n",
    "        genes = all_fold_models[j][i].features\n",
    "        for gene in genes:\n",
    "            if gene in features_dict.keys():\n",
    "                feat_list.append(features_dict[gene])\n",
    "            \n",
    "count_features = collections.Counter(feat_list)\n",
    "count_features_df = pd.DataFrame(count_features.items(),columns=['Gene', 'Count']).sort_values('Count', ascending=False)"
   ]
  },
  {
   "cell_type": "markdown",
   "metadata": {},
   "source": [
    "### Compare with differential gene expression"
   ]
  },
  {
   "cell_type": "code",
   "execution_count": 13,
   "metadata": {},
   "outputs": [],
   "source": [
    "de = pd.read_csv(\"../data/obesity_delist.csv\")\n",
    "de = de[de[\"FDR\"]<0.05].sort_values(by=\"FDR\")\n",
    "de[\"de_position\"] = np.arange(len(de))"
   ]
  },
  {
   "cell_type": "code",
   "execution_count": 14,
   "metadata": {},
   "outputs": [],
   "source": [
    "compare_df = pd.merge(count_features_df.reset_index(drop=True), \n",
    "                      de[['gene', 'de_position', 'FDR']].groupby(['gene']).first(), \n",
    "                      left_on='Gene', right_on='gene', how=\"left\")"
   ]
  },
  {
   "cell_type": "code",
   "execution_count": 15,
   "metadata": {},
   "outputs": [
    {
     "data": {
      "text/html": [
       "<div>\n",
       "<style scoped>\n",
       "    .dataframe tbody tr th:only-of-type {\n",
       "        vertical-align: middle;\n",
       "    }\n",
       "\n",
       "    .dataframe tbody tr th {\n",
       "        vertical-align: top;\n",
       "    }\n",
       "\n",
       "    .dataframe thead th {\n",
       "        text-align: right;\n",
       "    }\n",
       "</style>\n",
       "<table border=\"1\" class=\"dataframe\">\n",
       "  <thead>\n",
       "    <tr style=\"text-align: right;\">\n",
       "      <th></th>\n",
       "      <th>Gene</th>\n",
       "      <th>Count</th>\n",
       "      <th>de_position</th>\n",
       "      <th>FDR</th>\n",
       "    </tr>\n",
       "  </thead>\n",
       "  <tbody>\n",
       "    <tr>\n",
       "      <th>0</th>\n",
       "      <td>PHF23</td>\n",
       "      <td>23</td>\n",
       "      <td>260.0</td>\n",
       "      <td>1.108311e-03</td>\n",
       "    </tr>\n",
       "    <tr>\n",
       "      <th>1</th>\n",
       "      <td>CDKN1A</td>\n",
       "      <td>15</td>\n",
       "      <td>75.0</td>\n",
       "      <td>1.184669e-05</td>\n",
       "    </tr>\n",
       "    <tr>\n",
       "      <th>2</th>\n",
       "      <td>SPRY4</td>\n",
       "      <td>5</td>\n",
       "      <td>33.0</td>\n",
       "      <td>1.547777e-06</td>\n",
       "    </tr>\n",
       "    <tr>\n",
       "      <th>3</th>\n",
       "      <td>PDK4</td>\n",
       "      <td>4</td>\n",
       "      <td>64.0</td>\n",
       "      <td>7.824044e-06</td>\n",
       "    </tr>\n",
       "    <tr>\n",
       "      <th>4</th>\n",
       "      <td>BHLHE41</td>\n",
       "      <td>4</td>\n",
       "      <td>166.0</td>\n",
       "      <td>1.615806e-04</td>\n",
       "    </tr>\n",
       "    <tr>\n",
       "      <th>5</th>\n",
       "      <td>CBX4</td>\n",
       "      <td>4</td>\n",
       "      <td>652.0</td>\n",
       "      <td>3.450078e-02</td>\n",
       "    </tr>\n",
       "    <tr>\n",
       "      <th>6</th>\n",
       "      <td>HEXIM1</td>\n",
       "      <td>3</td>\n",
       "      <td>253.0</td>\n",
       "      <td>9.501134e-04</td>\n",
       "    </tr>\n",
       "    <tr>\n",
       "      <th>7</th>\n",
       "      <td>PPP1R3B</td>\n",
       "      <td>2</td>\n",
       "      <td>1.0</td>\n",
       "      <td>3.011504e-13</td>\n",
       "    </tr>\n",
       "    <tr>\n",
       "      <th>8</th>\n",
       "      <td>CEBPD</td>\n",
       "      <td>2</td>\n",
       "      <td>648.0</td>\n",
       "      <td>3.424161e-02</td>\n",
       "    </tr>\n",
       "    <tr>\n",
       "      <th>9</th>\n",
       "      <td>C19orf80</td>\n",
       "      <td>2</td>\n",
       "      <td>0.0</td>\n",
       "      <td>1.022526e-15</td>\n",
       "    </tr>\n",
       "    <tr>\n",
       "      <th>10</th>\n",
       "      <td>C10orf10</td>\n",
       "      <td>2</td>\n",
       "      <td>10.0</td>\n",
       "      <td>1.233264e-08</td>\n",
       "    </tr>\n",
       "    <tr>\n",
       "      <th>11</th>\n",
       "      <td>KLC2</td>\n",
       "      <td>2</td>\n",
       "      <td>28.0</td>\n",
       "      <td>4.971328e-07</td>\n",
       "    </tr>\n",
       "    <tr>\n",
       "      <th>12</th>\n",
       "      <td>TECTB</td>\n",
       "      <td>2</td>\n",
       "      <td>367.0</td>\n",
       "      <td>6.436357e-03</td>\n",
       "    </tr>\n",
       "    <tr>\n",
       "      <th>13</th>\n",
       "      <td>CATG00000084124.1</td>\n",
       "      <td>2</td>\n",
       "      <td>119.0</td>\n",
       "      <td>5.611037e-05</td>\n",
       "    </tr>\n",
       "    <tr>\n",
       "      <th>14</th>\n",
       "      <td>RASD1</td>\n",
       "      <td>2</td>\n",
       "      <td>432.0</td>\n",
       "      <td>1.053469e-02</td>\n",
       "    </tr>\n",
       "    <tr>\n",
       "      <th>15</th>\n",
       "      <td>DNMT1</td>\n",
       "      <td>2</td>\n",
       "      <td>NaN</td>\n",
       "      <td>NaN</td>\n",
       "    </tr>\n",
       "    <tr>\n",
       "      <th>16</th>\n",
       "      <td>ATP5O</td>\n",
       "      <td>1</td>\n",
       "      <td>NaN</td>\n",
       "      <td>NaN</td>\n",
       "    </tr>\n",
       "    <tr>\n",
       "      <th>17</th>\n",
       "      <td>TMBIM4</td>\n",
       "      <td>1</td>\n",
       "      <td>NaN</td>\n",
       "      <td>NaN</td>\n",
       "    </tr>\n",
       "    <tr>\n",
       "      <th>18</th>\n",
       "      <td>FAM111A</td>\n",
       "      <td>1</td>\n",
       "      <td>NaN</td>\n",
       "      <td>NaN</td>\n",
       "    </tr>\n",
       "    <tr>\n",
       "      <th>19</th>\n",
       "      <td>AC100802.3</td>\n",
       "      <td>1</td>\n",
       "      <td>86.0</td>\n",
       "      <td>1.868440e-05</td>\n",
       "    </tr>\n",
       "  </tbody>\n",
       "</table>\n",
       "</div>"
      ],
      "text/plain": [
       "                 Gene  Count  de_position           FDR\n",
       "0               PHF23     23        260.0  1.108311e-03\n",
       "1              CDKN1A     15         75.0  1.184669e-05\n",
       "2               SPRY4      5         33.0  1.547777e-06\n",
       "3                PDK4      4         64.0  7.824044e-06\n",
       "4             BHLHE41      4        166.0  1.615806e-04\n",
       "5                CBX4      4        652.0  3.450078e-02\n",
       "6              HEXIM1      3        253.0  9.501134e-04\n",
       "7             PPP1R3B      2          1.0  3.011504e-13\n",
       "8               CEBPD      2        648.0  3.424161e-02\n",
       "9            C19orf80      2          0.0  1.022526e-15\n",
       "10           C10orf10      2         10.0  1.233264e-08\n",
       "11               KLC2      2         28.0  4.971328e-07\n",
       "12              TECTB      2        367.0  6.436357e-03\n",
       "13  CATG00000084124.1      2        119.0  5.611037e-05\n",
       "14              RASD1      2        432.0  1.053469e-02\n",
       "15              DNMT1      2          NaN           NaN\n",
       "16              ATP5O      1          NaN           NaN\n",
       "17             TMBIM4      1          NaN           NaN\n",
       "18            FAM111A      1          NaN           NaN\n",
       "19         AC100802.3      1         86.0  1.868440e-05"
      ]
     },
     "execution_count": 15,
     "metadata": {},
     "output_type": "execute_result"
    }
   ],
   "source": [
    "compare_df.head(20)"
   ]
  },
  {
   "cell_type": "markdown",
   "metadata": {},
   "source": [
    "## Training a QLattice in train-test split mode for final model choice\n",
    "\n"
   ]
  },
  {
   "cell_type": "code",
   "execution_count": 16,
   "metadata": {},
   "outputs": [
    {
     "data": {
      "text/html": [
       "<?xml version=\"1.0\" encoding=\"utf-8\" ?>\n",
       "<svg baseProfile=\"full\" height=\"160.0\" preserveAspectRatio=\"none\" version=\"1.1\" viewBox=\"0 0 471 160.0\" width=\"471\" xmlns=\"http://www.w3.org/2000/svg\" xmlns:ev=\"http://www.w3.org/2001/xml-events\" xmlns:xlink=\"http://www.w3.org/1999/xlink\"><defs /><svg class=\"graph\" height=\"155.0\" width=\"471\" x=\"0\" y=\"0\"><defs /><text fill=\"#1E1E1E\" font-family=\"monospace\" font-size=\"12\" text-anchor=\"middle\" x=\"406.0\" y=\"99.0\">Loss: 1.24E-02</text><text fill=\"#1E1E1E\" font-family=\"monospace\" font-size=\"12\" text-anchor=\"start\" x=\"0\" y=\"145.0\">Epoch no. 50/50 - Tried 41647 models - Completed in 3m 27s.</text><rect class=\"node\" fill=\"#00F082\" height=\"35\" stroke=\"#1E1E1E\" stroke-width=\"1\" width=\"90\" x=\"361\" y=\"50.0\"><title>Class_\n",
       "logistic:\n",
       "w=-18.2891\n",
       "bias=0.6558</title></rect><text fill=\"#1E1E1E\" font-family=\"monospace\" font-size=\"12\" style=\"pointer-events:none\" text-anchor=\"middle\" x=\"406.0\" y=\"71.5\">Class_</text><text fill=\"#1E1E1E\" font-family=\"monospace\" font-size=\"10\" style=\"pointer-events:none\" text-anchor=\"end\" x=\"449\" y=\"59.0\">0</text><text fill=\"#1E1E1E\" font-family=\"monospace\" font-size=\"10\" style=\"pointer-events:none\" text-anchor=\"start\" x=\"363\" y=\"59.0\">out</text><line stroke=\"#1E1E1E\" x1=\"331\" x2=\"361\" y1=\"67.5\" y2=\"67.5\" /><rect class=\"node\" fill=\"#FAFAFA\" height=\"35\" stroke=\"#FF1EC8\" stroke-width=\"1\" width=\"90\" x=\"241\" y=\"50.0\"><title>add</title></rect><text fill=\"#1E1E1E\" font-family=\"monospace\" font-size=\"12\" style=\"pointer-events:none\" text-anchor=\"middle\" x=\"286.0\" y=\"71.5\">add</text><text fill=\"#1E1E1E\" font-family=\"monospace\" font-size=\"10\" style=\"pointer-events:none\" text-anchor=\"end\" x=\"329\" y=\"59.0\">1</text><line stroke=\"#1E1E1E\" x1=\"211\" x2=\"241\" y1=\"37.5\" y2=\"58.5\" /><line stroke=\"#1E1E1E\" x1=\"211\" x2=\"241\" y1=\"97.5\" y2=\"76.5\" /><rect class=\"node\" fill=\"#00F082\" height=\"35\" stroke=\"#1E1E1E\" stroke-width=\"1\" width=\"90\" x=\"121\" y=\"20.0\"><title>TECTB\n",
       "linear:\n",
       "scale=0.372926\n",
       "scale offset=1.232857\n",
       "w=-2.212845\n",
       "bias=-2.3322</title></rect><text fill=\"#1E1E1E\" font-family=\"monospace\" font-size=\"12\" style=\"pointer-events:none\" text-anchor=\"middle\" x=\"166.0\" y=\"41.5\">TECTB</text><text fill=\"#1E1E1E\" font-family=\"monospace\" font-size=\"10\" style=\"pointer-events:none\" text-anchor=\"end\" x=\"209\" y=\"29.0\">2</text><text fill=\"#1E1E1E\" font-family=\"monospace\" font-size=\"10\" style=\"pointer-events:none\" text-anchor=\"start\" x=\"123\" y=\"29.0\">num</text><rect class=\"node\" fill=\"#FAFAFA\" height=\"35\" stroke=\"#FF1EC8\" stroke-width=\"1\" width=\"90\" x=\"121\" y=\"80.0\"><title>multiply</title></rect><text fill=\"#1E1E1E\" font-family=\"monospace\" font-size=\"12\" style=\"pointer-events:none\" text-anchor=\"middle\" x=\"166.0\" y=\"101.5\">multiply</text><text fill=\"#1E1E1E\" font-family=\"monospace\" font-size=\"10\" style=\"pointer-events:none\" text-anchor=\"end\" x=\"209\" y=\"89.0\">3</text><line stroke=\"#1E1E1E\" x1=\"91\" x2=\"121\" y1=\"37.5\" y2=\"88.5\" /><line stroke=\"#1E1E1E\" x1=\"91\" x2=\"121\" y1=\"97.5\" y2=\"106.5\" /><rect class=\"node\" fill=\"#00F082\" height=\"35\" stroke=\"#1E1E1E\" stroke-width=\"1\" width=\"90\" x=\"1\" y=\"20.0\"><title>CPT1B\n",
       "linear:\n",
       "scale=0.254907\n",
       "scale offset=2.397786\n",
       "w=-3.663357\n",
       "bias=-3.9810</title></rect><text fill=\"#1E1E1E\" font-family=\"monospace\" font-size=\"12\" style=\"pointer-events:none\" text-anchor=\"middle\" x=\"46.0\" y=\"41.5\">CPT1B</text><text fill=\"#1E1E1E\" font-family=\"monospace\" font-size=\"10\" style=\"pointer-events:none\" text-anchor=\"end\" x=\"89\" y=\"29.0\">4</text><text fill=\"#1E1E1E\" font-family=\"monospace\" font-size=\"10\" style=\"pointer-events:none\" text-anchor=\"start\" x=\"3\" y=\"29.0\">num</text><rect class=\"node\" fill=\"#00F082\" height=\"35\" stroke=\"#1E1E1E\" stroke-width=\"1\" width=\"90\" x=\"1\" y=\"80.0\"><title>PHF23\n",
       "linear:\n",
       "scale=0.079095\n",
       "scale offset=14.180304\n",
       "w=0.958831\n",
       "bias=-0.6285</title></rect><text fill=\"#1E1E1E\" font-family=\"monospace\" font-size=\"12\" style=\"pointer-events:none\" text-anchor=\"middle\" x=\"46.0\" y=\"101.5\">PHF23</text><text fill=\"#1E1E1E\" font-family=\"monospace\" font-size=\"10\" style=\"pointer-events:none\" text-anchor=\"end\" x=\"89\" y=\"89.0\">5</text><text fill=\"#1E1E1E\" font-family=\"monospace\" font-size=\"10\" style=\"pointer-events:none\" text-anchor=\"start\" x=\"3\" y=\"89.0\">num</text></svg></svg>"
      ],
      "text/plain": [
       "<IPython.core.display.HTML object>"
      ]
     },
     "metadata": {},
     "output_type": "display_data"
    }
   ],
   "source": [
    "logdir='../models_insulin_paper_train_test/'\n",
    "os.makedirs(logdir, exist_ok=True)\n",
    "\n",
    "results_train_test = ModelResults()\n",
    "os.makedirs('%spartition_%i' % (logdir, 1), exist_ok=True)\n",
    "model_file = \"%spartition_%i/model\" % (logdir, 1)\n",
    "train = data_togo.loc[(data_togo.CV_Split != 1)]\n",
    "test = data_togo.loc[(data_togo.CV_Split == 1)]\n",
    "\n",
    "# Connecting to the QLattice\n",
    "\n",
    "ql = feyn.connect_qlattice()\n",
    "\n",
    "# Setting a seed\n",
    "\n",
    "ql.reset(random_seed=42)  \n",
    "\n",
    "stypes = dict()\n",
    "for f in train.columns:\n",
    "    if train[f].dtype =='object':\n",
    "        stypes[f] = 'c'\n",
    "\n",
    "models_ = ql.auto_run(data=train,\n",
    "                      output_name=\"Class_\",\n",
    "                      kind=\"classification\",\n",
    "                      n_epochs=50,\n",
    "                      max_complexity=5,\n",
    "                      stypes=stypes,\n",
    "                      criterion=\"bic\",\n",
    "             )\n",
    "\n",
    "#for j in models_:\n",
    "#    results_train_test.update(train, test, 1, j)\n",
    "\n",
    "#for i in range(len(models_)):    \n",
    "#    models_[i].save(model_file+'_'+str(1)+'_'+str(i)+'.json')"
   ]
  },
  {
   "cell_type": "code",
   "execution_count": 17,
   "metadata": {},
   "outputs": [
    {
     "data": {
      "text/html": [
       "<div>\n",
       "<style scoped>\n",
       "    .dataframe tbody tr th:only-of-type {\n",
       "        vertical-align: middle;\n",
       "    }\n",
       "\n",
       "    .dataframe tbody tr th {\n",
       "        vertical-align: top;\n",
       "    }\n",
       "\n",
       "    .dataframe thead th {\n",
       "        text-align: right;\n",
       "    }\n",
       "</style>\n",
       "<table border=\"1\" class=\"dataframe\">\n",
       "  <thead>\n",
       "    <tr style=\"text-align: right;\">\n",
       "      <th></th>\n",
       "      <th>N. Features</th>\n",
       "      <th>Functional form</th>\n",
       "      <th>BIC</th>\n",
       "      <th>Loss</th>\n",
       "      <th>AUC Train</th>\n",
       "    </tr>\n",
       "  </thead>\n",
       "  <tbody>\n",
       "    <tr>\n",
       "      <th>0</th>\n",
       "      <td>3</td>\n",
       "      <td>logreg(CPT1B*PHF23 + TECTB)</td>\n",
       "      <td>16.93</td>\n",
       "      <td>0.012366</td>\n",
       "      <td>1.0</td>\n",
       "    </tr>\n",
       "    <tr>\n",
       "      <th>1</th>\n",
       "      <td>3</td>\n",
       "      <td>logreg(CATG000000841241 + EXOC7 + PHF23)</td>\n",
       "      <td>20.18</td>\n",
       "      <td>0.047962</td>\n",
       "      <td>1.0</td>\n",
       "    </tr>\n",
       "    <tr>\n",
       "      <th>2</th>\n",
       "      <td>3</td>\n",
       "      <td>logreg(HCN4*(PHF23 + ZNF621))</td>\n",
       "      <td>23.81</td>\n",
       "      <td>0.043090</td>\n",
       "      <td>1.0</td>\n",
       "    </tr>\n",
       "    <tr>\n",
       "      <th>3</th>\n",
       "      <td>3</td>\n",
       "      <td>logreg(PHF23*(CTD3162L105 + PDK4))</td>\n",
       "      <td>29.14</td>\n",
       "      <td>0.066883</td>\n",
       "      <td>1.0</td>\n",
       "    </tr>\n",
       "    <tr>\n",
       "      <th>4</th>\n",
       "      <td>2</td>\n",
       "      <td>logreg(SPRY4 + tanh(PDK4))</td>\n",
       "      <td>29.32</td>\n",
       "      <td>0.088783</td>\n",
       "      <td>1.0</td>\n",
       "    </tr>\n",
       "    <tr>\n",
       "      <th>5</th>\n",
       "      <td>2</td>\n",
       "      <td>logreg(PDK4 + SPRY4)</td>\n",
       "      <td>30.59</td>\n",
       "      <td>0.115509</td>\n",
       "      <td>0.99</td>\n",
       "    </tr>\n",
       "    <tr>\n",
       "      <th>6</th>\n",
       "      <td>3</td>\n",
       "      <td>logreg(CDKN1A + PHF23 + SLA)</td>\n",
       "      <td>32.97</td>\n",
       "      <td>0.105064</td>\n",
       "      <td>0.99</td>\n",
       "    </tr>\n",
       "    <tr>\n",
       "      <th>7</th>\n",
       "      <td>3</td>\n",
       "      <td>logreg(CDKN1A + EEF2K + TRMT13)</td>\n",
       "      <td>33.75</td>\n",
       "      <td>0.108549</td>\n",
       "      <td>0.99</td>\n",
       "    </tr>\n",
       "    <tr>\n",
       "      <th>8</th>\n",
       "      <td>3</td>\n",
       "      <td>logreg(LDLR + PMFBP1 + SREBF1)</td>\n",
       "      <td>35.37</td>\n",
       "      <td>0.115791</td>\n",
       "      <td>0.99</td>\n",
       "    </tr>\n",
       "    <tr>\n",
       "      <th>9</th>\n",
       "      <td>3</td>\n",
       "      <td>logreg(AREG + CTB55O610 + PHF23)</td>\n",
       "      <td>36.93</td>\n",
       "      <td>0.122742</td>\n",
       "      <td>0.99</td>\n",
       "    </tr>\n",
       "  </tbody>\n",
       "</table>\n",
       "</div>"
      ],
      "text/plain": [
       "   N. Features                           Functional form    BIC      Loss  \\\n",
       "0            3               logreg(CPT1B*PHF23 + TECTB)  16.93  0.012366   \n",
       "1            3  logreg(CATG000000841241 + EXOC7 + PHF23)  20.18  0.047962   \n",
       "2            3             logreg(HCN4*(PHF23 + ZNF621))  23.81  0.043090   \n",
       "3            3        logreg(PHF23*(CTD3162L105 + PDK4))  29.14  0.066883   \n",
       "4            2                logreg(SPRY4 + tanh(PDK4))  29.32  0.088783   \n",
       "5            2                      logreg(PDK4 + SPRY4)  30.59  0.115509   \n",
       "6            3              logreg(CDKN1A + PHF23 + SLA)  32.97  0.105064   \n",
       "7            3           logreg(CDKN1A + EEF2K + TRMT13)  33.75  0.108549   \n",
       "8            3            logreg(LDLR + PMFBP1 + SREBF1)  35.37  0.115791   \n",
       "9            3          logreg(AREG + CTB55O610 + PHF23)  36.93  0.122742   \n",
       "\n",
       "  AUC Train  \n",
       "0       1.0  \n",
       "1       1.0  \n",
       "2       1.0  \n",
       "3       1.0  \n",
       "4       1.0  \n",
       "5      0.99  \n",
       "6      0.99  \n",
       "7      0.99  \n",
       "8      0.99  \n",
       "9      0.99  "
      ]
     },
     "execution_count": 17,
     "metadata": {},
     "output_type": "execute_result"
    }
   ],
   "source": [
    "df_summary = modsum(models_, train, test)[['N. Features', 'Functional form', 'BIC', 'Loss', 'AUC Train']]\n",
    "df_summary"
   ]
  },
  {
   "cell_type": "code",
   "execution_count": 18,
   "metadata": {},
   "outputs": [
    {
     "name": "stdout",
     "output_type": "stream",
     "text": [
      "\\begin{tabular}{lrllrl}\n",
      "\\toprule\n",
      "{} &  N. Features &                           Functional form &    BIC &      Loss & AUC Train \\\\\n",
      "\\midrule\n",
      "0 &            3 &               logreg(CPT1B*PHF23 + TECTB) &  16.93 &  0.012366 &       1.0 \\\\\n",
      "1 &            3 &  logreg(CATG000000841241 + EXOC7 + PHF23) &  20.18 &  0.047962 &       1.0 \\\\\n",
      "2 &            3 &             logreg(HCN4*(PHF23 + ZNF621)) &  23.81 &  0.043090 &       1.0 \\\\\n",
      "3 &            3 &        logreg(PHF23*(CTD3162L105 + PDK4)) &  29.14 &  0.066883 &       1.0 \\\\\n",
      "4 &            2 &                logreg(SPRY4 + tanh(PDK4)) &  29.32 &  0.088783 &       1.0 \\\\\n",
      "5 &            2 &                      logreg(PDK4 + SPRY4) &  30.59 &  0.115509 &      0.99 \\\\\n",
      "6 &            3 &              logreg(CDKN1A + PHF23 + SLA) &  32.97 &  0.105064 &      0.99 \\\\\n",
      "7 &            3 &           logreg(CDKN1A + EEF2K + TRMT13) &  33.75 &  0.108549 &      0.99 \\\\\n",
      "8 &            3 &            logreg(LDLR + PMFBP1 + SREBF1) &  35.37 &  0.115791 &      0.99 \\\\\n",
      "9 &            3 &          logreg(AREG + CTB55O610 + PHF23) &  36.93 &  0.122742 &      0.99 \\\\\n",
      "\\bottomrule\n",
      "\\end{tabular}\n",
      "\n"
     ]
    }
   ],
   "source": [
    "print(df_summary.to_latex())"
   ]
  },
  {
   "cell_type": "code",
   "execution_count": 19,
   "metadata": {},
   "outputs": [],
   "source": [
    "model = models_[1]"
   ]
  },
  {
   "cell_type": "code",
   "execution_count": 20,
   "metadata": {},
   "outputs": [
    {
     "data": {
      "image/svg+xml": [
       "<?xml version=\"1.0\" encoding=\"utf-8\" ?>\n",
       "<svg baseProfile=\"full\" height=\"200.0\" preserveAspectRatio=\"none\" version=\"1.1\" viewBox=\"0 0 471 200.0\" width=\"471\" xmlns=\"http://www.w3.org/2000/svg\" xmlns:ev=\"http://www.w3.org/2001/xml-events\" xmlns:xlink=\"http://www.w3.org/1999/xlink\"><defs /><svg class=\"graph\" height=\"195.0\" width=\"471\" x=\"0\" y=\"0\"><defs /><rect class=\"node\" fill=\"#00f082\" height=\"35\" stroke=\"#1E1E1E\" stroke-width=\"1\" width=\"90\" x=\"361\" y=\"50.0\"><title>Class_\n",
       "logistic:\n",
       "w=5.4246\n",
       "bias=1.9997</title></rect><text fill=\"#1E1E1E\" font-family=\"monospace\" font-size=\"12\" style=\"pointer-events:none\" text-anchor=\"middle\" x=\"406.0\" y=\"71.5\">Class_</text><text fill=\"#1E1E1E\" font-family=\"monospace\" font-size=\"10\" style=\"pointer-events:none\" text-anchor=\"end\" x=\"449\" y=\"59.0\">0</text><text fill=\"#1E1E1E\" font-family=\"monospace\" font-size=\"10\" style=\"pointer-events:none\" text-anchor=\"start\" x=\"363\" y=\"59.0\">out</text><line stroke=\"#1E1E1E\" x1=\"331\" x2=\"361\" y1=\"67.5\" y2=\"67.5\" /><rect class=\"node\" fill=\"#04f084\" height=\"35\" stroke=\"#1E1E1E\" stroke-width=\"1\" width=\"90\" x=\"241\" y=\"50.0\"><title>add</title></rect><text fill=\"#1E1E1E\" font-family=\"monospace\" font-size=\"12\" style=\"pointer-events:none\" text-anchor=\"middle\" x=\"286.0\" y=\"71.5\">add</text><text fill=\"#1E1E1E\" font-family=\"monospace\" font-size=\"10\" style=\"pointer-events:none\" text-anchor=\"end\" x=\"329\" y=\"59.0\">1</text><line stroke=\"#1E1E1E\" x1=\"211\" x2=\"241\" y1=\"37.5\" y2=\"58.5\" /><line stroke=\"#1E1E1E\" x1=\"211\" x2=\"241\" y1=\"97.5\" y2=\"76.5\" /><rect class=\"node\" fill=\"#40f3a1\" height=\"35\" stroke=\"#1E1E1E\" stroke-width=\"1\" width=\"90\" x=\"121\" y=\"20.0\"><title>add</title></rect><text fill=\"#1E1E1E\" font-family=\"monospace\" font-size=\"12\" style=\"pointer-events:none\" text-anchor=\"middle\" x=\"166.0\" y=\"41.5\">add</text><text fill=\"#1E1E1E\" font-family=\"monospace\" font-size=\"10\" style=\"pointer-events:none\" text-anchor=\"end\" x=\"209\" y=\"29.0\">2</text><line stroke=\"#1E1E1E\" x1=\"91\" x2=\"121\" y1=\"37.5\" y2=\"28.5\" /><line stroke=\"#1E1E1E\" x1=\"91\" x2=\"121\" y1=\"97.5\" y2=\"46.5\" /><rect class=\"node\" fill=\"#59f4ad\" height=\"35\" stroke=\"#1E1E1E\" stroke-width=\"1\" width=\"90\" x=\"1\" y=\"20.0\"><title>PHF23\n",
       "linear:\n",
       "scale=0.079095\n",
       "scale offset=14.180304\n",
       "w=2.299157\n",
       "bias=0.2808</title></rect><text fill=\"#1E1E1E\" font-family=\"monospace\" font-size=\"12\" style=\"pointer-events:none\" text-anchor=\"middle\" x=\"46.0\" y=\"41.5\">PHF23</text><text fill=\"#1E1E1E\" font-family=\"monospace\" font-size=\"10\" style=\"pointer-events:none\" text-anchor=\"end\" x=\"89\" y=\"29.0\">3</text><text fill=\"#1E1E1E\" font-family=\"monospace\" font-size=\"10\" style=\"pointer-events:none\" text-anchor=\"start\" x=\"3\" y=\"29.0\">num</text><rect class=\"node\" fill=\"#fafafa\" height=\"35\" stroke=\"#1E1E1E\" stroke-width=\"1\" width=\"90\" x=\"1\" y=\"80.0\"><title>EXOC7\n",
       "linear:\n",
       "scale=0.012927\n",
       "scale offset=107.548696\n",
       "w=-1.629926\n",
       "bias=-0.8572</title></rect><text fill=\"#1E1E1E\" font-family=\"monospace\" font-size=\"12\" style=\"pointer-events:none\" text-anchor=\"middle\" x=\"46.0\" y=\"101.5\">EXOC7</text><text fill=\"#1E1E1E\" font-family=\"monospace\" font-size=\"10\" style=\"pointer-events:none\" text-anchor=\"end\" x=\"89\" y=\"89.0\">4</text><text fill=\"#1E1E1E\" font-family=\"monospace\" font-size=\"10\" style=\"pointer-events:none\" text-anchor=\"start\" x=\"3\" y=\"89.0\">num</text><rect class=\"node\" fill=\"#6df4b6\" height=\"35\" stroke=\"#1E1E1E\" stroke-width=\"1\" width=\"90\" x=\"121\" y=\"80.0\"><title>CATG00000084124_1\n",
       "linear:\n",
       "scale=0.420168\n",
       "scale offset=0.782625\n",
       "w=3.098878\n",
       "bias=0.7296</title></rect><text fill=\"#1E1E1E\" font-family=\"monospace\" font-size=\"12\" style=\"pointer-events:none\" text-anchor=\"middle\" x=\"166.0\" y=\"101.5\">CATG0000..</text><text fill=\"#1E1E1E\" font-family=\"monospace\" font-size=\"10\" style=\"pointer-events:none\" text-anchor=\"end\" x=\"209\" y=\"89.0\">5</text><text fill=\"#1E1E1E\" font-family=\"monospace\" font-size=\"10\" style=\"pointer-events:none\" text-anchor=\"start\" x=\"123\" y=\"89.0\">num</text><text fill=\"#1E1E1E\" font-family=\"monospace\" font-size=\"10\" text-anchor=\"middle\" x=\"406.0\" y=\"45.0\">0.66</text><text fill=\"#1E1E1E\" font-family=\"monospace\" font-size=\"10\" text-anchor=\"middle\" x=\"286.0\" y=\"45.0\">0.65</text><text fill=\"#1E1E1E\" font-family=\"monospace\" font-size=\"10\" text-anchor=\"middle\" x=\"166.0\" y=\"15.0\">0.5</text><text fill=\"#1E1E1E\" font-family=\"monospace\" font-size=\"10\" text-anchor=\"middle\" x=\"46.0\" y=\"15.0\">0.43</text><text fill=\"#1E1E1E\" font-family=\"monospace\" font-size=\"10\" text-anchor=\"middle\" x=\"46.0\" y=\"75.0\">0.02</text><text fill=\"#1E1E1E\" font-family=\"monospace\" font-size=\"10\" text-anchor=\"middle\" x=\"166.0\" y=\"75.0\">0.38</text><rect fill=\"#fafafa\" height=\"20\" stroke-width=\"1\" width=\"50\" x=\"160.5\" y=\"175.0\" /><text fill=\"#1E1E1E\" font-family=\"monospace\" font-size=\"12\" text-anchor=\"middle\" x=\"185.5\" y=\"188.0\">low</text><rect fill=\"#00f082\" height=\"20\" stroke-width=\"1\" width=\"50\" x=\"210.5\" y=\"175.0\" /><text fill=\"#1E1E1E\" font-family=\"monospace\" font-size=\"12\" text-anchor=\"middle\" x=\"235.5\" y=\"188.0\">high</text><text fill=\"#1E1E1E\" font-family=\"monospace\" font-size=\"12\" text-anchor=\"middle\" x=\"235.5\" y=\"170.0\">Mutual Information</text></svg></svg>"
      ],
      "text/html": [
       "<?xml version=\"1.0\" encoding=\"utf-8\" ?>\n",
       "<svg baseProfile=\"full\" height=\"200.0\" preserveAspectRatio=\"none\" version=\"1.1\" viewBox=\"0 0 471 200.0\" width=\"471\" xmlns=\"http://www.w3.org/2000/svg\" xmlns:ev=\"http://www.w3.org/2001/xml-events\" xmlns:xlink=\"http://www.w3.org/1999/xlink\"><defs /><svg class=\"graph\" height=\"195.0\" width=\"471\" x=\"0\" y=\"0\"><defs /><rect class=\"node\" fill=\"#00f082\" height=\"35\" stroke=\"#1E1E1E\" stroke-width=\"1\" width=\"90\" x=\"361\" y=\"50.0\"><title>Class_\n",
       "logistic:\n",
       "w=5.4246\n",
       "bias=1.9997</title></rect><text fill=\"#1E1E1E\" font-family=\"monospace\" font-size=\"12\" style=\"pointer-events:none\" text-anchor=\"middle\" x=\"406.0\" y=\"71.5\">Class_</text><text fill=\"#1E1E1E\" font-family=\"monospace\" font-size=\"10\" style=\"pointer-events:none\" text-anchor=\"end\" x=\"449\" y=\"59.0\">0</text><text fill=\"#1E1E1E\" font-family=\"monospace\" font-size=\"10\" style=\"pointer-events:none\" text-anchor=\"start\" x=\"363\" y=\"59.0\">out</text><line stroke=\"#1E1E1E\" x1=\"331\" x2=\"361\" y1=\"67.5\" y2=\"67.5\" /><rect class=\"node\" fill=\"#04f084\" height=\"35\" stroke=\"#1E1E1E\" stroke-width=\"1\" width=\"90\" x=\"241\" y=\"50.0\"><title>add</title></rect><text fill=\"#1E1E1E\" font-family=\"monospace\" font-size=\"12\" style=\"pointer-events:none\" text-anchor=\"middle\" x=\"286.0\" y=\"71.5\">add</text><text fill=\"#1E1E1E\" font-family=\"monospace\" font-size=\"10\" style=\"pointer-events:none\" text-anchor=\"end\" x=\"329\" y=\"59.0\">1</text><line stroke=\"#1E1E1E\" x1=\"211\" x2=\"241\" y1=\"37.5\" y2=\"58.5\" /><line stroke=\"#1E1E1E\" x1=\"211\" x2=\"241\" y1=\"97.5\" y2=\"76.5\" /><rect class=\"node\" fill=\"#40f3a1\" height=\"35\" stroke=\"#1E1E1E\" stroke-width=\"1\" width=\"90\" x=\"121\" y=\"20.0\"><title>add</title></rect><text fill=\"#1E1E1E\" font-family=\"monospace\" font-size=\"12\" style=\"pointer-events:none\" text-anchor=\"middle\" x=\"166.0\" y=\"41.5\">add</text><text fill=\"#1E1E1E\" font-family=\"monospace\" font-size=\"10\" style=\"pointer-events:none\" text-anchor=\"end\" x=\"209\" y=\"29.0\">2</text><line stroke=\"#1E1E1E\" x1=\"91\" x2=\"121\" y1=\"37.5\" y2=\"28.5\" /><line stroke=\"#1E1E1E\" x1=\"91\" x2=\"121\" y1=\"97.5\" y2=\"46.5\" /><rect class=\"node\" fill=\"#59f4ad\" height=\"35\" stroke=\"#1E1E1E\" stroke-width=\"1\" width=\"90\" x=\"1\" y=\"20.0\"><title>PHF23\n",
       "linear:\n",
       "scale=0.079095\n",
       "scale offset=14.180304\n",
       "w=2.299157\n",
       "bias=0.2808</title></rect><text fill=\"#1E1E1E\" font-family=\"monospace\" font-size=\"12\" style=\"pointer-events:none\" text-anchor=\"middle\" x=\"46.0\" y=\"41.5\">PHF23</text><text fill=\"#1E1E1E\" font-family=\"monospace\" font-size=\"10\" style=\"pointer-events:none\" text-anchor=\"end\" x=\"89\" y=\"29.0\">3</text><text fill=\"#1E1E1E\" font-family=\"monospace\" font-size=\"10\" style=\"pointer-events:none\" text-anchor=\"start\" x=\"3\" y=\"29.0\">num</text><rect class=\"node\" fill=\"#fafafa\" height=\"35\" stroke=\"#1E1E1E\" stroke-width=\"1\" width=\"90\" x=\"1\" y=\"80.0\"><title>EXOC7\n",
       "linear:\n",
       "scale=0.012927\n",
       "scale offset=107.548696\n",
       "w=-1.629926\n",
       "bias=-0.8572</title></rect><text fill=\"#1E1E1E\" font-family=\"monospace\" font-size=\"12\" style=\"pointer-events:none\" text-anchor=\"middle\" x=\"46.0\" y=\"101.5\">EXOC7</text><text fill=\"#1E1E1E\" font-family=\"monospace\" font-size=\"10\" style=\"pointer-events:none\" text-anchor=\"end\" x=\"89\" y=\"89.0\">4</text><text fill=\"#1E1E1E\" font-family=\"monospace\" font-size=\"10\" style=\"pointer-events:none\" text-anchor=\"start\" x=\"3\" y=\"89.0\">num</text><rect class=\"node\" fill=\"#6df4b6\" height=\"35\" stroke=\"#1E1E1E\" stroke-width=\"1\" width=\"90\" x=\"121\" y=\"80.0\"><title>CATG00000084124_1\n",
       "linear:\n",
       "scale=0.420168\n",
       "scale offset=0.782625\n",
       "w=3.098878\n",
       "bias=0.7296</title></rect><text fill=\"#1E1E1E\" font-family=\"monospace\" font-size=\"12\" style=\"pointer-events:none\" text-anchor=\"middle\" x=\"166.0\" y=\"101.5\">CATG0000..</text><text fill=\"#1E1E1E\" font-family=\"monospace\" font-size=\"10\" style=\"pointer-events:none\" text-anchor=\"end\" x=\"209\" y=\"89.0\">5</text><text fill=\"#1E1E1E\" font-family=\"monospace\" font-size=\"10\" style=\"pointer-events:none\" text-anchor=\"start\" x=\"123\" y=\"89.0\">num</text><text fill=\"#1E1E1E\" font-family=\"monospace\" font-size=\"10\" text-anchor=\"middle\" x=\"406.0\" y=\"45.0\">0.66</text><text fill=\"#1E1E1E\" font-family=\"monospace\" font-size=\"10\" text-anchor=\"middle\" x=\"286.0\" y=\"45.0\">0.65</text><text fill=\"#1E1E1E\" font-family=\"monospace\" font-size=\"10\" text-anchor=\"middle\" x=\"166.0\" y=\"15.0\">0.5</text><text fill=\"#1E1E1E\" font-family=\"monospace\" font-size=\"10\" text-anchor=\"middle\" x=\"46.0\" y=\"15.0\">0.43</text><text fill=\"#1E1E1E\" font-family=\"monospace\" font-size=\"10\" text-anchor=\"middle\" x=\"46.0\" y=\"75.0\">0.02</text><text fill=\"#1E1E1E\" font-family=\"monospace\" font-size=\"10\" text-anchor=\"middle\" x=\"166.0\" y=\"75.0\">0.38</text><rect fill=\"#fafafa\" height=\"20\" stroke-width=\"1\" width=\"50\" x=\"160.5\" y=\"175.0\" /><text fill=\"#1E1E1E\" font-family=\"monospace\" font-size=\"12\" text-anchor=\"middle\" x=\"185.5\" y=\"188.0\">low</text><rect fill=\"#00f082\" height=\"20\" stroke-width=\"1\" width=\"50\" x=\"210.5\" y=\"175.0\" /><text fill=\"#1E1E1E\" font-family=\"monospace\" font-size=\"12\" text-anchor=\"middle\" x=\"235.5\" y=\"188.0\">high</text><text fill=\"#1E1E1E\" font-family=\"monospace\" font-size=\"12\" text-anchor=\"middle\" x=\"235.5\" y=\"170.0\">Mutual Information</text></svg></svg>"
      ],
      "text/plain": [
       "<feyn.plots._svg_toolkit.SVGGraphToolkit at 0x7fbd74ed9940>"
      ]
     },
     "execution_count": 20,
     "metadata": {},
     "output_type": "execute_result"
    }
   ],
   "source": [
    "model.plot_signal(train, corr_func='mutual_information', \n",
    "                             filename=pathname+projectname+'plot_signal_mi.svg')"
   ]
  },
  {
   "cell_type": "code",
   "execution_count": 21,
   "metadata": {},
   "outputs": [
    {
     "data": {
      "image/png": "[encoded data removed]",
      "text/plain": [
       "<Figure size 432x288 with 1 Axes>"
      ]
     },
     "metadata": {},
     "output_type": "display_data"
    }
   ],
   "source": [
    "model.plot_roc_curve(train, label='train')\n",
    "model.plot_roc_curve(test, label='test', ax=plt.gca())\n",
    "plt.savefig(pathname+projectname+'roc_auc'+'.pdf', dpi=300, bbox_inches='tight')"
   ]
  },
  {
   "cell_type": "code",
   "execution_count": 22,
   "metadata": {},
   "outputs": [
    {
     "data": {
      "image/png": "[encoded data removed]",
      "text/plain": [
       "<Figure size 432x288 with 2 Axes>"
      ]
     },
     "metadata": {},
     "output_type": "display_data"
    },
    {
     "data": {
      "image/png": "[encoded data removed]",
      "text/plain": [
       "<Figure size 432x288 with 2 Axes>"
      ]
     },
     "metadata": {},
     "output_type": "display_data"
    }
   ],
   "source": [
    "model.plot_confusion_matrix(train, filename=pathname+projectname+'confusion_train'+'.pdf')\n",
    "model.plot_confusion_matrix(test, filename=pathname+projectname+'confusion_test'+'.pdf')"
   ]
  },
  {
   "cell_type": "code",
   "execution_count": 23,
   "metadata": {},
   "outputs": [
    {
     "data": {
      "image/png": "[encoded data removed]",
      "text/plain": [
       "<Figure size 432x288 with 2 Axes>"
      ]
     },
     "metadata": {},
     "output_type": "display_data"
    },
    {
     "data": {
      "image/png": "[encoded data removed]",
      "text/plain": [
       "<Figure size 432x288 with 2 Axes>"
      ]
     },
     "metadata": {},
     "output_type": "display_data"
    },
    {
     "data": {
      "image/png": "[encoded data removed]",
      "text/plain": [
       "<Figure size 432x288 with 2 Axes>"
      ]
     },
     "metadata": {},
     "output_type": "display_data"
    }
   ],
   "source": [
    "model.plot_response_2d(train[model.inputs + ['Class_']], fixed={\"PHF23\":train.PHF23.quantile(0.25)})\n",
    "model.plot_response_2d(train[model.inputs + ['Class_']], fixed={\"PHF23\":train.PHF23.quantile(0.50)})\n",
    "model.plot_response_2d(train[model.inputs + ['Class_']], fixed={\"PHF23\":train.PHF23.quantile(0.75)})"
   ]
  },
  {
   "cell_type": "code",
   "execution_count": 24,
   "metadata": {
    "scrolled": true,
    "tags": []
   },
   "outputs": [
    {
     "ename": "ValueError",
     "evalue": "Fixed contains a name that is not an input to the model",
     "output_type": "error",
     "traceback": [
      "\u001b[0;31m---------------------------------------------------------------------------\u001b[0m",
      "\u001b[0;31mValueError\u001b[0m                                Traceback (most recent call last)",
      "\u001b[0;32m/tmp/ipykernel_40104/3088105629.py\u001b[0m in \u001b[0;36m<module>\u001b[0;34m\u001b[0m\n\u001b[0;32m----> 1\u001b[0;31m \u001b[0mmodel\u001b[0m\u001b[0;34m.\u001b[0m\u001b[0mplot_response_2d\u001b[0m\u001b[0;34m(\u001b[0m\u001b[0mtrain\u001b[0m\u001b[0;34m[\u001b[0m\u001b[0mmodel\u001b[0m\u001b[0;34m.\u001b[0m\u001b[0minputs\u001b[0m \u001b[0;34m+\u001b[0m \u001b[0;34m[\u001b[0m\u001b[0;34m'Class_'\u001b[0m\u001b[0;34m]\u001b[0m\u001b[0;34m]\u001b[0m\u001b[0;34m,\u001b[0m\u001b[0mfixed\u001b[0m\u001b[0;34m=\u001b[0m\u001b[0;34m{\u001b[0m\u001b[0;34m\"C2CD2L\"\u001b[0m\u001b[0;34m:\u001b[0m\u001b[0mtrain\u001b[0m\u001b[0;34m.\u001b[0m\u001b[0mC2CD2L\u001b[0m\u001b[0;34m.\u001b[0m\u001b[0mquantile\u001b[0m\u001b[0;34m(\u001b[0m\u001b[0;36m0.25\u001b[0m\u001b[0;34m)\u001b[0m\u001b[0;34m}\u001b[0m\u001b[0;34m)\u001b[0m\u001b[0;34m\u001b[0m\u001b[0;34m\u001b[0m\u001b[0m\n\u001b[0m\u001b[1;32m      2\u001b[0m \u001b[0mplt\u001b[0m\u001b[0;34m.\u001b[0m\u001b[0mtitle\u001b[0m\u001b[0;34m(\u001b[0m\u001b[0mlabel\u001b[0m\u001b[0;34m=\u001b[0m\u001b[0;34m\"C2CD2L quantile 0.25\"\u001b[0m\u001b[0;34m)\u001b[0m\u001b[0;34m\u001b[0m\u001b[0;34m\u001b[0m\u001b[0m\n\u001b[1;32m      3\u001b[0m \u001b[0mplt\u001b[0m\u001b[0;34m.\u001b[0m\u001b[0mtight_layout\u001b[0m\u001b[0;34m(\u001b[0m\u001b[0;34m)\u001b[0m\u001b[0;34m\u001b[0m\u001b[0;34m\u001b[0m\u001b[0m\n\u001b[1;32m      4\u001b[0m \u001b[0mplt\u001b[0m\u001b[0;34m.\u001b[0m\u001b[0msavefig\u001b[0m\u001b[0;34m(\u001b[0m\u001b[0mpathname\u001b[0m\u001b[0;34m+\u001b[0m\u001b[0mprojectname\u001b[0m\u001b[0;34m+\u001b[0m\u001b[0;34m\"response2d_25.pdf\"\u001b[0m\u001b[0;34m,\u001b[0m \u001b[0mbbox_inches\u001b[0m\u001b[0;34m=\u001b[0m\u001b[0;34m'tight'\u001b[0m\u001b[0;34m)\u001b[0m\u001b[0;34m\u001b[0m\u001b[0;34m\u001b[0m\u001b[0m\n",
      "\u001b[0;32m~/.local/lib/python3.7/site-packages/feyn/_typings.py\u001b[0m in \u001b[0;36mwrapper\u001b[0;34m(*args, **kwargs)\u001b[0m\n\u001b[1;32m     53\u001b[0m                     \u001b[0mprint\u001b[0m\u001b[0;34m(\u001b[0m\u001b[0;34m\"---\"\u001b[0m\u001b[0;34m)\u001b[0m\u001b[0;34m\u001b[0m\u001b[0;34m\u001b[0m\u001b[0m\n\u001b[1;32m     54\u001b[0m \u001b[0;34m\u001b[0m\u001b[0m\n\u001b[0;32m---> 55\u001b[0;31m             \u001b[0;32mreturn\u001b[0m \u001b[0mfunc\u001b[0m\u001b[0;34m(\u001b[0m\u001b[0;34m*\u001b[0m\u001b[0margs\u001b[0m\u001b[0;34m,\u001b[0m \u001b[0;34m**\u001b[0m\u001b[0mkwargs\u001b[0m\u001b[0;34m)\u001b[0m\u001b[0;34m\u001b[0m\u001b[0;34m\u001b[0m\u001b[0m\n\u001b[0m\u001b[1;32m     56\u001b[0m \u001b[0;34m\u001b[0m\u001b[0m\n\u001b[1;32m     57\u001b[0m         \u001b[0;32mreturn\u001b[0m \u001b[0mwrapper\u001b[0m\u001b[0;34m\u001b[0m\u001b[0;34m\u001b[0m\u001b[0m\n",
      "\u001b[0;32m~/.local/lib/python3.7/site-packages/feyn/_plots_mixin.py\u001b[0m in \u001b[0;36mplot_response_2d\u001b[0;34m(self, data, fixed, ax, resolution, figsize, filename)\u001b[0m\n\u001b[1;32m     85\u001b[0m             \u001b[0mValueError\u001b[0m\u001b[0;34m:\u001b[0m \u001b[0;32mif\u001b[0m \u001b[0mfixed\u001b[0m \u001b[0mcontains\u001b[0m \u001b[0man\u001b[0m \u001b[0minput\u001b[0m \u001b[0;32mnot\u001b[0m \u001b[0;32min\u001b[0m \u001b[0mthe\u001b[0m \u001b[0mmodel\u001b[0m \u001b[0minputs\u001b[0m\u001b[0;34m.\u001b[0m\u001b[0;34m\u001b[0m\u001b[0;34m\u001b[0m\u001b[0m\n\u001b[1;32m     86\u001b[0m         \"\"\"\n\u001b[0;32m---> 87\u001b[0;31m         \u001b[0mfeyn\u001b[0m\u001b[0;34m.\u001b[0m\u001b[0mplots\u001b[0m\u001b[0;34m.\u001b[0m\u001b[0mplot_model_response_2d\u001b[0m\u001b[0;34m(\u001b[0m\u001b[0mself\u001b[0m\u001b[0;34m,\u001b[0m \u001b[0mdata\u001b[0m\u001b[0;34m,\u001b[0m \u001b[0mfixed\u001b[0m\u001b[0;34m,\u001b[0m \u001b[0max\u001b[0m\u001b[0;34m,\u001b[0m \u001b[0mresolution\u001b[0m\u001b[0;34m,\u001b[0m \u001b[0mfigsize\u001b[0m\u001b[0;34m,\u001b[0m \u001b[0mfilename\u001b[0m\u001b[0;34m)\u001b[0m\u001b[0;34m\u001b[0m\u001b[0;34m\u001b[0m\u001b[0m\n\u001b[0m\u001b[1;32m     88\u001b[0m \u001b[0;34m\u001b[0m\u001b[0m\n\u001b[1;32m     89\u001b[0m     \u001b[0;34m@\u001b[0m\u001b[0mcheck_types\u001b[0m\u001b[0;34m(\u001b[0m\u001b[0;34m)\u001b[0m\u001b[0;34m\u001b[0m\u001b[0;34m\u001b[0m\u001b[0m\n",
      "\u001b[0;32m~/.local/lib/python3.7/site-packages/feyn/_typings.py\u001b[0m in \u001b[0;36mwrapper\u001b[0;34m(*args, **kwargs)\u001b[0m\n\u001b[1;32m     53\u001b[0m                     \u001b[0mprint\u001b[0m\u001b[0;34m(\u001b[0m\u001b[0;34m\"---\"\u001b[0m\u001b[0;34m)\u001b[0m\u001b[0;34m\u001b[0m\u001b[0;34m\u001b[0m\u001b[0m\n\u001b[1;32m     54\u001b[0m \u001b[0;34m\u001b[0m\u001b[0m\n\u001b[0;32m---> 55\u001b[0;31m             \u001b[0;32mreturn\u001b[0m \u001b[0mfunc\u001b[0m\u001b[0;34m(\u001b[0m\u001b[0;34m*\u001b[0m\u001b[0margs\u001b[0m\u001b[0;34m,\u001b[0m \u001b[0;34m**\u001b[0m\u001b[0mkwargs\u001b[0m\u001b[0;34m)\u001b[0m\u001b[0;34m\u001b[0m\u001b[0;34m\u001b[0m\u001b[0m\n\u001b[0m\u001b[1;32m     56\u001b[0m \u001b[0;34m\u001b[0m\u001b[0m\n\u001b[1;32m     57\u001b[0m         \u001b[0;32mreturn\u001b[0m \u001b[0mwrapper\u001b[0m\u001b[0;34m\u001b[0m\u001b[0;34m\u001b[0m\u001b[0m\n",
      "\u001b[0;32m~/.local/lib/python3.7/site-packages/feyn/plots/_model_response_2d.py\u001b[0m in \u001b[0;36mplot_model_response_2d\u001b[0;34m(model, data, fixed, ax, resolution, figsize, filename)\u001b[0m\n\u001b[1;32m     72\u001b[0m \u001b[0;34m\u001b[0m\u001b[0m\n\u001b[1;32m     73\u001b[0m     \u001b[0mfixed\u001b[0m \u001b[0;34m=\u001b[0m \u001b[0;34m{\u001b[0m\u001b[0;34m}\u001b[0m \u001b[0;32mif\u001b[0m \u001b[0mfixed\u001b[0m \u001b[0;32mis\u001b[0m \u001b[0;32mNone\u001b[0m \u001b[0;32melse\u001b[0m \u001b[0mfixed\u001b[0m\u001b[0;34m\u001b[0m\u001b[0;34m\u001b[0m\u001b[0m\n\u001b[0;32m---> 74\u001b[0;31m     \u001b[0m_validate_fixed\u001b[0m\u001b[0;34m(\u001b[0m\u001b[0mmodel\u001b[0m\u001b[0;34m,\u001b[0m \u001b[0mfixed\u001b[0m\u001b[0;34m)\u001b[0m\u001b[0;34m\u001b[0m\u001b[0;34m\u001b[0m\u001b[0m\n\u001b[0m\u001b[1;32m     75\u001b[0m \u001b[0;34m\u001b[0m\u001b[0m\n\u001b[1;32m     76\u001b[0m     \u001b[0mpp2d\u001b[0m \u001b[0;34m=\u001b[0m \u001b[0mPartialPlot2D\u001b[0m\u001b[0;34m(\u001b[0m\u001b[0mmodel\u001b[0m\u001b[0;34m,\u001b[0m \u001b[0mdata\u001b[0m\u001b[0;34m,\u001b[0m \u001b[0mfixed\u001b[0m\u001b[0;34m,\u001b[0m \u001b[0mresolution\u001b[0m\u001b[0;34m)\u001b[0m\u001b[0;34m\u001b[0m\u001b[0;34m\u001b[0m\u001b[0m\n",
      "\u001b[0;32m~/.local/lib/python3.7/site-packages/feyn/plots/_model_response_2d.py\u001b[0m in \u001b[0;36m_validate_fixed\u001b[0;34m(model, fixed)\u001b[0m\n\u001b[1;32m    303\u001b[0m     \u001b[0;32mif\u001b[0m \u001b[0mfixed\u001b[0m\u001b[0;34m:\u001b[0m\u001b[0;34m\u001b[0m\u001b[0;34m\u001b[0m\u001b[0m\n\u001b[1;32m    304\u001b[0m         \u001b[0;32mif\u001b[0m \u001b[0;32mnot\u001b[0m \u001b[0mall\u001b[0m\u001b[0;34m(\u001b[0m\u001b[0mkey\u001b[0m \u001b[0;32min\u001b[0m \u001b[0mmodel\u001b[0m\u001b[0;34m.\u001b[0m\u001b[0minputs\u001b[0m \u001b[0;32mfor\u001b[0m \u001b[0mkey\u001b[0m \u001b[0;32min\u001b[0m \u001b[0mfixed\u001b[0m\u001b[0;34m.\u001b[0m\u001b[0mkeys\u001b[0m\u001b[0;34m(\u001b[0m\u001b[0;34m)\u001b[0m\u001b[0;34m)\u001b[0m\u001b[0;34m:\u001b[0m\u001b[0;34m\u001b[0m\u001b[0;34m\u001b[0m\u001b[0m\n\u001b[0;32m--> 305\u001b[0;31m             \u001b[0;32mraise\u001b[0m \u001b[0mValueError\u001b[0m\u001b[0;34m(\u001b[0m\u001b[0;34m\"Fixed contains a name that is not an input to the model\"\u001b[0m\u001b[0;34m)\u001b[0m\u001b[0;34m\u001b[0m\u001b[0;34m\u001b[0m\u001b[0m\n\u001b[0m\u001b[1;32m    306\u001b[0m \u001b[0;34m\u001b[0m\u001b[0m\n\u001b[1;32m    307\u001b[0m     \u001b[0;32mif\u001b[0m \u001b[0;32mnot\u001b[0m \u001b[0mlen\u001b[0m\u001b[0;34m(\u001b[0m\u001b[0mmodel\u001b[0m\u001b[0;34m.\u001b[0m\u001b[0minputs\u001b[0m\u001b[0;34m)\u001b[0m \u001b[0;34m-\u001b[0m \u001b[0mlen\u001b[0m\u001b[0;34m(\u001b[0m\u001b[0mfixed\u001b[0m\u001b[0;34m)\u001b[0m \u001b[0;34m==\u001b[0m \u001b[0;36m2\u001b[0m\u001b[0;34m:\u001b[0m\u001b[0;34m\u001b[0m\u001b[0;34m\u001b[0m\u001b[0m\n",
      "\u001b[0;31mValueError\u001b[0m: Fixed contains a name that is not an input to the model"
     ]
    }
   ],
   "source": [
    "model.plot_response_2d(train[model.inputs + ['Class_']],fixed={\"C2CD2L\":train.C2CD2L.quantile(0.25)})\n",
    "plt.title(label=\"C2CD2L quantile 0.25\")\n",
    "plt.tight_layout()\n",
    "plt.savefig(pathname+projectname+\"response2d_25.pdf\", bbox_inches='tight')"
   ]
  },
  {
   "cell_type": "code",
   "execution_count": null,
   "metadata": {},
   "outputs": [],
   "source": [
    "model.plot_response_2d(train[model.inputs + ['Class_']], fixed={\"C2CD2L\":train.C2CD2L.quantile(0.50)})\n",
    "plt.title(label=\"C2CD2L quantile 0.50\")\n",
    "plt.tight_layout()\n",
    "plt.savefig(pathname+projectname+\"response2d_50.pdf\")"
   ]
  },
  {
   "cell_type": "code",
   "execution_count": null,
   "metadata": {},
   "outputs": [],
   "source": [
    "model.plot_response_2d(train[model.inputs + ['Class_']], fixed={\"C2CD2L\":train.C2CD2L.quantile(0.75)})\n",
    "plt.title(label=\"C2CD2L quantile 0.75\")\n",
    "plt.tight_layout()\n",
    "plt.savefig(pathname+projectname+\"response2d_75.pdf\")"
   ]
  },
  {
   "cell_type": "code",
   "execution_count": null,
   "metadata": {},
   "outputs": [],
   "source": [
    "train.C2CD2L.quantile(0.25)"
   ]
  },
  {
   "cell_type": "code",
   "execution_count": null,
   "metadata": {},
   "outputs": [],
   "source": [
    "train.C2CD2L.hist()"
   ]
  },
  {
   "cell_type": "code",
   "execution_count": null,
   "metadata": {},
   "outputs": [],
   "source": [
    "print(model.sympify())"
   ]
  },
  {
   "cell_type": "code",
   "execution_count": null,
   "metadata": {},
   "outputs": [],
   "source": [
    "#sns.displot(-0.104333*train[train['Class_']==0]['PDK4'] + 0.868373*train[train['Class_']==0]['PHF23'], kde=True)\n",
    "sns.displot(train[[\"PDK4\", \"Class_\"]],x=\"PDK4\", hue=\"Class_\", kde=True, bins=20,)\n",
    "plt.savefig(pathname+projectname+\"distPDK4.pdf\")\n",
    "sns.displot(train[[\"PHF23\", \"Class_\"]],x=\"PHF23\", hue=\"Class_\", kde=True, bins=20)\n",
    "plt.savefig(pathname+projectname+\"distPHF23.pdf\")\n",
    "sns.displot(train[[\"C2CD2L\", \"Class_\"]],x=\"C2CD2L\", hue=\"Class_\", kde=True, bins=20)\n",
    "plt.savefig(pathname+projectname+\"distC2CD2L.pdf\")\n",
    "sns.displot(train[[\"linear_combination\", \"Class_\"]],x=\"linear_combination\", hue=\"Class_\", kde=True, bins=20)\n",
    "plt.savefig(pathname+projectname+\"distLC.pdf\")"
   ]
  },
  {
   "cell_type": "code",
   "execution_count": null,
   "metadata": {},
   "outputs": [],
   "source": [
    "train['linear_combination'] = -0.104333*train['PDK4'] + 0.868373*train['PHF23'] -1.09552*train['C2CD2']"
   ]
  },
  {
   "cell_type": "code",
   "execution_count": null,
   "metadata": {},
   "outputs": [],
   "source": [
    "sns.pairplot(train[list(['PDK4', 'PHF23']) + ['Class_']], hue = 'Class_')"
   ]
  },
  {
   "cell_type": "code",
   "execution_count": null,
   "metadata": {},
   "outputs": [],
   "source": [
    "results = crossvalidation_as_framework(data,\n",
    "                                     target,\n",
    "                                     kind = \"classification\",\n",
    "                                     stypes = stypes,\n",
    "                                     n_epochs = epochs,\n",
    "                                     criterion=criterion,\n",
    "                                     max_complexity = max_complexity)"
   ]
  },
  {
   "cell_type": "markdown",
   "metadata": {},
   "source": [
    "## Benchmarks"
   ]
  },
  {
   "cell_type": "code",
   "execution_count": 25,
   "metadata": {},
   "outputs": [],
   "source": [
    "from sklearn.model_selection import GroupKFold"
   ]
  },
  {
   "cell_type": "code",
   "execution_count": 26,
   "metadata": {},
   "outputs": [],
   "source": [
    "class InsulinKfold(GroupKFold):\n",
    "    def __init__(self, n_splits=5):\n",
    "        super().__init__(n_splits)\n",
    "        \n",
    "    def split(self, X, y=None, groups=None):\n",
    "        return super().split(X, y=None, groups=X['patient_number'])"
   ]
  },
  {
   "cell_type": "markdown",
   "metadata": {},
   "source": [
    "### LASSO"
   ]
  },
  {
   "cell_type": "code",
   "execution_count": 27,
   "metadata": {},
   "outputs": [],
   "source": [
    "results_lasso = lasso_benchmark(data_togo, target, num_experiments=1, n_jobs=50, \n",
    "                                inner_cv=InsulinKfold(), outer_cv=InsulinKfold())"
   ]
  },
  {
   "cell_type": "code",
   "execution_count": 28,
   "metadata": {},
   "outputs": [
    {
     "data": {
      "text/plain": [
       "array([0.99479167, 0.97435897, 0.94871795, 0.95721925, 0.99375   ])"
      ]
     },
     "execution_count": 28,
     "metadata": {},
     "output_type": "execute_result"
    }
   ],
   "source": [
    "results_lasso"
   ]
  },
  {
   "cell_type": "code",
   "execution_count": 29,
   "metadata": {},
   "outputs": [
    {
     "data": {
      "text/plain": [
       "0.9737675682160976"
      ]
     },
     "execution_count": 29,
     "metadata": {},
     "output_type": "execute_result"
    }
   ],
   "source": [
    "np.mean(results_lasso)"
   ]
  },
  {
   "cell_type": "markdown",
   "metadata": {},
   "source": [
    "### Random forest"
   ]
  },
  {
   "cell_type": "markdown",
   "metadata": {},
   "source": [
    "#### No feature selection"
   ]
  },
  {
   "cell_type": "code",
   "execution_count": 30,
   "metadata": {},
   "outputs": [],
   "source": [
    "results_rf = random_forest_benchmark(data_togo, target, n_jobs=50, inner_cv=InsulinKfold(), outer_cv=InsulinKfold())"
   ]
  },
  {
   "cell_type": "code",
   "execution_count": 31,
   "metadata": {},
   "outputs": [
    {
     "data": {
      "text/plain": [
       "array([1.        , 0.98461538, 0.92820513, 0.89304813, 0.98125   ])"
      ]
     },
     "execution_count": 31,
     "metadata": {},
     "output_type": "execute_result"
    }
   ],
   "source": [
    "results_rf"
   ]
  },
  {
   "cell_type": "code",
   "execution_count": 32,
   "metadata": {},
   "outputs": [
    {
     "data": {
      "text/plain": [
       "0.9574237282325517"
      ]
     },
     "execution_count": 32,
     "metadata": {},
     "output_type": "execute_result"
    }
   ],
   "source": [
    "results_rf.mean()"
   ]
  },
  {
   "cell_type": "markdown",
   "metadata": {},
   "source": [
    "#### Feature selection by mutual information"
   ]
  },
  {
   "cell_type": "code",
   "execution_count": null,
   "metadata": {},
   "outputs": [],
   "source": [
    "results_rf_mi = random_forest_benchmark(data_togo, target, feat_selection='mi', n_jobs=50, \n",
    "                                        inner_cv=InsulinKfold(), outer_cv=InsulinKfold())"
   ]
  },
  {
   "cell_type": "code",
   "execution_count": null,
   "metadata": {},
   "outputs": [],
   "source": [
    "results_rf_mi"
   ]
  },
  {
   "cell_type": "code",
   "execution_count": null,
   "metadata": {},
   "outputs": [],
   "source": [
    "results_rf_mi.mean()"
   ]
  },
  {
   "cell_type": "markdown",
   "metadata": {},
   "source": [
    "#### Feature selection by f_score"
   ]
  },
  {
   "cell_type": "code",
   "execution_count": null,
   "metadata": {},
   "outputs": [],
   "source": [
    "results_rf_f = random_forest_benchmark(data_togo, target, feat_selection='f_score', n_jobs=50,\n",
    "                                       inner_cv=InsulinKfold(), outer_cv=InsulinKfold())"
   ]
  },
  {
   "cell_type": "code",
   "execution_count": null,
   "metadata": {},
   "outputs": [],
   "source": [
    "results_rf_f"
   ]
  },
  {
   "cell_type": "code",
   "execution_count": null,
   "metadata": {},
   "outputs": [],
   "source": [
    "results_rf_f.mean()"
   ]
  },
  {
   "cell_type": "markdown",
   "metadata": {},
   "source": [
    "#### Feature selection by lasso"
   ]
  },
  {
   "cell_type": "code",
   "execution_count": null,
   "metadata": {},
   "outputs": [],
   "source": [
    "results_rf_l = random_forest_benchmark(data_togo, target, feat_selection='lasso', n_jobs=50,\n",
    "                                       inner_cv=InsulinKfold(), outer_cv=InsulinKfold())"
   ]
  },
  {
   "cell_type": "code",
   "execution_count": null,
   "metadata": {},
   "outputs": [],
   "source": [
    "results_rf_l"
   ]
  },
  {
   "cell_type": "code",
   "execution_count": null,
   "metadata": {},
   "outputs": [],
   "source": [
    "results_rf_l.mean()"
   ]
  },
  {
   "cell_type": "markdown",
   "metadata": {},
   "source": [
    "### Gradient Boosting"
   ]
  },
  {
   "cell_type": "markdown",
   "metadata": {},
   "source": [
    "#### No feature selection"
   ]
  },
  {
   "cell_type": "code",
   "execution_count": null,
   "metadata": {},
   "outputs": [],
   "source": [
    "results_gb = gradient_boosting_benchmark(data_togo, target, inner_cv=InsulinKfold(), outer_cv=InsulinKfold())"
   ]
  },
  {
   "cell_type": "code",
   "execution_count": null,
   "metadata": {},
   "outputs": [],
   "source": [
    "results_gb"
   ]
  },
  {
   "cell_type": "code",
   "execution_count": null,
   "metadata": {},
   "outputs": [],
   "source": [
    "results_gb.mean()"
   ]
  },
  {
   "cell_type": "markdown",
   "metadata": {},
   "source": [
    "#### Feature selection by mutual information"
   ]
  },
  {
   "cell_type": "code",
   "execution_count": null,
   "metadata": {},
   "outputs": [],
   "source": [
    "results_gb_mi = gradient_boosting_benchmark(data_togo, target, feat_selection='mi', n_jobs=50,\n",
    "                                            inner_cv=InsulinKfold(), outer_cv=InsulinKfold())"
   ]
  },
  {
   "cell_type": "code",
   "execution_count": null,
   "metadata": {},
   "outputs": [],
   "source": [
    "results_gb_mi"
   ]
  },
  {
   "cell_type": "code",
   "execution_count": null,
   "metadata": {},
   "outputs": [],
   "source": [
    "results_gb_mi.mean()"
   ]
  },
  {
   "cell_type": "markdown",
   "metadata": {},
   "source": [
    "#### Feature selection by f_score"
   ]
  },
  {
   "cell_type": "code",
   "execution_count": null,
   "metadata": {},
   "outputs": [],
   "source": [
    "results_gb_f = gradient_boosting_benchmark(data_togo, target, feat_selection='f_score', n_jobs=50, \n",
    "                                           inner_cv=InsulinKfold(), outer_cv=InsulinKfold())"
   ]
  },
  {
   "cell_type": "code",
   "execution_count": null,
   "metadata": {},
   "outputs": [],
   "source": [
    "results_gb_f"
   ]
  },
  {
   "cell_type": "code",
   "execution_count": null,
   "metadata": {},
   "outputs": [],
   "source": [
    "results_gb_f.mean()"
   ]
  },
  {
   "cell_type": "markdown",
   "metadata": {},
   "source": [
    "#### Feature selection by lasso"
   ]
  },
  {
   "cell_type": "code",
   "execution_count": null,
   "metadata": {},
   "outputs": [],
   "source": [
    "results_gb_l = gradient_boosting_benchmark(data_togo, target, feat_selection='lasso', n_jobs=50, \n",
    "                                           inner_cv=InsulinKfold(), outer_cv=InsulinKfold())"
   ]
  },
  {
   "cell_type": "code",
   "execution_count": null,
   "metadata": {},
   "outputs": [],
   "source": [
    "results_gb_l"
   ]
  },
  {
   "cell_type": "code",
   "execution_count": null,
   "metadata": {},
   "outputs": [],
   "source": [
    "results_gb_l.mean()"
   ]
  },
  {
   "cell_type": "markdown",
   "metadata": {},
   "source": [
    "### Elastic net"
   ]
  },
  {
   "cell_type": "code",
   "execution_count": null,
   "metadata": {},
   "outputs": [],
   "source": [
    "results_en = elasticnet_benchmark(data_togo, target, num_experiments=1,\n",
    "                                  inner_cv=InsulinKfold(), outer_cv=InsulinKfold())"
   ]
  },
  {
   "cell_type": "code",
   "execution_count": null,
   "metadata": {},
   "outputs": [],
   "source": [
    "results_en"
   ]
  },
  {
   "cell_type": "code",
   "execution_count": null,
   "metadata": {},
   "outputs": [],
   "source": [
    "np.mean(results_en)"
   ]
  },
  {
   "cell_type": "markdown",
   "metadata": {},
   "source": [
    "## Summary table"
   ]
  },
  {
   "cell_type": "code",
   "execution_count": null,
   "metadata": {},
   "outputs": [],
   "source": [
    "data = [[results.groupby(\"fold\").first().roc_auc_val.mean(), None, None, None],\n",
    "        [np.mean(results_lasso), None, None, None],\n",
    "        [np.mean(results_en), None, None, None],\n",
    "        [np.mean(results_rf), np.mean(results_rf_mi), np.mean(results_rf_f), np.mean(results_rf_l)],\n",
    "        [np.mean(results_gb), np.mean(results_gb_mi), np.mean(results_gb_f), np.mean(results_gb_l)]\n",
    "       ]\n",
    "df_bench = pd.DataFrame(data=data,\n",
    "             index=[\"QLattice\", \"LASSO\", \"Elasticnet\", \"Random Forest\", \"Gradient Boosting\"],\n",
    "             columns=[\"All features\", \"Feat selection MI\", \"Feat selection F\", \"Feature selection LASSO\"])\n",
    "df_bench"
   ]
  },
  {
   "cell_type": "code",
   "execution_count": null,
   "metadata": {},
   "outputs": [],
   "source": [
    "print(df_bench.to_latex())"
   ]
  }
 ],
 "metadata": {
  "kernelspec": {
   "display_name": "Python 3 (ipykernel)",
   "language": "python",
   "name": "python3"
  },
  "language_info": {
   "codemirror_mode": {
    "name": "ipython",
    "version": 3
   },
   "file_extension": ".py",
   "mimetype": "text/x-python",
   "name": "python",
   "nbconvert_exporter": "python",
   "pygments_lexer": "ipython3",
   "version": "3.7.3"
  }
 },
 "nbformat": 4,
 "nbformat_minor": 4
}
