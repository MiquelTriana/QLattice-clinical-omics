{
 "cells": [
  {
   "cell_type": "markdown",
   "id": "864094d1",
   "metadata": {},
   "source": [
    "# AD, QLattice, Ubuntu, 25-11-21"
   ]
  },
  {
   "cell_type": "code",
   "execution_count": 1,
   "id": "8e81c7d5",
   "metadata": {},
   "outputs": [
    {
     "name": "stdout",
     "output_type": "stream",
     "text": [
      "3.8.10\n"
     ]
    }
   ],
   "source": [
    "from platform import python_version\n",
    "print(python_version())"
   ]
  },
  {
   "cell_type": "code",
   "execution_count": 2,
   "id": "3ccb5a0f",
   "metadata": {},
   "outputs": [],
   "source": [
    "import numpy as np\n",
    "import pandas as pd\n",
    "import seaborn as sns\n",
    "import feyn\n",
    "from sklearn.model_selection import train_test_split\n",
    "import matplotlib.pyplot as plt\n",
    "\n",
    "from functions import modsum, model_features_chart, crossvalidation_as_framework\n",
    "\n",
    "feyn._qlattice._USE_V2_API=True"
   ]
  },
  {
   "cell_type": "code",
   "execution_count": 3,
   "id": "b5079c62",
   "metadata": {},
   "outputs": [
    {
     "data": {
      "text/plain": [
       "'2.1.2'"
      ]
     },
     "execution_count": 3,
     "metadata": {},
     "output_type": "execute_result"
    }
   ],
   "source": [
    "feyn.__version__"
   ]
  },
  {
   "cell_type": "code",
   "execution_count": 4,
   "id": "bca9e531",
   "metadata": {},
   "outputs": [],
   "source": [
    "# Load the data\n",
    "data = pd.read_csv(\"../data/ad_omics.csv\")"
   ]
  },
  {
   "cell_type": "code",
   "execution_count": 5,
   "id": "7331297a",
   "metadata": {},
   "outputs": [],
   "source": [
    "# Define the semantic types\n",
    "stypes = {}\n",
    "for f in data.columns:\n",
    "    if data[f].dtype =='object':\n",
    "        stypes[f] = 'c'\n",
    "        \n",
    "# Set random seed for reproducibility\n",
    "random_seed = 42"
   ]
  },
  {
   "cell_type": "code",
   "execution_count": 6,
   "id": "9cdc8650",
   "metadata": {},
   "outputs": [],
   "source": [
    "target = \"_clinical AD diagnosis\""
   ]
  },
  {
   "cell_type": "markdown",
   "id": "a367ebfc",
   "metadata": {},
   "source": [
    "## In depth modelling"
   ]
  },
  {
   "cell_type": "code",
   "execution_count": 7,
   "id": "46ba84a6",
   "metadata": {},
   "outputs": [],
   "source": [
    "projectname = 'ad_ms_proteomics_'\n",
    "pathname = '../figures/'"
   ]
  },
  {
   "cell_type": "markdown",
   "id": "9d0fe7c3",
   "metadata": {},
   "source": [
    "### Get the test data"
   ]
  },
  {
   "cell_type": "code",
   "execution_count": 8,
   "id": "315946cb",
   "metadata": {},
   "outputs": [],
   "source": [
    "random_seed = 42\n",
    "train_val, test = train_test_split(data, test_size=0.2, stratify=data[target], random_state=random_seed)"
   ]
  },
  {
   "cell_type": "code",
   "execution_count": 9,
   "id": "31c4b17b",
   "metadata": {
    "scrolled": true
   },
   "outputs": [],
   "source": [
    "epochs = 50\n",
    "criterion = 'bic'\n",
    "max_complexity = 5\n",
    "random_seed = 42\n",
    "sw = np.where(train_val[target] == 1, np.sum(train_val[target] == 0)/sum(train_val[target]), 1)"
   ]
  },
  {
   "cell_type": "code",
   "execution_count": 10,
   "id": "3a7aaa95",
   "metadata": {},
   "outputs": [
    {
     "data": {
      "text/html": [
       "<?xml version=\"1.0\" encoding=\"utf-8\" ?>\n",
       "<svg baseProfile=\"full\" height=\"160.0\" preserveAspectRatio=\"none\" version=\"1.1\" viewBox=\"0 0 471 160.0\" width=\"471\" xmlns=\"http://www.w3.org/2000/svg\" xmlns:ev=\"http://www.w3.org/2001/xml-events\" xmlns:xlink=\"http://www.w3.org/1999/xlink\"><defs /><svg class=\"graph\" height=\"155.0\" width=\"471\" x=\"0\" y=\"0\"><defs /><text fill=\"#1E1E1E\" font-family=\"monospace\" font-size=\"12\" text-anchor=\"middle\" x=\"406.0\" y=\"99.0\">Loss: 1.68E-01</text><text fill=\"#1E1E1E\" font-family=\"monospace\" font-size=\"12\" text-anchor=\"start\" x=\"0\" y=\"145.0\">Epoch no. 50/50 - Tried 44306 models - Completed in 1m 47s.</text><rect class=\"node\" fill=\"#00F082\" height=\"35\" stroke=\"#1E1E1E\" stroke-width=\"1\" width=\"90\" x=\"361\" y=\"50.0\"><title>_clinical AD diagnosis\n",
       "logistic:\n",
       "w=-7.1795\n",
       "bias=0.4279</title></rect><text fill=\"#1E1E1E\" font-family=\"monospace\" font-size=\"12\" style=\"pointer-events:none\" text-anchor=\"middle\" x=\"406.0\" y=\"71.5\">_clinica..</text><text fill=\"#1E1E1E\" font-family=\"monospace\" font-size=\"10\" style=\"pointer-events:none\" text-anchor=\"end\" x=\"449\" y=\"59.0\">0</text><text fill=\"#1E1E1E\" font-family=\"monospace\" font-size=\"10\" style=\"pointer-events:none\" text-anchor=\"start\" x=\"363\" y=\"59.0\">out</text><line stroke=\"#1E1E1E\" x1=\"331\" x2=\"361\" y1=\"67.5\" y2=\"67.5\" /><rect class=\"node\" fill=\"#FAFAFA\" height=\"35\" stroke=\"#FF1EC8\" stroke-width=\"1\" width=\"90\" x=\"241\" y=\"50.0\"><title>add</title></rect><text fill=\"#1E1E1E\" font-family=\"monospace\" font-size=\"12\" style=\"pointer-events:none\" text-anchor=\"middle\" x=\"286.0\" y=\"71.5\">add</text><text fill=\"#1E1E1E\" font-family=\"monospace\" font-size=\"10\" style=\"pointer-events:none\" text-anchor=\"end\" x=\"329\" y=\"59.0\">1</text><line stroke=\"#1E1E1E\" x1=\"211\" x2=\"241\" y1=\"37.5\" y2=\"58.5\" /><line stroke=\"#1E1E1E\" x1=\"211\" x2=\"241\" y1=\"97.5\" y2=\"76.5\" /><rect class=\"node\" fill=\"#FAFAFA\" height=\"35\" stroke=\"#FF1EC8\" stroke-width=\"1\" width=\"90\" x=\"121\" y=\"20.0\"><title>add</title></rect><text fill=\"#1E1E1E\" font-family=\"monospace\" font-size=\"12\" style=\"pointer-events:none\" text-anchor=\"middle\" x=\"166.0\" y=\"41.5\">add</text><text fill=\"#1E1E1E\" font-family=\"monospace\" font-size=\"10\" style=\"pointer-events:none\" text-anchor=\"end\" x=\"209\" y=\"29.0\">2</text><line stroke=\"#1E1E1E\" x1=\"91\" x2=\"121\" y1=\"37.5\" y2=\"28.5\" /><line stroke=\"#1E1E1E\" x1=\"91\" x2=\"121\" y1=\"97.5\" y2=\"46.5\" /><rect class=\"node\" fill=\"#00F082\" height=\"35\" stroke=\"#1E1E1E\" stroke-width=\"1\" width=\"90\" x=\"1\" y=\"20.0\"><title>_age at CSF collection\n",
       "linear:\n",
       "scale=0.029412\n",
       "scale offset=65.550459\n",
       "w=-1.246599\n",
       "bias=-1.6691</title></rect><text fill=\"#1E1E1E\" font-family=\"monospace\" font-size=\"12\" style=\"pointer-events:none\" text-anchor=\"middle\" x=\"46.0\" y=\"41.5\">_age at ..</text><text fill=\"#1E1E1E\" font-family=\"monospace\" font-size=\"10\" style=\"pointer-events:none\" text-anchor=\"end\" x=\"89\" y=\"29.0\">3</text><text fill=\"#1E1E1E\" font-family=\"monospace\" font-size=\"10\" style=\"pointer-events:none\" text-anchor=\"start\" x=\"3\" y=\"29.0\">num</text><rect class=\"node\" fill=\"#00F082\" height=\"35\" stroke=\"#1E1E1E\" stroke-width=\"1\" width=\"90\" x=\"1\" y=\"80.0\"><title>MAPT\n",
       "linear:\n",
       "scale=0.000038\n",
       "scale offset=24135.487526\n",
       "w=-3.121478\n",
       "bias=1.0261</title></rect><text fill=\"#1E1E1E\" font-family=\"monospace\" font-size=\"12\" style=\"pointer-events:none\" text-anchor=\"middle\" x=\"46.0\" y=\"101.5\">MAPT</text><text fill=\"#1E1E1E\" font-family=\"monospace\" font-size=\"10\" style=\"pointer-events:none\" text-anchor=\"end\" x=\"89\" y=\"89.0\">4</text><text fill=\"#1E1E1E\" font-family=\"monospace\" font-size=\"10\" style=\"pointer-events:none\" text-anchor=\"start\" x=\"3\" y=\"89.0\">num</text><rect class=\"node\" fill=\"#00F082\" height=\"35\" stroke=\"#1E1E1E\" stroke-width=\"1\" width=\"90\" x=\"121\" y=\"80.0\"><title>LILRA2\n",
       "linear:\n",
       "scale=0.000067\n",
       "scale offset=12680.903070\n",
       "w=1.397963\n",
       "bias=1.0839</title></rect><text fill=\"#1E1E1E\" font-family=\"monospace\" font-size=\"12\" style=\"pointer-events:none\" text-anchor=\"middle\" x=\"166.0\" y=\"101.5\">LILRA2</text><text fill=\"#1E1E1E\" font-family=\"monospace\" font-size=\"10\" style=\"pointer-events:none\" text-anchor=\"end\" x=\"209\" y=\"89.0\">5</text><text fill=\"#1E1E1E\" font-family=\"monospace\" font-size=\"10\" style=\"pointer-events:none\" text-anchor=\"start\" x=\"123\" y=\"89.0\">num</text></svg></svg>"
      ],
      "text/plain": [
       "<IPython.core.display.HTML object>"
      ]
     },
     "metadata": {},
     "output_type": "display_data"
    }
   ],
   "source": [
    "ql = feyn.connect_qlattice(server=\"https://qlattice.stage.abzu.ai\") # Connecting\n",
    "ql.reset(random_seed) # Resetting\n",
    "models_single = ql.auto_run(data = train_val,\n",
    "                         output_name = target,\n",
    "                         kind = \"classification\",\n",
    "                         stypes = stypes,\n",
    "                         n_epochs = epochs,\n",
    "                         criterion=criterion,\n",
    "                         max_complexity = max_complexity,\n",
    "                         sample_weights=sw)"
   ]
  },
  {
   "cell_type": "markdown",
   "id": "8fd81dcf",
   "metadata": {},
   "source": [
    "## Model summary"
   ]
  },
  {
   "cell_type": "code",
   "execution_count": 11,
   "id": "431371ac",
   "metadata": {
    "tags": []
   },
   "outputs": [],
   "source": [
    "df_summary = modsum(models_single, train_val, test)[['N. Features', 'Functional form', 'BIC', 'Loss', 'AUC Train']]"
   ]
  },
  {
   "cell_type": "code",
   "execution_count": 12,
   "id": "bfd8d26a-7b45-497a-8b15-8317d1ba114b",
   "metadata": {},
   "outputs": [
    {
     "data": {
      "text/html": [
       "<div>\n",
       "<style scoped>\n",
       "    .dataframe tbody tr th:only-of-type {\n",
       "        vertical-align: middle;\n",
       "    }\n",
       "\n",
       "    .dataframe tbody tr th {\n",
       "        vertical-align: top;\n",
       "    }\n",
       "\n",
       "    .dataframe thead th {\n",
       "        text-align: right;\n",
       "    }\n",
       "</style>\n",
       "<table border=\"1\" class=\"dataframe\">\n",
       "  <thead>\n",
       "    <tr style=\"text-align: right;\">\n",
       "      <th></th>\n",
       "      <th>N. Features</th>\n",
       "      <th>Functional form</th>\n",
       "      <th>BIC</th>\n",
       "      <th>Loss</th>\n",
       "      <th>AUC Train</th>\n",
       "    </tr>\n",
       "  </thead>\n",
       "  <tbody>\n",
       "    <tr>\n",
       "      <th>0</th>\n",
       "      <td>3</td>\n",
       "      <td>logreg(LILRA2 + MAPT + age at CSF collection)</td>\n",
       "      <td>46.11</td>\n",
       "      <td>0.168468</td>\n",
       "      <td>0.98</td>\n",
       "    </tr>\n",
       "    <tr>\n",
       "      <th>1</th>\n",
       "      <td>3</td>\n",
       "      <td>logreg(IGKV2D-29 + LILRA2 + MAPT)</td>\n",
       "      <td>49.11</td>\n",
       "      <td>0.182253</td>\n",
       "      <td>0.98</td>\n",
       "    </tr>\n",
       "    <tr>\n",
       "      <th>2</th>\n",
       "      <td>3</td>\n",
       "      <td>logreg(FAM174A + IGLV4-69 + MAPT)</td>\n",
       "      <td>49.28</td>\n",
       "      <td>0.183027</td>\n",
       "      <td>0.97</td>\n",
       "    </tr>\n",
       "    <tr>\n",
       "      <th>3</th>\n",
       "      <td>3</td>\n",
       "      <td>logreg(MAPT*(AJAP1 + SERPINE2.1))</td>\n",
       "      <td>49.45</td>\n",
       "      <td>0.162273</td>\n",
       "      <td>0.97</td>\n",
       "    </tr>\n",
       "    <tr>\n",
       "      <th>4</th>\n",
       "      <td>3</td>\n",
       "      <td>logreg(ENOPH1 + GPC1 + MAPT)</td>\n",
       "      <td>51.42</td>\n",
       "      <td>0.192819</td>\n",
       "      <td>0.97</td>\n",
       "    </tr>\n",
       "    <tr>\n",
       "      <th>5</th>\n",
       "      <td>3</td>\n",
       "      <td>logreg(GPC1 + MAPT + age at CSF collection)</td>\n",
       "      <td>52.27</td>\n",
       "      <td>0.196747</td>\n",
       "      <td>0.98</td>\n",
       "    </tr>\n",
       "    <tr>\n",
       "      <th>6</th>\n",
       "      <td>3</td>\n",
       "      <td>logreg(ENDOD1 + MAPT + PPIA)</td>\n",
       "      <td>54.08</td>\n",
       "      <td>0.205037</td>\n",
       "      <td>0.97</td>\n",
       "    </tr>\n",
       "    <tr>\n",
       "      <th>7</th>\n",
       "      <td>3</td>\n",
       "      <td>logreg(GPC1 + MAPT + SERPINE2.1)</td>\n",
       "      <td>54.86</td>\n",
       "      <td>0.208604</td>\n",
       "      <td>0.97</td>\n",
       "    </tr>\n",
       "    <tr>\n",
       "      <th>8</th>\n",
       "      <td>2</td>\n",
       "      <td>logreg(IGLV4-69 + MAPT)</td>\n",
       "      <td>54.95</td>\n",
       "      <td>0.230524</td>\n",
       "      <td>0.97</td>\n",
       "    </tr>\n",
       "    <tr>\n",
       "      <th>9</th>\n",
       "      <td>3</td>\n",
       "      <td>logreg(MAPT + NXPH3 + SPINT2)</td>\n",
       "      <td>57.0</td>\n",
       "      <td>0.218450</td>\n",
       "      <td>0.97</td>\n",
       "    </tr>\n",
       "  </tbody>\n",
       "</table>\n",
       "</div>"
      ],
      "text/plain": [
       "   N. Features                                Functional form    BIC  \\\n",
       "0            3  logreg(LILRA2 + MAPT + age at CSF collection)  46.11   \n",
       "1            3              logreg(IGKV2D-29 + LILRA2 + MAPT)  49.11   \n",
       "2            3              logreg(FAM174A + IGLV4-69 + MAPT)  49.28   \n",
       "3            3              logreg(MAPT*(AJAP1 + SERPINE2.1))  49.45   \n",
       "4            3                   logreg(ENOPH1 + GPC1 + MAPT)  51.42   \n",
       "5            3    logreg(GPC1 + MAPT + age at CSF collection)  52.27   \n",
       "6            3                   logreg(ENDOD1 + MAPT + PPIA)  54.08   \n",
       "7            3               logreg(GPC1 + MAPT + SERPINE2.1)  54.86   \n",
       "8            2                        logreg(IGLV4-69 + MAPT)  54.95   \n",
       "9            3                  logreg(MAPT + NXPH3 + SPINT2)   57.0   \n",
       "\n",
       "       Loss AUC Train  \n",
       "0  0.168468      0.98  \n",
       "1  0.182253      0.98  \n",
       "2  0.183027      0.97  \n",
       "3  0.162273      0.97  \n",
       "4  0.192819      0.97  \n",
       "5  0.196747      0.98  \n",
       "6  0.205037      0.97  \n",
       "7  0.208604      0.97  \n",
       "8  0.230524      0.97  \n",
       "9  0.218450      0.97  "
      ]
     },
     "execution_count": 12,
     "metadata": {},
     "output_type": "execute_result"
    }
   ],
   "source": [
    "df_summary"
   ]
  },
  {
   "cell_type": "code",
   "execution_count": 13,
   "id": "d25e3e8e-c1f4-4614-86cf-6aaceead928c",
   "metadata": {},
   "outputs": [],
   "source": [
    "df_summary.to_csv(\"AD_summary_models.csv\")"
   ]
  },
  {
   "cell_type": "markdown",
   "id": "c69ec278",
   "metadata": {},
   "source": [
    "## Best model from autorun (BIC criterion)"
   ]
  },
  {
   "cell_type": "code",
   "execution_count": 14,
   "id": "4f88a0c0-5346-466c-8952-6dddf7c1c43a",
   "metadata": {},
   "outputs": [],
   "source": [
    "best_model = models_single[0]"
   ]
  },
  {
   "cell_type": "code",
   "execution_count": 43,
   "id": "80f7bd66",
   "metadata": {},
   "outputs": [
    {
     "data": {
      "text/plain": [
       "'/Users/miqueltrianaiglesias/repos/qlattice-clinical-omics-paper/figures/ad_ms_proteomics_bestmodel_summary.html'"
      ]
     },
     "execution_count": 43,
     "metadata": {},
     "output_type": "execute_result"
    }
   ],
   "source": [
    "best_model.plot(train_val,test, filename=pathname+projectname+'bestmodel_summary'+'.html')"
   ]
  },
  {
   "cell_type": "markdown",
   "id": "271adcef",
   "metadata": {},
   "source": [
    "# Plot feature conservation across models with dirac"
   ]
  },
  {
   "cell_type": "code",
   "execution_count": 16,
   "id": "ee0bcfd9",
   "metadata": {},
   "outputs": [
    {
     "data": {
      "text/html": [
       "<style type=\"text/css\">\n",
       "#T_c3e57_ th {\n",
       "  width: 30px;\n",
       "}\n",
       "#T_c3e57_ th.col_heading {\n",
       "  writing-mode: vertical-rl;\n",
       "  transform: rotateZ(0deg);\n",
       "  vertical-align: top;\n",
       "}\n",
       "#T_c3e57_row0_col1, #T_c3e57_row0_col4, #T_c3e57_row0_col5, #T_c3e57_row1_col1, #T_c3e57_row1_col5, #T_c3e57_row1_col10, #T_c3e57_row2_col1, #T_c3e57_row2_col6, #T_c3e57_row2_col13, #T_c3e57_row3_col1, #T_c3e57_row3_col3, #T_c3e57_row3_col8, #T_c3e57_row4_col1, #T_c3e57_row4_col2, #T_c3e57_row4_col9, #T_c3e57_row5_col1, #T_c3e57_row5_col2, #T_c3e57_row5_col4, #T_c3e57_row6_col1, #T_c3e57_row6_col11, #T_c3e57_row6_col12, #T_c3e57_row7_col1, #T_c3e57_row7_col2, #T_c3e57_row7_col3, #T_c3e57_row8_col1, #T_c3e57_row8_col6, #T_c3e57_row9_col1, #T_c3e57_row9_col7, #T_c3e57_row9_col14 {\n",
       "  background: black;\n",
       "}\n",
       "#T_c3e57_row0_col2, #T_c3e57_row0_col3, #T_c3e57_row0_col6, #T_c3e57_row0_col7, #T_c3e57_row0_col8, #T_c3e57_row0_col9, #T_c3e57_row0_col10, #T_c3e57_row0_col11, #T_c3e57_row0_col12, #T_c3e57_row0_col13, #T_c3e57_row0_col14, #T_c3e57_row1_col2, #T_c3e57_row1_col3, #T_c3e57_row1_col4, #T_c3e57_row1_col6, #T_c3e57_row1_col7, #T_c3e57_row1_col8, #T_c3e57_row1_col9, #T_c3e57_row1_col11, #T_c3e57_row1_col12, #T_c3e57_row1_col13, #T_c3e57_row1_col14, #T_c3e57_row2_col2, #T_c3e57_row2_col3, #T_c3e57_row2_col4, #T_c3e57_row2_col5, #T_c3e57_row2_col7, #T_c3e57_row2_col8, #T_c3e57_row2_col9, #T_c3e57_row2_col10, #T_c3e57_row2_col11, #T_c3e57_row2_col12, #T_c3e57_row2_col14, #T_c3e57_row3_col2, #T_c3e57_row3_col4, #T_c3e57_row3_col5, #T_c3e57_row3_col6, #T_c3e57_row3_col7, #T_c3e57_row3_col9, #T_c3e57_row3_col10, #T_c3e57_row3_col11, #T_c3e57_row3_col12, #T_c3e57_row3_col13, #T_c3e57_row3_col14, #T_c3e57_row4_col3, #T_c3e57_row4_col4, #T_c3e57_row4_col5, #T_c3e57_row4_col6, #T_c3e57_row4_col7, #T_c3e57_row4_col8, #T_c3e57_row4_col10, #T_c3e57_row4_col11, #T_c3e57_row4_col12, #T_c3e57_row4_col13, #T_c3e57_row4_col14, #T_c3e57_row5_col3, #T_c3e57_row5_col5, #T_c3e57_row5_col6, #T_c3e57_row5_col7, #T_c3e57_row5_col8, #T_c3e57_row5_col9, #T_c3e57_row5_col10, #T_c3e57_row5_col11, #T_c3e57_row5_col12, #T_c3e57_row5_col13, #T_c3e57_row5_col14, #T_c3e57_row6_col2, #T_c3e57_row6_col3, #T_c3e57_row6_col4, #T_c3e57_row6_col5, #T_c3e57_row6_col6, #T_c3e57_row6_col7, #T_c3e57_row6_col8, #T_c3e57_row6_col9, #T_c3e57_row6_col10, #T_c3e57_row6_col13, #T_c3e57_row6_col14, #T_c3e57_row7_col4, #T_c3e57_row7_col5, #T_c3e57_row7_col6, #T_c3e57_row7_col7, #T_c3e57_row7_col8, #T_c3e57_row7_col9, #T_c3e57_row7_col10, #T_c3e57_row7_col11, #T_c3e57_row7_col12, #T_c3e57_row7_col13, #T_c3e57_row7_col14, #T_c3e57_row8_col2, #T_c3e57_row8_col3, #T_c3e57_row8_col4, #T_c3e57_row8_col5, #T_c3e57_row8_col7, #T_c3e57_row8_col8, #T_c3e57_row8_col9, #T_c3e57_row8_col10, #T_c3e57_row8_col11, #T_c3e57_row8_col12, #T_c3e57_row8_col13, #T_c3e57_row8_col14, #T_c3e57_row9_col2, #T_c3e57_row9_col3, #T_c3e57_row9_col4, #T_c3e57_row9_col5, #T_c3e57_row9_col6, #T_c3e57_row9_col8, #T_c3e57_row9_col9, #T_c3e57_row9_col10, #T_c3e57_row9_col11, #T_c3e57_row9_col12, #T_c3e57_row9_col13 {\n",
       "  background: white;\n",
       "  color: white;\n",
       "  border: solid 1px black;\n",
       "}\n",
       "</style>\n",
       "<table id=\"T_c3e57_\">\n",
       "  <thead>\n",
       "    <tr>\n",
       "      <th class=\"blank level0\" >&nbsp;</th>\n",
       "      <th class=\"col_heading level0 col0\" >roc_auc_score</th>\n",
       "      <th class=\"col_heading level0 col1\" >MAPT</th>\n",
       "      <th class=\"col_heading level0 col2\" >GPC1</th>\n",
       "      <th class=\"col_heading level0 col3\" >SERPINE2.1</th>\n",
       "      <th class=\"col_heading level0 col4\" >_age at CSF collection</th>\n",
       "      <th class=\"col_heading level0 col5\" >LILRA2</th>\n",
       "      <th class=\"col_heading level0 col6\" >IGLV4-69</th>\n",
       "      <th class=\"col_heading level0 col7\" >NXPH3</th>\n",
       "      <th class=\"col_heading level0 col8\" >AJAP1</th>\n",
       "      <th class=\"col_heading level0 col9\" >ENOPH1</th>\n",
       "      <th class=\"col_heading level0 col10\" >IGKV2D-29</th>\n",
       "      <th class=\"col_heading level0 col11\" >ENDOD1</th>\n",
       "      <th class=\"col_heading level0 col12\" >PPIA</th>\n",
       "      <th class=\"col_heading level0 col13\" >FAM174A</th>\n",
       "      <th class=\"col_heading level0 col14\" >SPINT2</th>\n",
       "    </tr>\n",
       "    <tr>\n",
       "      <th class=\"index_name level0\" >Model#</th>\n",
       "      <th class=\"blank col0\" >&nbsp;</th>\n",
       "      <th class=\"blank col1\" >&nbsp;</th>\n",
       "      <th class=\"blank col2\" >&nbsp;</th>\n",
       "      <th class=\"blank col3\" >&nbsp;</th>\n",
       "      <th class=\"blank col4\" >&nbsp;</th>\n",
       "      <th class=\"blank col5\" >&nbsp;</th>\n",
       "      <th class=\"blank col6\" >&nbsp;</th>\n",
       "      <th class=\"blank col7\" >&nbsp;</th>\n",
       "      <th class=\"blank col8\" >&nbsp;</th>\n",
       "      <th class=\"blank col9\" >&nbsp;</th>\n",
       "      <th class=\"blank col10\" >&nbsp;</th>\n",
       "      <th class=\"blank col11\" >&nbsp;</th>\n",
       "      <th class=\"blank col12\" >&nbsp;</th>\n",
       "      <th class=\"blank col13\" >&nbsp;</th>\n",
       "      <th class=\"blank col14\" >&nbsp;</th>\n",
       "    </tr>\n",
       "  </thead>\n",
       "  <tbody>\n",
       "    <tr>\n",
       "      <th id=\"T_c3e57_level0_row0\" class=\"row_heading level0 row0\" >0</th>\n",
       "      <td id=\"T_c3e57_row0_col0\" class=\"data row0 col0\" >0.982051</td>\n",
       "      <td id=\"T_c3e57_row0_col1\" class=\"data row0 col1\" >True</td>\n",
       "      <td id=\"T_c3e57_row0_col2\" class=\"data row0 col2\" >False</td>\n",
       "      <td id=\"T_c3e57_row0_col3\" class=\"data row0 col3\" >False</td>\n",
       "      <td id=\"T_c3e57_row0_col4\" class=\"data row0 col4\" >True</td>\n",
       "      <td id=\"T_c3e57_row0_col5\" class=\"data row0 col5\" >True</td>\n",
       "      <td id=\"T_c3e57_row0_col6\" class=\"data row0 col6\" >False</td>\n",
       "      <td id=\"T_c3e57_row0_col7\" class=\"data row0 col7\" >False</td>\n",
       "      <td id=\"T_c3e57_row0_col8\" class=\"data row0 col8\" >False</td>\n",
       "      <td id=\"T_c3e57_row0_col9\" class=\"data row0 col9\" >False</td>\n",
       "      <td id=\"T_c3e57_row0_col10\" class=\"data row0 col10\" >False</td>\n",
       "      <td id=\"T_c3e57_row0_col11\" class=\"data row0 col11\" >False</td>\n",
       "      <td id=\"T_c3e57_row0_col12\" class=\"data row0 col12\" >False</td>\n",
       "      <td id=\"T_c3e57_row0_col13\" class=\"data row0 col13\" >False</td>\n",
       "      <td id=\"T_c3e57_row0_col14\" class=\"data row0 col14\" >False</td>\n",
       "    </tr>\n",
       "    <tr>\n",
       "      <th id=\"T_c3e57_level0_row1\" class=\"row_heading level0 row1\" >1</th>\n",
       "      <td id=\"T_c3e57_row1_col0\" class=\"data row1 col0\" >0.976190</td>\n",
       "      <td id=\"T_c3e57_row1_col1\" class=\"data row1 col1\" >True</td>\n",
       "      <td id=\"T_c3e57_row1_col2\" class=\"data row1 col2\" >False</td>\n",
       "      <td id=\"T_c3e57_row1_col3\" class=\"data row1 col3\" >False</td>\n",
       "      <td id=\"T_c3e57_row1_col4\" class=\"data row1 col4\" >False</td>\n",
       "      <td id=\"T_c3e57_row1_col5\" class=\"data row1 col5\" >True</td>\n",
       "      <td id=\"T_c3e57_row1_col6\" class=\"data row1 col6\" >False</td>\n",
       "      <td id=\"T_c3e57_row1_col7\" class=\"data row1 col7\" >False</td>\n",
       "      <td id=\"T_c3e57_row1_col8\" class=\"data row1 col8\" >False</td>\n",
       "      <td id=\"T_c3e57_row1_col9\" class=\"data row1 col9\" >False</td>\n",
       "      <td id=\"T_c3e57_row1_col10\" class=\"data row1 col10\" >True</td>\n",
       "      <td id=\"T_c3e57_row1_col11\" class=\"data row1 col11\" >False</td>\n",
       "      <td id=\"T_c3e57_row1_col12\" class=\"data row1 col12\" >False</td>\n",
       "      <td id=\"T_c3e57_row1_col13\" class=\"data row1 col13\" >False</td>\n",
       "      <td id=\"T_c3e57_row1_col14\" class=\"data row1 col14\" >False</td>\n",
       "    </tr>\n",
       "    <tr>\n",
       "      <th id=\"T_c3e57_level0_row2\" class=\"row_heading level0 row2\" >2</th>\n",
       "      <td id=\"T_c3e57_row2_col0\" class=\"data row2 col0\" >0.974359</td>\n",
       "      <td id=\"T_c3e57_row2_col1\" class=\"data row2 col1\" >True</td>\n",
       "      <td id=\"T_c3e57_row2_col2\" class=\"data row2 col2\" >False</td>\n",
       "      <td id=\"T_c3e57_row2_col3\" class=\"data row2 col3\" >False</td>\n",
       "      <td id=\"T_c3e57_row2_col4\" class=\"data row2 col4\" >False</td>\n",
       "      <td id=\"T_c3e57_row2_col5\" class=\"data row2 col5\" >False</td>\n",
       "      <td id=\"T_c3e57_row2_col6\" class=\"data row2 col6\" >True</td>\n",
       "      <td id=\"T_c3e57_row2_col7\" class=\"data row2 col7\" >False</td>\n",
       "      <td id=\"T_c3e57_row2_col8\" class=\"data row2 col8\" >False</td>\n",
       "      <td id=\"T_c3e57_row2_col9\" class=\"data row2 col9\" >False</td>\n",
       "      <td id=\"T_c3e57_row2_col10\" class=\"data row2 col10\" >False</td>\n",
       "      <td id=\"T_c3e57_row2_col11\" class=\"data row2 col11\" >False</td>\n",
       "      <td id=\"T_c3e57_row2_col12\" class=\"data row2 col12\" >False</td>\n",
       "      <td id=\"T_c3e57_row2_col13\" class=\"data row2 col13\" >True</td>\n",
       "      <td id=\"T_c3e57_row2_col14\" class=\"data row2 col14\" >False</td>\n",
       "    </tr>\n",
       "    <tr>\n",
       "      <th id=\"T_c3e57_level0_row3\" class=\"row_heading level0 row3\" >3</th>\n",
       "      <td id=\"T_c3e57_row3_col0\" class=\"data row3 col0\" >0.972527</td>\n",
       "      <td id=\"T_c3e57_row3_col1\" class=\"data row3 col1\" >True</td>\n",
       "      <td id=\"T_c3e57_row3_col2\" class=\"data row3 col2\" >False</td>\n",
       "      <td id=\"T_c3e57_row3_col3\" class=\"data row3 col3\" >True</td>\n",
       "      <td id=\"T_c3e57_row3_col4\" class=\"data row3 col4\" >False</td>\n",
       "      <td id=\"T_c3e57_row3_col5\" class=\"data row3 col5\" >False</td>\n",
       "      <td id=\"T_c3e57_row3_col6\" class=\"data row3 col6\" >False</td>\n",
       "      <td id=\"T_c3e57_row3_col7\" class=\"data row3 col7\" >False</td>\n",
       "      <td id=\"T_c3e57_row3_col8\" class=\"data row3 col8\" >True</td>\n",
       "      <td id=\"T_c3e57_row3_col9\" class=\"data row3 col9\" >False</td>\n",
       "      <td id=\"T_c3e57_row3_col10\" class=\"data row3 col10\" >False</td>\n",
       "      <td id=\"T_c3e57_row3_col11\" class=\"data row3 col11\" >False</td>\n",
       "      <td id=\"T_c3e57_row3_col12\" class=\"data row3 col12\" >False</td>\n",
       "      <td id=\"T_c3e57_row3_col13\" class=\"data row3 col13\" >False</td>\n",
       "      <td id=\"T_c3e57_row3_col14\" class=\"data row3 col14\" >False</td>\n",
       "    </tr>\n",
       "    <tr>\n",
       "      <th id=\"T_c3e57_level0_row4\" class=\"row_heading level0 row4\" >4</th>\n",
       "      <td id=\"T_c3e57_row4_col0\" class=\"data row4 col0\" >0.974725</td>\n",
       "      <td id=\"T_c3e57_row4_col1\" class=\"data row4 col1\" >True</td>\n",
       "      <td id=\"T_c3e57_row4_col2\" class=\"data row4 col2\" >True</td>\n",
       "      <td id=\"T_c3e57_row4_col3\" class=\"data row4 col3\" >False</td>\n",
       "      <td id=\"T_c3e57_row4_col4\" class=\"data row4 col4\" >False</td>\n",
       "      <td id=\"T_c3e57_row4_col5\" class=\"data row4 col5\" >False</td>\n",
       "      <td id=\"T_c3e57_row4_col6\" class=\"data row4 col6\" >False</td>\n",
       "      <td id=\"T_c3e57_row4_col7\" class=\"data row4 col7\" >False</td>\n",
       "      <td id=\"T_c3e57_row4_col8\" class=\"data row4 col8\" >False</td>\n",
       "      <td id=\"T_c3e57_row4_col9\" class=\"data row4 col9\" >True</td>\n",
       "      <td id=\"T_c3e57_row4_col10\" class=\"data row4 col10\" >False</td>\n",
       "      <td id=\"T_c3e57_row4_col11\" class=\"data row4 col11\" >False</td>\n",
       "      <td id=\"T_c3e57_row4_col12\" class=\"data row4 col12\" >False</td>\n",
       "      <td id=\"T_c3e57_row4_col13\" class=\"data row4 col13\" >False</td>\n",
       "      <td id=\"T_c3e57_row4_col14\" class=\"data row4 col14\" >False</td>\n",
       "    </tr>\n",
       "    <tr>\n",
       "      <th id=\"T_c3e57_level0_row5\" class=\"row_heading level0 row5\" >5</th>\n",
       "      <td id=\"T_c3e57_row5_col0\" class=\"data row5 col0\" >0.980586</td>\n",
       "      <td id=\"T_c3e57_row5_col1\" class=\"data row5 col1\" >True</td>\n",
       "      <td id=\"T_c3e57_row5_col2\" class=\"data row5 col2\" >True</td>\n",
       "      <td id=\"T_c3e57_row5_col3\" class=\"data row5 col3\" >False</td>\n",
       "      <td id=\"T_c3e57_row5_col4\" class=\"data row5 col4\" >True</td>\n",
       "      <td id=\"T_c3e57_row5_col5\" class=\"data row5 col5\" >False</td>\n",
       "      <td id=\"T_c3e57_row5_col6\" class=\"data row5 col6\" >False</td>\n",
       "      <td id=\"T_c3e57_row5_col7\" class=\"data row5 col7\" >False</td>\n",
       "      <td id=\"T_c3e57_row5_col8\" class=\"data row5 col8\" >False</td>\n",
       "      <td id=\"T_c3e57_row5_col9\" class=\"data row5 col9\" >False</td>\n",
       "      <td id=\"T_c3e57_row5_col10\" class=\"data row5 col10\" >False</td>\n",
       "      <td id=\"T_c3e57_row5_col11\" class=\"data row5 col11\" >False</td>\n",
       "      <td id=\"T_c3e57_row5_col12\" class=\"data row5 col12\" >False</td>\n",
       "      <td id=\"T_c3e57_row5_col13\" class=\"data row5 col13\" >False</td>\n",
       "      <td id=\"T_c3e57_row5_col14\" class=\"data row5 col14\" >False</td>\n",
       "    </tr>\n",
       "    <tr>\n",
       "      <th id=\"T_c3e57_level0_row6\" class=\"row_heading level0 row6\" >6</th>\n",
       "      <td id=\"T_c3e57_row6_col0\" class=\"data row6 col0\" >0.973260</td>\n",
       "      <td id=\"T_c3e57_row6_col1\" class=\"data row6 col1\" >True</td>\n",
       "      <td id=\"T_c3e57_row6_col2\" class=\"data row6 col2\" >False</td>\n",
       "      <td id=\"T_c3e57_row6_col3\" class=\"data row6 col3\" >False</td>\n",
       "      <td id=\"T_c3e57_row6_col4\" class=\"data row6 col4\" >False</td>\n",
       "      <td id=\"T_c3e57_row6_col5\" class=\"data row6 col5\" >False</td>\n",
       "      <td id=\"T_c3e57_row6_col6\" class=\"data row6 col6\" >False</td>\n",
       "      <td id=\"T_c3e57_row6_col7\" class=\"data row6 col7\" >False</td>\n",
       "      <td id=\"T_c3e57_row6_col8\" class=\"data row6 col8\" >False</td>\n",
       "      <td id=\"T_c3e57_row6_col9\" class=\"data row6 col9\" >False</td>\n",
       "      <td id=\"T_c3e57_row6_col10\" class=\"data row6 col10\" >False</td>\n",
       "      <td id=\"T_c3e57_row6_col11\" class=\"data row6 col11\" >True</td>\n",
       "      <td id=\"T_c3e57_row6_col12\" class=\"data row6 col12\" >True</td>\n",
       "      <td id=\"T_c3e57_row6_col13\" class=\"data row6 col13\" >False</td>\n",
       "      <td id=\"T_c3e57_row6_col14\" class=\"data row6 col14\" >False</td>\n",
       "    </tr>\n",
       "    <tr>\n",
       "      <th id=\"T_c3e57_level0_row7\" class=\"row_heading level0 row7\" >7</th>\n",
       "      <td id=\"T_c3e57_row7_col0\" class=\"data row7 col0\" >0.969963</td>\n",
       "      <td id=\"T_c3e57_row7_col1\" class=\"data row7 col1\" >True</td>\n",
       "      <td id=\"T_c3e57_row7_col2\" class=\"data row7 col2\" >True</td>\n",
       "      <td id=\"T_c3e57_row7_col3\" class=\"data row7 col3\" >True</td>\n",
       "      <td id=\"T_c3e57_row7_col4\" class=\"data row7 col4\" >False</td>\n",
       "      <td id=\"T_c3e57_row7_col5\" class=\"data row7 col5\" >False</td>\n",
       "      <td id=\"T_c3e57_row7_col6\" class=\"data row7 col6\" >False</td>\n",
       "      <td id=\"T_c3e57_row7_col7\" class=\"data row7 col7\" >False</td>\n",
       "      <td id=\"T_c3e57_row7_col8\" class=\"data row7 col8\" >False</td>\n",
       "      <td id=\"T_c3e57_row7_col9\" class=\"data row7 col9\" >False</td>\n",
       "      <td id=\"T_c3e57_row7_col10\" class=\"data row7 col10\" >False</td>\n",
       "      <td id=\"T_c3e57_row7_col11\" class=\"data row7 col11\" >False</td>\n",
       "      <td id=\"T_c3e57_row7_col12\" class=\"data row7 col12\" >False</td>\n",
       "      <td id=\"T_c3e57_row7_col13\" class=\"data row7 col13\" >False</td>\n",
       "      <td id=\"T_c3e57_row7_col14\" class=\"data row7 col14\" >False</td>\n",
       "    </tr>\n",
       "    <tr>\n",
       "      <th id=\"T_c3e57_level0_row8\" class=\"row_heading level0 row8\" >8</th>\n",
       "      <td id=\"T_c3e57_row8_col0\" class=\"data row8 col0\" >0.970330</td>\n",
       "      <td id=\"T_c3e57_row8_col1\" class=\"data row8 col1\" >True</td>\n",
       "      <td id=\"T_c3e57_row8_col2\" class=\"data row8 col2\" >False</td>\n",
       "      <td id=\"T_c3e57_row8_col3\" class=\"data row8 col3\" >False</td>\n",
       "      <td id=\"T_c3e57_row8_col4\" class=\"data row8 col4\" >False</td>\n",
       "      <td id=\"T_c3e57_row8_col5\" class=\"data row8 col5\" >False</td>\n",
       "      <td id=\"T_c3e57_row8_col6\" class=\"data row8 col6\" >True</td>\n",
       "      <td id=\"T_c3e57_row8_col7\" class=\"data row8 col7\" >False</td>\n",
       "      <td id=\"T_c3e57_row8_col8\" class=\"data row8 col8\" >False</td>\n",
       "      <td id=\"T_c3e57_row8_col9\" class=\"data row8 col9\" >False</td>\n",
       "      <td id=\"T_c3e57_row8_col10\" class=\"data row8 col10\" >False</td>\n",
       "      <td id=\"T_c3e57_row8_col11\" class=\"data row8 col11\" >False</td>\n",
       "      <td id=\"T_c3e57_row8_col12\" class=\"data row8 col12\" >False</td>\n",
       "      <td id=\"T_c3e57_row8_col13\" class=\"data row8 col13\" >False</td>\n",
       "      <td id=\"T_c3e57_row8_col14\" class=\"data row8 col14\" >False</td>\n",
       "    </tr>\n",
       "    <tr>\n",
       "      <th id=\"T_c3e57_level0_row9\" class=\"row_heading level0 row9\" >9</th>\n",
       "      <td id=\"T_c3e57_row9_col0\" class=\"data row9 col0\" >0.971429</td>\n",
       "      <td id=\"T_c3e57_row9_col1\" class=\"data row9 col1\" >True</td>\n",
       "      <td id=\"T_c3e57_row9_col2\" class=\"data row9 col2\" >False</td>\n",
       "      <td id=\"T_c3e57_row9_col3\" class=\"data row9 col3\" >False</td>\n",
       "      <td id=\"T_c3e57_row9_col4\" class=\"data row9 col4\" >False</td>\n",
       "      <td id=\"T_c3e57_row9_col5\" class=\"data row9 col5\" >False</td>\n",
       "      <td id=\"T_c3e57_row9_col6\" class=\"data row9 col6\" >False</td>\n",
       "      <td id=\"T_c3e57_row9_col7\" class=\"data row9 col7\" >True</td>\n",
       "      <td id=\"T_c3e57_row9_col8\" class=\"data row9 col8\" >False</td>\n",
       "      <td id=\"T_c3e57_row9_col9\" class=\"data row9 col9\" >False</td>\n",
       "      <td id=\"T_c3e57_row9_col10\" class=\"data row9 col10\" >False</td>\n",
       "      <td id=\"T_c3e57_row9_col11\" class=\"data row9 col11\" >False</td>\n",
       "      <td id=\"T_c3e57_row9_col12\" class=\"data row9 col12\" >False</td>\n",
       "      <td id=\"T_c3e57_row9_col13\" class=\"data row9 col13\" >False</td>\n",
       "      <td id=\"T_c3e57_row9_col14\" class=\"data row9 col14\" >True</td>\n",
       "    </tr>\n",
       "  </tbody>\n",
       "</table>\n"
      ],
      "text/plain": [
       "<pandas.io.formats.style.Styler at 0x7fb896031dc0>"
      ]
     },
     "execution_count": 16,
     "metadata": {},
     "output_type": "execute_result"
    }
   ],
   "source": [
    "model_features_chart(train_val, models_single, metric=\"roc_auc_score\")"
   ]
  },
  {
   "cell_type": "code",
   "execution_count": 17,
   "id": "5b9a46cc",
   "metadata": {},
   "outputs": [],
   "source": [
    "#excello = model_features_chart(test, models_single, metric=\"roc_auc_score\")"
   ]
  },
  {
   "cell_type": "code",
   "execution_count": 18,
   "id": "7abe353a",
   "metadata": {
    "tags": []
   },
   "outputs": [],
   "source": [
    "#excello.to_excel('AD_QLAttice_Ubuntu_features_chart_autorun_best_251121.xlsx')"
   ]
  },
  {
   "cell_type": "markdown",
   "id": "7ea84e86",
   "metadata": {},
   "source": [
    "# Exploring model 0 further"
   ]
  },
  {
   "cell_type": "code",
   "execution_count": 45,
   "id": "355a68ed",
   "metadata": {},
   "outputs": [
    {
     "data": {
      "image/svg+xml": [
       "<?xml version=\"1.0\" encoding=\"utf-8\" ?>\n",
       "<svg baseProfile=\"full\" height=\"200.0\" preserveAspectRatio=\"none\" version=\"1.1\" viewBox=\"0 0 471 200.0\" width=\"471\" xmlns=\"http://www.w3.org/2000/svg\" xmlns:ev=\"http://www.w3.org/2001/xml-events\" xmlns:xlink=\"http://www.w3.org/1999/xlink\"><defs /><svg class=\"graph\" height=\"195.0\" width=\"471\" x=\"0\" y=\"0\"><defs /><rect class=\"node\" fill=\"#00f082\" height=\"35\" stroke=\"#1E1E1E\" stroke-width=\"1\" width=\"90\" x=\"361\" y=\"50.0\"><title>_clinical AD diagnosis\n",
       "logistic:\n",
       "w=-7.1795\n",
       "bias=0.4279</title></rect><text fill=\"#1E1E1E\" font-family=\"monospace\" font-size=\"12\" style=\"pointer-events:none\" text-anchor=\"middle\" x=\"406.0\" y=\"71.5\">_clinica..</text><text fill=\"#1E1E1E\" font-family=\"monospace\" font-size=\"10\" style=\"pointer-events:none\" text-anchor=\"end\" x=\"449\" y=\"59.0\">0</text><text fill=\"#1E1E1E\" font-family=\"monospace\" font-size=\"10\" style=\"pointer-events:none\" text-anchor=\"start\" x=\"363\" y=\"59.0\">out</text><line stroke=\"#1E1E1E\" x1=\"331\" x2=\"361\" y1=\"67.5\" y2=\"67.5\" /><rect class=\"node\" fill=\"#0bf087\" height=\"35\" stroke=\"#1E1E1E\" stroke-width=\"1\" width=\"90\" x=\"241\" y=\"50.0\"><title>add</title></rect><text fill=\"#1E1E1E\" font-family=\"monospace\" font-size=\"12\" style=\"pointer-events:none\" text-anchor=\"middle\" x=\"286.0\" y=\"71.5\">add</text><text fill=\"#1E1E1E\" font-family=\"monospace\" font-size=\"10\" style=\"pointer-events:none\" text-anchor=\"end\" x=\"329\" y=\"59.0\">1</text><line stroke=\"#1E1E1E\" x1=\"211\" x2=\"241\" y1=\"37.5\" y2=\"58.5\" /><line stroke=\"#1E1E1E\" x1=\"211\" x2=\"241\" y1=\"97.5\" y2=\"76.5\" /><rect class=\"node\" fill=\"#49f3a5\" height=\"35\" stroke=\"#1E1E1E\" stroke-width=\"1\" width=\"90\" x=\"121\" y=\"20.0\"><title>add</title></rect><text fill=\"#1E1E1E\" font-family=\"monospace\" font-size=\"12\" style=\"pointer-events:none\" text-anchor=\"middle\" x=\"166.0\" y=\"41.5\">add</text><text fill=\"#1E1E1E\" font-family=\"monospace\" font-size=\"10\" style=\"pointer-events:none\" text-anchor=\"end\" x=\"209\" y=\"29.0\">2</text><line stroke=\"#1E1E1E\" x1=\"91\" x2=\"121\" y1=\"37.5\" y2=\"28.5\" /><line stroke=\"#1E1E1E\" x1=\"91\" x2=\"121\" y1=\"97.5\" y2=\"46.5\" /><rect class=\"node\" fill=\"#f5faf8\" height=\"35\" stroke=\"#1E1E1E\" stroke-width=\"1\" width=\"90\" x=\"1\" y=\"20.0\"><title>_age at CSF collection\n",
       "linear:\n",
       "scale=0.029412\n",
       "scale offset=65.550459\n",
       "w=-1.246599\n",
       "bias=-1.6691</title></rect><text fill=\"#1E1E1E\" font-family=\"monospace\" font-size=\"12\" style=\"pointer-events:none\" text-anchor=\"middle\" x=\"46.0\" y=\"41.5\">_age at ..</text><text fill=\"#1E1E1E\" font-family=\"monospace\" font-size=\"10\" style=\"pointer-events:none\" text-anchor=\"end\" x=\"89\" y=\"29.0\">3</text><text fill=\"#1E1E1E\" font-family=\"monospace\" font-size=\"10\" style=\"pointer-events:none\" text-anchor=\"start\" x=\"3\" y=\"29.0\">num</text><rect class=\"node\" fill=\"#62f4b1\" height=\"35\" stroke=\"#1E1E1E\" stroke-width=\"1\" width=\"90\" x=\"1\" y=\"80.0\"><title>MAPT\n",
       "linear:\n",
       "scale=0.000038\n",
       "scale offset=24135.487526\n",
       "w=-3.121478\n",
       "bias=1.0261</title></rect><text fill=\"#1E1E1E\" font-family=\"monospace\" font-size=\"12\" style=\"pointer-events:none\" text-anchor=\"middle\" x=\"46.0\" y=\"101.5\">MAPT</text><text fill=\"#1E1E1E\" font-family=\"monospace\" font-size=\"10\" style=\"pointer-events:none\" text-anchor=\"end\" x=\"89\" y=\"89.0\">4</text><text fill=\"#1E1E1E\" font-family=\"monospace\" font-size=\"10\" style=\"pointer-events:none\" text-anchor=\"start\" x=\"3\" y=\"89.0\">num</text><rect class=\"node\" fill=\"#fafafa\" height=\"35\" stroke=\"#1E1E1E\" stroke-width=\"1\" width=\"90\" x=\"121\" y=\"80.0\"><title>LILRA2\n",
       "linear:\n",
       "scale=0.000067\n",
       "scale offset=12680.903070\n",
       "w=1.397963\n",
       "bias=1.0839</title></rect><text fill=\"#1E1E1E\" font-family=\"monospace\" font-size=\"12\" style=\"pointer-events:none\" text-anchor=\"middle\" x=\"166.0\" y=\"101.5\">LILRA2</text><text fill=\"#1E1E1E\" font-family=\"monospace\" font-size=\"10\" style=\"pointer-events:none\" text-anchor=\"end\" x=\"209\" y=\"89.0\">5</text><text fill=\"#1E1E1E\" font-family=\"monospace\" font-size=\"10\" style=\"pointer-events:none\" text-anchor=\"start\" x=\"123\" y=\"89.0\">num</text><text fill=\"#1E1E1E\" font-family=\"monospace\" font-size=\"10\" text-anchor=\"middle\" x=\"406.0\" y=\"45.0\">0.56</text><text fill=\"#1E1E1E\" font-family=\"monospace\" font-size=\"10\" text-anchor=\"middle\" x=\"286.0\" y=\"45.0\">0.54</text><text fill=\"#1E1E1E\" font-family=\"monospace\" font-size=\"10\" text-anchor=\"middle\" x=\"166.0\" y=\"15.0\">0.42</text><text fill=\"#1E1E1E\" font-family=\"monospace\" font-size=\"10\" text-anchor=\"middle\" x=\"46.0\" y=\"15.0\">0.09</text><text fill=\"#1E1E1E\" font-family=\"monospace\" font-size=\"10\" text-anchor=\"middle\" x=\"46.0\" y=\"75.0\">0.37</text><text fill=\"#1E1E1E\" font-family=\"monospace\" font-size=\"10\" text-anchor=\"middle\" x=\"166.0\" y=\"75.0\">0.08</text><rect fill=\"#fafafa\" height=\"20\" stroke-width=\"1\" width=\"50\" x=\"160.5\" y=\"175.0\" /><text fill=\"#1E1E1E\" font-family=\"monospace\" font-size=\"12\" text-anchor=\"middle\" x=\"185.5\" y=\"188.0\">low</text><rect fill=\"#00f082\" height=\"20\" stroke-width=\"1\" width=\"50\" x=\"210.5\" y=\"175.0\" /><text fill=\"#1E1E1E\" font-family=\"monospace\" font-size=\"12\" text-anchor=\"middle\" x=\"235.5\" y=\"188.0\">high</text><text fill=\"#1E1E1E\" font-family=\"monospace\" font-size=\"12\" text-anchor=\"middle\" x=\"235.5\" y=\"170.0\">Mutual Information</text></svg></svg>"
      ],
      "text/html": [
       "<?xml version=\"1.0\" encoding=\"utf-8\" ?>\n",
       "<svg baseProfile=\"full\" height=\"200.0\" preserveAspectRatio=\"none\" version=\"1.1\" viewBox=\"0 0 471 200.0\" width=\"471\" xmlns=\"http://www.w3.org/2000/svg\" xmlns:ev=\"http://www.w3.org/2001/xml-events\" xmlns:xlink=\"http://www.w3.org/1999/xlink\"><defs /><svg class=\"graph\" height=\"195.0\" width=\"471\" x=\"0\" y=\"0\"><defs /><rect class=\"node\" fill=\"#00f082\" height=\"35\" stroke=\"#1E1E1E\" stroke-width=\"1\" width=\"90\" x=\"361\" y=\"50.0\"><title>_clinical AD diagnosis\n",
       "logistic:\n",
       "w=-7.1795\n",
       "bias=0.4279</title></rect><text fill=\"#1E1E1E\" font-family=\"monospace\" font-size=\"12\" style=\"pointer-events:none\" text-anchor=\"middle\" x=\"406.0\" y=\"71.5\">_clinica..</text><text fill=\"#1E1E1E\" font-family=\"monospace\" font-size=\"10\" style=\"pointer-events:none\" text-anchor=\"end\" x=\"449\" y=\"59.0\">0</text><text fill=\"#1E1E1E\" font-family=\"monospace\" font-size=\"10\" style=\"pointer-events:none\" text-anchor=\"start\" x=\"363\" y=\"59.0\">out</text><line stroke=\"#1E1E1E\" x1=\"331\" x2=\"361\" y1=\"67.5\" y2=\"67.5\" /><rect class=\"node\" fill=\"#0bf087\" height=\"35\" stroke=\"#1E1E1E\" stroke-width=\"1\" width=\"90\" x=\"241\" y=\"50.0\"><title>add</title></rect><text fill=\"#1E1E1E\" font-family=\"monospace\" font-size=\"12\" style=\"pointer-events:none\" text-anchor=\"middle\" x=\"286.0\" y=\"71.5\">add</text><text fill=\"#1E1E1E\" font-family=\"monospace\" font-size=\"10\" style=\"pointer-events:none\" text-anchor=\"end\" x=\"329\" y=\"59.0\">1</text><line stroke=\"#1E1E1E\" x1=\"211\" x2=\"241\" y1=\"37.5\" y2=\"58.5\" /><line stroke=\"#1E1E1E\" x1=\"211\" x2=\"241\" y1=\"97.5\" y2=\"76.5\" /><rect class=\"node\" fill=\"#49f3a5\" height=\"35\" stroke=\"#1E1E1E\" stroke-width=\"1\" width=\"90\" x=\"121\" y=\"20.0\"><title>add</title></rect><text fill=\"#1E1E1E\" font-family=\"monospace\" font-size=\"12\" style=\"pointer-events:none\" text-anchor=\"middle\" x=\"166.0\" y=\"41.5\">add</text><text fill=\"#1E1E1E\" font-family=\"monospace\" font-size=\"10\" style=\"pointer-events:none\" text-anchor=\"end\" x=\"209\" y=\"29.0\">2</text><line stroke=\"#1E1E1E\" x1=\"91\" x2=\"121\" y1=\"37.5\" y2=\"28.5\" /><line stroke=\"#1E1E1E\" x1=\"91\" x2=\"121\" y1=\"97.5\" y2=\"46.5\" /><rect class=\"node\" fill=\"#f5faf8\" height=\"35\" stroke=\"#1E1E1E\" stroke-width=\"1\" width=\"90\" x=\"1\" y=\"20.0\"><title>_age at CSF collection\n",
       "linear:\n",
       "scale=0.029412\n",
       "scale offset=65.550459\n",
       "w=-1.246599\n",
       "bias=-1.6691</title></rect><text fill=\"#1E1E1E\" font-family=\"monospace\" font-size=\"12\" style=\"pointer-events:none\" text-anchor=\"middle\" x=\"46.0\" y=\"41.5\">_age at ..</text><text fill=\"#1E1E1E\" font-family=\"monospace\" font-size=\"10\" style=\"pointer-events:none\" text-anchor=\"end\" x=\"89\" y=\"29.0\">3</text><text fill=\"#1E1E1E\" font-family=\"monospace\" font-size=\"10\" style=\"pointer-events:none\" text-anchor=\"start\" x=\"3\" y=\"29.0\">num</text><rect class=\"node\" fill=\"#62f4b1\" height=\"35\" stroke=\"#1E1E1E\" stroke-width=\"1\" width=\"90\" x=\"1\" y=\"80.0\"><title>MAPT\n",
       "linear:\n",
       "scale=0.000038\n",
       "scale offset=24135.487526\n",
       "w=-3.121478\n",
       "bias=1.0261</title></rect><text fill=\"#1E1E1E\" font-family=\"monospace\" font-size=\"12\" style=\"pointer-events:none\" text-anchor=\"middle\" x=\"46.0\" y=\"101.5\">MAPT</text><text fill=\"#1E1E1E\" font-family=\"monospace\" font-size=\"10\" style=\"pointer-events:none\" text-anchor=\"end\" x=\"89\" y=\"89.0\">4</text><text fill=\"#1E1E1E\" font-family=\"monospace\" font-size=\"10\" style=\"pointer-events:none\" text-anchor=\"start\" x=\"3\" y=\"89.0\">num</text><rect class=\"node\" fill=\"#fafafa\" height=\"35\" stroke=\"#1E1E1E\" stroke-width=\"1\" width=\"90\" x=\"121\" y=\"80.0\"><title>LILRA2\n",
       "linear:\n",
       "scale=0.000067\n",
       "scale offset=12680.903070\n",
       "w=1.397963\n",
       "bias=1.0839</title></rect><text fill=\"#1E1E1E\" font-family=\"monospace\" font-size=\"12\" style=\"pointer-events:none\" text-anchor=\"middle\" x=\"166.0\" y=\"101.5\">LILRA2</text><text fill=\"#1E1E1E\" font-family=\"monospace\" font-size=\"10\" style=\"pointer-events:none\" text-anchor=\"end\" x=\"209\" y=\"89.0\">5</text><text fill=\"#1E1E1E\" font-family=\"monospace\" font-size=\"10\" style=\"pointer-events:none\" text-anchor=\"start\" x=\"123\" y=\"89.0\">num</text><text fill=\"#1E1E1E\" font-family=\"monospace\" font-size=\"10\" text-anchor=\"middle\" x=\"406.0\" y=\"45.0\">0.56</text><text fill=\"#1E1E1E\" font-family=\"monospace\" font-size=\"10\" text-anchor=\"middle\" x=\"286.0\" y=\"45.0\">0.54</text><text fill=\"#1E1E1E\" font-family=\"monospace\" font-size=\"10\" text-anchor=\"middle\" x=\"166.0\" y=\"15.0\">0.42</text><text fill=\"#1E1E1E\" font-family=\"monospace\" font-size=\"10\" text-anchor=\"middle\" x=\"46.0\" y=\"15.0\">0.09</text><text fill=\"#1E1E1E\" font-family=\"monospace\" font-size=\"10\" text-anchor=\"middle\" x=\"46.0\" y=\"75.0\">0.37</text><text fill=\"#1E1E1E\" font-family=\"monospace\" font-size=\"10\" text-anchor=\"middle\" x=\"166.0\" y=\"75.0\">0.08</text><rect fill=\"#fafafa\" height=\"20\" stroke-width=\"1\" width=\"50\" x=\"160.5\" y=\"175.0\" /><text fill=\"#1E1E1E\" font-family=\"monospace\" font-size=\"12\" text-anchor=\"middle\" x=\"185.5\" y=\"188.0\">low</text><rect fill=\"#00f082\" height=\"20\" stroke-width=\"1\" width=\"50\" x=\"210.5\" y=\"175.0\" /><text fill=\"#1E1E1E\" font-family=\"monospace\" font-size=\"12\" text-anchor=\"middle\" x=\"235.5\" y=\"188.0\">high</text><text fill=\"#1E1E1E\" font-family=\"monospace\" font-size=\"12\" text-anchor=\"middle\" x=\"235.5\" y=\"170.0\">Mutual Information</text></svg></svg>"
      ],
      "text/plain": [
       "<feyn.plots._svg_toolkit.SVGGraphToolkit at 0x7fb890640190>"
      ]
     },
     "execution_count": 45,
     "metadata": {},
     "output_type": "execute_result"
    }
   ],
   "source": [
    "models_single[0].plot_signal(train_val,corr_func='mutual_information',\n",
    "                             filename=pathname+projectname+'bestmodel_signal_MI'+'.pdf')"
   ]
  },
  {
   "cell_type": "code",
   "execution_count": 44,
   "id": "46d3289e",
   "metadata": {},
   "outputs": [
    {
     "data": {
      "image/svg+xml": [
       "<?xml version=\"1.0\" encoding=\"utf-8\" ?>\n",
       "<svg baseProfile=\"full\" height=\"200.0\" preserveAspectRatio=\"none\" version=\"1.1\" viewBox=\"0 0 471 200.0\" width=\"471\" xmlns=\"http://www.w3.org/2000/svg\" xmlns:ev=\"http://www.w3.org/2001/xml-events\" xmlns:xlink=\"http://www.w3.org/1999/xlink\"><defs /><svg class=\"graph\" height=\"195.0\" width=\"471\" x=\"0\" y=\"0\"><defs /><rect class=\"node\" fill=\"#10f18a\" height=\"35\" stroke=\"#1E1E1E\" stroke-width=\"1\" width=\"90\" x=\"361\" y=\"50.0\"><title>_clinical AD diagnosis\n",
       "logistic:\n",
       "w=-7.1795\n",
       "bias=0.4279</title></rect><text fill=\"#1E1E1E\" font-family=\"monospace\" font-size=\"12\" style=\"pointer-events:none\" text-anchor=\"middle\" x=\"406.0\" y=\"71.5\">_clinica..</text><text fill=\"#1E1E1E\" font-family=\"monospace\" font-size=\"10\" style=\"pointer-events:none\" text-anchor=\"end\" x=\"449\" y=\"59.0\">0</text><text fill=\"#1E1E1E\" font-family=\"monospace\" font-size=\"10\" style=\"pointer-events:none\" text-anchor=\"start\" x=\"363\" y=\"59.0\">out</text><line stroke=\"#1E1E1E\" x1=\"331\" x2=\"361\" y1=\"67.5\" y2=\"67.5\" /><rect class=\"node\" fill=\"#fe49d2\" height=\"35\" stroke=\"#1E1E1E\" stroke-width=\"1\" width=\"90\" x=\"241\" y=\"50.0\"><title>add</title></rect><text fill=\"#1E1E1E\" font-family=\"monospace\" font-size=\"12\" style=\"pointer-events:none\" text-anchor=\"middle\" x=\"286.0\" y=\"71.5\">add</text><text fill=\"#1E1E1E\" font-family=\"monospace\" font-size=\"10\" style=\"pointer-events:none\" text-anchor=\"end\" x=\"329\" y=\"59.0\">1</text><line stroke=\"#1E1E1E\" x1=\"211\" x2=\"241\" y1=\"37.5\" y2=\"58.5\" /><line stroke=\"#1E1E1E\" x1=\"211\" x2=\"241\" y1=\"97.5\" y2=\"76.5\" /><rect class=\"node\" fill=\"#fe50d3\" height=\"35\" stroke=\"#1E1E1E\" stroke-width=\"1\" width=\"90\" x=\"121\" y=\"20.0\"><title>add</title></rect><text fill=\"#1E1E1E\" font-family=\"monospace\" font-size=\"12\" style=\"pointer-events:none\" text-anchor=\"middle\" x=\"166.0\" y=\"41.5\">add</text><text fill=\"#1E1E1E\" font-family=\"monospace\" font-size=\"10\" style=\"pointer-events:none\" text-anchor=\"end\" x=\"209\" y=\"29.0\">2</text><line stroke=\"#1E1E1E\" x1=\"91\" x2=\"121\" y1=\"37.5\" y2=\"28.5\" /><line stroke=\"#1E1E1E\" x1=\"91\" x2=\"121\" y1=\"97.5\" y2=\"46.5\" /><rect class=\"node\" fill=\"#fcb1e9\" height=\"35\" stroke=\"#1E1E1E\" stroke-width=\"1\" width=\"90\" x=\"1\" y=\"20.0\"><title>_age at CSF collection\n",
       "linear:\n",
       "scale=0.029412\n",
       "scale offset=65.550459\n",
       "w=-1.246599\n",
       "bias=-1.6691</title></rect><text fill=\"#1E1E1E\" font-family=\"monospace\" font-size=\"12\" style=\"pointer-events:none\" text-anchor=\"middle\" x=\"46.0\" y=\"41.5\">_age at ..</text><text fill=\"#1E1E1E\" font-family=\"monospace\" font-size=\"10\" style=\"pointer-events:none\" text-anchor=\"end\" x=\"89\" y=\"29.0\">3</text><text fill=\"#1E1E1E\" font-family=\"monospace\" font-size=\"10\" style=\"pointer-events:none\" text-anchor=\"start\" x=\"3\" y=\"29.0\">num</text><rect class=\"node\" fill=\"#fe53d4\" height=\"35\" stroke=\"#1E1E1E\" stroke-width=\"1\" width=\"90\" x=\"1\" y=\"80.0\"><title>MAPT\n",
       "linear:\n",
       "scale=0.000038\n",
       "scale offset=24135.487526\n",
       "w=-3.121478\n",
       "bias=1.0261</title></rect><text fill=\"#1E1E1E\" font-family=\"monospace\" font-size=\"12\" style=\"pointer-events:none\" text-anchor=\"middle\" x=\"46.0\" y=\"101.5\">MAPT</text><text fill=\"#1E1E1E\" font-family=\"monospace\" font-size=\"10\" style=\"pointer-events:none\" text-anchor=\"end\" x=\"89\" y=\"89.0\">4</text><text fill=\"#1E1E1E\" font-family=\"monospace\" font-size=\"10\" style=\"pointer-events:none\" text-anchor=\"start\" x=\"3\" y=\"89.0\">num</text><rect class=\"node\" fill=\"#fbb9eb\" height=\"35\" stroke=\"#1E1E1E\" stroke-width=\"1\" width=\"90\" x=\"121\" y=\"80.0\"><title>LILRA2\n",
       "linear:\n",
       "scale=0.000067\n",
       "scale offset=12680.903070\n",
       "w=1.397963\n",
       "bias=1.0839</title></rect><text fill=\"#1E1E1E\" font-family=\"monospace\" font-size=\"12\" style=\"pointer-events:none\" text-anchor=\"middle\" x=\"166.0\" y=\"101.5\">LILRA2</text><text fill=\"#1E1E1E\" font-family=\"monospace\" font-size=\"10\" style=\"pointer-events:none\" text-anchor=\"end\" x=\"209\" y=\"89.0\">5</text><text fill=\"#1E1E1E\" font-family=\"monospace\" font-size=\"10\" style=\"pointer-events:none\" text-anchor=\"start\" x=\"123\" y=\"89.0\">num</text><text fill=\"#1E1E1E\" font-family=\"monospace\" font-size=\"10\" text-anchor=\"middle\" x=\"406.0\" y=\"45.0\">0.93</text><text fill=\"#1E1E1E\" font-family=\"monospace\" font-size=\"10\" text-anchor=\"middle\" x=\"286.0\" y=\"45.0\">-0.8</text><text fill=\"#1E1E1E\" font-family=\"monospace\" font-size=\"10\" text-anchor=\"middle\" x=\"166.0\" y=\"15.0\">-0.77</text><text fill=\"#1E1E1E\" font-family=\"monospace\" font-size=\"10\" text-anchor=\"middle\" x=\"46.0\" y=\"15.0\">-0.33</text><text fill=\"#1E1E1E\" font-family=\"monospace\" font-size=\"10\" text-anchor=\"middle\" x=\"46.0\" y=\"75.0\">-0.75</text><text fill=\"#1E1E1E\" font-family=\"monospace\" font-size=\"10\" text-anchor=\"middle\" x=\"166.0\" y=\"75.0\">-0.29</text><rect fill=\"#ff1ec8\" height=\"20\" stroke-width=\"1\" width=\"50\" x=\"160.5\" y=\"175.0\" /><text fill=\"#1E1E1E\" font-family=\"monospace\" font-size=\"12\" text-anchor=\"middle\" x=\"185.5\" y=\"188.0\">-1</text><rect fill=\"#f9fafa\" height=\"20\" stroke-width=\"1\" width=\"50\" x=\"210.5\" y=\"175.0\" /><text fill=\"#1E1E1E\" font-family=\"monospace\" font-size=\"12\" text-anchor=\"middle\" x=\"235.5\" y=\"188.0\">0</text><rect fill=\"#00f082\" height=\"20\" stroke-width=\"1\" width=\"50\" x=\"260.5\" y=\"175.0\" /><text fill=\"#1E1E1E\" font-family=\"monospace\" font-size=\"12\" text-anchor=\"middle\" x=\"285.5\" y=\"188.0\">+1</text><text fill=\"#1E1E1E\" font-family=\"monospace\" font-size=\"12\" text-anchor=\"middle\" x=\"235.5\" y=\"170.0\">Pearson correlation</text></svg></svg>"
      ],
      "text/html": [
       "<?xml version=\"1.0\" encoding=\"utf-8\" ?>\n",
       "<svg baseProfile=\"full\" height=\"200.0\" preserveAspectRatio=\"none\" version=\"1.1\" viewBox=\"0 0 471 200.0\" width=\"471\" xmlns=\"http://www.w3.org/2000/svg\" xmlns:ev=\"http://www.w3.org/2001/xml-events\" xmlns:xlink=\"http://www.w3.org/1999/xlink\"><defs /><svg class=\"graph\" height=\"195.0\" width=\"471\" x=\"0\" y=\"0\"><defs /><rect class=\"node\" fill=\"#10f18a\" height=\"35\" stroke=\"#1E1E1E\" stroke-width=\"1\" width=\"90\" x=\"361\" y=\"50.0\"><title>_clinical AD diagnosis\n",
       "logistic:\n",
       "w=-7.1795\n",
       "bias=0.4279</title></rect><text fill=\"#1E1E1E\" font-family=\"monospace\" font-size=\"12\" style=\"pointer-events:none\" text-anchor=\"middle\" x=\"406.0\" y=\"71.5\">_clinica..</text><text fill=\"#1E1E1E\" font-family=\"monospace\" font-size=\"10\" style=\"pointer-events:none\" text-anchor=\"end\" x=\"449\" y=\"59.0\">0</text><text fill=\"#1E1E1E\" font-family=\"monospace\" font-size=\"10\" style=\"pointer-events:none\" text-anchor=\"start\" x=\"363\" y=\"59.0\">out</text><line stroke=\"#1E1E1E\" x1=\"331\" x2=\"361\" y1=\"67.5\" y2=\"67.5\" /><rect class=\"node\" fill=\"#fe49d2\" height=\"35\" stroke=\"#1E1E1E\" stroke-width=\"1\" width=\"90\" x=\"241\" y=\"50.0\"><title>add</title></rect><text fill=\"#1E1E1E\" font-family=\"monospace\" font-size=\"12\" style=\"pointer-events:none\" text-anchor=\"middle\" x=\"286.0\" y=\"71.5\">add</text><text fill=\"#1E1E1E\" font-family=\"monospace\" font-size=\"10\" style=\"pointer-events:none\" text-anchor=\"end\" x=\"329\" y=\"59.0\">1</text><line stroke=\"#1E1E1E\" x1=\"211\" x2=\"241\" y1=\"37.5\" y2=\"58.5\" /><line stroke=\"#1E1E1E\" x1=\"211\" x2=\"241\" y1=\"97.5\" y2=\"76.5\" /><rect class=\"node\" fill=\"#fe50d3\" height=\"35\" stroke=\"#1E1E1E\" stroke-width=\"1\" width=\"90\" x=\"121\" y=\"20.0\"><title>add</title></rect><text fill=\"#1E1E1E\" font-family=\"monospace\" font-size=\"12\" style=\"pointer-events:none\" text-anchor=\"middle\" x=\"166.0\" y=\"41.5\">add</text><text fill=\"#1E1E1E\" font-family=\"monospace\" font-size=\"10\" style=\"pointer-events:none\" text-anchor=\"end\" x=\"209\" y=\"29.0\">2</text><line stroke=\"#1E1E1E\" x1=\"91\" x2=\"121\" y1=\"37.5\" y2=\"28.5\" /><line stroke=\"#1E1E1E\" x1=\"91\" x2=\"121\" y1=\"97.5\" y2=\"46.5\" /><rect class=\"node\" fill=\"#fcb1e9\" height=\"35\" stroke=\"#1E1E1E\" stroke-width=\"1\" width=\"90\" x=\"1\" y=\"20.0\"><title>_age at CSF collection\n",
       "linear:\n",
       "scale=0.029412\n",
       "scale offset=65.550459\n",
       "w=-1.246599\n",
       "bias=-1.6691</title></rect><text fill=\"#1E1E1E\" font-family=\"monospace\" font-size=\"12\" style=\"pointer-events:none\" text-anchor=\"middle\" x=\"46.0\" y=\"41.5\">_age at ..</text><text fill=\"#1E1E1E\" font-family=\"monospace\" font-size=\"10\" style=\"pointer-events:none\" text-anchor=\"end\" x=\"89\" y=\"29.0\">3</text><text fill=\"#1E1E1E\" font-family=\"monospace\" font-size=\"10\" style=\"pointer-events:none\" text-anchor=\"start\" x=\"3\" y=\"29.0\">num</text><rect class=\"node\" fill=\"#fe53d4\" height=\"35\" stroke=\"#1E1E1E\" stroke-width=\"1\" width=\"90\" x=\"1\" y=\"80.0\"><title>MAPT\n",
       "linear:\n",
       "scale=0.000038\n",
       "scale offset=24135.487526\n",
       "w=-3.121478\n",
       "bias=1.0261</title></rect><text fill=\"#1E1E1E\" font-family=\"monospace\" font-size=\"12\" style=\"pointer-events:none\" text-anchor=\"middle\" x=\"46.0\" y=\"101.5\">MAPT</text><text fill=\"#1E1E1E\" font-family=\"monospace\" font-size=\"10\" style=\"pointer-events:none\" text-anchor=\"end\" x=\"89\" y=\"89.0\">4</text><text fill=\"#1E1E1E\" font-family=\"monospace\" font-size=\"10\" style=\"pointer-events:none\" text-anchor=\"start\" x=\"3\" y=\"89.0\">num</text><rect class=\"node\" fill=\"#fbb9eb\" height=\"35\" stroke=\"#1E1E1E\" stroke-width=\"1\" width=\"90\" x=\"121\" y=\"80.0\"><title>LILRA2\n",
       "linear:\n",
       "scale=0.000067\n",
       "scale offset=12680.903070\n",
       "w=1.397963\n",
       "bias=1.0839</title></rect><text fill=\"#1E1E1E\" font-family=\"monospace\" font-size=\"12\" style=\"pointer-events:none\" text-anchor=\"middle\" x=\"166.0\" y=\"101.5\">LILRA2</text><text fill=\"#1E1E1E\" font-family=\"monospace\" font-size=\"10\" style=\"pointer-events:none\" text-anchor=\"end\" x=\"209\" y=\"89.0\">5</text><text fill=\"#1E1E1E\" font-family=\"monospace\" font-size=\"10\" style=\"pointer-events:none\" text-anchor=\"start\" x=\"123\" y=\"89.0\">num</text><text fill=\"#1E1E1E\" font-family=\"monospace\" font-size=\"10\" text-anchor=\"middle\" x=\"406.0\" y=\"45.0\">0.93</text><text fill=\"#1E1E1E\" font-family=\"monospace\" font-size=\"10\" text-anchor=\"middle\" x=\"286.0\" y=\"45.0\">-0.8</text><text fill=\"#1E1E1E\" font-family=\"monospace\" font-size=\"10\" text-anchor=\"middle\" x=\"166.0\" y=\"15.0\">-0.77</text><text fill=\"#1E1E1E\" font-family=\"monospace\" font-size=\"10\" text-anchor=\"middle\" x=\"46.0\" y=\"15.0\">-0.33</text><text fill=\"#1E1E1E\" font-family=\"monospace\" font-size=\"10\" text-anchor=\"middle\" x=\"46.0\" y=\"75.0\">-0.75</text><text fill=\"#1E1E1E\" font-family=\"monospace\" font-size=\"10\" text-anchor=\"middle\" x=\"166.0\" y=\"75.0\">-0.29</text><rect fill=\"#ff1ec8\" height=\"20\" stroke-width=\"1\" width=\"50\" x=\"160.5\" y=\"175.0\" /><text fill=\"#1E1E1E\" font-family=\"monospace\" font-size=\"12\" text-anchor=\"middle\" x=\"185.5\" y=\"188.0\">-1</text><rect fill=\"#f9fafa\" height=\"20\" stroke-width=\"1\" width=\"50\" x=\"210.5\" y=\"175.0\" /><text fill=\"#1E1E1E\" font-family=\"monospace\" font-size=\"12\" text-anchor=\"middle\" x=\"235.5\" y=\"188.0\">0</text><rect fill=\"#00f082\" height=\"20\" stroke-width=\"1\" width=\"50\" x=\"260.5\" y=\"175.0\" /><text fill=\"#1E1E1E\" font-family=\"monospace\" font-size=\"12\" text-anchor=\"middle\" x=\"285.5\" y=\"188.0\">+1</text><text fill=\"#1E1E1E\" font-family=\"monospace\" font-size=\"12\" text-anchor=\"middle\" x=\"235.5\" y=\"170.0\">Pearson correlation</text></svg></svg>"
      ],
      "text/plain": [
       "<feyn.plots._svg_toolkit.SVGGraphToolkit at 0x7fb8e51dbac0>"
      ]
     },
     "execution_count": 44,
     "metadata": {},
     "output_type": "execute_result"
    }
   ],
   "source": [
    "models_single[0].plot_signal(train_val, corr_func='pearson',filename=pathname+projectname+'bestmodel_signal_PEARSON'+'.pdf')"
   ]
  },
  {
   "cell_type": "code",
   "execution_count": 22,
   "id": "56e6ae0e",
   "metadata": {},
   "outputs": [
    {
     "data": {
      "text/latex": [
       "$\\displaystyle \\frac{1}{98000000000000.0 e^{0.000673 LILRA_{2} - 0.00086 MAPT - 0.263 age at CSF collection} + 1}$"
      ],
      "text/plain": [
       "1/(98000000000000.0*exp(0.000673*LILRA2 - 0.00086*MAPT - 0.263*age at CSF collection) + 1)"
      ]
     },
     "execution_count": 22,
     "metadata": {},
     "output_type": "execute_result"
    }
   ],
   "source": [
    "sympy_model = models_single[0].sympify(symbolic_lr = True, signif=3)\n",
    "sympy_model.as_expr()"
   ]
  },
  {
   "cell_type": "code",
   "execution_count": 23,
   "id": "17a52f44-fec3-4e75-b378-0ab5fc261edb",
   "metadata": {},
   "outputs": [
    {
     "data": {
      "text/plain": [
       "'_age at CSF collection'"
      ]
     },
     "execution_count": 23,
     "metadata": {},
     "output_type": "execute_result"
    }
   ],
   "source": [
    "models_single[0].inputs[-1]"
   ]
  },
  {
   "cell_type": "code",
   "execution_count": 46,
   "id": "96202a84",
   "metadata": {
    "scrolled": true,
    "tags": []
   },
   "outputs": [
    {
     "data": {
      "image/png": "[encoded data removed]",
      "text/plain": [
       "<Figure size 576x576 with 3 Axes>"
      ]
     },
     "metadata": {},
     "output_type": "display_data"
    }
   ],
   "source": [
    "show_quantiles = '_age at CSF collection'\n",
    "fixed = {}\n",
    "fixed[show_quantiles] = [\n",
    "    train_val[show_quantiles].quantile(q=0.25),\n",
    "    train_val[show_quantiles].quantile(q=0.5),\n",
    "    train_val[show_quantiles].quantile(q=0.75)\n",
    "]\n",
    "\n",
    "best_model.plot_response_1d(train_val, by = 'MAPT', input_constraints=fixed, \n",
    "                            filename=pathname+projectname+'bestmodel_response1d_age'+'.pdf')"
   ]
  },
  {
   "cell_type": "code",
   "execution_count": 25,
   "id": "57db2c1e-7acd-4d7a-ac77-a9b70e9f95ac",
   "metadata": {},
   "outputs": [
    {
     "data": {
      "image/png": "[encoded data removed]",
      "text/plain": [
       "<Figure size 432x288 with 2 Axes>"
      ]
     },
     "metadata": {},
     "output_type": "display_data"
    }
   ],
   "source": [
    "models_single[0].plot_response_2d(train_val, fixed={\"LILRA2\":15000})"
   ]
  },
  {
   "cell_type": "code",
   "execution_count": 26,
   "id": "b8f4dacf-2b21-4d60-9a9d-c34ade246229",
   "metadata": {},
   "outputs": [
    {
     "data": {
      "text/plain": [
       "<seaborn.axisgrid.PairGrid at 0x7fb8f3898400>"
      ]
     },
     "execution_count": 26,
     "metadata": {},
     "output_type": "execute_result"
    },
    {
     "data": {
      "image/png": "[encoded data removed]",
      "text/plain": [
       "<Figure size 680x540 with 12 Axes>"
      ]
     },
     "metadata": {},
     "output_type": "display_data"
    }
   ],
   "source": [
    "features_data = train_val[['_age at CSF collection', 'MAPT','LILRA2', '_clinical AD diagnosis']]\n",
    "sns.pairplot(features_data, hue = target)"
   ]
  },
  {
   "cell_type": "markdown",
   "id": "11ce5f68-d2fc-464e-b6ef-982ab024395c",
   "metadata": {},
   "source": [
    "# Cross-validation as a framework"
   ]
  },
  {
   "cell_type": "code",
   "execution_count": 27,
   "id": "6479e7b5-fa0c-4051-acd3-ccc95478d691",
   "metadata": {},
   "outputs": [
    {
     "data": {
      "text/html": [
       "<?xml version=\"1.0\" encoding=\"utf-8\" ?>\n",
       "<svg baseProfile=\"full\" height=\"160.0\" preserveAspectRatio=\"none\" version=\"1.1\" viewBox=\"0 0 471 160.0\" width=\"471\" xmlns=\"http://www.w3.org/2000/svg\" xmlns:ev=\"http://www.w3.org/2001/xml-events\" xmlns:xlink=\"http://www.w3.org/1999/xlink\"><defs /><svg class=\"graph\" height=\"155.0\" width=\"471\" x=\"0\" y=\"0\"><defs /><text fill=\"#1E1E1E\" font-family=\"monospace\" font-size=\"12\" text-anchor=\"middle\" x=\"406.0\" y=\"99.0\">Loss: 2.03E-01</text><text fill=\"#1E1E1E\" font-family=\"monospace\" font-size=\"12\" text-anchor=\"start\" x=\"0\" y=\"145.0\">Epoch no. 50/50 - Tried 47204 models - Completed in 1m 49s.</text><rect class=\"node\" fill=\"#00F082\" height=\"35\" stroke=\"#1E1E1E\" stroke-width=\"1\" width=\"90\" x=\"361\" y=\"50.0\"><title>_clinical AD diagnosis\n",
       "logistic:\n",
       "w=-3.7343\n",
       "bias=-1.6754</title></rect><text fill=\"#1E1E1E\" font-family=\"monospace\" font-size=\"12\" style=\"pointer-events:none\" text-anchor=\"middle\" x=\"406.0\" y=\"71.5\">_clinica..</text><text fill=\"#1E1E1E\" font-family=\"monospace\" font-size=\"10\" style=\"pointer-events:none\" text-anchor=\"end\" x=\"449\" y=\"59.0\">0</text><text fill=\"#1E1E1E\" font-family=\"monospace\" font-size=\"10\" style=\"pointer-events:none\" text-anchor=\"start\" x=\"363\" y=\"59.0\">out</text><line stroke=\"#1E1E1E\" x1=\"331\" x2=\"361\" y1=\"67.5\" y2=\"67.5\" /><rect class=\"node\" fill=\"#FAFAFA\" height=\"35\" stroke=\"#FF1EC8\" stroke-width=\"1\" width=\"90\" x=\"241\" y=\"50.0\"><title>add</title></rect><text fill=\"#1E1E1E\" font-family=\"monospace\" font-size=\"12\" style=\"pointer-events:none\" text-anchor=\"middle\" x=\"286.0\" y=\"71.5\">add</text><text fill=\"#1E1E1E\" font-family=\"monospace\" font-size=\"10\" style=\"pointer-events:none\" text-anchor=\"end\" x=\"329\" y=\"59.0\">1</text><line stroke=\"#1E1E1E\" x1=\"211\" x2=\"241\" y1=\"37.5\" y2=\"58.5\" /><line stroke=\"#1E1E1E\" x1=\"211\" x2=\"241\" y1=\"97.5\" y2=\"76.5\" /><rect class=\"node\" fill=\"#00F082\" height=\"35\" stroke=\"#1E1E1E\" stroke-width=\"1\" width=\"90\" x=\"121\" y=\"20.0\"><title>MAPT\n",
       "linear:\n",
       "scale=0.000034\n",
       "scale offset=23872.303152\n",
       "w=-3.084613\n",
       "bias=1.2247</title></rect><text fill=\"#1E1E1E\" font-family=\"monospace\" font-size=\"12\" style=\"pointer-events:none\" text-anchor=\"middle\" x=\"166.0\" y=\"41.5\">MAPT</text><text fill=\"#1E1E1E\" font-family=\"monospace\" font-size=\"10\" style=\"pointer-events:none\" text-anchor=\"end\" x=\"209\" y=\"29.0\">2</text><text fill=\"#1E1E1E\" font-family=\"monospace\" font-size=\"10\" style=\"pointer-events:none\" text-anchor=\"start\" x=\"123\" y=\"29.0\">num</text><rect class=\"node\" fill=\"#FAFAFA\" height=\"35\" stroke=\"#FF1EC8\" stroke-width=\"1\" width=\"90\" x=\"121\" y=\"80.0\"><title>add</title></rect><text fill=\"#1E1E1E\" font-family=\"monospace\" font-size=\"12\" style=\"pointer-events:none\" text-anchor=\"middle\" x=\"166.0\" y=\"101.5\">add</text><text fill=\"#1E1E1E\" font-family=\"monospace\" font-size=\"10\" style=\"pointer-events:none\" text-anchor=\"end\" x=\"209\" y=\"89.0\">3</text><line stroke=\"#1E1E1E\" x1=\"91\" x2=\"121\" y1=\"37.5\" y2=\"88.5\" /><line stroke=\"#1E1E1E\" x1=\"91\" x2=\"121\" y1=\"97.5\" y2=\"106.5\" /><rect class=\"node\" fill=\"#00F082\" height=\"35\" stroke=\"#1E1E1E\" stroke-width=\"1\" width=\"90\" x=\"1\" y=\"20.0\"><title>IGKV2D-29\n",
       "linear:\n",
       "scale=0.000005\n",
       "scale offset=100167.302455\n",
       "w=0.594384\n",
       "bias=-0.6083</title></rect><text fill=\"#1E1E1E\" font-family=\"monospace\" font-size=\"12\" style=\"pointer-events:none\" text-anchor=\"middle\" x=\"46.0\" y=\"41.5\">IGKV2D-29</text><text fill=\"#1E1E1E\" font-family=\"monospace\" font-size=\"10\" style=\"pointer-events:none\" text-anchor=\"end\" x=\"89\" y=\"29.0\">4</text><text fill=\"#1E1E1E\" font-family=\"monospace\" font-size=\"10\" style=\"pointer-events:none\" text-anchor=\"start\" x=\"3\" y=\"29.0\">num</text><rect class=\"node\" fill=\"#00F082\" height=\"35\" stroke=\"#1E1E1E\" stroke-width=\"1\" width=\"90\" x=\"1\" y=\"80.0\"><title>LILRA2\n",
       "linear:\n",
       "scale=0.000067\n",
       "scale offset=12611.939114\n",
       "w=0.990448\n",
       "bias=-0.8487</title></rect><text fill=\"#1E1E1E\" font-family=\"monospace\" font-size=\"12\" style=\"pointer-events:none\" text-anchor=\"middle\" x=\"46.0\" y=\"101.5\">LILRA2</text><text fill=\"#1E1E1E\" font-family=\"monospace\" font-size=\"10\" style=\"pointer-events:none\" text-anchor=\"end\" x=\"89\" y=\"89.0\">5</text><text fill=\"#1E1E1E\" font-family=\"monospace\" font-size=\"10\" style=\"pointer-events:none\" text-anchor=\"start\" x=\"3\" y=\"89.0\">num</text></svg></svg>"
      ],
      "text/plain": [
       "<IPython.core.display.HTML object>"
      ]
     },
     "metadata": {},
     "output_type": "display_data"
    }
   ],
   "source": [
    "results = crossvalidation_as_framework(data,\n",
    "                                     target,\n",
    "                                     kind = \"classification\",\n",
    "                                     stypes = stypes,\n",
    "                                     n_epochs = epochs,\n",
    "                                     criterion=criterion,\n",
    "                                     max_complexity = max_complexity)"
   ]
  },
  {
   "cell_type": "code",
   "execution_count": 28,
   "id": "f09e6e53-e27c-4bef-baca-513448a43053",
   "metadata": {},
   "outputs": [
    {
     "data": {
      "text/plain": [
       "(0.9415526506899056, 0.8666666666666666)"
      ]
     },
     "execution_count": 28,
     "metadata": {},
     "output_type": "execute_result"
    }
   ],
   "source": [
    "# average performance of first 10 models\n",
    "results.roc_auc_val.mean(), results.accuracy_val.mean()"
   ]
  },
  {
   "cell_type": "code",
   "execution_count": 32,
   "id": "d525e951-2ce3-42b9-aeca-3a3865241509",
   "metadata": {},
   "outputs": [
    {
     "data": {
      "text/plain": [
       "(0.938162672476398, 0.8986772486772487)"
      ]
     },
     "execution_count": 32,
     "metadata": {},
     "output_type": "execute_result"
    }
   ],
   "source": [
    "# average performance of first model\n",
    "results.groupby(\"fold\").first().roc_auc_val.mean(), results.groupby(\"fold\").first().accuracy_val.mean()"
   ]
  },
  {
   "cell_type": "code",
   "execution_count": 33,
   "id": "4416c54e-f0a7-4625-b4fb-cb25d9870823",
   "metadata": {},
   "outputs": [
    {
     "data": {
      "text/plain": [
       "(0.04847411595361505, 0.06784566772823196)"
      ]
     },
     "execution_count": 33,
     "metadata": {},
     "output_type": "execute_result"
    }
   ],
   "source": [
    "results.groupby(\"fold\").first().roc_auc_val.std(), results.groupby(\"fold\").first().accuracy_val.std()"
   ]
  },
  {
   "cell_type": "code",
   "execution_count": 34,
   "id": "4d88c6af-681e-469e-99a4-13c75c07acf8",
   "metadata": {},
   "outputs": [
    {
     "data": {
      "text/html": [
       "<div>\n",
       "<style scoped>\n",
       "    .dataframe tbody tr th:only-of-type {\n",
       "        vertical-align: middle;\n",
       "    }\n",
       "\n",
       "    .dataframe tbody tr th {\n",
       "        vertical-align: top;\n",
       "    }\n",
       "\n",
       "    .dataframe thead th {\n",
       "        text-align: right;\n",
       "    }\n",
       "</style>\n",
       "<table border=\"1\" class=\"dataframe\">\n",
       "  <thead>\n",
       "    <tr style=\"text-align: right;\">\n",
       "      <th></th>\n",
       "      <th>model_structure</th>\n",
       "      <th>aic</th>\n",
       "      <th>bic</th>\n",
       "      <th>roc_auc_train</th>\n",
       "      <th>accuracy_train</th>\n",
       "      <th>roc_auc_val</th>\n",
       "      <th>accuracy_val</th>\n",
       "      <th>pr_auc</th>\n",
       "      <th>f1</th>\n",
       "      <th>query_string</th>\n",
       "    </tr>\n",
       "    <tr>\n",
       "      <th>fold</th>\n",
       "      <th></th>\n",
       "      <th></th>\n",
       "      <th></th>\n",
       "      <th></th>\n",
       "      <th></th>\n",
       "      <th></th>\n",
       "      <th></th>\n",
       "      <th></th>\n",
       "      <th></th>\n",
       "      <th></th>\n",
       "    </tr>\n",
       "  </thead>\n",
       "  <tbody>\n",
       "    <tr>\n",
       "      <th>0</th>\n",
       "      <td>logreg(IGLV4-69 + 1/MAPT)</td>\n",
       "      <td>31.111716</td>\n",
       "      <td>36.494412</td>\n",
       "      <td>0.992674</td>\n",
       "      <td>0.944954</td>\n",
       "      <td>0.883333</td>\n",
       "      <td>0.785714</td>\n",
       "      <td>0.844130</td>\n",
       "      <td>0.625000</td>\n",
       "      <td>add(\"IGLV4-69\", inverse(\"MAPT\"))</td>\n",
       "    </tr>\n",
       "    <tr>\n",
       "      <th>1</th>\n",
       "      <td>logreg(CRP + LILRA2 + MAPT)</td>\n",
       "      <td>40.570347</td>\n",
       "      <td>45.953043</td>\n",
       "      <td>0.981685</td>\n",
       "      <td>0.935780</td>\n",
       "      <td>0.988889</td>\n",
       "      <td>0.892857</td>\n",
       "      <td>0.979899</td>\n",
       "      <td>0.800000</td>\n",
       "      <td>add(\"MAPT\", add(\"LILRA2\", \"CRP\"))</td>\n",
       "    </tr>\n",
       "    <tr>\n",
       "      <th>2</th>\n",
       "      <td>logreg(CDH13 + IGLV4-69*MAPT)</td>\n",
       "      <td>46.439063</td>\n",
       "      <td>54.540504</td>\n",
       "      <td>0.977857</td>\n",
       "      <td>0.918182</td>\n",
       "      <td>0.895062</td>\n",
       "      <td>0.962963</td>\n",
       "      <td>0.925897</td>\n",
       "      <td>0.695652</td>\n",
       "      <td>add(multiply(\"IGLV4-69\", \"MAPT\"), \"CDH13\")</td>\n",
       "    </tr>\n",
       "    <tr>\n",
       "      <th>3</th>\n",
       "      <td>logreg(LILRA2 + MAPT**2)</td>\n",
       "      <td>48.913534</td>\n",
       "      <td>54.314494</td>\n",
       "      <td>0.969303</td>\n",
       "      <td>0.918182</td>\n",
       "      <td>0.982353</td>\n",
       "      <td>0.925926</td>\n",
       "      <td>0.972020</td>\n",
       "      <td>0.606061</td>\n",
       "      <td>add(squared(\"MAPT\"), \"LILRA2\")</td>\n",
       "    </tr>\n",
       "    <tr>\n",
       "      <th>4</th>\n",
       "      <td>logreg(IGKV2D-29 + LILRA2 + MAPT)</td>\n",
       "      <td>48.611043</td>\n",
       "      <td>54.012004</td>\n",
       "      <td>0.971831</td>\n",
       "      <td>0.936364</td>\n",
       "      <td>0.941176</td>\n",
       "      <td>0.925926</td>\n",
       "      <td>0.752558</td>\n",
       "      <td>0.606061</td>\n",
       "      <td>add(\"MAPT\", add(\"IGKV2D-29\", \"LILRA2\"))</td>\n",
       "    </tr>\n",
       "  </tbody>\n",
       "</table>\n",
       "</div>"
      ],
      "text/plain": [
       "                        model_structure        aic        bic  roc_auc_train  \\\n",
       "fold                                                                           \n",
       "0             logreg(IGLV4-69 + 1/MAPT)  31.111716  36.494412       0.992674   \n",
       "1           logreg(CRP + LILRA2 + MAPT)  40.570347  45.953043       0.981685   \n",
       "2         logreg(CDH13 + IGLV4-69*MAPT)  46.439063  54.540504       0.977857   \n",
       "3              logreg(LILRA2 + MAPT**2)  48.913534  54.314494       0.969303   \n",
       "4     logreg(IGKV2D-29 + LILRA2 + MAPT)  48.611043  54.012004       0.971831   \n",
       "\n",
       "      accuracy_train  roc_auc_val  accuracy_val    pr_auc        f1  \\\n",
       "fold                                                                  \n",
       "0           0.944954     0.883333      0.785714  0.844130  0.625000   \n",
       "1           0.935780     0.988889      0.892857  0.979899  0.800000   \n",
       "2           0.918182     0.895062      0.962963  0.925897  0.695652   \n",
       "3           0.918182     0.982353      0.925926  0.972020  0.606061   \n",
       "4           0.936364     0.941176      0.925926  0.752558  0.606061   \n",
       "\n",
       "                                    query_string  \n",
       "fold                                              \n",
       "0               add(\"IGLV4-69\", inverse(\"MAPT\"))  \n",
       "1              add(\"MAPT\", add(\"LILRA2\", \"CRP\"))  \n",
       "2     add(multiply(\"IGLV4-69\", \"MAPT\"), \"CDH13\")  \n",
       "3                 add(squared(\"MAPT\"), \"LILRA2\")  \n",
       "4        add(\"MAPT\", add(\"IGKV2D-29\", \"LILRA2\"))  "
      ]
     },
     "execution_count": 34,
     "metadata": {},
     "output_type": "execute_result"
    }
   ],
   "source": [
    "results.groupby(\"fold\").first()"
   ]
  },
  {
   "cell_type": "code",
   "execution_count": 35,
   "id": "0d821e84-c869-4211-bc4f-9d35c1502e11",
   "metadata": {},
   "outputs": [
    {
     "data": {
      "text/html": [
       "<?xml version=\"1.0\" encoding=\"utf-8\" ?>\n",
       "<svg baseProfile=\"full\" height=\"160.0\" preserveAspectRatio=\"none\" version=\"1.1\" viewBox=\"0 0 445 160.0\" width=\"445\" xmlns=\"http://www.w3.org/2000/svg\" xmlns:ev=\"http://www.w3.org/2001/xml-events\" xmlns:xlink=\"http://www.w3.org/1999/xlink\"><defs /><svg class=\"graph\" height=\"155.0\" width=\"445\" x=\"0\" y=\"0\"><defs /><text fill=\"#1E1E1E\" font-family=\"monospace\" font-size=\"12\" text-anchor=\"middle\" x=\"286.0\" y=\"99.0\">Loss: 2.32E-01</text><text fill=\"#1E1E1E\" font-family=\"monospace\" font-size=\"12\" text-anchor=\"start\" x=\"0\" y=\"145.0\">Epoch no. 50/50 - Tried 33935 models - Completed in 1m 25s.</text><rect class=\"node\" fill=\"#00F082\" height=\"35\" stroke=\"#1E1E1E\" stroke-width=\"1\" width=\"90\" x=\"241\" y=\"50.0\"><title>_clinical AD diagnosis\n",
       "logistic:\n",
       "w=4.4818\n",
       "bias=-0.4377</title></rect><text fill=\"#1E1E1E\" font-family=\"monospace\" font-size=\"12\" style=\"pointer-events:none\" text-anchor=\"middle\" x=\"286.0\" y=\"71.5\">_clinica..</text><text fill=\"#1E1E1E\" font-family=\"monospace\" font-size=\"10\" style=\"pointer-events:none\" text-anchor=\"end\" x=\"329\" y=\"59.0\">0</text><text fill=\"#1E1E1E\" font-family=\"monospace\" font-size=\"10\" style=\"pointer-events:none\" text-anchor=\"start\" x=\"243\" y=\"59.0\">out</text><line stroke=\"#1E1E1E\" x1=\"211\" x2=\"241\" y1=\"67.5\" y2=\"67.5\" /><rect class=\"node\" fill=\"#FAFAFA\" height=\"35\" stroke=\"#FF1EC8\" stroke-width=\"1\" width=\"90\" x=\"121\" y=\"50.0\"><title>add</title></rect><text fill=\"#1E1E1E\" font-family=\"monospace\" font-size=\"12\" style=\"pointer-events:none\" text-anchor=\"middle\" x=\"166.0\" y=\"71.5\">add</text><text fill=\"#1E1E1E\" font-family=\"monospace\" font-size=\"10\" style=\"pointer-events:none\" text-anchor=\"end\" x=\"209\" y=\"59.0\">1</text><line stroke=\"#1E1E1E\" x1=\"91\" x2=\"121\" y1=\"37.5\" y2=\"58.5\" /><line stroke=\"#1E1E1E\" x1=\"91\" x2=\"121\" y1=\"97.5\" y2=\"76.5\" /><rect class=\"node\" fill=\"#00F082\" height=\"35\" stroke=\"#1E1E1E\" stroke-width=\"1\" width=\"90\" x=\"1\" y=\"20.0\"><title>LILRA2\n",
       "linear:\n",
       "scale=0.000067\n",
       "scale offset=12611.939114\n",
       "w=-1.079567\n",
       "bias=-0.3081</title></rect><text fill=\"#1E1E1E\" font-family=\"monospace\" font-size=\"12\" style=\"pointer-events:none\" text-anchor=\"middle\" x=\"46.0\" y=\"41.5\">LILRA2</text><text fill=\"#1E1E1E\" font-family=\"monospace\" font-size=\"10\" style=\"pointer-events:none\" text-anchor=\"end\" x=\"89\" y=\"29.0\">2</text><text fill=\"#1E1E1E\" font-family=\"monospace\" font-size=\"10\" style=\"pointer-events:none\" text-anchor=\"start\" x=\"3\" y=\"29.0\">num</text><rect class=\"node\" fill=\"#00F082\" height=\"35\" stroke=\"#1E1E1E\" stroke-width=\"1\" width=\"90\" x=\"1\" y=\"80.0\"><title>MAPT\n",
       "linear:\n",
       "scale=0.000034\n",
       "scale offset=23872.303152\n",
       "w=2.602717\n",
       "bias=0.1865</title></rect><text fill=\"#1E1E1E\" font-family=\"monospace\" font-size=\"12\" style=\"pointer-events:none\" text-anchor=\"middle\" x=\"46.0\" y=\"101.5\">MAPT</text><text fill=\"#1E1E1E\" font-family=\"monospace\" font-size=\"10\" style=\"pointer-events:none\" text-anchor=\"end\" x=\"89\" y=\"89.0\">3</text><text fill=\"#1E1E1E\" font-family=\"monospace\" font-size=\"10\" style=\"pointer-events:none\" text-anchor=\"start\" x=\"3\" y=\"89.0\">num</text></svg></svg>"
      ],
      "text/plain": [
       "<IPython.core.display.HTML object>"
      ]
     },
     "metadata": {},
     "output_type": "display_data"
    }
   ],
   "source": [
    "results3 = crossvalidation_as_framework(data,\n",
    "                                     target,\n",
    "                                     kind = \"classification\",\n",
    "                                     stypes = stypes,\n",
    "                                     n_epochs = epochs,\n",
    "                                     criterion=criterion,\n",
    "                                     max_complexity = 3)"
   ]
  },
  {
   "cell_type": "code",
   "execution_count": 37,
   "id": "0c0af23f-d6df-44a3-85e0-483fda372063",
   "metadata": {},
   "outputs": [
    {
     "data": {
      "text/plain": [
       "(0.9172549019607844, 0.8624338624338623)"
      ]
     },
     "execution_count": 37,
     "metadata": {},
     "output_type": "execute_result"
    }
   ],
   "source": [
    "results3.groupby(\"fold\").first().roc_auc_val.mean(), results3.groupby(\"fold\").first().accuracy_val.mean()"
   ]
  },
  {
   "cell_type": "code",
   "execution_count": 38,
   "id": "7ba7527e-761d-45c5-82e2-8ea34b8d30c3",
   "metadata": {},
   "outputs": [
    {
     "data": {
      "text/html": [
       "<div>\n",
       "<style scoped>\n",
       "    .dataframe tbody tr th:only-of-type {\n",
       "        vertical-align: middle;\n",
       "    }\n",
       "\n",
       "    .dataframe tbody tr th {\n",
       "        vertical-align: top;\n",
       "    }\n",
       "\n",
       "    .dataframe thead th {\n",
       "        text-align: right;\n",
       "    }\n",
       "</style>\n",
       "<table border=\"1\" class=\"dataframe\">\n",
       "  <thead>\n",
       "    <tr style=\"text-align: right;\">\n",
       "      <th></th>\n",
       "      <th>model_structure</th>\n",
       "      <th>aic</th>\n",
       "      <th>bic</th>\n",
       "      <th>roc_auc_train</th>\n",
       "      <th>accuracy_train</th>\n",
       "      <th>roc_auc_val</th>\n",
       "      <th>accuracy_val</th>\n",
       "      <th>pr_auc</th>\n",
       "      <th>f1</th>\n",
       "      <th>query_string</th>\n",
       "    </tr>\n",
       "    <tr>\n",
       "      <th>fold</th>\n",
       "      <th></th>\n",
       "      <th></th>\n",
       "      <th></th>\n",
       "      <th></th>\n",
       "      <th></th>\n",
       "      <th></th>\n",
       "      <th></th>\n",
       "      <th></th>\n",
       "      <th></th>\n",
       "      <th></th>\n",
       "    </tr>\n",
       "  </thead>\n",
       "  <tbody>\n",
       "    <tr>\n",
       "      <th>0</th>\n",
       "      <td>logreg(MAPT**2)</td>\n",
       "      <td>42.728479</td>\n",
       "      <td>45.419827</td>\n",
       "      <td>0.982784</td>\n",
       "      <td>0.944954</td>\n",
       "      <td>0.850000</td>\n",
       "      <td>0.750000</td>\n",
       "      <td>0.795200</td>\n",
       "      <td>0.666667</td>\n",
       "      <td>squared(\"MAPT\")</td>\n",
       "    </tr>\n",
       "    <tr>\n",
       "      <th>1</th>\n",
       "      <td>logreg(FCGBP*MAPT)</td>\n",
       "      <td>48.663686</td>\n",
       "      <td>54.046382</td>\n",
       "      <td>0.962637</td>\n",
       "      <td>0.917431</td>\n",
       "      <td>0.883333</td>\n",
       "      <td>0.821429</td>\n",
       "      <td>0.853471</td>\n",
       "      <td>0.689655</td>\n",
       "      <td>multiply(\"FCGBP\", \"MAPT\")</td>\n",
       "    </tr>\n",
       "    <tr>\n",
       "      <th>2</th>\n",
       "      <td>logreg(CRP + MAPT)</td>\n",
       "      <td>57.975906</td>\n",
       "      <td>60.676386</td>\n",
       "      <td>0.959286</td>\n",
       "      <td>0.909091</td>\n",
       "      <td>1.000000</td>\n",
       "      <td>0.925926</td>\n",
       "      <td>1.000000</td>\n",
       "      <td>0.666667</td>\n",
       "      <td>add(\"CRP\", \"MAPT\")</td>\n",
       "    </tr>\n",
       "    <tr>\n",
       "      <th>3</th>\n",
       "      <td>logreg(MAPT*PRSS3)</td>\n",
       "      <td>58.561139</td>\n",
       "      <td>63.962100</td>\n",
       "      <td>0.964247</td>\n",
       "      <td>0.890909</td>\n",
       "      <td>0.941176</td>\n",
       "      <td>0.888889</td>\n",
       "      <td>0.931887</td>\n",
       "      <td>0.625000</td>\n",
       "      <td>multiply(\"MAPT\", \"PRSS3\")</td>\n",
       "    </tr>\n",
       "    <tr>\n",
       "      <th>4</th>\n",
       "      <td>logreg(LILRA2 + MAPT)</td>\n",
       "      <td>53.130879</td>\n",
       "      <td>55.831360</td>\n",
       "      <td>0.962802</td>\n",
       "      <td>0.918182</td>\n",
       "      <td>0.911765</td>\n",
       "      <td>0.925926</td>\n",
       "      <td>0.723353</td>\n",
       "      <td>0.645161</td>\n",
       "      <td>add(\"LILRA2\", \"MAPT\")</td>\n",
       "    </tr>\n",
       "  </tbody>\n",
       "</table>\n",
       "</div>"
      ],
      "text/plain": [
       "            model_structure        aic        bic  roc_auc_train  \\\n",
       "fold                                                               \n",
       "0           logreg(MAPT**2)  42.728479  45.419827       0.982784   \n",
       "1        logreg(FCGBP*MAPT)  48.663686  54.046382       0.962637   \n",
       "2        logreg(CRP + MAPT)  57.975906  60.676386       0.959286   \n",
       "3        logreg(MAPT*PRSS3)  58.561139  63.962100       0.964247   \n",
       "4     logreg(LILRA2 + MAPT)  53.130879  55.831360       0.962802   \n",
       "\n",
       "      accuracy_train  roc_auc_val  accuracy_val    pr_auc        f1  \\\n",
       "fold                                                                  \n",
       "0           0.944954     0.850000      0.750000  0.795200  0.666667   \n",
       "1           0.917431     0.883333      0.821429  0.853471  0.689655   \n",
       "2           0.909091     1.000000      0.925926  1.000000  0.666667   \n",
       "3           0.890909     0.941176      0.888889  0.931887  0.625000   \n",
       "4           0.918182     0.911765      0.925926  0.723353  0.645161   \n",
       "\n",
       "                   query_string  \n",
       "fold                             \n",
       "0               squared(\"MAPT\")  \n",
       "1     multiply(\"FCGBP\", \"MAPT\")  \n",
       "2            add(\"CRP\", \"MAPT\")  \n",
       "3     multiply(\"MAPT\", \"PRSS3\")  \n",
       "4         add(\"LILRA2\", \"MAPT\")  "
      ]
     },
     "execution_count": 38,
     "metadata": {},
     "output_type": "execute_result"
    }
   ],
   "source": [
    "results3.groupby(\"fold\").first()"
   ]
  },
  {
   "cell_type": "code",
   "execution_count": null,
   "id": "bfbfbfbd-c689-4cb0-9d1b-9604113832ed",
   "metadata": {},
   "outputs": [],
   "source": []
  }
 ],
 "metadata": {
  "kernelspec": {
   "display_name": "Python 3 (ipykernel)",
   "language": "python",
   "name": "python3"
  },
  "language_info": {
   "codemirror_mode": {
    "name": "ipython",
    "version": 3
   },
   "file_extension": ".py",
   "mimetype": "text/x-python",
   "name": "python",
   "nbconvert_exporter": "python",
   "pygments_lexer": "ipython3",
   "version": "3.8.10"
  }
 },
 "nbformat": 4,
 "nbformat_minor": 5
}
