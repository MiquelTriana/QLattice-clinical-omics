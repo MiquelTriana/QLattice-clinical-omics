{
 "cells": [
  {
   "cell_type": "code",
   "execution_count": 18,
   "id": "e440561c-9794-420e-b7f2-f7091b6d3342",
   "metadata": {},
   "outputs": [],
   "source": [
    "import pandas as pd\n",
    "from scipy.stats import friedmanchisquare\n",
    "from Orange.evaluation import compute_CD"
   ]
  },
  {
   "cell_type": "code",
   "execution_count": 22,
   "id": "c20fc279-b2cf-4a23-990c-8935465e7ff9",
   "metadata": {},
   "outputs": [],
   "source": [
    "data = [[0.935, 0.963, 0.959, 0.671],\n",
    "        [0.943, 0.957, 0.968, 0.604],\n",
    "        [0.969, 0.961, 0.947, 0.592],\n",
    "        [0.958, 0.966, 0.945, 0.632],\n",
    "        [0.954, 0.970, 0.961, 0.609],\n",
    "        [0.959, 0.970, 0.966, 0.637],\n",
    "        [0.963, 0.977, 0.959, 0.601]\n",
    "       ]\n",
    "df_perfs = pd.DataFrame(data=data,\n",
    "             index=[\"QLattice\", \"Random Forest\", \"Gradient Boosting\", \"Random Forest MI\", \"Gradient Boosting MI\"\n",
    "                   , \"Random Forest LASSO\", \"Gradient Boosting LASSO\"],\n",
    "             columns=[\"AD\", \"IR\", \"HCC\", \"BC\"])"
   ]
  },
  {
   "cell_type": "code",
   "execution_count": 23,
   "id": "5bd9ea43-6af7-4b50-ae46-337050cf23f1",
   "metadata": {},
   "outputs": [
    {
     "data": {
      "text/html": [
       "<div>\n",
       "<style scoped>\n",
       "    .dataframe tbody tr th:only-of-type {\n",
       "        vertical-align: middle;\n",
       "    }\n",
       "\n",
       "    .dataframe tbody tr th {\n",
       "        vertical-align: top;\n",
       "    }\n",
       "\n",
       "    .dataframe thead th {\n",
       "        text-align: right;\n",
       "    }\n",
       "</style>\n",
       "<table border=\"1\" class=\"dataframe\">\n",
       "  <thead>\n",
       "    <tr style=\"text-align: right;\">\n",
       "      <th></th>\n",
       "      <th>AD</th>\n",
       "      <th>IR</th>\n",
       "      <th>HCC</th>\n",
       "      <th>BC</th>\n",
       "    </tr>\n",
       "  </thead>\n",
       "  <tbody>\n",
       "    <tr>\n",
       "      <th>QLattice</th>\n",
       "      <td>0.935</td>\n",
       "      <td>0.963</td>\n",
       "      <td>0.959</td>\n",
       "      <td>0.671</td>\n",
       "    </tr>\n",
       "    <tr>\n",
       "      <th>Random Forest</th>\n",
       "      <td>0.943</td>\n",
       "      <td>0.957</td>\n",
       "      <td>0.968</td>\n",
       "      <td>0.604</td>\n",
       "    </tr>\n",
       "    <tr>\n",
       "      <th>Gradient Boosting</th>\n",
       "      <td>0.969</td>\n",
       "      <td>0.961</td>\n",
       "      <td>0.947</td>\n",
       "      <td>0.592</td>\n",
       "    </tr>\n",
       "    <tr>\n",
       "      <th>Random Forest MI</th>\n",
       "      <td>0.958</td>\n",
       "      <td>0.966</td>\n",
       "      <td>0.945</td>\n",
       "      <td>0.632</td>\n",
       "    </tr>\n",
       "    <tr>\n",
       "      <th>Gradient Boosting MI</th>\n",
       "      <td>0.954</td>\n",
       "      <td>0.970</td>\n",
       "      <td>0.961</td>\n",
       "      <td>0.609</td>\n",
       "    </tr>\n",
       "    <tr>\n",
       "      <th>Random Forest LASSO</th>\n",
       "      <td>0.959</td>\n",
       "      <td>0.970</td>\n",
       "      <td>0.966</td>\n",
       "      <td>0.637</td>\n",
       "    </tr>\n",
       "    <tr>\n",
       "      <th>Gradient Boosting LASSO</th>\n",
       "      <td>0.963</td>\n",
       "      <td>0.977</td>\n",
       "      <td>0.959</td>\n",
       "      <td>0.601</td>\n",
       "    </tr>\n",
       "  </tbody>\n",
       "</table>\n",
       "</div>"
      ],
      "text/plain": [
       "                            AD     IR    HCC     BC\n",
       "QLattice                 0.935  0.963  0.959  0.671\n",
       "Random Forest            0.943  0.957  0.968  0.604\n",
       "Gradient Boosting        0.969  0.961  0.947  0.592\n",
       "Random Forest MI         0.958  0.966  0.945  0.632\n",
       "Gradient Boosting MI     0.954  0.970  0.961  0.609\n",
       "Random Forest LASSO      0.959  0.970  0.966  0.637\n",
       "Gradient Boosting LASSO  0.963  0.977  0.959  0.601"
      ]
     },
     "execution_count": 23,
     "metadata": {},
     "output_type": "execute_result"
    }
   ],
   "source": [
    "df_perfs"
   ]
  },
  {
   "cell_type": "code",
   "execution_count": 24,
   "id": "0f583937-7767-4565-80ca-156137d75b0d",
   "metadata": {},
   "outputs": [
    {
     "data": {
      "text/plain": [
       "FriedmanchisquareResult(statistic=4.432432432432428, pvalue=0.6183687566159906)"
      ]
     },
     "execution_count": 24,
     "metadata": {},
     "output_type": "execute_result"
    }
   ],
   "source": [
    "friedmanchisquare(*data)"
   ]
  },
  {
   "cell_type": "code",
   "execution_count": null,
   "id": "ba2bdc0b-3903-498c-b45f-381860f095d5",
   "metadata": {},
   "outputs": [],
   "source": []
  }
 ],
 "metadata": {
  "kernelspec": {
   "display_name": "Python 3 (ipykernel)",
   "language": "python",
   "name": "python3"
  },
  "language_info": {
   "codemirror_mode": {
    "name": "ipython",
    "version": 3
   },
   "file_extension": ".py",
   "mimetype": "text/x-python",
   "name": "python",
   "nbconvert_exporter": "python",
   "pygments_lexer": "ipython3",
   "version": "3.8.10"
  }
 },
 "nbformat": 4,
 "nbformat_minor": 5
}
